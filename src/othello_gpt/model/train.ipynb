{
 "cells": [
  {
   "cell_type": "code",
   "execution_count": 1,
   "metadata": {},
   "outputs": [],
   "source": [
    "import torch as t\n",
    "import numpy as np\n",
    "import wandb\n",
    "from bidict import bidict\n",
    "from tqdm import tqdm\n",
    "from pathlib import Path\n",
    "from datasets import DatasetDict\n",
    "from dataclasses import dataclass\n",
    "from jaxtyping import Float, Int\n",
    "from torch import Tensor\n",
    "from torch.utils.data import DataLoader\n",
    "from othello_gpt.model.nanoGPT import GPTConfig, GPT\n",
    "from othello_gpt.data.vis import plot_game, move_id_to_text\n",
    "from othello_gpt.data.generate import generate_dataset\n",
    "from typing import List"
   ]
  },
  {
   "cell_type": "code",
   "execution_count": 2,
   "metadata": {},
   "outputs": [
    {
     "data": {
      "text/plain": [
       "device(type='mps')"
      ]
     },
     "execution_count": 2,
     "metadata": {},
     "output_type": "execute_result"
    }
   ],
   "source": [
    "device = t.device(\"mps\" if t.backends.mps.is_available() else \"cuda\" if t.cuda.is_available() else \"cpu\")\n",
    "device"
   ]
  },
  {
   "cell_type": "code",
   "execution_count": 3,
   "metadata": {},
   "outputs": [],
   "source": [
    "root_dir = Path().cwd().parent.parent.parent\n",
    "data_dir = root_dir / \"data\"\n",
    "n_games = 1000000\n",
    "size = 6\n",
    "PAD_TOKEN_ID = -1\n",
    "\n",
    "nw_middle_id = (size // 2 - 1) * size + (size // 2 - 1)\n",
    "initial_squares = set([nw_middle_id, nw_middle_id + 1, nw_middle_id + size, nw_middle_id + size + 1])\n",
    "all_squares = [i for i in range(size * size) if i not in initial_squares]\n",
    "# id_to_token_id_map = bidict({square_id: token_id for token_id, square_id in enumerate([-1, size * size] + all_squares)})\n",
    "id_to_token_id_map = bidict({square_id: token_id for token_id, square_id in enumerate([PAD_TOKEN_ID] + all_squares)})\n",
    "\n",
    "def tokenize(history):\n",
    "    return {\"input_ids\": [id_to_token_id_map[i] for i in history]}\n",
    "\n",
    "def decode(token_ids):\n",
    "    return {\"square_ids\": [id_to_token_id_map.inverse[i] for i in token_ids]}"
   ]
  },
  {
   "cell_type": "code",
   "execution_count": 4,
   "metadata": {},
   "outputs": [
    {
     "name": "stderr",
     "output_type": "stream",
     "text": [
      "100%|██████████| 1000000/1000000 [32:10<00:00, 517.88it/s] \n"
     ]
    },
    {
     "data": {
      "application/vnd.jupyter.widget-view+json": {
       "model_id": "b038fbbb2c0c4670962e4a09acf51742",
       "version_major": 2,
       "version_minor": 0
      },
      "text/plain": [
       "Saving the dataset (0/21 shards):   0%|          | 0/900000 [00:00<?, ? examples/s]"
      ]
     },
     "metadata": {},
     "output_type": "display_data"
    },
    {
     "data": {
      "application/vnd.jupyter.widget-view+json": {
       "model_id": "50833bf0dc494145b693b125292595f1",
       "version_major": 2,
       "version_minor": 0
      },
      "text/plain": [
       "Saving the dataset (0/3 shards):   0%|          | 0/100000 [00:00<?, ? examples/s]"
      ]
     },
     "metadata": {},
     "output_type": "display_data"
    },
    {
     "data": {
      "application/vnd.jupyter.widget-view+json": {
       "model_id": "d9cb1fb9fdfa49a58daad1e1f33f8da7",
       "version_major": 2,
       "version_minor": 0
      },
      "text/plain": [
       "Filter:   0%|          | 0/900000 [00:00<?, ? examples/s]"
      ]
     },
     "metadata": {},
     "output_type": "display_data"
    },
    {
     "data": {
      "application/vnd.jupyter.widget-view+json": {
       "model_id": "60961c76eaa5439e97f5b46852f9a22b",
       "version_major": 2,
       "version_minor": 0
      },
      "text/plain": [
       "Filter:   0%|          | 0/100000 [00:00<?, ? examples/s]"
      ]
     },
     "metadata": {},
     "output_type": "display_data"
    },
    {
     "data": {
      "application/vnd.jupyter.widget-view+json": {
       "model_id": "749dd060d60445778e4f6ff3704437ca",
       "version_major": 2,
       "version_minor": 0
      },
      "text/plain": [
       "Map:   0%|          | 0/521555 [00:00<?, ? examples/s]"
      ]
     },
     "metadata": {},
     "output_type": "display_data"
    },
    {
     "data": {
      "application/vnd.jupyter.widget-view+json": {
       "model_id": "8b7dc95af3834ea1a377d99714ccccb6",
       "version_major": 2,
       "version_minor": 0
      },
      "text/plain": [
       "Map:   0%|          | 0/58090 [00:00<?, ? examples/s]"
      ]
     },
     "metadata": {},
     "output_type": "display_data"
    },
    {
     "data": {
      "application/vnd.plotly.v1+json": {
       "config": {
        "plotlyServerURL": "https://plot.ly"
       },
       "data": [
        {
         "colorscale": [
          [
           0,
           "rgb(254, 254, 253)"
          ],
          [
           0.09090909090909091,
           "rgb(224, 224, 223)"
          ],
          [
           0.18181818181818182,
           "rgb(197, 197, 195)"
          ],
          [
           0.2727272727272727,
           "rgb(171, 171, 170)"
          ],
          [
           0.36363636363636365,
           "rgb(146, 146, 145)"
          ],
          [
           0.45454545454545453,
           "rgb(124, 123, 122)"
          ],
          [
           0.5454545454545454,
           "rgb(102, 101, 101)"
          ],
          [
           0.6363636363636364,
           "rgb(81, 80, 80)"
          ],
          [
           0.7272727272727273,
           "rgb(59, 59, 59)"
          ],
          [
           0.8181818181818182,
           "rgb(38, 38, 38)"
          ],
          [
           0.9090909090909091,
           "rgb(16, 16, 16)"
          ],
          [
           1,
           "rgb(0, 0, 0)"
          ]
         ],
         "hovertemplate": "%{hovertext}<extra></extra>",
         "hovertext": [
          [
           "A1",
           "B1",
           "C1",
           "D1",
           "E1",
           "F1"
          ],
          [
           "A2",
           "B2",
           "C2",
           "D2",
           "E2",
           "F2"
          ],
          [
           "A3",
           "B3",
           "C3",
           "D3",
           "E3",
           "F3"
          ],
          [
           "A4",
           "B4",
           "C4",
           "D4",
           "E4",
           "F4"
          ],
          [
           "A5",
           "B5",
           "C5",
           "D5",
           "E5",
           "F5"
          ],
          [
           "A6",
           "B6",
           "C6",
           "D6",
           "E6",
           "F6"
          ]
         ],
         "showscale": false,
         "text": [
          [
           "",
           "",
           "",
           "",
           "",
           ""
          ],
          [
           "",
           "",
           "X",
           "o",
           "X",
           ""
          ],
          [
           "",
           "",
           "",
           "",
           "",
           ""
          ],
          [
           "",
           "",
           "",
           "",
           "X",
           ""
          ],
          [
           "",
           "",
           "",
           "",
           "",
           ""
          ],
          [
           "",
           "",
           "",
           "",
           "",
           ""
          ]
         ],
         "textfont": {
          "color": "white"
         },
         "texttemplate": "%{text}",
         "type": "heatmap",
         "x": [
          "A",
          "B",
          "C",
          "D",
          "E",
          "F"
         ],
         "xaxis": "x",
         "xgap": 0.2,
         "y": [
          "1",
          "2",
          "3",
          "4",
          "5",
          "6"
         ],
         "yaxis": "y",
         "ygap": 0.2,
         "z": [
          [
           0,
           0,
           0,
           0,
           0,
           0
          ],
          [
           0,
           0,
           0,
           1,
           0,
           0
          ],
          [
           0,
           0,
           1,
           1,
           0,
           0
          ],
          [
           0,
           0,
           -1,
           1,
           0,
           0
          ],
          [
           0,
           0,
           0,
           0,
           0,
           0
          ],
          [
           0,
           0,
           0,
           0,
           0,
           0
          ]
         ]
        },
        {
         "colorscale": [
          [
           0,
           "rgb(254, 254, 253)"
          ],
          [
           0.09090909090909091,
           "rgb(224, 224, 223)"
          ],
          [
           0.18181818181818182,
           "rgb(197, 197, 195)"
          ],
          [
           0.2727272727272727,
           "rgb(171, 171, 170)"
          ],
          [
           0.36363636363636365,
           "rgb(146, 146, 145)"
          ],
          [
           0.45454545454545453,
           "rgb(124, 123, 122)"
          ],
          [
           0.5454545454545454,
           "rgb(102, 101, 101)"
          ],
          [
           0.6363636363636364,
           "rgb(81, 80, 80)"
          ],
          [
           0.7272727272727273,
           "rgb(59, 59, 59)"
          ],
          [
           0.8181818181818182,
           "rgb(38, 38, 38)"
          ],
          [
           0.9090909090909091,
           "rgb(16, 16, 16)"
          ],
          [
           1,
           "rgb(0, 0, 0)"
          ]
         ],
         "hovertemplate": "%{hovertext}<extra></extra>",
         "hovertext": [
          [
           "A1",
           "B1",
           "C1",
           "D1",
           "E1",
           "F1"
          ],
          [
           "A2",
           "B2",
           "C2",
           "D2",
           "E2",
           "F2"
          ],
          [
           "A3",
           "B3",
           "C3",
           "D3",
           "E3",
           "F3"
          ],
          [
           "A4",
           "B4",
           "C4",
           "D4",
           "E4",
           "F4"
          ],
          [
           "A5",
           "B5",
           "C5",
           "D5",
           "E5",
           "F5"
          ],
          [
           "A6",
           "B6",
           "C6",
           "D6",
           "E6",
           "F6"
          ]
         ],
         "showscale": false,
         "text": [
          [
           "",
           "",
           "",
           "",
           "",
           ""
          ],
          [
           "",
           "",
           "",
           "",
           "o",
           "X"
          ],
          [
           "",
           "",
           "",
           "",
           "X",
           ""
          ],
          [
           "",
           "X",
           "",
           "",
           "",
           ""
          ],
          [
           "",
           "",
           "X",
           "",
           "",
           ""
          ],
          [
           "",
           "",
           "",
           "",
           "",
           ""
          ]
         ],
         "textfont": {
          "color": "black"
         },
         "texttemplate": "%{text}",
         "type": "heatmap",
         "x": [
          "A",
          "B",
          "C",
          "D",
          "E",
          "F"
         ],
         "xaxis": "x2",
         "xgap": 0.2,
         "y": [
          "1",
          "2",
          "3",
          "4",
          "5",
          "6"
         ],
         "yaxis": "y2",
         "ygap": 0.2,
         "z": [
          [
           0,
           0,
           0,
           0,
           0,
           0
          ],
          [
           0,
           0,
           0,
           1,
           -1,
           0
          ],
          [
           0,
           0,
           1,
           -1,
           0,
           0
          ],
          [
           0,
           0,
           -1,
           1,
           0,
           0
          ],
          [
           0,
           0,
           0,
           0,
           0,
           0
          ],
          [
           0,
           0,
           0,
           0,
           0,
           0
          ]
         ]
        },
        {
         "colorscale": [
          [
           0,
           "rgb(254, 254, 253)"
          ],
          [
           0.09090909090909091,
           "rgb(224, 224, 223)"
          ],
          [
           0.18181818181818182,
           "rgb(197, 197, 195)"
          ],
          [
           0.2727272727272727,
           "rgb(171, 171, 170)"
          ],
          [
           0.36363636363636365,
           "rgb(146, 146, 145)"
          ],
          [
           0.45454545454545453,
           "rgb(124, 123, 122)"
          ],
          [
           0.5454545454545454,
           "rgb(102, 101, 101)"
          ],
          [
           0.6363636363636364,
           "rgb(81, 80, 80)"
          ],
          [
           0.7272727272727273,
           "rgb(59, 59, 59)"
          ],
          [
           0.8181818181818182,
           "rgb(38, 38, 38)"
          ],
          [
           0.9090909090909091,
           "rgb(16, 16, 16)"
          ],
          [
           1,
           "rgb(0, 0, 0)"
          ]
         ],
         "hovertemplate": "%{hovertext}<extra></extra>",
         "hovertext": [
          [
           "A1",
           "B1",
           "C1",
           "D1",
           "E1",
           "F1"
          ],
          [
           "A2",
           "B2",
           "C2",
           "D2",
           "E2",
           "F2"
          ],
          [
           "A3",
           "B3",
           "C3",
           "D3",
           "E3",
           "F3"
          ],
          [
           "A4",
           "B4",
           "C4",
           "D4",
           "E4",
           "F4"
          ],
          [
           "A5",
           "B5",
           "C5",
           "D5",
           "E5",
           "F5"
          ],
          [
           "A6",
           "B6",
           "C6",
           "D6",
           "E6",
           "F6"
          ]
         ],
         "showscale": false,
         "text": [
          [
           "",
           "",
           "",
           "X",
           "",
           "X"
          ],
          [
           "",
           "",
           "X",
           "",
           "",
           "o"
          ],
          [
           "",
           "X",
           "",
           "",
           "",
           ""
          ],
          [
           "",
           "",
           "",
           "",
           "X",
           ""
          ],
          [
           "",
           "",
           "",
           "X",
           "",
           ""
          ],
          [
           "",
           "",
           "",
           "",
           "",
           ""
          ]
         ],
         "textfont": {
          "color": "white"
         },
         "texttemplate": "%{text}",
         "type": "heatmap",
         "x": [
          "A",
          "B",
          "C",
          "D",
          "E",
          "F"
         ],
         "xaxis": "x3",
         "xgap": 0.2,
         "y": [
          "1",
          "2",
          "3",
          "4",
          "5",
          "6"
         ],
         "yaxis": "y3",
         "ygap": 0.2,
         "z": [
          [
           0,
           0,
           0,
           0,
           0,
           0
          ],
          [
           0,
           0,
           0,
           1,
           1,
           1
          ],
          [
           0,
           0,
           1,
           -1,
           0,
           0
          ],
          [
           0,
           0,
           -1,
           1,
           0,
           0
          ],
          [
           0,
           0,
           0,
           0,
           0,
           0
          ],
          [
           0,
           0,
           0,
           0,
           0,
           0
          ]
         ]
        },
        {
         "colorscale": [
          [
           0,
           "rgb(254, 254, 253)"
          ],
          [
           0.09090909090909091,
           "rgb(224, 224, 223)"
          ],
          [
           0.18181818181818182,
           "rgb(197, 197, 195)"
          ],
          [
           0.2727272727272727,
           "rgb(171, 171, 170)"
          ],
          [
           0.36363636363636365,
           "rgb(146, 146, 145)"
          ],
          [
           0.45454545454545453,
           "rgb(124, 123, 122)"
          ],
          [
           0.5454545454545454,
           "rgb(102, 101, 101)"
          ],
          [
           0.6363636363636364,
           "rgb(81, 80, 80)"
          ],
          [
           0.7272727272727273,
           "rgb(59, 59, 59)"
          ],
          [
           0.8181818181818182,
           "rgb(38, 38, 38)"
          ],
          [
           0.9090909090909091,
           "rgb(16, 16, 16)"
          ],
          [
           1,
           "rgb(0, 0, 0)"
          ]
         ],
         "hovertemplate": "%{hovertext}<extra></extra>",
         "hovertext": [
          [
           "A1",
           "B1",
           "C1",
           "D1",
           "E1",
           "F1"
          ],
          [
           "A2",
           "B2",
           "C2",
           "D2",
           "E2",
           "F2"
          ],
          [
           "A3",
           "B3",
           "C3",
           "D3",
           "E3",
           "F3"
          ],
          [
           "A4",
           "B4",
           "C4",
           "D4",
           "E4",
           "F4"
          ],
          [
           "A5",
           "B5",
           "C5",
           "D5",
           "E5",
           "F5"
          ],
          [
           "A6",
           "B6",
           "C6",
           "D6",
           "E6",
           "F6"
          ]
         ],
         "showscale": false,
         "text": [
          [
           "",
           "",
           "",
           "",
           "",
           "o"
          ],
          [
           "",
           "",
           "",
           "",
           "",
           ""
          ],
          [
           "",
           "",
           "",
           "",
           "X",
           ""
          ],
          [
           "",
           "X",
           "",
           "",
           "",
           ""
          ],
          [
           "",
           "",
           "X",
           "",
           "",
           ""
          ],
          [
           "",
           "",
           "",
           "",
           "",
           ""
          ]
         ],
         "textfont": {
          "color": "black"
         },
         "texttemplate": "%{text}",
         "type": "heatmap",
         "x": [
          "A",
          "B",
          "C",
          "D",
          "E",
          "F"
         ],
         "xaxis": "x4",
         "xgap": 0.2,
         "y": [
          "1",
          "2",
          "3",
          "4",
          "5",
          "6"
         ],
         "yaxis": "y4",
         "ygap": 0.2,
         "z": [
          [
           0,
           0,
           0,
           0,
           0,
           -1
          ],
          [
           0,
           0,
           0,
           1,
           -1,
           1
          ],
          [
           0,
           0,
           1,
           -1,
           0,
           0
          ],
          [
           0,
           0,
           -1,
           1,
           0,
           0
          ],
          [
           0,
           0,
           0,
           0,
           0,
           0
          ],
          [
           0,
           0,
           0,
           0,
           0,
           0
          ]
         ]
        },
        {
         "colorscale": [
          [
           0,
           "rgb(254, 254, 253)"
          ],
          [
           0.09090909090909091,
           "rgb(224, 224, 223)"
          ],
          [
           0.18181818181818182,
           "rgb(197, 197, 195)"
          ],
          [
           0.2727272727272727,
           "rgb(171, 171, 170)"
          ],
          [
           0.36363636363636365,
           "rgb(146, 146, 145)"
          ],
          [
           0.45454545454545453,
           "rgb(124, 123, 122)"
          ],
          [
           0.5454545454545454,
           "rgb(102, 101, 101)"
          ],
          [
           0.6363636363636364,
           "rgb(81, 80, 80)"
          ],
          [
           0.7272727272727273,
           "rgb(59, 59, 59)"
          ],
          [
           0.8181818181818182,
           "rgb(38, 38, 38)"
          ],
          [
           0.9090909090909091,
           "rgb(16, 16, 16)"
          ],
          [
           1,
           "rgb(0, 0, 0)"
          ]
         ],
         "hovertemplate": "%{hovertext}<extra></extra>",
         "hovertext": [
          [
           "A1",
           "B1",
           "C1",
           "D1",
           "E1",
           "F1"
          ],
          [
           "A2",
           "B2",
           "C2",
           "D2",
           "E2",
           "F2"
          ],
          [
           "A3",
           "B3",
           "C3",
           "D3",
           "E3",
           "F3"
          ],
          [
           "A4",
           "B4",
           "C4",
           "D4",
           "E4",
           "F4"
          ],
          [
           "A5",
           "B5",
           "C5",
           "D5",
           "E5",
           "F5"
          ],
          [
           "A6",
           "B6",
           "C6",
           "D6",
           "E6",
           "F6"
          ]
         ],
         "showscale": false,
         "text": [
          [
           "",
           "",
           "",
           "",
           "",
           ""
          ],
          [
           "",
           "",
           "X",
           "",
           "",
           ""
          ],
          [
           "",
           "",
           "",
           "",
           "o",
           "X"
          ],
          [
           "",
           "",
           "",
           "",
           "X",
           ""
          ],
          [
           "",
           "",
           "",
           "",
           "",
           ""
          ],
          [
           "",
           "",
           "",
           "",
           "",
           ""
          ]
         ],
         "textfont": {
          "color": "white"
         },
         "texttemplate": "%{text}",
         "type": "heatmap",
         "x": [
          "A",
          "B",
          "C",
          "D",
          "E",
          "F"
         ],
         "xaxis": "x5",
         "xgap": 0.2,
         "y": [
          "1",
          "2",
          "3",
          "4",
          "5",
          "6"
         ],
         "yaxis": "y5",
         "ygap": 0.2,
         "z": [
          [
           0,
           0,
           0,
           0,
           0,
           -1
          ],
          [
           0,
           0,
           0,
           1,
           -1,
           1
          ],
          [
           0,
           0,
           1,
           1,
           1,
           0
          ],
          [
           0,
           0,
           -1,
           1,
           0,
           0
          ],
          [
           0,
           0,
           0,
           0,
           0,
           0
          ],
          [
           0,
           0,
           0,
           0,
           0,
           0
          ]
         ]
        },
        {
         "colorscale": [
          [
           0,
           "rgb(254, 254, 253)"
          ],
          [
           0.09090909090909091,
           "rgb(224, 224, 223)"
          ],
          [
           0.18181818181818182,
           "rgb(197, 197, 195)"
          ],
          [
           0.2727272727272727,
           "rgb(171, 171, 170)"
          ],
          [
           0.36363636363636365,
           "rgb(146, 146, 145)"
          ],
          [
           0.45454545454545453,
           "rgb(124, 123, 122)"
          ],
          [
           0.5454545454545454,
           "rgb(102, 101, 101)"
          ],
          [
           0.6363636363636364,
           "rgb(81, 80, 80)"
          ],
          [
           0.7272727272727273,
           "rgb(59, 59, 59)"
          ],
          [
           0.8181818181818182,
           "rgb(38, 38, 38)"
          ],
          [
           0.9090909090909091,
           "rgb(16, 16, 16)"
          ],
          [
           1,
           "rgb(0, 0, 0)"
          ]
         ],
         "hovertemplate": "%{hovertext}<extra></extra>",
         "hovertext": [
          [
           "A1",
           "B1",
           "C1",
           "D1",
           "E1",
           "F1"
          ],
          [
           "A2",
           "B2",
           "C2",
           "D2",
           "E2",
           "F2"
          ],
          [
           "A3",
           "B3",
           "C3",
           "D3",
           "E3",
           "F3"
          ],
          [
           "A4",
           "B4",
           "C4",
           "D4",
           "E4",
           "F4"
          ],
          [
           "A5",
           "B5",
           "C5",
           "D5",
           "E5",
           "F5"
          ],
          [
           "A6",
           "B6",
           "C6",
           "D6",
           "E6",
           "F6"
          ]
         ],
         "showscale": false,
         "text": [
          [
           "",
           "",
           "",
           "",
           "X",
           ""
          ],
          [
           "",
           "",
           "",
           "",
           "",
           ""
          ],
          [
           "",
           "",
           "",
           "",
           "",
           "o"
          ],
          [
           "",
           "X",
           "",
           "",
           "",
           ""
          ],
          [
           "",
           "X",
           "X",
           "",
           "",
           ""
          ],
          [
           "",
           "",
           "",
           "",
           "",
           ""
          ]
         ],
         "textfont": {
          "color": "black"
         },
         "texttemplate": "%{text}",
         "type": "heatmap",
         "x": [
          "A",
          "B",
          "C",
          "D",
          "E",
          "F"
         ],
         "xaxis": "x6",
         "xgap": 0.2,
         "y": [
          "1",
          "2",
          "3",
          "4",
          "5",
          "6"
         ],
         "yaxis": "y6",
         "ygap": 0.2,
         "z": [
          [
           0,
           0,
           0,
           0,
           0,
           -1
          ],
          [
           0,
           0,
           0,
           1,
           -1,
           -1
          ],
          [
           0,
           0,
           1,
           1,
           1,
           -1
          ],
          [
           0,
           0,
           -1,
           1,
           0,
           0
          ],
          [
           0,
           0,
           0,
           0,
           0,
           0
          ],
          [
           0,
           0,
           0,
           0,
           0,
           0
          ]
         ]
        },
        {
         "colorscale": [
          [
           0,
           "rgb(254, 254, 253)"
          ],
          [
           0.09090909090909091,
           "rgb(224, 224, 223)"
          ],
          [
           0.18181818181818182,
           "rgb(197, 197, 195)"
          ],
          [
           0.2727272727272727,
           "rgb(171, 171, 170)"
          ],
          [
           0.36363636363636365,
           "rgb(146, 146, 145)"
          ],
          [
           0.45454545454545453,
           "rgb(124, 123, 122)"
          ],
          [
           0.5454545454545454,
           "rgb(102, 101, 101)"
          ],
          [
           0.6363636363636364,
           "rgb(81, 80, 80)"
          ],
          [
           0.7272727272727273,
           "rgb(59, 59, 59)"
          ],
          [
           0.8181818181818182,
           "rgb(38, 38, 38)"
          ],
          [
           0.9090909090909091,
           "rgb(16, 16, 16)"
          ],
          [
           1,
           "rgb(0, 0, 0)"
          ]
         ],
         "hovertemplate": "%{hovertext}<extra></extra>",
         "hovertext": [
          [
           "A1",
           "B1",
           "C1",
           "D1",
           "E1",
           "F1"
          ],
          [
           "A2",
           "B2",
           "C2",
           "D2",
           "E2",
           "F2"
          ],
          [
           "A3",
           "B3",
           "C3",
           "D3",
           "E3",
           "F3"
          ],
          [
           "A4",
           "B4",
           "C4",
           "D4",
           "E4",
           "F4"
          ],
          [
           "A5",
           "B5",
           "C5",
           "D5",
           "E5",
           "F5"
          ],
          [
           "A6",
           "B6",
           "C6",
           "D6",
           "E6",
           "F6"
          ]
         ],
         "showscale": false,
         "text": [
          [
           "",
           "",
           "",
           "",
           "",
           ""
          ],
          [
           "",
           "",
           "X",
           "",
           "",
           ""
          ],
          [
           "",
           "X",
           "",
           "",
           "",
           ""
          ],
          [
           "",
           "",
           "",
           "",
           "X",
           ""
          ],
          [
           "",
           "o",
           "X",
           "",
           "",
           ""
          ],
          [
           "X",
           "",
           "",
           "",
           "",
           ""
          ]
         ],
         "textfont": {
          "color": "white"
         },
         "texttemplate": "%{text}",
         "type": "heatmap",
         "x": [
          "A",
          "B",
          "C",
          "D",
          "E",
          "F"
         ],
         "xaxis": "x7",
         "xgap": 0.2,
         "y": [
          "1",
          "2",
          "3",
          "4",
          "5",
          "6"
         ],
         "yaxis": "y7",
         "ygap": 0.2,
         "z": [
          [
           0,
           0,
           0,
           0,
           0,
           -1
          ],
          [
           0,
           0,
           0,
           1,
           -1,
           -1
          ],
          [
           0,
           0,
           1,
           1,
           1,
           -1
          ],
          [
           0,
           0,
           1,
           1,
           0,
           0
          ],
          [
           0,
           1,
           0,
           0,
           0,
           0
          ],
          [
           0,
           0,
           0,
           0,
           0,
           0
          ]
         ]
        },
        {
         "colorscale": [
          [
           0,
           "rgb(254, 254, 253)"
          ],
          [
           0.09090909090909091,
           "rgb(224, 224, 223)"
          ],
          [
           0.18181818181818182,
           "rgb(197, 197, 195)"
          ],
          [
           0.2727272727272727,
           "rgb(171, 171, 170)"
          ],
          [
           0.36363636363636365,
           "rgb(146, 146, 145)"
          ],
          [
           0.45454545454545453,
           "rgb(124, 123, 122)"
          ],
          [
           0.5454545454545454,
           "rgb(102, 101, 101)"
          ],
          [
           0.6363636363636364,
           "rgb(81, 80, 80)"
          ],
          [
           0.7272727272727273,
           "rgb(59, 59, 59)"
          ],
          [
           0.8181818181818182,
           "rgb(38, 38, 38)"
          ],
          [
           0.9090909090909091,
           "rgb(16, 16, 16)"
          ],
          [
           1,
           "rgb(0, 0, 0)"
          ]
         ],
         "hovertemplate": "%{hovertext}<extra></extra>",
         "hovertext": [
          [
           "A1",
           "B1",
           "C1",
           "D1",
           "E1",
           "F1"
          ],
          [
           "A2",
           "B2",
           "C2",
           "D2",
           "E2",
           "F2"
          ],
          [
           "A3",
           "B3",
           "C3",
           "D3",
           "E3",
           "F3"
          ],
          [
           "A4",
           "B4",
           "C4",
           "D4",
           "E4",
           "F4"
          ],
          [
           "A5",
           "B5",
           "C5",
           "D5",
           "E5",
           "F5"
          ],
          [
           "A6",
           "B6",
           "C6",
           "D6",
           "E6",
           "F6"
          ]
         ],
         "showscale": false,
         "text": [
          [
           "",
           "",
           "",
           "",
           "",
           ""
          ],
          [
           "X",
           "X",
           "X",
           "",
           "",
           ""
          ],
          [
           "",
           "o",
           "",
           "",
           "",
           ""
          ],
          [
           "",
           "X",
           "",
           "",
           "",
           "X"
          ],
          [
           "",
           "",
           "",
           "",
           "",
           ""
          ],
          [
           "",
           "",
           "",
           "",
           "",
           ""
          ]
         ],
         "textfont": {
          "color": "black"
         },
         "texttemplate": "%{text}",
         "type": "heatmap",
         "x": [
          "A",
          "B",
          "C",
          "D",
          "E",
          "F"
         ],
         "xaxis": "x8",
         "xgap": 0.2,
         "y": [
          "1",
          "2",
          "3",
          "4",
          "5",
          "6"
         ],
         "yaxis": "y8",
         "ygap": 0.2,
         "z": [
          [
           0,
           0,
           0,
           0,
           0,
           -1
          ],
          [
           0,
           0,
           0,
           1,
           -1,
           -1
          ],
          [
           0,
           -1,
           -1,
           -1,
           -1,
           -1
          ],
          [
           0,
           0,
           1,
           1,
           0,
           0
          ],
          [
           0,
           1,
           0,
           0,
           0,
           0
          ],
          [
           0,
           0,
           0,
           0,
           0,
           0
          ]
         ]
        },
        {
         "colorscale": [
          [
           0,
           "rgb(254, 254, 253)"
          ],
          [
           0.09090909090909091,
           "rgb(224, 224, 223)"
          ],
          [
           0.18181818181818182,
           "rgb(197, 197, 195)"
          ],
          [
           0.2727272727272727,
           "rgb(171, 171, 170)"
          ],
          [
           0.36363636363636365,
           "rgb(146, 146, 145)"
          ],
          [
           0.45454545454545453,
           "rgb(124, 123, 122)"
          ],
          [
           0.5454545454545454,
           "rgb(102, 101, 101)"
          ],
          [
           0.6363636363636364,
           "rgb(81, 80, 80)"
          ],
          [
           0.7272727272727273,
           "rgb(59, 59, 59)"
          ],
          [
           0.8181818181818182,
           "rgb(38, 38, 38)"
          ],
          [
           0.9090909090909091,
           "rgb(16, 16, 16)"
          ],
          [
           1,
           "rgb(0, 0, 0)"
          ]
         ],
         "hovertemplate": "%{hovertext}<extra></extra>",
         "hovertext": [
          [
           "A1",
           "B1",
           "C1",
           "D1",
           "E1",
           "F1"
          ],
          [
           "A2",
           "B2",
           "C2",
           "D2",
           "E2",
           "F2"
          ],
          [
           "A3",
           "B3",
           "C3",
           "D3",
           "E3",
           "F3"
          ],
          [
           "A4",
           "B4",
           "C4",
           "D4",
           "E4",
           "F4"
          ],
          [
           "A5",
           "B5",
           "C5",
           "D5",
           "E5",
           "F5"
          ],
          [
           "A6",
           "B6",
           "C6",
           "D6",
           "E6",
           "F6"
          ]
         ],
         "showscale": false,
         "text": [
          [
           "",
           "",
           "X",
           "X",
           "X",
           ""
          ],
          [
           "o",
           "",
           "X",
           "",
           "",
           ""
          ],
          [
           "X",
           "",
           "",
           "",
           "",
           ""
          ],
          [
           "",
           "",
           "",
           "",
           "",
           ""
          ],
          [
           "",
           "",
           "X",
           "X",
           "X",
           ""
          ],
          [
           "X",
           "",
           "",
           "",
           "",
           ""
          ]
         ],
         "textfont": {
          "color": "white"
         },
         "texttemplate": "%{text}",
         "type": "heatmap",
         "x": [
          "A",
          "B",
          "C",
          "D",
          "E",
          "F"
         ],
         "xaxis": "x9",
         "xgap": 0.2,
         "y": [
          "1",
          "2",
          "3",
          "4",
          "5",
          "6"
         ],
         "yaxis": "y9",
         "ygap": 0.2,
         "z": [
          [
           0,
           0,
           0,
           0,
           0,
           -1
          ],
          [
           1,
           0,
           0,
           1,
           -1,
           -1
          ],
          [
           0,
           1,
           -1,
           -1,
           -1,
           -1
          ],
          [
           0,
           0,
           1,
           1,
           0,
           0
          ],
          [
           0,
           1,
           0,
           0,
           0,
           0
          ],
          [
           0,
           0,
           0,
           0,
           0,
           0
          ]
         ]
        },
        {
         "colorscale": [
          [
           0,
           "rgb(254, 254, 253)"
          ],
          [
           0.09090909090909091,
           "rgb(224, 224, 223)"
          ],
          [
           0.18181818181818182,
           "rgb(197, 197, 195)"
          ],
          [
           0.2727272727272727,
           "rgb(171, 171, 170)"
          ],
          [
           0.36363636363636365,
           "rgb(146, 146, 145)"
          ],
          [
           0.45454545454545453,
           "rgb(124, 123, 122)"
          ],
          [
           0.5454545454545454,
           "rgb(102, 101, 101)"
          ],
          [
           0.6363636363636364,
           "rgb(81, 80, 80)"
          ],
          [
           0.7272727272727273,
           "rgb(59, 59, 59)"
          ],
          [
           0.8181818181818182,
           "rgb(38, 38, 38)"
          ],
          [
           0.9090909090909091,
           "rgb(16, 16, 16)"
          ],
          [
           1,
           "rgb(0, 0, 0)"
          ]
         ],
         "hovertemplate": "%{hovertext}<extra></extra>",
         "hovertext": [
          [
           "A1",
           "B1",
           "C1",
           "D1",
           "E1",
           "F1"
          ],
          [
           "A2",
           "B2",
           "C2",
           "D2",
           "E2",
           "F2"
          ],
          [
           "A3",
           "B3",
           "C3",
           "D3",
           "E3",
           "F3"
          ],
          [
           "A4",
           "B4",
           "C4",
           "D4",
           "E4",
           "F4"
          ],
          [
           "A5",
           "B5",
           "C5",
           "D5",
           "E5",
           "F5"
          ],
          [
           "A6",
           "B6",
           "C6",
           "D6",
           "E6",
           "F6"
          ]
         ],
         "showscale": false,
         "text": [
          [
           "",
           "",
           "o",
           "X",
           "",
           ""
          ],
          [
           "",
           "X",
           "X",
           "",
           "",
           ""
          ],
          [
           "",
           "",
           "",
           "",
           "",
           ""
          ],
          [
           "",
           "",
           "",
           "",
           "",
           ""
          ],
          [
           "",
           "",
           "",
           "",
           "",
           ""
          ],
          [
           "",
           "",
           "",
           "",
           "",
           ""
          ]
         ],
         "textfont": {
          "color": "black"
         },
         "texttemplate": "%{text}",
         "type": "heatmap",
         "x": [
          "A",
          "B",
          "C",
          "D",
          "E",
          "F"
         ],
         "xaxis": "x10",
         "xgap": 0.2,
         "y": [
          "1",
          "2",
          "3",
          "4",
          "5",
          "6"
         ],
         "yaxis": "y10",
         "ygap": 0.2,
         "z": [
          [
           0,
           0,
           -1,
           0,
           0,
           -1
          ],
          [
           1,
           0,
           0,
           -1,
           -1,
           -1
          ],
          [
           0,
           1,
           -1,
           -1,
           -1,
           -1
          ],
          [
           0,
           0,
           1,
           1,
           0,
           0
          ],
          [
           0,
           1,
           0,
           0,
           0,
           0
          ],
          [
           0,
           0,
           0,
           0,
           0,
           0
          ]
         ]
        },
        {
         "colorscale": [
          [
           0,
           "rgb(254, 254, 253)"
          ],
          [
           0.09090909090909091,
           "rgb(224, 224, 223)"
          ],
          [
           0.18181818181818182,
           "rgb(197, 197, 195)"
          ],
          [
           0.2727272727272727,
           "rgb(171, 171, 170)"
          ],
          [
           0.36363636363636365,
           "rgb(146, 146, 145)"
          ],
          [
           0.45454545454545453,
           "rgb(124, 123, 122)"
          ],
          [
           0.5454545454545454,
           "rgb(102, 101, 101)"
          ],
          [
           0.6363636363636364,
           "rgb(81, 80, 80)"
          ],
          [
           0.7272727272727273,
           "rgb(59, 59, 59)"
          ],
          [
           0.8181818181818182,
           "rgb(38, 38, 38)"
          ],
          [
           0.9090909090909091,
           "rgb(16, 16, 16)"
          ],
          [
           1,
           "rgb(0, 0, 0)"
          ]
         ],
         "hovertemplate": "%{hovertext}<extra></extra>",
         "hovertext": [
          [
           "A1",
           "B1",
           "C1",
           "D1",
           "E1",
           "F1"
          ],
          [
           "A2",
           "B2",
           "C2",
           "D2",
           "E2",
           "F2"
          ],
          [
           "A3",
           "B3",
           "C3",
           "D3",
           "E3",
           "F3"
          ],
          [
           "A4",
           "B4",
           "C4",
           "D4",
           "E4",
           "F4"
          ],
          [
           "A5",
           "B5",
           "C5",
           "D5",
           "E5",
           "F5"
          ],
          [
           "A6",
           "B6",
           "C6",
           "D6",
           "E6",
           "F6"
          ]
         ],
         "showscale": false,
         "text": [
          [
           "",
           "",
           "",
           "",
           "",
           ""
          ],
          [
           "",
           "o",
           "",
           "",
           "",
           ""
          ],
          [
           "X",
           "",
           "",
           "",
           "",
           ""
          ],
          [
           "",
           "X",
           "",
           "",
           "",
           ""
          ],
          [
           "",
           "",
           "X",
           "X",
           "",
           ""
          ],
          [
           "X",
           "",
           "",
           "",
           "",
           ""
          ]
         ],
         "textfont": {
          "color": "white"
         },
         "texttemplate": "%{text}",
         "type": "heatmap",
         "x": [
          "A",
          "B",
          "C",
          "D",
          "E",
          "F"
         ],
         "xaxis": "x11",
         "xgap": 0.2,
         "y": [
          "1",
          "2",
          "3",
          "4",
          "5",
          "6"
         ],
         "yaxis": "y11",
         "ygap": 0.2,
         "z": [
          [
           0,
           0,
           -1,
           0,
           0,
           -1
          ],
          [
           1,
           1,
           0,
           -1,
           -1,
           -1
          ],
          [
           0,
           1,
           1,
           -1,
           -1,
           -1
          ],
          [
           0,
           0,
           1,
           1,
           0,
           0
          ],
          [
           0,
           1,
           0,
           0,
           0,
           0
          ],
          [
           0,
           0,
           0,
           0,
           0,
           0
          ]
         ]
        },
        {
         "colorscale": [
          [
           0,
           "rgb(254, 254, 253)"
          ],
          [
           0.09090909090909091,
           "rgb(224, 224, 223)"
          ],
          [
           0.18181818181818182,
           "rgb(197, 197, 195)"
          ],
          [
           0.2727272727272727,
           "rgb(171, 171, 170)"
          ],
          [
           0.36363636363636365,
           "rgb(146, 146, 145)"
          ],
          [
           0.45454545454545453,
           "rgb(124, 123, 122)"
          ],
          [
           0.5454545454545454,
           "rgb(102, 101, 101)"
          ],
          [
           0.6363636363636364,
           "rgb(81, 80, 80)"
          ],
          [
           0.7272727272727273,
           "rgb(59, 59, 59)"
          ],
          [
           0.8181818181818182,
           "rgb(38, 38, 38)"
          ],
          [
           0.9090909090909091,
           "rgb(16, 16, 16)"
          ],
          [
           1,
           "rgb(0, 0, 0)"
          ]
         ],
         "hovertemplate": "%{hovertext}<extra></extra>",
         "hovertext": [
          [
           "A1",
           "B1",
           "C1",
           "D1",
           "E1",
           "F1"
          ],
          [
           "A2",
           "B2",
           "C2",
           "D2",
           "E2",
           "F2"
          ],
          [
           "A3",
           "B3",
           "C3",
           "D3",
           "E3",
           "F3"
          ],
          [
           "A4",
           "B4",
           "C4",
           "D4",
           "E4",
           "F4"
          ],
          [
           "A5",
           "B5",
           "C5",
           "D5",
           "E5",
           "F5"
          ],
          [
           "A6",
           "B6",
           "C6",
           "D6",
           "E6",
           "F6"
          ]
         ],
         "showscale": false,
         "text": [
          [
           "X",
           "",
           "",
           "X",
           "",
           ""
          ],
          [
           "",
           "",
           "X",
           "",
           "",
           ""
          ],
          [
           "o",
           "",
           "",
           "",
           "",
           ""
          ],
          [
           "X",
           "",
           "",
           "",
           "",
           ""
          ],
          [
           "",
           "",
           "",
           "",
           "",
           ""
          ],
          [
           "",
           "",
           "",
           "",
           "",
           ""
          ]
         ],
         "textfont": {
          "color": "black"
         },
         "texttemplate": "%{text}",
         "type": "heatmap",
         "x": [
          "A",
          "B",
          "C",
          "D",
          "E",
          "F"
         ],
         "xaxis": "x12",
         "xgap": 0.2,
         "y": [
          "1",
          "2",
          "3",
          "4",
          "5",
          "6"
         ],
         "yaxis": "y12",
         "ygap": 0.2,
         "z": [
          [
           0,
           0,
           -1,
           0,
           0,
           -1
          ],
          [
           1,
           -1,
           0,
           -1,
           -1,
           -1
          ],
          [
           -1,
           -1,
           -1,
           -1,
           -1,
           -1
          ],
          [
           0,
           0,
           1,
           1,
           0,
           0
          ],
          [
           0,
           1,
           0,
           0,
           0,
           0
          ],
          [
           0,
           0,
           0,
           0,
           0,
           0
          ]
         ]
        },
        {
         "colorscale": [
          [
           0,
           "rgb(254, 254, 253)"
          ],
          [
           0.09090909090909091,
           "rgb(224, 224, 223)"
          ],
          [
           0.18181818181818182,
           "rgb(197, 197, 195)"
          ],
          [
           0.2727272727272727,
           "rgb(171, 171, 170)"
          ],
          [
           0.36363636363636365,
           "rgb(146, 146, 145)"
          ],
          [
           0.45454545454545453,
           "rgb(124, 123, 122)"
          ],
          [
           0.5454545454545454,
           "rgb(102, 101, 101)"
          ],
          [
           0.6363636363636364,
           "rgb(81, 80, 80)"
          ],
          [
           0.7272727272727273,
           "rgb(59, 59, 59)"
          ],
          [
           0.8181818181818182,
           "rgb(38, 38, 38)"
          ],
          [
           0.9090909090909091,
           "rgb(16, 16, 16)"
          ],
          [
           1,
           "rgb(0, 0, 0)"
          ]
         ],
         "hovertemplate": "%{hovertext}<extra></extra>",
         "hovertext": [
          [
           "A1",
           "B1",
           "C1",
           "D1",
           "E1",
           "F1"
          ],
          [
           "A2",
           "B2",
           "C2",
           "D2",
           "E2",
           "F2"
          ],
          [
           "A3",
           "B3",
           "C3",
           "D3",
           "E3",
           "F3"
          ],
          [
           "A4",
           "B4",
           "C4",
           "D4",
           "E4",
           "F4"
          ],
          [
           "A5",
           "B5",
           "C5",
           "D5",
           "E5",
           "F5"
          ],
          [
           "A6",
           "B6",
           "C6",
           "D6",
           "E6",
           "F6"
          ]
         ],
         "showscale": false,
         "text": [
          [
           "",
           "",
           "",
           "",
           "",
           ""
          ],
          [
           "",
           "",
           "",
           "",
           "",
           ""
          ],
          [
           "",
           "",
           "",
           "",
           "",
           ""
          ],
          [
           "o",
           "",
           "",
           "",
           "",
           ""
          ],
          [
           "",
           "",
           "X",
           "X",
           "X",
           ""
          ],
          [
           "X",
           "",
           "",
           "",
           "",
           ""
          ]
         ],
         "textfont": {
          "color": "white"
         },
         "texttemplate": "%{text}",
         "type": "heatmap",
         "x": [
          "A",
          "B",
          "C",
          "D",
          "E",
          "F"
         ],
         "xaxis": "x13",
         "xgap": 0.2,
         "y": [
          "1",
          "2",
          "3",
          "4",
          "5",
          "6"
         ],
         "yaxis": "y13",
         "ygap": 0.2,
         "z": [
          [
           0,
           0,
           -1,
           0,
           0,
           -1
          ],
          [
           1,
           -1,
           0,
           -1,
           -1,
           -1
          ],
          [
           1,
           -1,
           -1,
           -1,
           -1,
           -1
          ],
          [
           1,
           0,
           1,
           1,
           0,
           0
          ],
          [
           0,
           1,
           0,
           0,
           0,
           0
          ],
          [
           0,
           0,
           0,
           0,
           0,
           0
          ]
         ]
        },
        {
         "colorscale": [
          [
           0,
           "rgb(254, 254, 253)"
          ],
          [
           0.09090909090909091,
           "rgb(224, 224, 223)"
          ],
          [
           0.18181818181818182,
           "rgb(197, 197, 195)"
          ],
          [
           0.2727272727272727,
           "rgb(171, 171, 170)"
          ],
          [
           0.36363636363636365,
           "rgb(146, 146, 145)"
          ],
          [
           0.45454545454545453,
           "rgb(124, 123, 122)"
          ],
          [
           0.5454545454545454,
           "rgb(102, 101, 101)"
          ],
          [
           0.6363636363636364,
           "rgb(81, 80, 80)"
          ],
          [
           0.7272727272727273,
           "rgb(59, 59, 59)"
          ],
          [
           0.8181818181818182,
           "rgb(38, 38, 38)"
          ],
          [
           0.9090909090909091,
           "rgb(16, 16, 16)"
          ],
          [
           1,
           "rgb(0, 0, 0)"
          ]
         ],
         "hovertemplate": "%{hovertext}<extra></extra>",
         "hovertext": [
          [
           "A1",
           "B1",
           "C1",
           "D1",
           "E1",
           "F1"
          ],
          [
           "A2",
           "B2",
           "C2",
           "D2",
           "E2",
           "F2"
          ],
          [
           "A3",
           "B3",
           "C3",
           "D3",
           "E3",
           "F3"
          ],
          [
           "A4",
           "B4",
           "C4",
           "D4",
           "E4",
           "F4"
          ],
          [
           "A5",
           "B5",
           "C5",
           "D5",
           "E5",
           "F5"
          ],
          [
           "A6",
           "B6",
           "C6",
           "D6",
           "E6",
           "F6"
          ]
         ],
         "showscale": false,
         "text": [
          [
           "",
           "",
           "",
           "",
           "",
           ""
          ],
          [
           "",
           "",
           "X",
           "",
           "",
           ""
          ],
          [
           "",
           "",
           "",
           "",
           "",
           ""
          ],
          [
           "",
           "",
           "",
           "",
           "",
           ""
          ],
          [
           "",
           "",
           "",
           "o",
           "",
           ""
          ],
          [
           "",
           "",
           "",
           "",
           "X",
           ""
          ]
         ],
         "textfont": {
          "color": "black"
         },
         "texttemplate": "%{text}",
         "type": "heatmap",
         "x": [
          "A",
          "B",
          "C",
          "D",
          "E",
          "F"
         ],
         "xaxis": "x14",
         "xgap": 0.2,
         "y": [
          "1",
          "2",
          "3",
          "4",
          "5",
          "6"
         ],
         "yaxis": "y14",
         "ygap": 0.2,
         "z": [
          [
           0,
           0,
           -1,
           0,
           0,
           -1
          ],
          [
           1,
           -1,
           0,
           -1,
           -1,
           -1
          ],
          [
           1,
           -1,
           -1,
           -1,
           -1,
           -1
          ],
          [
           1,
           0,
           -1,
           -1,
           0,
           0
          ],
          [
           0,
           1,
           0,
           -1,
           0,
           0
          ],
          [
           0,
           0,
           0,
           0,
           0,
           0
          ]
         ]
        },
        {
         "colorscale": [
          [
           0,
           "rgb(254, 254, 253)"
          ],
          [
           0.09090909090909091,
           "rgb(224, 224, 223)"
          ],
          [
           0.18181818181818182,
           "rgb(197, 197, 195)"
          ],
          [
           0.2727272727272727,
           "rgb(171, 171, 170)"
          ],
          [
           0.36363636363636365,
           "rgb(146, 146, 145)"
          ],
          [
           0.45454545454545453,
           "rgb(124, 123, 122)"
          ],
          [
           0.5454545454545454,
           "rgb(102, 101, 101)"
          ],
          [
           0.6363636363636364,
           "rgb(81, 80, 80)"
          ],
          [
           0.7272727272727273,
           "rgb(59, 59, 59)"
          ],
          [
           0.8181818181818182,
           "rgb(38, 38, 38)"
          ],
          [
           0.9090909090909091,
           "rgb(16, 16, 16)"
          ],
          [
           1,
           "rgb(0, 0, 0)"
          ]
         ],
         "hovertemplate": "%{hovertext}<extra></extra>",
         "hovertext": [
          [
           "A1",
           "B1",
           "C1",
           "D1",
           "E1",
           "F1"
          ],
          [
           "A2",
           "B2",
           "C2",
           "D2",
           "E2",
           "F2"
          ],
          [
           "A3",
           "B3",
           "C3",
           "D3",
           "E3",
           "F3"
          ],
          [
           "A4",
           "B4",
           "C4",
           "D4",
           "E4",
           "F4"
          ],
          [
           "A5",
           "B5",
           "C5",
           "D5",
           "E5",
           "F5"
          ],
          [
           "A6",
           "B6",
           "C6",
           "D6",
           "E6",
           "F6"
          ]
         ],
         "showscale": false,
         "text": [
          [
           "",
           "",
           "",
           "",
           "",
           ""
          ],
          [
           "",
           "",
           "",
           "",
           "",
           ""
          ],
          [
           "",
           "",
           "",
           "",
           "",
           ""
          ],
          [
           "",
           "X",
           "",
           "",
           "",
           ""
          ],
          [
           "",
           "",
           "X",
           "",
           "",
           ""
          ],
          [
           "X",
           "",
           "",
           "X",
           "o",
           ""
          ]
         ],
         "textfont": {
          "color": "white"
         },
         "texttemplate": "%{text}",
         "type": "heatmap",
         "x": [
          "A",
          "B",
          "C",
          "D",
          "E",
          "F"
         ],
         "xaxis": "x15",
         "xgap": 0.2,
         "y": [
          "1",
          "2",
          "3",
          "4",
          "5",
          "6"
         ],
         "yaxis": "y15",
         "ygap": 0.2,
         "z": [
          [
           0,
           0,
           -1,
           0,
           0,
           -1
          ],
          [
           1,
           -1,
           0,
           -1,
           -1,
           -1
          ],
          [
           1,
           1,
           -1,
           -1,
           -1,
           -1
          ],
          [
           1,
           0,
           1,
           -1,
           0,
           0
          ],
          [
           0,
           1,
           0,
           1,
           0,
           0
          ],
          [
           0,
           0,
           0,
           0,
           1,
           0
          ]
         ]
        },
        {
         "colorscale": [
          [
           0,
           "rgb(254, 254, 253)"
          ],
          [
           0.09090909090909091,
           "rgb(224, 224, 223)"
          ],
          [
           0.18181818181818182,
           "rgb(197, 197, 195)"
          ],
          [
           0.2727272727272727,
           "rgb(171, 171, 170)"
          ],
          [
           0.36363636363636365,
           "rgb(146, 146, 145)"
          ],
          [
           0.45454545454545453,
           "rgb(124, 123, 122)"
          ],
          [
           0.5454545454545454,
           "rgb(102, 101, 101)"
          ],
          [
           0.6363636363636364,
           "rgb(81, 80, 80)"
          ],
          [
           0.7272727272727273,
           "rgb(59, 59, 59)"
          ],
          [
           0.8181818181818182,
           "rgb(38, 38, 38)"
          ],
          [
           0.9090909090909091,
           "rgb(16, 16, 16)"
          ],
          [
           1,
           "rgb(0, 0, 0)"
          ]
         ],
         "hovertemplate": "%{hovertext}<extra></extra>",
         "hovertext": [
          [
           "A1",
           "B1",
           "C1",
           "D1",
           "E1",
           "F1"
          ],
          [
           "A2",
           "B2",
           "C2",
           "D2",
           "E2",
           "F2"
          ],
          [
           "A3",
           "B3",
           "C3",
           "D3",
           "E3",
           "F3"
          ],
          [
           "A4",
           "B4",
           "C4",
           "D4",
           "E4",
           "F4"
          ],
          [
           "A5",
           "B5",
           "C5",
           "D5",
           "E5",
           "F5"
          ],
          [
           "A6",
           "B6",
           "C6",
           "D6",
           "E6",
           "F6"
          ]
         ],
         "showscale": false,
         "text": [
          [
           "",
           "X",
           "",
           "X",
           "",
           ""
          ],
          [
           "",
           "",
           "X",
           "",
           "",
           ""
          ],
          [
           "",
           "",
           "",
           "",
           "",
           ""
          ],
          [
           "",
           "",
           "",
           "",
           "",
           ""
          ],
          [
           "",
           "",
           "o",
           "",
           "",
           ""
          ],
          [
           "",
           "",
           "",
           "",
           "",
           ""
          ]
         ],
         "textfont": {
          "color": "black"
         },
         "texttemplate": "%{text}",
         "type": "heatmap",
         "x": [
          "A",
          "B",
          "C",
          "D",
          "E",
          "F"
         ],
         "xaxis": "x16",
         "xgap": 0.2,
         "y": [
          "1",
          "2",
          "3",
          "4",
          "5",
          "6"
         ],
         "yaxis": "y16",
         "ygap": 0.2,
         "z": [
          [
           0,
           0,
           -1,
           0,
           0,
           -1
          ],
          [
           1,
           -1,
           0,
           -1,
           -1,
           -1
          ],
          [
           1,
           1,
           -1,
           -1,
           -1,
           -1
          ],
          [
           1,
           0,
           -1,
           -1,
           0,
           0
          ],
          [
           0,
           1,
           -1,
           1,
           0,
           0
          ],
          [
           0,
           0,
           0,
           0,
           1,
           0
          ]
         ]
        },
        {
         "colorscale": [
          [
           0,
           "rgb(254, 254, 253)"
          ],
          [
           0.09090909090909091,
           "rgb(224, 224, 223)"
          ],
          [
           0.18181818181818182,
           "rgb(197, 197, 195)"
          ],
          [
           0.2727272727272727,
           "rgb(171, 171, 170)"
          ],
          [
           0.36363636363636365,
           "rgb(146, 146, 145)"
          ],
          [
           0.45454545454545453,
           "rgb(124, 123, 122)"
          ],
          [
           0.5454545454545454,
           "rgb(102, 101, 101)"
          ],
          [
           0.6363636363636364,
           "rgb(81, 80, 80)"
          ],
          [
           0.7272727272727273,
           "rgb(59, 59, 59)"
          ],
          [
           0.8181818181818182,
           "rgb(38, 38, 38)"
          ],
          [
           0.9090909090909091,
           "rgb(16, 16, 16)"
          ],
          [
           1,
           "rgb(0, 0, 0)"
          ]
         ],
         "hovertemplate": "%{hovertext}<extra></extra>",
         "hovertext": [
          [
           "A1",
           "B1",
           "C1",
           "D1",
           "E1",
           "F1"
          ],
          [
           "A2",
           "B2",
           "C2",
           "D2",
           "E2",
           "F2"
          ],
          [
           "A3",
           "B3",
           "C3",
           "D3",
           "E3",
           "F3"
          ],
          [
           "A4",
           "B4",
           "C4",
           "D4",
           "E4",
           "F4"
          ],
          [
           "A5",
           "B5",
           "C5",
           "D5",
           "E5",
           "F5"
          ],
          [
           "A6",
           "B6",
           "C6",
           "D6",
           "E6",
           "F6"
          ]
         ],
         "showscale": false,
         "text": [
          [
           "X",
           "o",
           "",
           "",
           "",
           ""
          ],
          [
           "",
           "",
           "",
           "",
           "",
           ""
          ],
          [
           "",
           "",
           "",
           "",
           "",
           ""
          ],
          [
           "",
           "",
           "",
           "",
           "",
           ""
          ],
          [
           "X",
           "",
           "",
           "",
           "X",
           ""
          ],
          [
           "X",
           "",
           "",
           "X",
           "",
           ""
          ]
         ],
         "textfont": {
          "color": "white"
         },
         "texttemplate": "%{text}",
         "type": "heatmap",
         "x": [
          "A",
          "B",
          "C",
          "D",
          "E",
          "F"
         ],
         "xaxis": "x17",
         "xgap": 0.2,
         "y": [
          "1",
          "2",
          "3",
          "4",
          "5",
          "6"
         ],
         "yaxis": "y17",
         "ygap": 0.2,
         "z": [
          [
           0,
           1,
           -1,
           0,
           0,
           -1
          ],
          [
           1,
           1,
           0,
           -1,
           -1,
           -1
          ],
          [
           1,
           1,
           -1,
           -1,
           -1,
           -1
          ],
          [
           1,
           0,
           -1,
           -1,
           0,
           0
          ],
          [
           0,
           1,
           -1,
           1,
           0,
           0
          ],
          [
           0,
           0,
           0,
           0,
           1,
           0
          ]
         ]
        },
        {
         "colorscale": [
          [
           0,
           "rgb(254, 254, 253)"
          ],
          [
           0.09090909090909091,
           "rgb(224, 224, 223)"
          ],
          [
           0.18181818181818182,
           "rgb(197, 197, 195)"
          ],
          [
           0.2727272727272727,
           "rgb(171, 171, 170)"
          ],
          [
           0.36363636363636365,
           "rgb(146, 146, 145)"
          ],
          [
           0.45454545454545453,
           "rgb(124, 123, 122)"
          ],
          [
           0.5454545454545454,
           "rgb(102, 101, 101)"
          ],
          [
           0.6363636363636364,
           "rgb(81, 80, 80)"
          ],
          [
           0.7272727272727273,
           "rgb(59, 59, 59)"
          ],
          [
           0.8181818181818182,
           "rgb(38, 38, 38)"
          ],
          [
           0.9090909090909091,
           "rgb(16, 16, 16)"
          ],
          [
           1,
           "rgb(0, 0, 0)"
          ]
         ],
         "hovertemplate": "%{hovertext}<extra></extra>",
         "hovertext": [
          [
           "A1",
           "B1",
           "C1",
           "D1",
           "E1",
           "F1"
          ],
          [
           "A2",
           "B2",
           "C2",
           "D2",
           "E2",
           "F2"
          ],
          [
           "A3",
           "B3",
           "C3",
           "D3",
           "E3",
           "F3"
          ],
          [
           "A4",
           "B4",
           "C4",
           "D4",
           "E4",
           "F4"
          ],
          [
           "A5",
           "B5",
           "C5",
           "D5",
           "E5",
           "F5"
          ],
          [
           "A6",
           "B6",
           "C6",
           "D6",
           "E6",
           "F6"
          ]
         ],
         "showscale": false,
         "text": [
          [
           "",
           "",
           "",
           "X",
           "",
           ""
          ],
          [
           "",
           "",
           "",
           "",
           "",
           ""
          ],
          [
           "",
           "",
           "",
           "",
           "",
           ""
          ],
          [
           "",
           "",
           "",
           "",
           "",
           ""
          ],
          [
           "X",
           "",
           "",
           "",
           "X",
           ""
          ],
          [
           "o",
           "",
           "X",
           "",
           "",
           ""
          ]
         ],
         "textfont": {
          "color": "black"
         },
         "texttemplate": "%{text}",
         "type": "heatmap",
         "x": [
          "A",
          "B",
          "C",
          "D",
          "E",
          "F"
         ],
         "xaxis": "x18",
         "xgap": 0.2,
         "y": [
          "1",
          "2",
          "3",
          "4",
          "5",
          "6"
         ],
         "yaxis": "y18",
         "ygap": 0.2,
         "z": [
          [
           0,
           1,
           -1,
           0,
           0,
           -1
          ],
          [
           1,
           1,
           0,
           -1,
           -1,
           -1
          ],
          [
           1,
           1,
           -1,
           -1,
           -1,
           -1
          ],
          [
           1,
           0,
           -1,
           -1,
           0,
           0
          ],
          [
           0,
           -1,
           -1,
           1,
           0,
           0
          ],
          [
           -1,
           0,
           0,
           0,
           1,
           0
          ]
         ]
        },
        {
         "colorscale": [
          [
           0,
           "rgb(254, 254, 253)"
          ],
          [
           0.09090909090909091,
           "rgb(224, 224, 223)"
          ],
          [
           0.18181818181818182,
           "rgb(197, 197, 195)"
          ],
          [
           0.2727272727272727,
           "rgb(171, 171, 170)"
          ],
          [
           0.36363636363636365,
           "rgb(146, 146, 145)"
          ],
          [
           0.45454545454545453,
           "rgb(124, 123, 122)"
          ],
          [
           0.5454545454545454,
           "rgb(102, 101, 101)"
          ],
          [
           0.6363636363636364,
           "rgb(81, 80, 80)"
          ],
          [
           0.7272727272727273,
           "rgb(59, 59, 59)"
          ],
          [
           0.8181818181818182,
           "rgb(38, 38, 38)"
          ],
          [
           0.9090909090909091,
           "rgb(16, 16, 16)"
          ],
          [
           1,
           "rgb(0, 0, 0)"
          ]
         ],
         "hovertemplate": "%{hovertext}<extra></extra>",
         "hovertext": [
          [
           "A1",
           "B1",
           "C1",
           "D1",
           "E1",
           "F1"
          ],
          [
           "A2",
           "B2",
           "C2",
           "D2",
           "E2",
           "F2"
          ],
          [
           "A3",
           "B3",
           "C3",
           "D3",
           "E3",
           "F3"
          ],
          [
           "A4",
           "B4",
           "C4",
           "D4",
           "E4",
           "F4"
          ],
          [
           "A5",
           "B5",
           "C5",
           "D5",
           "E5",
           "F5"
          ],
          [
           "A6",
           "B6",
           "C6",
           "D6",
           "E6",
           "F6"
          ]
         ],
         "showscale": false,
         "text": [
          [
           "X",
           "",
           "",
           "",
           "",
           ""
          ],
          [
           "",
           "",
           "",
           "",
           "",
           ""
          ],
          [
           "",
           "",
           "",
           "",
           "",
           ""
          ],
          [
           "",
           "",
           "",
           "",
           "",
           ""
          ],
          [
           "o",
           "",
           "",
           "",
           "",
           ""
          ],
          [
           "",
           "X",
           "X",
           "X",
           "",
           ""
          ]
         ],
         "textfont": {
          "color": "white"
         },
         "texttemplate": "%{text}",
         "type": "heatmap",
         "x": [
          "A",
          "B",
          "C",
          "D",
          "E",
          "F"
         ],
         "xaxis": "x19",
         "xgap": 0.2,
         "y": [
          "1",
          "2",
          "3",
          "4",
          "5",
          "6"
         ],
         "yaxis": "y19",
         "ygap": 0.2,
         "z": [
          [
           0,
           1,
           -1,
           0,
           0,
           -1
          ],
          [
           1,
           1,
           0,
           -1,
           -1,
           -1
          ],
          [
           1,
           1,
           -1,
           -1,
           -1,
           -1
          ],
          [
           1,
           0,
           -1,
           -1,
           0,
           0
          ],
          [
           1,
           1,
           1,
           1,
           0,
           0
          ],
          [
           -1,
           0,
           0,
           0,
           1,
           0
          ]
         ]
        },
        {
         "colorscale": [
          [
           0,
           "rgb(254, 254, 253)"
          ],
          [
           0.09090909090909091,
           "rgb(224, 224, 223)"
          ],
          [
           0.18181818181818182,
           "rgb(197, 197, 195)"
          ],
          [
           0.2727272727272727,
           "rgb(171, 171, 170)"
          ],
          [
           0.36363636363636365,
           "rgb(146, 146, 145)"
          ],
          [
           0.45454545454545453,
           "rgb(124, 123, 122)"
          ],
          [
           0.5454545454545454,
           "rgb(102, 101, 101)"
          ],
          [
           0.6363636363636364,
           "rgb(81, 80, 80)"
          ],
          [
           0.7272727272727273,
           "rgb(59, 59, 59)"
          ],
          [
           0.8181818181818182,
           "rgb(38, 38, 38)"
          ],
          [
           0.9090909090909091,
           "rgb(16, 16, 16)"
          ],
          [
           1,
           "rgb(0, 0, 0)"
          ]
         ],
         "hovertemplate": "%{hovertext}<extra></extra>",
         "hovertext": [
          [
           "A1",
           "B1",
           "C1",
           "D1",
           "E1",
           "F1"
          ],
          [
           "A2",
           "B2",
           "C2",
           "D2",
           "E2",
           "F2"
          ],
          [
           "A3",
           "B3",
           "C3",
           "D3",
           "E3",
           "F3"
          ],
          [
           "A4",
           "B4",
           "C4",
           "D4",
           "E4",
           "F4"
          ],
          [
           "A5",
           "B5",
           "C5",
           "D5",
           "E5",
           "F5"
          ],
          [
           "A6",
           "B6",
           "C6",
           "D6",
           "E6",
           "F6"
          ]
         ],
         "showscale": false,
         "text": [
          [
           "",
           "",
           "",
           "X",
           "",
           ""
          ],
          [
           "",
           "",
           "X",
           "",
           "",
           ""
          ],
          [
           "",
           "",
           "",
           "",
           "",
           ""
          ],
          [
           "",
           "",
           "",
           "",
           "",
           ""
          ],
          [
           "",
           "",
           "",
           "",
           "X",
           ""
          ],
          [
           "",
           "",
           "X",
           "o",
           "",
           ""
          ]
         ],
         "textfont": {
          "color": "black"
         },
         "texttemplate": "%{text}",
         "type": "heatmap",
         "x": [
          "A",
          "B",
          "C",
          "D",
          "E",
          "F"
         ],
         "xaxis": "x20",
         "xgap": 0.2,
         "y": [
          "1",
          "2",
          "3",
          "4",
          "5",
          "6"
         ],
         "yaxis": "y20",
         "ygap": 0.2,
         "z": [
          [
           0,
           1,
           -1,
           0,
           0,
           -1
          ],
          [
           1,
           1,
           0,
           -1,
           -1,
           -1
          ],
          [
           1,
           1,
           -1,
           -1,
           -1,
           -1
          ],
          [
           1,
           0,
           -1,
           -1,
           0,
           0
          ],
          [
           1,
           1,
           1,
           -1,
           0,
           0
          ],
          [
           -1,
           0,
           0,
           -1,
           1,
           0
          ]
         ]
        },
        {
         "colorscale": [
          [
           0,
           "rgb(254, 254, 253)"
          ],
          [
           0.09090909090909091,
           "rgb(224, 224, 223)"
          ],
          [
           0.18181818181818182,
           "rgb(197, 197, 195)"
          ],
          [
           0.2727272727272727,
           "rgb(171, 171, 170)"
          ],
          [
           0.36363636363636365,
           "rgb(146, 146, 145)"
          ],
          [
           0.45454545454545453,
           "rgb(124, 123, 122)"
          ],
          [
           0.5454545454545454,
           "rgb(102, 101, 101)"
          ],
          [
           0.6363636363636364,
           "rgb(81, 80, 80)"
          ],
          [
           0.7272727272727273,
           "rgb(59, 59, 59)"
          ],
          [
           0.8181818181818182,
           "rgb(38, 38, 38)"
          ],
          [
           0.9090909090909091,
           "rgb(16, 16, 16)"
          ],
          [
           1,
           "rgb(0, 0, 0)"
          ]
         ],
         "hovertemplate": "%{hovertext}<extra></extra>",
         "hovertext": [
          [
           "A1",
           "B1",
           "C1",
           "D1",
           "E1",
           "F1"
          ],
          [
           "A2",
           "B2",
           "C2",
           "D2",
           "E2",
           "F2"
          ],
          [
           "A3",
           "B3",
           "C3",
           "D3",
           "E3",
           "F3"
          ],
          [
           "A4",
           "B4",
           "C4",
           "D4",
           "E4",
           "F4"
          ],
          [
           "A5",
           "B5",
           "C5",
           "D5",
           "E5",
           "F5"
          ],
          [
           "A6",
           "B6",
           "C6",
           "D6",
           "E6",
           "F6"
          ]
         ],
         "showscale": false,
         "text": [
          [
           "X",
           "",
           "",
           "",
           "",
           ""
          ],
          [
           "",
           "",
           "X",
           "",
           "",
           ""
          ],
          [
           "",
           "",
           "",
           "",
           "",
           ""
          ],
          [
           "",
           "X",
           "",
           "",
           "X",
           "X"
          ],
          [
           "",
           "",
           "",
           "",
           "o",
           ""
          ],
          [
           "",
           "X",
           "X",
           "",
           "",
           "X"
          ]
         ],
         "textfont": {
          "color": "white"
         },
         "texttemplate": "%{text}",
         "type": "heatmap",
         "x": [
          "A",
          "B",
          "C",
          "D",
          "E",
          "F"
         ],
         "xaxis": "x21",
         "xgap": 0.2,
         "y": [
          "1",
          "2",
          "3",
          "4",
          "5",
          "6"
         ],
         "yaxis": "y21",
         "ygap": 0.2,
         "z": [
          [
           0,
           1,
           -1,
           0,
           0,
           -1
          ],
          [
           1,
           1,
           0,
           -1,
           -1,
           -1
          ],
          [
           1,
           1,
           1,
           -1,
           -1,
           -1
          ],
          [
           1,
           0,
           -1,
           1,
           0,
           0
          ],
          [
           1,
           1,
           1,
           1,
           1,
           0
          ],
          [
           -1,
           0,
           0,
           -1,
           1,
           0
          ]
         ]
        },
        {
         "colorscale": [
          [
           0,
           "rgb(254, 254, 253)"
          ],
          [
           0.09090909090909091,
           "rgb(224, 224, 223)"
          ],
          [
           0.18181818181818182,
           "rgb(197, 197, 195)"
          ],
          [
           0.2727272727272727,
           "rgb(171, 171, 170)"
          ],
          [
           0.36363636363636365,
           "rgb(146, 146, 145)"
          ],
          [
           0.45454545454545453,
           "rgb(124, 123, 122)"
          ],
          [
           0.5454545454545454,
           "rgb(102, 101, 101)"
          ],
          [
           0.6363636363636364,
           "rgb(81, 80, 80)"
          ],
          [
           0.7272727272727273,
           "rgb(59, 59, 59)"
          ],
          [
           0.8181818181818182,
           "rgb(38, 38, 38)"
          ],
          [
           0.9090909090909091,
           "rgb(16, 16, 16)"
          ],
          [
           1,
           "rgb(0, 0, 0)"
          ]
         ],
         "hovertemplate": "%{hovertext}<extra></extra>",
         "hovertext": [
          [
           "A1",
           "B1",
           "C1",
           "D1",
           "E1",
           "F1"
          ],
          [
           "A2",
           "B2",
           "C2",
           "D2",
           "E2",
           "F2"
          ],
          [
           "A3",
           "B3",
           "C3",
           "D3",
           "E3",
           "F3"
          ],
          [
           "A4",
           "B4",
           "C4",
           "D4",
           "E4",
           "F4"
          ],
          [
           "A5",
           "B5",
           "C5",
           "D5",
           "E5",
           "F5"
          ],
          [
           "A6",
           "B6",
           "C6",
           "D6",
           "E6",
           "F6"
          ]
         ],
         "showscale": false,
         "text": [
          [
           "",
           "",
           "",
           "X",
           "X",
           ""
          ],
          [
           "",
           "",
           "",
           "",
           "",
           ""
          ],
          [
           "",
           "",
           "",
           "",
           "",
           ""
          ],
          [
           "",
           "",
           "",
           "",
           "o",
           ""
          ],
          [
           "",
           "",
           "",
           "",
           "",
           ""
          ],
          [
           "",
           "",
           "X",
           "",
           "",
           ""
          ]
         ],
         "textfont": {
          "color": "black"
         },
         "texttemplate": "%{text}",
         "type": "heatmap",
         "x": [
          "A",
          "B",
          "C",
          "D",
          "E",
          "F"
         ],
         "xaxis": "x22",
         "xgap": 0.2,
         "y": [
          "1",
          "2",
          "3",
          "4",
          "5",
          "6"
         ],
         "yaxis": "y22",
         "ygap": 0.2,
         "z": [
          [
           0,
           1,
           -1,
           0,
           0,
           -1
          ],
          [
           1,
           1,
           0,
           -1,
           -1,
           -1
          ],
          [
           1,
           1,
           1,
           -1,
           -1,
           -1
          ],
          [
           1,
           0,
           -1,
           -1,
           -1,
           0
          ],
          [
           1,
           1,
           1,
           1,
           1,
           0
          ],
          [
           -1,
           0,
           0,
           -1,
           1,
           0
          ]
         ]
        },
        {
         "colorscale": [
          [
           0,
           "rgb(254, 254, 253)"
          ],
          [
           0.09090909090909091,
           "rgb(224, 224, 223)"
          ],
          [
           0.18181818181818182,
           "rgb(197, 197, 195)"
          ],
          [
           0.2727272727272727,
           "rgb(171, 171, 170)"
          ],
          [
           0.36363636363636365,
           "rgb(146, 146, 145)"
          ],
          [
           0.45454545454545453,
           "rgb(124, 123, 122)"
          ],
          [
           0.5454545454545454,
           "rgb(102, 101, 101)"
          ],
          [
           0.6363636363636364,
           "rgb(81, 80, 80)"
          ],
          [
           0.7272727272727273,
           "rgb(59, 59, 59)"
          ],
          [
           0.8181818181818182,
           "rgb(38, 38, 38)"
          ],
          [
           0.9090909090909091,
           "rgb(16, 16, 16)"
          ],
          [
           1,
           "rgb(0, 0, 0)"
          ]
         ],
         "hovertemplate": "%{hovertext}<extra></extra>",
         "hovertext": [
          [
           "A1",
           "B1",
           "C1",
           "D1",
           "E1",
           "F1"
          ],
          [
           "A2",
           "B2",
           "C2",
           "D2",
           "E2",
           "F2"
          ],
          [
           "A3",
           "B3",
           "C3",
           "D3",
           "E3",
           "F3"
          ],
          [
           "A4",
           "B4",
           "C4",
           "D4",
           "E4",
           "F4"
          ],
          [
           "A5",
           "B5",
           "C5",
           "D5",
           "E5",
           "F5"
          ],
          [
           "A6",
           "B6",
           "C6",
           "D6",
           "E6",
           "F6"
          ]
         ],
         "showscale": false,
         "text": [
          [
           "X",
           "",
           "",
           "o",
           "",
           ""
          ],
          [
           "",
           "",
           "X",
           "",
           "",
           ""
          ],
          [
           "",
           "",
           "",
           "",
           "",
           ""
          ],
          [
           "",
           "X",
           "",
           "",
           "",
           "X"
          ],
          [
           "",
           "",
           "",
           "",
           "",
           ""
          ],
          [
           "",
           "X",
           "X",
           "",
           "",
           "X"
          ]
         ],
         "textfont": {
          "color": "white"
         },
         "texttemplate": "%{text}",
         "type": "heatmap",
         "x": [
          "A",
          "B",
          "C",
          "D",
          "E",
          "F"
         ],
         "xaxis": "x23",
         "xgap": 0.2,
         "y": [
          "1",
          "2",
          "3",
          "4",
          "5",
          "6"
         ],
         "yaxis": "y23",
         "ygap": 0.2,
         "z": [
          [
           0,
           1,
           1,
           1,
           0,
           -1
          ],
          [
           1,
           1,
           0,
           1,
           -1,
           -1
          ],
          [
           1,
           1,
           1,
           1,
           -1,
           -1
          ],
          [
           1,
           0,
           -1,
           1,
           -1,
           0
          ],
          [
           1,
           1,
           1,
           1,
           1,
           0
          ],
          [
           -1,
           0,
           0,
           -1,
           1,
           0
          ]
         ]
        },
        {
         "colorscale": [
          [
           0,
           "rgb(254, 254, 253)"
          ],
          [
           0.09090909090909091,
           "rgb(224, 224, 223)"
          ],
          [
           0.18181818181818182,
           "rgb(197, 197, 195)"
          ],
          [
           0.2727272727272727,
           "rgb(171, 171, 170)"
          ],
          [
           0.36363636363636365,
           "rgb(146, 146, 145)"
          ],
          [
           0.45454545454545453,
           "rgb(124, 123, 122)"
          ],
          [
           0.5454545454545454,
           "rgb(102, 101, 101)"
          ],
          [
           0.6363636363636364,
           "rgb(81, 80, 80)"
          ],
          [
           0.7272727272727273,
           "rgb(59, 59, 59)"
          ],
          [
           0.8181818181818182,
           "rgb(38, 38, 38)"
          ],
          [
           0.9090909090909091,
           "rgb(16, 16, 16)"
          ],
          [
           1,
           "rgb(0, 0, 0)"
          ]
         ],
         "hovertemplate": "%{hovertext}<extra></extra>",
         "hovertext": [
          [
           "A1",
           "B1",
           "C1",
           "D1",
           "E1",
           "F1"
          ],
          [
           "A2",
           "B2",
           "C2",
           "D2",
           "E2",
           "F2"
          ],
          [
           "A3",
           "B3",
           "C3",
           "D3",
           "E3",
           "F3"
          ],
          [
           "A4",
           "B4",
           "C4",
           "D4",
           "E4",
           "F4"
          ],
          [
           "A5",
           "B5",
           "C5",
           "D5",
           "E5",
           "F5"
          ],
          [
           "A6",
           "B6",
           "C6",
           "D6",
           "E6",
           "F6"
          ]
         ],
         "showscale": false,
         "text": [
          [
           "",
           "",
           "",
           "",
           "X",
           ""
          ],
          [
           "",
           "",
           "o",
           "",
           "",
           ""
          ],
          [
           "",
           "",
           "",
           "",
           "",
           ""
          ],
          [
           "",
           "X",
           "",
           "",
           "",
           "X"
          ],
          [
           "",
           "",
           "",
           "",
           "",
           "X"
          ],
          [
           "",
           "",
           "X",
           "",
           "",
           ""
          ]
         ],
         "textfont": {
          "color": "black"
         },
         "texttemplate": "%{text}",
         "type": "heatmap",
         "x": [
          "A",
          "B",
          "C",
          "D",
          "E",
          "F"
         ],
         "xaxis": "x24",
         "xgap": 0.2,
         "y": [
          "1",
          "2",
          "3",
          "4",
          "5",
          "6"
         ],
         "yaxis": "y24",
         "ygap": 0.2,
         "z": [
          [
           0,
           1,
           1,
           1,
           0,
           -1
          ],
          [
           1,
           1,
           -1,
           -1,
           -1,
           -1
          ],
          [
           1,
           1,
           -1,
           -1,
           -1,
           -1
          ],
          [
           1,
           0,
           -1,
           1,
           -1,
           0
          ],
          [
           1,
           1,
           1,
           1,
           1,
           0
          ],
          [
           -1,
           0,
           0,
           -1,
           1,
           0
          ]
         ]
        },
        {
         "colorscale": [
          [
           0,
           "rgb(254, 254, 253)"
          ],
          [
           0.09090909090909091,
           "rgb(224, 224, 223)"
          ],
          [
           0.18181818181818182,
           "rgb(197, 197, 195)"
          ],
          [
           0.2727272727272727,
           "rgb(171, 171, 170)"
          ],
          [
           0.36363636363636365,
           "rgb(146, 146, 145)"
          ],
          [
           0.45454545454545453,
           "rgb(124, 123, 122)"
          ],
          [
           0.5454545454545454,
           "rgb(102, 101, 101)"
          ],
          [
           0.6363636363636364,
           "rgb(81, 80, 80)"
          ],
          [
           0.7272727272727273,
           "rgb(59, 59, 59)"
          ],
          [
           0.8181818181818182,
           "rgb(38, 38, 38)"
          ],
          [
           0.9090909090909091,
           "rgb(16, 16, 16)"
          ],
          [
           1,
           "rgb(0, 0, 0)"
          ]
         ],
         "hovertemplate": "%{hovertext}<extra></extra>",
         "hovertext": [
          [
           "A1",
           "B1",
           "C1",
           "D1",
           "E1",
           "F1"
          ],
          [
           "A2",
           "B2",
           "C2",
           "D2",
           "E2",
           "F2"
          ],
          [
           "A3",
           "B3",
           "C3",
           "D3",
           "E3",
           "F3"
          ],
          [
           "A4",
           "B4",
           "C4",
           "D4",
           "E4",
           "F4"
          ],
          [
           "A5",
           "B5",
           "C5",
           "D5",
           "E5",
           "F5"
          ],
          [
           "A6",
           "B6",
           "C6",
           "D6",
           "E6",
           "F6"
          ]
         ],
         "showscale": false,
         "text": [
          [
           "X",
           "",
           "",
           "",
           "",
           ""
          ],
          [
           "",
           "",
           "",
           "",
           "",
           ""
          ],
          [
           "",
           "",
           "",
           "",
           "",
           ""
          ],
          [
           "",
           "X",
           "",
           "",
           "",
           "X"
          ],
          [
           "",
           "",
           "",
           "",
           "",
           "o"
          ],
          [
           "",
           "X",
           "X",
           "",
           "",
           "X"
          ]
         ],
         "textfont": {
          "color": "white"
         },
         "texttemplate": "%{text}",
         "type": "heatmap",
         "x": [
          "A",
          "B",
          "C",
          "D",
          "E",
          "F"
         ],
         "xaxis": "x25",
         "xgap": 0.2,
         "y": [
          "1",
          "2",
          "3",
          "4",
          "5",
          "6"
         ],
         "yaxis": "y25",
         "ygap": 0.2,
         "z": [
          [
           0,
           1,
           1,
           1,
           0,
           -1
          ],
          [
           1,
           1,
           1,
           -1,
           -1,
           -1
          ],
          [
           1,
           1,
           -1,
           1,
           -1,
           -1
          ],
          [
           1,
           0,
           -1,
           1,
           1,
           0
          ],
          [
           1,
           1,
           1,
           1,
           1,
           1
          ],
          [
           -1,
           0,
           0,
           -1,
           1,
           0
          ]
         ]
        },
        {
         "colorscale": [
          [
           0,
           "rgb(254, 254, 253)"
          ],
          [
           0.09090909090909091,
           "rgb(224, 224, 223)"
          ],
          [
           0.18181818181818182,
           "rgb(197, 197, 195)"
          ],
          [
           0.2727272727272727,
           "rgb(171, 171, 170)"
          ],
          [
           0.36363636363636365,
           "rgb(146, 146, 145)"
          ],
          [
           0.45454545454545453,
           "rgb(124, 123, 122)"
          ],
          [
           0.5454545454545454,
           "rgb(102, 101, 101)"
          ],
          [
           0.6363636363636364,
           "rgb(81, 80, 80)"
          ],
          [
           0.7272727272727273,
           "rgb(59, 59, 59)"
          ],
          [
           0.8181818181818182,
           "rgb(38, 38, 38)"
          ],
          [
           0.9090909090909091,
           "rgb(16, 16, 16)"
          ],
          [
           1,
           "rgb(0, 0, 0)"
          ]
         ],
         "hovertemplate": "%{hovertext}<extra></extra>",
         "hovertext": [
          [
           "A1",
           "B1",
           "C1",
           "D1",
           "E1",
           "F1"
          ],
          [
           "A2",
           "B2",
           "C2",
           "D2",
           "E2",
           "F2"
          ],
          [
           "A3",
           "B3",
           "C3",
           "D3",
           "E3",
           "F3"
          ],
          [
           "A4",
           "B4",
           "C4",
           "D4",
           "E4",
           "F4"
          ],
          [
           "A5",
           "B5",
           "C5",
           "D5",
           "E5",
           "F5"
          ],
          [
           "A6",
           "B6",
           "C6",
           "D6",
           "E6",
           "F6"
          ]
         ],
         "showscale": false,
         "text": [
          [
           "",
           "",
           "",
           "",
           "X",
           ""
          ],
          [
           "",
           "",
           "",
           "",
           "",
           ""
          ],
          [
           "",
           "",
           "",
           "",
           "",
           ""
          ],
          [
           "",
           "X",
           "",
           "",
           "",
           "X"
          ],
          [
           "",
           "",
           "",
           "",
           "",
           ""
          ],
          [
           "",
           "",
           "",
           "",
           "",
           "o"
          ]
         ],
         "textfont": {
          "color": "black"
         },
         "texttemplate": "%{text}",
         "type": "heatmap",
         "x": [
          "A",
          "B",
          "C",
          "D",
          "E",
          "F"
         ],
         "xaxis": "x26",
         "xgap": 0.2,
         "y": [
          "1",
          "2",
          "3",
          "4",
          "5",
          "6"
         ],
         "yaxis": "y26",
         "ygap": 0.2,
         "z": [
          [
           0,
           1,
           1,
           1,
           0,
           -1
          ],
          [
           1,
           1,
           1,
           -1,
           -1,
           -1
          ],
          [
           1,
           1,
           -1,
           1,
           -1,
           -1
          ],
          [
           1,
           0,
           -1,
           -1,
           1,
           0
          ],
          [
           1,
           1,
           1,
           1,
           -1,
           1
          ],
          [
           -1,
           0,
           0,
           -1,
           -1,
           -1
          ]
         ]
        },
        {
         "colorscale": [
          [
           0,
           "rgb(254, 254, 253)"
          ],
          [
           0.09090909090909091,
           "rgb(224, 224, 223)"
          ],
          [
           0.18181818181818182,
           "rgb(197, 197, 195)"
          ],
          [
           0.2727272727272727,
           "rgb(171, 171, 170)"
          ],
          [
           0.36363636363636365,
           "rgb(146, 146, 145)"
          ],
          [
           0.45454545454545453,
           "rgb(124, 123, 122)"
          ],
          [
           0.5454545454545454,
           "rgb(102, 101, 101)"
          ],
          [
           0.6363636363636364,
           "rgb(81, 80, 80)"
          ],
          [
           0.7272727272727273,
           "rgb(59, 59, 59)"
          ],
          [
           0.8181818181818182,
           "rgb(38, 38, 38)"
          ],
          [
           0.9090909090909091,
           "rgb(16, 16, 16)"
          ],
          [
           1,
           "rgb(0, 0, 0)"
          ]
         ],
         "hovertemplate": "%{hovertext}<extra></extra>",
         "hovertext": [
          [
           "A1",
           "B1",
           "C1",
           "D1",
           "E1",
           "F1"
          ],
          [
           "A2",
           "B2",
           "C2",
           "D2",
           "E2",
           "F2"
          ],
          [
           "A3",
           "B3",
           "C3",
           "D3",
           "E3",
           "F3"
          ],
          [
           "A4",
           "B4",
           "C4",
           "D4",
           "E4",
           "F4"
          ],
          [
           "A5",
           "B5",
           "C5",
           "D5",
           "E5",
           "F5"
          ],
          [
           "A6",
           "B6",
           "C6",
           "D6",
           "E6",
           "F6"
          ]
         ],
         "showscale": false,
         "text": [
          [
           "X",
           "",
           "",
           "",
           "X",
           ""
          ],
          [
           "",
           "",
           "",
           "",
           "",
           ""
          ],
          [
           "",
           "",
           "",
           "",
           "",
           ""
          ],
          [
           "",
           "X",
           "",
           "",
           "",
           "o"
          ],
          [
           "",
           "",
           "",
           "",
           "",
           ""
          ],
          [
           "",
           "X",
           "X",
           "",
           "",
           ""
          ]
         ],
         "textfont": {
          "color": "white"
         },
         "texttemplate": "%{text}",
         "type": "heatmap",
         "x": [
          "A",
          "B",
          "C",
          "D",
          "E",
          "F"
         ],
         "xaxis": "x27",
         "xgap": 0.2,
         "y": [
          "1",
          "2",
          "3",
          "4",
          "5",
          "6"
         ],
         "yaxis": "y27",
         "ygap": 0.2,
         "z": [
          [
           0,
           1,
           1,
           1,
           0,
           -1
          ],
          [
           1,
           1,
           1,
           1,
           -1,
           -1
          ],
          [
           1,
           1,
           -1,
           1,
           1,
           -1
          ],
          [
           1,
           0,
           -1,
           -1,
           1,
           1
          ],
          [
           1,
           1,
           1,
           1,
           -1,
           1
          ],
          [
           -1,
           0,
           0,
           -1,
           -1,
           -1
          ]
         ]
        },
        {
         "colorscale": [
          [
           0,
           "rgb(254, 254, 253)"
          ],
          [
           0.09090909090909091,
           "rgb(224, 224, 223)"
          ],
          [
           0.18181818181818182,
           "rgb(197, 197, 195)"
          ],
          [
           0.2727272727272727,
           "rgb(171, 171, 170)"
          ],
          [
           0.36363636363636365,
           "rgb(146, 146, 145)"
          ],
          [
           0.45454545454545453,
           "rgb(124, 123, 122)"
          ],
          [
           0.5454545454545454,
           "rgb(102, 101, 101)"
          ],
          [
           0.6363636363636364,
           "rgb(81, 80, 80)"
          ],
          [
           0.7272727272727273,
           "rgb(59, 59, 59)"
          ],
          [
           0.8181818181818182,
           "rgb(38, 38, 38)"
          ],
          [
           0.9090909090909091,
           "rgb(16, 16, 16)"
          ],
          [
           1,
           "rgb(0, 0, 0)"
          ]
         ],
         "hovertemplate": "%{hovertext}<extra></extra>",
         "hovertext": [
          [
           "A1",
           "B1",
           "C1",
           "D1",
           "E1",
           "F1"
          ],
          [
           "A2",
           "B2",
           "C2",
           "D2",
           "E2",
           "F2"
          ],
          [
           "A3",
           "B3",
           "C3",
           "D3",
           "E3",
           "F3"
          ],
          [
           "A4",
           "B4",
           "C4",
           "D4",
           "E4",
           "F4"
          ],
          [
           "A5",
           "B5",
           "C5",
           "D5",
           "E5",
           "F5"
          ],
          [
           "A6",
           "B6",
           "C6",
           "D6",
           "E6",
           "F6"
          ]
         ],
         "showscale": false,
         "text": [
          [
           "",
           "",
           "",
           "",
           "X",
           ""
          ],
          [
           "",
           "",
           "",
           "",
           "",
           ""
          ],
          [
           "",
           "",
           "",
           "",
           "",
           ""
          ],
          [
           "",
           "X",
           "",
           "",
           "",
           ""
          ],
          [
           "",
           "",
           "",
           "",
           "",
           ""
          ],
          [
           "",
           "o",
           "X",
           "",
           "",
           ""
          ]
         ],
         "textfont": {
          "color": "black"
         },
         "texttemplate": "%{text}",
         "type": "heatmap",
         "x": [
          "A",
          "B",
          "C",
          "D",
          "E",
          "F"
         ],
         "xaxis": "x28",
         "xgap": 0.2,
         "y": [
          "1",
          "2",
          "3",
          "4",
          "5",
          "6"
         ],
         "yaxis": "y28",
         "ygap": 0.2,
         "z": [
          [
           0,
           1,
           1,
           1,
           0,
           -1
          ],
          [
           1,
           1,
           1,
           1,
           -1,
           -1
          ],
          [
           1,
           1,
           -1,
           1,
           1,
           -1
          ],
          [
           1,
           0,
           -1,
           -1,
           1,
           1
          ],
          [
           1,
           1,
           -1,
           1,
           -1,
           1
          ],
          [
           -1,
           -1,
           0,
           -1,
           -1,
           -1
          ]
         ]
        },
        {
         "colorscale": [
          [
           0,
           "rgb(254, 254, 253)"
          ],
          [
           0.09090909090909091,
           "rgb(224, 224, 223)"
          ],
          [
           0.18181818181818182,
           "rgb(197, 197, 195)"
          ],
          [
           0.2727272727272727,
           "rgb(171, 171, 170)"
          ],
          [
           0.36363636363636365,
           "rgb(146, 146, 145)"
          ],
          [
           0.45454545454545453,
           "rgb(124, 123, 122)"
          ],
          [
           0.5454545454545454,
           "rgb(102, 101, 101)"
          ],
          [
           0.6363636363636364,
           "rgb(81, 80, 80)"
          ],
          [
           0.7272727272727273,
           "rgb(59, 59, 59)"
          ],
          [
           0.8181818181818182,
           "rgb(38, 38, 38)"
          ],
          [
           0.9090909090909091,
           "rgb(16, 16, 16)"
          ],
          [
           1,
           "rgb(0, 0, 0)"
          ]
         ],
         "hovertemplate": "%{hovertext}<extra></extra>",
         "hovertext": [
          [
           "A1",
           "B1",
           "C1",
           "D1",
           "E1",
           "F1"
          ],
          [
           "A2",
           "B2",
           "C2",
           "D2",
           "E2",
           "F2"
          ],
          [
           "A3",
           "B3",
           "C3",
           "D3",
           "E3",
           "F3"
          ],
          [
           "A4",
           "B4",
           "C4",
           "D4",
           "E4",
           "F4"
          ],
          [
           "A5",
           "B5",
           "C5",
           "D5",
           "E5",
           "F5"
          ],
          [
           "A6",
           "B6",
           "C6",
           "D6",
           "E6",
           "F6"
          ]
         ],
         "showscale": false,
         "text": [
          [
           "X",
           "",
           "",
           "",
           "",
           ""
          ],
          [
           "",
           "",
           "",
           "",
           "",
           ""
          ],
          [
           "",
           "",
           "",
           "",
           "",
           ""
          ],
          [
           "",
           "o",
           "",
           "",
           "",
           ""
          ],
          [
           "",
           "",
           "",
           "",
           "",
           ""
          ],
          [
           "",
           "",
           "X",
           "",
           "",
           ""
          ]
         ],
         "textfont": {
          "color": "white"
         },
         "texttemplate": "%{text}",
         "type": "heatmap",
         "x": [
          "A",
          "B",
          "C",
          "D",
          "E",
          "F"
         ],
         "xaxis": "x29",
         "xgap": 0.2,
         "y": [
          "1",
          "2",
          "3",
          "4",
          "5",
          "6"
         ],
         "yaxis": "y29",
         "ygap": 0.2,
         "z": [
          [
           0,
           1,
           1,
           1,
           0,
           -1
          ],
          [
           1,
           1,
           1,
           1,
           -1,
           -1
          ],
          [
           1,
           1,
           1,
           1,
           1,
           -1
          ],
          [
           1,
           1,
           1,
           1,
           1,
           1
          ],
          [
           1,
           1,
           -1,
           1,
           -1,
           1
          ],
          [
           -1,
           -1,
           0,
           -1,
           -1,
           -1
          ]
         ]
        },
        {
         "colorscale": [
          [
           0,
           "rgb(254, 254, 253)"
          ],
          [
           0.09090909090909091,
           "rgb(224, 224, 223)"
          ],
          [
           0.18181818181818182,
           "rgb(197, 197, 195)"
          ],
          [
           0.2727272727272727,
           "rgb(171, 171, 170)"
          ],
          [
           0.36363636363636365,
           "rgb(146, 146, 145)"
          ],
          [
           0.45454545454545453,
           "rgb(124, 123, 122)"
          ],
          [
           0.5454545454545454,
           "rgb(102, 101, 101)"
          ],
          [
           0.6363636363636364,
           "rgb(81, 80, 80)"
          ],
          [
           0.7272727272727273,
           "rgb(59, 59, 59)"
          ],
          [
           0.8181818181818182,
           "rgb(38, 38, 38)"
          ],
          [
           0.9090909090909091,
           "rgb(16, 16, 16)"
          ],
          [
           1,
           "rgb(0, 0, 0)"
          ]
         ],
         "hovertemplate": "%{hovertext}<extra></extra>",
         "hovertext": [
          [
           "A1",
           "B1",
           "C1",
           "D1",
           "E1",
           "F1"
          ],
          [
           "A2",
           "B2",
           "C2",
           "D2",
           "E2",
           "F2"
          ],
          [
           "A3",
           "B3",
           "C3",
           "D3",
           "E3",
           "F3"
          ],
          [
           "A4",
           "B4",
           "C4",
           "D4",
           "E4",
           "F4"
          ],
          [
           "A5",
           "B5",
           "C5",
           "D5",
           "E5",
           "F5"
          ],
          [
           "A6",
           "B6",
           "C6",
           "D6",
           "E6",
           "F6"
          ]
         ],
         "showscale": false,
         "text": [
          [
           "",
           "",
           "",
           "",
           "X",
           ""
          ],
          [
           "",
           "",
           "",
           "",
           "",
           ""
          ],
          [
           "",
           "",
           "",
           "",
           "",
           ""
          ],
          [
           "",
           "",
           "",
           "",
           "",
           ""
          ],
          [
           "",
           "",
           "",
           "",
           "",
           ""
          ],
          [
           "",
           "",
           "o",
           "",
           "",
           ""
          ]
         ],
         "textfont": {
          "color": "black"
         },
         "texttemplate": "%{text}",
         "type": "heatmap",
         "x": [
          "A",
          "B",
          "C",
          "D",
          "E",
          "F"
         ],
         "xaxis": "x30",
         "xgap": 0.2,
         "y": [
          "1",
          "2",
          "3",
          "4",
          "5",
          "6"
         ],
         "yaxis": "y30",
         "ygap": 0.2,
         "z": [
          [
           0,
           1,
           1,
           1,
           0,
           -1
          ],
          [
           1,
           1,
           1,
           1,
           -1,
           -1
          ],
          [
           1,
           1,
           1,
           1,
           1,
           -1
          ],
          [
           1,
           1,
           1,
           1,
           -1,
           1
          ],
          [
           1,
           1,
           -1,
           -1,
           -1,
           1
          ],
          [
           -1,
           -1,
           -1,
           -1,
           -1,
           -1
          ]
         ]
        },
        {
         "colorscale": [
          [
           0,
           "rgb(254, 254, 253)"
          ],
          [
           0.09090909090909091,
           "rgb(224, 224, 223)"
          ],
          [
           0.18181818181818182,
           "rgb(197, 197, 195)"
          ],
          [
           0.2727272727272727,
           "rgb(171, 171, 170)"
          ],
          [
           0.36363636363636365,
           "rgb(146, 146, 145)"
          ],
          [
           0.45454545454545453,
           "rgb(124, 123, 122)"
          ],
          [
           0.5454545454545454,
           "rgb(102, 101, 101)"
          ],
          [
           0.6363636363636364,
           "rgb(81, 80, 80)"
          ],
          [
           0.7272727272727273,
           "rgb(59, 59, 59)"
          ],
          [
           0.8181818181818182,
           "rgb(38, 38, 38)"
          ],
          [
           0.9090909090909091,
           "rgb(16, 16, 16)"
          ],
          [
           1,
           "rgb(0, 0, 0)"
          ]
         ],
         "hovertemplate": "%{hovertext}<extra></extra>",
         "hovertext": [
          [
           "A1",
           "B1",
           "C1",
           "D1",
           "E1",
           "F1"
          ],
          [
           "A2",
           "B2",
           "C2",
           "D2",
           "E2",
           "F2"
          ],
          [
           "A3",
           "B3",
           "C3",
           "D3",
           "E3",
           "F3"
          ],
          [
           "A4",
           "B4",
           "C4",
           "D4",
           "E4",
           "F4"
          ],
          [
           "A5",
           "B5",
           "C5",
           "D5",
           "E5",
           "F5"
          ],
          [
           "A6",
           "B6",
           "C6",
           "D6",
           "E6",
           "F6"
          ]
         ],
         "showscale": false,
         "text": [
          [
           "X",
           "",
           "",
           "",
           "o",
           ""
          ],
          [
           "",
           "",
           "",
           "",
           "",
           ""
          ],
          [
           "",
           "",
           "",
           "",
           "",
           ""
          ],
          [
           "",
           "",
           "",
           "",
           "",
           ""
          ],
          [
           "",
           "",
           "",
           "",
           "",
           ""
          ],
          [
           "",
           "",
           "",
           "",
           "",
           ""
          ]
         ],
         "textfont": {
          "color": "white"
         },
         "texttemplate": "%{text}",
         "type": "heatmap",
         "x": [
          "A",
          "B",
          "C",
          "D",
          "E",
          "F"
         ],
         "xaxis": "x31",
         "xgap": 0.2,
         "y": [
          "1",
          "2",
          "3",
          "4",
          "5",
          "6"
         ],
         "yaxis": "y31",
         "ygap": 0.2,
         "z": [
          [
           0,
           1,
           1,
           1,
           1,
           -1
          ],
          [
           1,
           1,
           1,
           1,
           1,
           -1
          ],
          [
           1,
           1,
           1,
           1,
           1,
           -1
          ],
          [
           1,
           1,
           1,
           1,
           -1,
           1
          ],
          [
           1,
           1,
           -1,
           -1,
           -1,
           1
          ],
          [
           -1,
           -1,
           -1,
           -1,
           -1,
           -1
          ]
         ]
        },
        {
         "colorscale": [
          [
           0,
           "rgb(254, 254, 253)"
          ],
          [
           0.09090909090909091,
           "rgb(224, 224, 223)"
          ],
          [
           0.18181818181818182,
           "rgb(197, 197, 195)"
          ],
          [
           0.2727272727272727,
           "rgb(171, 171, 170)"
          ],
          [
           0.36363636363636365,
           "rgb(146, 146, 145)"
          ],
          [
           0.45454545454545453,
           "rgb(124, 123, 122)"
          ],
          [
           0.5454545454545454,
           "rgb(102, 101, 101)"
          ],
          [
           0.6363636363636364,
           "rgb(81, 80, 80)"
          ],
          [
           0.7272727272727273,
           "rgb(59, 59, 59)"
          ],
          [
           0.8181818181818182,
           "rgb(38, 38, 38)"
          ],
          [
           0.9090909090909091,
           "rgb(16, 16, 16)"
          ],
          [
           1,
           "rgb(0, 0, 0)"
          ]
         ],
         "hovertemplate": "%{hovertext}<extra></extra>",
         "hovertext": [
          [
           "A1",
           "B1",
           "C1",
           "D1",
           "E1",
           "F1"
          ],
          [
           "A2",
           "B2",
           "C2",
           "D2",
           "E2",
           "F2"
          ],
          [
           "A3",
           "B3",
           "C3",
           "D3",
           "E3",
           "F3"
          ],
          [
           "A4",
           "B4",
           "C4",
           "D4",
           "E4",
           "F4"
          ],
          [
           "A5",
           "B5",
           "C5",
           "D5",
           "E5",
           "F5"
          ],
          [
           "A6",
           "B6",
           "C6",
           "D6",
           "E6",
           "F6"
          ]
         ],
         "showscale": false,
         "text": [
          [
           "o",
           "",
           "",
           "",
           "",
           ""
          ],
          [
           "",
           "",
           "",
           "",
           "",
           ""
          ],
          [
           "",
           "",
           "",
           "",
           "",
           ""
          ],
          [
           "",
           "",
           "",
           "",
           "",
           ""
          ],
          [
           "",
           "",
           "",
           "",
           "",
           ""
          ],
          [
           "",
           "",
           "",
           "",
           "",
           ""
          ]
         ],
         "textfont": {
          "color": "black"
         },
         "texttemplate": "%{text}",
         "type": "heatmap",
         "x": [
          "A",
          "B",
          "C",
          "D",
          "E",
          "F"
         ],
         "xaxis": "x32",
         "xgap": 0.2,
         "y": [
          "1",
          "2",
          "3",
          "4",
          "5",
          "6"
         ],
         "yaxis": "y32",
         "ygap": 0.2,
         "z": [
          [
           -1,
           -1,
           -1,
           -1,
           -1,
           -1
          ],
          [
           -1,
           -1,
           1,
           1,
           1,
           -1
          ],
          [
           -1,
           1,
           -1,
           1,
           1,
           -1
          ],
          [
           -1,
           1,
           1,
           -1,
           -1,
           1
          ],
          [
           -1,
           1,
           -1,
           -1,
           -1,
           1
          ],
          [
           -1,
           -1,
           -1,
           -1,
           -1,
           -1
          ]
         ]
        }
       ],
       "layout": {
        "annotations": [
         {
          "font": {
           "size": 18
          },
          "showarrow": false,
          "text": "1. D2",
          "x": 0.0515625,
          "xanchor": "center",
          "xref": "paper",
          "y": 1,
          "yanchor": "bottom",
          "yref": "paper"
         },
         {
          "font": {
           "size": 18
          },
          "showarrow": false,
          "text": "2. E2",
          "x": 0.1796875,
          "xanchor": "center",
          "xref": "paper",
          "y": 1,
          "yanchor": "bottom",
          "yref": "paper"
         },
         {
          "font": {
           "size": 18
          },
          "showarrow": false,
          "text": "3. F2",
          "x": 0.3078125,
          "xanchor": "center",
          "xref": "paper",
          "y": 1,
          "yanchor": "bottom",
          "yref": "paper"
         },
         {
          "font": {
           "size": 18
          },
          "showarrow": false,
          "text": "4. F1",
          "x": 0.4359375,
          "xanchor": "center",
          "xref": "paper",
          "y": 1,
          "yanchor": "bottom",
          "yref": "paper"
         },
         {
          "font": {
           "size": 18
          },
          "showarrow": false,
          "text": "5. E3",
          "x": 0.5640624999999999,
          "xanchor": "center",
          "xref": "paper",
          "y": 1,
          "yanchor": "bottom",
          "yref": "paper"
         },
         {
          "font": {
           "size": 18
          },
          "showarrow": false,
          "text": "6. F3",
          "x": 0.6921875,
          "xanchor": "center",
          "xref": "paper",
          "y": 1,
          "yanchor": "bottom",
          "yref": "paper"
         },
         {
          "font": {
           "size": 18
          },
          "showarrow": false,
          "text": "7. B5",
          "x": 0.8203125,
          "xanchor": "center",
          "xref": "paper",
          "y": 1,
          "yanchor": "bottom",
          "yref": "paper"
         },
         {
          "font": {
           "size": 18
          },
          "showarrow": false,
          "text": "8. B3",
          "x": 0.9484375,
          "xanchor": "center",
          "xref": "paper",
          "y": 1,
          "yanchor": "bottom",
          "yref": "paper"
         },
         {
          "font": {
           "size": 18
          },
          "showarrow": false,
          "text": "9. A2",
          "x": 0.0515625,
          "xanchor": "center",
          "xref": "paper",
          "y": 0.71875,
          "yanchor": "bottom",
          "yref": "paper"
         },
         {
          "font": {
           "size": 18
          },
          "showarrow": false,
          "text": "10. C1",
          "x": 0.1796875,
          "xanchor": "center",
          "xref": "paper",
          "y": 0.71875,
          "yanchor": "bottom",
          "yref": "paper"
         },
         {
          "font": {
           "size": 18
          },
          "showarrow": false,
          "text": "11. B2",
          "x": 0.3078125,
          "xanchor": "center",
          "xref": "paper",
          "y": 0.71875,
          "yanchor": "bottom",
          "yref": "paper"
         },
         {
          "font": {
           "size": 18
          },
          "showarrow": false,
          "text": "12. A3",
          "x": 0.4359375,
          "xanchor": "center",
          "xref": "paper",
          "y": 0.71875,
          "yanchor": "bottom",
          "yref": "paper"
         },
         {
          "font": {
           "size": 18
          },
          "showarrow": false,
          "text": "13. A4",
          "x": 0.5640624999999999,
          "xanchor": "center",
          "xref": "paper",
          "y": 0.71875,
          "yanchor": "bottom",
          "yref": "paper"
         },
         {
          "font": {
           "size": 18
          },
          "showarrow": false,
          "text": "14. D5",
          "x": 0.6921875,
          "xanchor": "center",
          "xref": "paper",
          "y": 0.71875,
          "yanchor": "bottom",
          "yref": "paper"
         },
         {
          "font": {
           "size": 18
          },
          "showarrow": false,
          "text": "15. E6",
          "x": 0.8203125,
          "xanchor": "center",
          "xref": "paper",
          "y": 0.71875,
          "yanchor": "bottom",
          "yref": "paper"
         },
         {
          "font": {
           "size": 18
          },
          "showarrow": false,
          "text": "16. C5",
          "x": 0.9484375,
          "xanchor": "center",
          "xref": "paper",
          "y": 0.71875,
          "yanchor": "bottom",
          "yref": "paper"
         },
         {
          "font": {
           "size": 18
          },
          "showarrow": false,
          "text": "17. B1",
          "x": 0.0515625,
          "xanchor": "center",
          "xref": "paper",
          "y": 0.4375,
          "yanchor": "bottom",
          "yref": "paper"
         },
         {
          "font": {
           "size": 18
          },
          "showarrow": false,
          "text": "18. A6",
          "x": 0.1796875,
          "xanchor": "center",
          "xref": "paper",
          "y": 0.4375,
          "yanchor": "bottom",
          "yref": "paper"
         },
         {
          "font": {
           "size": 18
          },
          "showarrow": false,
          "text": "19. A5",
          "x": 0.3078125,
          "xanchor": "center",
          "xref": "paper",
          "y": 0.4375,
          "yanchor": "bottom",
          "yref": "paper"
         },
         {
          "font": {
           "size": 18
          },
          "showarrow": false,
          "text": "20. D6",
          "x": 0.4359375,
          "xanchor": "center",
          "xref": "paper",
          "y": 0.4375,
          "yanchor": "bottom",
          "yref": "paper"
         },
         {
          "font": {
           "size": 18
          },
          "showarrow": false,
          "text": "21. E5",
          "x": 0.5640624999999999,
          "xanchor": "center",
          "xref": "paper",
          "y": 0.4375,
          "yanchor": "bottom",
          "yref": "paper"
         },
         {
          "font": {
           "size": 18
          },
          "showarrow": false,
          "text": "22. E4",
          "x": 0.6921875,
          "xanchor": "center",
          "xref": "paper",
          "y": 0.4375,
          "yanchor": "bottom",
          "yref": "paper"
         },
         {
          "font": {
           "size": 18
          },
          "showarrow": false,
          "text": "23. D1",
          "x": 0.8203125,
          "xanchor": "center",
          "xref": "paper",
          "y": 0.4375,
          "yanchor": "bottom",
          "yref": "paper"
         },
         {
          "font": {
           "size": 18
          },
          "showarrow": false,
          "text": "24. C2",
          "x": 0.9484375,
          "xanchor": "center",
          "xref": "paper",
          "y": 0.4375,
          "yanchor": "bottom",
          "yref": "paper"
         },
         {
          "font": {
           "size": 18
          },
          "showarrow": false,
          "text": "25. F5",
          "x": 0.0515625,
          "xanchor": "center",
          "xref": "paper",
          "y": 0.15625,
          "yanchor": "bottom",
          "yref": "paper"
         },
         {
          "font": {
           "size": 18
          },
          "showarrow": false,
          "text": "26. F6",
          "x": 0.1796875,
          "xanchor": "center",
          "xref": "paper",
          "y": 0.15625,
          "yanchor": "bottom",
          "yref": "paper"
         },
         {
          "font": {
           "size": 18
          },
          "showarrow": false,
          "text": "27. F4",
          "x": 0.3078125,
          "xanchor": "center",
          "xref": "paper",
          "y": 0.15625,
          "yanchor": "bottom",
          "yref": "paper"
         },
         {
          "font": {
           "size": 18
          },
          "showarrow": false,
          "text": "28. B6",
          "x": 0.4359375,
          "xanchor": "center",
          "xref": "paper",
          "y": 0.15625,
          "yanchor": "bottom",
          "yref": "paper"
         },
         {
          "font": {
           "size": 18
          },
          "showarrow": false,
          "text": "29. B4",
          "x": 0.5640624999999999,
          "xanchor": "center",
          "xref": "paper",
          "y": 0.15625,
          "yanchor": "bottom",
          "yref": "paper"
         },
         {
          "font": {
           "size": 18
          },
          "showarrow": false,
          "text": "30. C6",
          "x": 0.6921875,
          "xanchor": "center",
          "xref": "paper",
          "y": 0.15625,
          "yanchor": "bottom",
          "yref": "paper"
         },
         {
          "font": {
           "size": 18
          },
          "showarrow": false,
          "text": "31. E1",
          "x": 0.8203125,
          "xanchor": "center",
          "xref": "paper",
          "y": 0.15625,
          "yanchor": "bottom",
          "yref": "paper"
         },
         {
          "font": {
           "size": 18
          },
          "showarrow": false,
          "text": "32. A1",
          "x": 0.9484375,
          "xanchor": "center",
          "xref": "paper",
          "y": 0.15625,
          "yanchor": "bottom",
          "yref": "paper"
         }
        ],
        "font": {
         "size": 9
        },
        "height": 720,
        "margin": {
         "b": 22,
         "l": 22,
         "r": 22,
         "t": 22
        },
        "template": {
         "data": {
          "bar": [
           {
            "error_x": {
             "color": "#2a3f5f"
            },
            "error_y": {
             "color": "#2a3f5f"
            },
            "marker": {
             "line": {
              "color": "#E5ECF6",
              "width": 0.5
             },
             "pattern": {
              "fillmode": "overlay",
              "size": 10,
              "solidity": 0.2
             }
            },
            "type": "bar"
           }
          ],
          "barpolar": [
           {
            "marker": {
             "line": {
              "color": "#E5ECF6",
              "width": 0.5
             },
             "pattern": {
              "fillmode": "overlay",
              "size": 10,
              "solidity": 0.2
             }
            },
            "type": "barpolar"
           }
          ],
          "carpet": [
           {
            "aaxis": {
             "endlinecolor": "#2a3f5f",
             "gridcolor": "white",
             "linecolor": "white",
             "minorgridcolor": "white",
             "startlinecolor": "#2a3f5f"
            },
            "baxis": {
             "endlinecolor": "#2a3f5f",
             "gridcolor": "white",
             "linecolor": "white",
             "minorgridcolor": "white",
             "startlinecolor": "#2a3f5f"
            },
            "type": "carpet"
           }
          ],
          "choropleth": [
           {
            "colorbar": {
             "outlinewidth": 0,
             "ticks": ""
            },
            "type": "choropleth"
           }
          ],
          "contour": [
           {
            "colorbar": {
             "outlinewidth": 0,
             "ticks": ""
            },
            "colorscale": [
             [
              0,
              "#0d0887"
             ],
             [
              0.1111111111111111,
              "#46039f"
             ],
             [
              0.2222222222222222,
              "#7201a8"
             ],
             [
              0.3333333333333333,
              "#9c179e"
             ],
             [
              0.4444444444444444,
              "#bd3786"
             ],
             [
              0.5555555555555556,
              "#d8576b"
             ],
             [
              0.6666666666666666,
              "#ed7953"
             ],
             [
              0.7777777777777778,
              "#fb9f3a"
             ],
             [
              0.8888888888888888,
              "#fdca26"
             ],
             [
              1,
              "#f0f921"
             ]
            ],
            "type": "contour"
           }
          ],
          "contourcarpet": [
           {
            "colorbar": {
             "outlinewidth": 0,
             "ticks": ""
            },
            "type": "contourcarpet"
           }
          ],
          "heatmap": [
           {
            "colorbar": {
             "outlinewidth": 0,
             "ticks": ""
            },
            "colorscale": [
             [
              0,
              "#0d0887"
             ],
             [
              0.1111111111111111,
              "#46039f"
             ],
             [
              0.2222222222222222,
              "#7201a8"
             ],
             [
              0.3333333333333333,
              "#9c179e"
             ],
             [
              0.4444444444444444,
              "#bd3786"
             ],
             [
              0.5555555555555556,
              "#d8576b"
             ],
             [
              0.6666666666666666,
              "#ed7953"
             ],
             [
              0.7777777777777778,
              "#fb9f3a"
             ],
             [
              0.8888888888888888,
              "#fdca26"
             ],
             [
              1,
              "#f0f921"
             ]
            ],
            "type": "heatmap"
           }
          ],
          "heatmapgl": [
           {
            "colorbar": {
             "outlinewidth": 0,
             "ticks": ""
            },
            "colorscale": [
             [
              0,
              "#0d0887"
             ],
             [
              0.1111111111111111,
              "#46039f"
             ],
             [
              0.2222222222222222,
              "#7201a8"
             ],
             [
              0.3333333333333333,
              "#9c179e"
             ],
             [
              0.4444444444444444,
              "#bd3786"
             ],
             [
              0.5555555555555556,
              "#d8576b"
             ],
             [
              0.6666666666666666,
              "#ed7953"
             ],
             [
              0.7777777777777778,
              "#fb9f3a"
             ],
             [
              0.8888888888888888,
              "#fdca26"
             ],
             [
              1,
              "#f0f921"
             ]
            ],
            "type": "heatmapgl"
           }
          ],
          "histogram": [
           {
            "marker": {
             "pattern": {
              "fillmode": "overlay",
              "size": 10,
              "solidity": 0.2
             }
            },
            "type": "histogram"
           }
          ],
          "histogram2d": [
           {
            "colorbar": {
             "outlinewidth": 0,
             "ticks": ""
            },
            "colorscale": [
             [
              0,
              "#0d0887"
             ],
             [
              0.1111111111111111,
              "#46039f"
             ],
             [
              0.2222222222222222,
              "#7201a8"
             ],
             [
              0.3333333333333333,
              "#9c179e"
             ],
             [
              0.4444444444444444,
              "#bd3786"
             ],
             [
              0.5555555555555556,
              "#d8576b"
             ],
             [
              0.6666666666666666,
              "#ed7953"
             ],
             [
              0.7777777777777778,
              "#fb9f3a"
             ],
             [
              0.8888888888888888,
              "#fdca26"
             ],
             [
              1,
              "#f0f921"
             ]
            ],
            "type": "histogram2d"
           }
          ],
          "histogram2dcontour": [
           {
            "colorbar": {
             "outlinewidth": 0,
             "ticks": ""
            },
            "colorscale": [
             [
              0,
              "#0d0887"
             ],
             [
              0.1111111111111111,
              "#46039f"
             ],
             [
              0.2222222222222222,
              "#7201a8"
             ],
             [
              0.3333333333333333,
              "#9c179e"
             ],
             [
              0.4444444444444444,
              "#bd3786"
             ],
             [
              0.5555555555555556,
              "#d8576b"
             ],
             [
              0.6666666666666666,
              "#ed7953"
             ],
             [
              0.7777777777777778,
              "#fb9f3a"
             ],
             [
              0.8888888888888888,
              "#fdca26"
             ],
             [
              1,
              "#f0f921"
             ]
            ],
            "type": "histogram2dcontour"
           }
          ],
          "mesh3d": [
           {
            "colorbar": {
             "outlinewidth": 0,
             "ticks": ""
            },
            "type": "mesh3d"
           }
          ],
          "parcoords": [
           {
            "line": {
             "colorbar": {
              "outlinewidth": 0,
              "ticks": ""
             }
            },
            "type": "parcoords"
           }
          ],
          "pie": [
           {
            "automargin": true,
            "type": "pie"
           }
          ],
          "scatter": [
           {
            "fillpattern": {
             "fillmode": "overlay",
             "size": 10,
             "solidity": 0.2
            },
            "type": "scatter"
           }
          ],
          "scatter3d": [
           {
            "line": {
             "colorbar": {
              "outlinewidth": 0,
              "ticks": ""
             }
            },
            "marker": {
             "colorbar": {
              "outlinewidth": 0,
              "ticks": ""
             }
            },
            "type": "scatter3d"
           }
          ],
          "scattercarpet": [
           {
            "marker": {
             "colorbar": {
              "outlinewidth": 0,
              "ticks": ""
             }
            },
            "type": "scattercarpet"
           }
          ],
          "scattergeo": [
           {
            "marker": {
             "colorbar": {
              "outlinewidth": 0,
              "ticks": ""
             }
            },
            "type": "scattergeo"
           }
          ],
          "scattergl": [
           {
            "marker": {
             "colorbar": {
              "outlinewidth": 0,
              "ticks": ""
             }
            },
            "type": "scattergl"
           }
          ],
          "scattermapbox": [
           {
            "marker": {
             "colorbar": {
              "outlinewidth": 0,
              "ticks": ""
             }
            },
            "type": "scattermapbox"
           }
          ],
          "scatterpolar": [
           {
            "marker": {
             "colorbar": {
              "outlinewidth": 0,
              "ticks": ""
             }
            },
            "type": "scatterpolar"
           }
          ],
          "scatterpolargl": [
           {
            "marker": {
             "colorbar": {
              "outlinewidth": 0,
              "ticks": ""
             }
            },
            "type": "scatterpolargl"
           }
          ],
          "scatterternary": [
           {
            "marker": {
             "colorbar": {
              "outlinewidth": 0,
              "ticks": ""
             }
            },
            "type": "scatterternary"
           }
          ],
          "surface": [
           {
            "colorbar": {
             "outlinewidth": 0,
             "ticks": ""
            },
            "colorscale": [
             [
              0,
              "#0d0887"
             ],
             [
              0.1111111111111111,
              "#46039f"
             ],
             [
              0.2222222222222222,
              "#7201a8"
             ],
             [
              0.3333333333333333,
              "#9c179e"
             ],
             [
              0.4444444444444444,
              "#bd3786"
             ],
             [
              0.5555555555555556,
              "#d8576b"
             ],
             [
              0.6666666666666666,
              "#ed7953"
             ],
             [
              0.7777777777777778,
              "#fb9f3a"
             ],
             [
              0.8888888888888888,
              "#fdca26"
             ],
             [
              1,
              "#f0f921"
             ]
            ],
            "type": "surface"
           }
          ],
          "table": [
           {
            "cells": {
             "fill": {
              "color": "#EBF0F8"
             },
             "line": {
              "color": "white"
             }
            },
            "header": {
             "fill": {
              "color": "#C8D4E3"
             },
             "line": {
              "color": "white"
             }
            },
            "type": "table"
           }
          ]
         },
         "layout": {
          "annotationdefaults": {
           "arrowcolor": "#2a3f5f",
           "arrowhead": 0,
           "arrowwidth": 1
          },
          "autotypenumbers": "strict",
          "coloraxis": {
           "colorbar": {
            "outlinewidth": 0,
            "ticks": ""
           }
          },
          "colorscale": {
           "diverging": [
            [
             0,
             "#8e0152"
            ],
            [
             0.1,
             "#c51b7d"
            ],
            [
             0.2,
             "#de77ae"
            ],
            [
             0.3,
             "#f1b6da"
            ],
            [
             0.4,
             "#fde0ef"
            ],
            [
             0.5,
             "#f7f7f7"
            ],
            [
             0.6,
             "#e6f5d0"
            ],
            [
             0.7,
             "#b8e186"
            ],
            [
             0.8,
             "#7fbc41"
            ],
            [
             0.9,
             "#4d9221"
            ],
            [
             1,
             "#276419"
            ]
           ],
           "sequential": [
            [
             0,
             "#0d0887"
            ],
            [
             0.1111111111111111,
             "#46039f"
            ],
            [
             0.2222222222222222,
             "#7201a8"
            ],
            [
             0.3333333333333333,
             "#9c179e"
            ],
            [
             0.4444444444444444,
             "#bd3786"
            ],
            [
             0.5555555555555556,
             "#d8576b"
            ],
            [
             0.6666666666666666,
             "#ed7953"
            ],
            [
             0.7777777777777778,
             "#fb9f3a"
            ],
            [
             0.8888888888888888,
             "#fdca26"
            ],
            [
             1,
             "#f0f921"
            ]
           ],
           "sequentialminus": [
            [
             0,
             "#0d0887"
            ],
            [
             0.1111111111111111,
             "#46039f"
            ],
            [
             0.2222222222222222,
             "#7201a8"
            ],
            [
             0.3333333333333333,
             "#9c179e"
            ],
            [
             0.4444444444444444,
             "#bd3786"
            ],
            [
             0.5555555555555556,
             "#d8576b"
            ],
            [
             0.6666666666666666,
             "#ed7953"
            ],
            [
             0.7777777777777778,
             "#fb9f3a"
            ],
            [
             0.8888888888888888,
             "#fdca26"
            ],
            [
             1,
             "#f0f921"
            ]
           ]
          },
          "colorway": [
           "#636efa",
           "#EF553B",
           "#00cc96",
           "#ab63fa",
           "#FFA15A",
           "#19d3f3",
           "#FF6692",
           "#B6E880",
           "#FF97FF",
           "#FECB52"
          ],
          "font": {
           "color": "#2a3f5f"
          },
          "geo": {
           "bgcolor": "white",
           "lakecolor": "white",
           "landcolor": "#E5ECF6",
           "showlakes": true,
           "showland": true,
           "subunitcolor": "white"
          },
          "hoverlabel": {
           "align": "left"
          },
          "hovermode": "closest",
          "mapbox": {
           "style": "light"
          },
          "paper_bgcolor": "white",
          "plot_bgcolor": "#E5ECF6",
          "polar": {
           "angularaxis": {
            "gridcolor": "white",
            "linecolor": "white",
            "ticks": ""
           },
           "bgcolor": "#E5ECF6",
           "radialaxis": {
            "gridcolor": "white",
            "linecolor": "white",
            "ticks": ""
           }
          },
          "scene": {
           "xaxis": {
            "backgroundcolor": "#E5ECF6",
            "gridcolor": "white",
            "gridwidth": 2,
            "linecolor": "white",
            "showbackground": true,
            "ticks": "",
            "zerolinecolor": "white"
           },
           "yaxis": {
            "backgroundcolor": "#E5ECF6",
            "gridcolor": "white",
            "gridwidth": 2,
            "linecolor": "white",
            "showbackground": true,
            "ticks": "",
            "zerolinecolor": "white"
           },
           "zaxis": {
            "backgroundcolor": "#E5ECF6",
            "gridcolor": "white",
            "gridwidth": 2,
            "linecolor": "white",
            "showbackground": true,
            "ticks": "",
            "zerolinecolor": "white"
           }
          },
          "shapedefaults": {
           "line": {
            "color": "#2a3f5f"
           }
          },
          "ternary": {
           "aaxis": {
            "gridcolor": "white",
            "linecolor": "white",
            "ticks": ""
           },
           "baxis": {
            "gridcolor": "white",
            "linecolor": "white",
            "ticks": ""
           },
           "bgcolor": "#E5ECF6",
           "caxis": {
            "gridcolor": "white",
            "linecolor": "white",
            "ticks": ""
           }
          },
          "title": {
           "x": 0.05
          },
          "xaxis": {
           "automargin": true,
           "gridcolor": "white",
           "linecolor": "white",
           "ticks": "",
           "title": {
            "standoff": 15
           },
           "zerolinecolor": "white",
           "zerolinewidth": 2
          },
          "yaxis": {
           "automargin": true,
           "gridcolor": "white",
           "linecolor": "white",
           "ticks": "",
           "title": {
            "standoff": 15
           },
           "zerolinecolor": "white",
           "zerolinewidth": 2
          }
         }
        },
        "width": 1440,
        "xaxis": {
         "anchor": "y",
         "constrain": "domain",
         "domain": [
          0,
          0.103125
         ],
         "linecolor": "black",
         "linewidth": 1,
         "mirror": true,
         "scaleanchor": "y",
         "scaleratio": 1,
         "showline": true
        },
        "xaxis10": {
         "anchor": "y10",
         "constrain": "domain",
         "domain": [
          0.128125,
          0.23124999999999998
         ],
         "linecolor": "black",
         "linewidth": 1,
         "mirror": true,
         "scaleanchor": "y",
         "scaleratio": 1,
         "showline": true
        },
        "xaxis11": {
         "anchor": "y11",
         "constrain": "domain",
         "domain": [
          0.25625,
          0.359375
         ],
         "linecolor": "black",
         "linewidth": 1,
         "mirror": true,
         "scaleanchor": "y",
         "scaleratio": 1,
         "showline": true
        },
        "xaxis12": {
         "anchor": "y12",
         "constrain": "domain",
         "domain": [
          0.38437499999999997,
          0.48749999999999993
         ],
         "linecolor": "black",
         "linewidth": 1,
         "mirror": true,
         "scaleanchor": "y",
         "scaleratio": 1,
         "showline": true
        },
        "xaxis13": {
         "anchor": "y13",
         "constrain": "domain",
         "domain": [
          0.5125,
          0.615625
         ],
         "linecolor": "black",
         "linewidth": 1,
         "mirror": true,
         "scaleanchor": "y",
         "scaleratio": 1,
         "showline": true
        },
        "xaxis14": {
         "anchor": "y14",
         "constrain": "domain",
         "domain": [
          0.640625,
          0.74375
         ],
         "linecolor": "black",
         "linewidth": 1,
         "mirror": true,
         "scaleanchor": "y",
         "scaleratio": 1,
         "showline": true
        },
        "xaxis15": {
         "anchor": "y15",
         "constrain": "domain",
         "domain": [
          0.7687499999999999,
          0.871875
         ],
         "linecolor": "black",
         "linewidth": 1,
         "mirror": true,
         "scaleanchor": "y",
         "scaleratio": 1,
         "showline": true
        },
        "xaxis16": {
         "anchor": "y16",
         "constrain": "domain",
         "domain": [
          0.896875,
          1
         ],
         "linecolor": "black",
         "linewidth": 1,
         "mirror": true,
         "scaleanchor": "y",
         "scaleratio": 1,
         "showline": true
        },
        "xaxis17": {
         "anchor": "y17",
         "constrain": "domain",
         "domain": [
          0,
          0.103125
         ],
         "linecolor": "black",
         "linewidth": 1,
         "mirror": true,
         "scaleanchor": "y",
         "scaleratio": 1,
         "showline": true
        },
        "xaxis18": {
         "anchor": "y18",
         "constrain": "domain",
         "domain": [
          0.128125,
          0.23124999999999998
         ],
         "linecolor": "black",
         "linewidth": 1,
         "mirror": true,
         "scaleanchor": "y",
         "scaleratio": 1,
         "showline": true
        },
        "xaxis19": {
         "anchor": "y19",
         "constrain": "domain",
         "domain": [
          0.25625,
          0.359375
         ],
         "linecolor": "black",
         "linewidth": 1,
         "mirror": true,
         "scaleanchor": "y",
         "scaleratio": 1,
         "showline": true
        },
        "xaxis2": {
         "anchor": "y2",
         "constrain": "domain",
         "domain": [
          0.128125,
          0.23124999999999998
         ],
         "linecolor": "black",
         "linewidth": 1,
         "mirror": true,
         "scaleanchor": "y",
         "scaleratio": 1,
         "showline": true
        },
        "xaxis20": {
         "anchor": "y20",
         "constrain": "domain",
         "domain": [
          0.38437499999999997,
          0.48749999999999993
         ],
         "linecolor": "black",
         "linewidth": 1,
         "mirror": true,
         "scaleanchor": "y",
         "scaleratio": 1,
         "showline": true
        },
        "xaxis21": {
         "anchor": "y21",
         "constrain": "domain",
         "domain": [
          0.5125,
          0.615625
         ],
         "linecolor": "black",
         "linewidth": 1,
         "mirror": true,
         "scaleanchor": "y",
         "scaleratio": 1,
         "showline": true
        },
        "xaxis22": {
         "anchor": "y22",
         "constrain": "domain",
         "domain": [
          0.640625,
          0.74375
         ],
         "linecolor": "black",
         "linewidth": 1,
         "mirror": true,
         "scaleanchor": "y",
         "scaleratio": 1,
         "showline": true
        },
        "xaxis23": {
         "anchor": "y23",
         "constrain": "domain",
         "domain": [
          0.7687499999999999,
          0.871875
         ],
         "linecolor": "black",
         "linewidth": 1,
         "mirror": true,
         "scaleanchor": "y",
         "scaleratio": 1,
         "showline": true
        },
        "xaxis24": {
         "anchor": "y24",
         "constrain": "domain",
         "domain": [
          0.896875,
          1
         ],
         "linecolor": "black",
         "linewidth": 1,
         "mirror": true,
         "scaleanchor": "y",
         "scaleratio": 1,
         "showline": true
        },
        "xaxis25": {
         "anchor": "y25",
         "constrain": "domain",
         "domain": [
          0,
          0.103125
         ],
         "linecolor": "black",
         "linewidth": 1,
         "mirror": true,
         "scaleanchor": "y",
         "scaleratio": 1,
         "showline": true
        },
        "xaxis26": {
         "anchor": "y26",
         "constrain": "domain",
         "domain": [
          0.128125,
          0.23124999999999998
         ],
         "linecolor": "black",
         "linewidth": 1,
         "mirror": true,
         "scaleanchor": "y",
         "scaleratio": 1,
         "showline": true
        },
        "xaxis27": {
         "anchor": "y27",
         "constrain": "domain",
         "domain": [
          0.25625,
          0.359375
         ],
         "linecolor": "black",
         "linewidth": 1,
         "mirror": true,
         "scaleanchor": "y",
         "scaleratio": 1,
         "showline": true
        },
        "xaxis28": {
         "anchor": "y28",
         "constrain": "domain",
         "domain": [
          0.38437499999999997,
          0.48749999999999993
         ],
         "linecolor": "black",
         "linewidth": 1,
         "mirror": true,
         "scaleanchor": "y",
         "scaleratio": 1,
         "showline": true
        },
        "xaxis29": {
         "anchor": "y29",
         "constrain": "domain",
         "domain": [
          0.5125,
          0.615625
         ],
         "linecolor": "black",
         "linewidth": 1,
         "mirror": true,
         "scaleanchor": "y",
         "scaleratio": 1,
         "showline": true
        },
        "xaxis3": {
         "anchor": "y3",
         "constrain": "domain",
         "domain": [
          0.25625,
          0.359375
         ],
         "linecolor": "black",
         "linewidth": 1,
         "mirror": true,
         "scaleanchor": "y",
         "scaleratio": 1,
         "showline": true
        },
        "xaxis30": {
         "anchor": "y30",
         "constrain": "domain",
         "domain": [
          0.640625,
          0.74375
         ],
         "linecolor": "black",
         "linewidth": 1,
         "mirror": true,
         "scaleanchor": "y",
         "scaleratio": 1,
         "showline": true
        },
        "xaxis31": {
         "anchor": "y31",
         "constrain": "domain",
         "domain": [
          0.7687499999999999,
          0.871875
         ],
         "linecolor": "black",
         "linewidth": 1,
         "mirror": true,
         "scaleanchor": "y",
         "scaleratio": 1,
         "showline": true
        },
        "xaxis32": {
         "anchor": "y32",
         "constrain": "domain",
         "domain": [
          0.896875,
          1
         ],
         "linecolor": "black",
         "linewidth": 1,
         "mirror": true,
         "scaleanchor": "y",
         "scaleratio": 1,
         "showline": true
        },
        "xaxis4": {
         "anchor": "y4",
         "constrain": "domain",
         "domain": [
          0.38437499999999997,
          0.48749999999999993
         ],
         "linecolor": "black",
         "linewidth": 1,
         "mirror": true,
         "scaleanchor": "y",
         "scaleratio": 1,
         "showline": true
        },
        "xaxis5": {
         "anchor": "y5",
         "constrain": "domain",
         "domain": [
          0.5125,
          0.615625
         ],
         "linecolor": "black",
         "linewidth": 1,
         "mirror": true,
         "scaleanchor": "y",
         "scaleratio": 1,
         "showline": true
        },
        "xaxis6": {
         "anchor": "y6",
         "constrain": "domain",
         "domain": [
          0.640625,
          0.74375
         ],
         "linecolor": "black",
         "linewidth": 1,
         "mirror": true,
         "scaleanchor": "y",
         "scaleratio": 1,
         "showline": true
        },
        "xaxis7": {
         "anchor": "y7",
         "constrain": "domain",
         "domain": [
          0.7687499999999999,
          0.871875
         ],
         "linecolor": "black",
         "linewidth": 1,
         "mirror": true,
         "scaleanchor": "y",
         "scaleratio": 1,
         "showline": true
        },
        "xaxis8": {
         "anchor": "y8",
         "constrain": "domain",
         "domain": [
          0.896875,
          1
         ],
         "linecolor": "black",
         "linewidth": 1,
         "mirror": true,
         "scaleanchor": "y",
         "scaleratio": 1,
         "showline": true
        },
        "xaxis9": {
         "anchor": "y9",
         "constrain": "domain",
         "domain": [
          0,
          0.103125
         ],
         "linecolor": "black",
         "linewidth": 1,
         "mirror": true,
         "scaleanchor": "y",
         "scaleratio": 1,
         "showline": true
        },
        "yaxis": {
         "anchor": "x",
         "autorange": "reversed",
         "constrain": "domain",
         "domain": [
          0.84375,
          1
         ],
         "linecolor": "black",
         "linewidth": 1,
         "mirror": true,
         "showline": true
        },
        "yaxis10": {
         "anchor": "x10",
         "autorange": "reversed",
         "constrain": "domain",
         "domain": [
          0.5625,
          0.71875
         ],
         "linecolor": "black",
         "linewidth": 1,
         "matches": "y9",
         "mirror": true,
         "showline": true,
         "showticklabels": false
        },
        "yaxis11": {
         "anchor": "x11",
         "autorange": "reversed",
         "constrain": "domain",
         "domain": [
          0.5625,
          0.71875
         ],
         "linecolor": "black",
         "linewidth": 1,
         "matches": "y9",
         "mirror": true,
         "showline": true,
         "showticklabels": false
        },
        "yaxis12": {
         "anchor": "x12",
         "autorange": "reversed",
         "constrain": "domain",
         "domain": [
          0.5625,
          0.71875
         ],
         "linecolor": "black",
         "linewidth": 1,
         "matches": "y9",
         "mirror": true,
         "showline": true,
         "showticklabels": false
        },
        "yaxis13": {
         "anchor": "x13",
         "autorange": "reversed",
         "constrain": "domain",
         "domain": [
          0.5625,
          0.71875
         ],
         "linecolor": "black",
         "linewidth": 1,
         "matches": "y9",
         "mirror": true,
         "showline": true,
         "showticklabels": false
        },
        "yaxis14": {
         "anchor": "x14",
         "autorange": "reversed",
         "constrain": "domain",
         "domain": [
          0.5625,
          0.71875
         ],
         "linecolor": "black",
         "linewidth": 1,
         "matches": "y9",
         "mirror": true,
         "showline": true,
         "showticklabels": false
        },
        "yaxis15": {
         "anchor": "x15",
         "autorange": "reversed",
         "constrain": "domain",
         "domain": [
          0.5625,
          0.71875
         ],
         "linecolor": "black",
         "linewidth": 1,
         "matches": "y9",
         "mirror": true,
         "showline": true,
         "showticklabels": false
        },
        "yaxis16": {
         "anchor": "x16",
         "autorange": "reversed",
         "constrain": "domain",
         "domain": [
          0.5625,
          0.71875
         ],
         "linecolor": "black",
         "linewidth": 1,
         "matches": "y9",
         "mirror": true,
         "showline": true,
         "showticklabels": false
        },
        "yaxis17": {
         "anchor": "x17",
         "autorange": "reversed",
         "constrain": "domain",
         "domain": [
          0.28125,
          0.4375
         ],
         "linecolor": "black",
         "linewidth": 1,
         "mirror": true,
         "showline": true
        },
        "yaxis18": {
         "anchor": "x18",
         "autorange": "reversed",
         "constrain": "domain",
         "domain": [
          0.28125,
          0.4375
         ],
         "linecolor": "black",
         "linewidth": 1,
         "matches": "y17",
         "mirror": true,
         "showline": true,
         "showticklabels": false
        },
        "yaxis19": {
         "anchor": "x19",
         "autorange": "reversed",
         "constrain": "domain",
         "domain": [
          0.28125,
          0.4375
         ],
         "linecolor": "black",
         "linewidth": 1,
         "matches": "y17",
         "mirror": true,
         "showline": true,
         "showticklabels": false
        },
        "yaxis2": {
         "anchor": "x2",
         "autorange": "reversed",
         "constrain": "domain",
         "domain": [
          0.84375,
          1
         ],
         "linecolor": "black",
         "linewidth": 1,
         "matches": "y",
         "mirror": true,
         "showline": true,
         "showticklabels": false
        },
        "yaxis20": {
         "anchor": "x20",
         "autorange": "reversed",
         "constrain": "domain",
         "domain": [
          0.28125,
          0.4375
         ],
         "linecolor": "black",
         "linewidth": 1,
         "matches": "y17",
         "mirror": true,
         "showline": true,
         "showticklabels": false
        },
        "yaxis21": {
         "anchor": "x21",
         "autorange": "reversed",
         "constrain": "domain",
         "domain": [
          0.28125,
          0.4375
         ],
         "linecolor": "black",
         "linewidth": 1,
         "matches": "y17",
         "mirror": true,
         "showline": true,
         "showticklabels": false
        },
        "yaxis22": {
         "anchor": "x22",
         "autorange": "reversed",
         "constrain": "domain",
         "domain": [
          0.28125,
          0.4375
         ],
         "linecolor": "black",
         "linewidth": 1,
         "matches": "y17",
         "mirror": true,
         "showline": true,
         "showticklabels": false
        },
        "yaxis23": {
         "anchor": "x23",
         "autorange": "reversed",
         "constrain": "domain",
         "domain": [
          0.28125,
          0.4375
         ],
         "linecolor": "black",
         "linewidth": 1,
         "matches": "y17",
         "mirror": true,
         "showline": true,
         "showticklabels": false
        },
        "yaxis24": {
         "anchor": "x24",
         "autorange": "reversed",
         "constrain": "domain",
         "domain": [
          0.28125,
          0.4375
         ],
         "linecolor": "black",
         "linewidth": 1,
         "matches": "y17",
         "mirror": true,
         "showline": true,
         "showticklabels": false
        },
        "yaxis25": {
         "anchor": "x25",
         "autorange": "reversed",
         "constrain": "domain",
         "domain": [
          0,
          0.15625
         ],
         "linecolor": "black",
         "linewidth": 1,
         "mirror": true,
         "showline": true
        },
        "yaxis26": {
         "anchor": "x26",
         "autorange": "reversed",
         "constrain": "domain",
         "domain": [
          0,
          0.15625
         ],
         "linecolor": "black",
         "linewidth": 1,
         "matches": "y25",
         "mirror": true,
         "showline": true,
         "showticklabels": false
        },
        "yaxis27": {
         "anchor": "x27",
         "autorange": "reversed",
         "constrain": "domain",
         "domain": [
          0,
          0.15625
         ],
         "linecolor": "black",
         "linewidth": 1,
         "matches": "y25",
         "mirror": true,
         "showline": true,
         "showticklabels": false
        },
        "yaxis28": {
         "anchor": "x28",
         "autorange": "reversed",
         "constrain": "domain",
         "domain": [
          0,
          0.15625
         ],
         "linecolor": "black",
         "linewidth": 1,
         "matches": "y25",
         "mirror": true,
         "showline": true,
         "showticklabels": false
        },
        "yaxis29": {
         "anchor": "x29",
         "autorange": "reversed",
         "constrain": "domain",
         "domain": [
          0,
          0.15625
         ],
         "linecolor": "black",
         "linewidth": 1,
         "matches": "y25",
         "mirror": true,
         "showline": true,
         "showticklabels": false
        },
        "yaxis3": {
         "anchor": "x3",
         "autorange": "reversed",
         "constrain": "domain",
         "domain": [
          0.84375,
          1
         ],
         "linecolor": "black",
         "linewidth": 1,
         "matches": "y",
         "mirror": true,
         "showline": true,
         "showticklabels": false
        },
        "yaxis30": {
         "anchor": "x30",
         "autorange": "reversed",
         "constrain": "domain",
         "domain": [
          0,
          0.15625
         ],
         "linecolor": "black",
         "linewidth": 1,
         "matches": "y25",
         "mirror": true,
         "showline": true,
         "showticklabels": false
        },
        "yaxis31": {
         "anchor": "x31",
         "autorange": "reversed",
         "constrain": "domain",
         "domain": [
          0,
          0.15625
         ],
         "linecolor": "black",
         "linewidth": 1,
         "matches": "y25",
         "mirror": true,
         "showline": true,
         "showticklabels": false
        },
        "yaxis32": {
         "anchor": "x32",
         "autorange": "reversed",
         "constrain": "domain",
         "domain": [
          0,
          0.15625
         ],
         "linecolor": "black",
         "linewidth": 1,
         "matches": "y25",
         "mirror": true,
         "showline": true,
         "showticklabels": false
        },
        "yaxis4": {
         "anchor": "x4",
         "autorange": "reversed",
         "constrain": "domain",
         "domain": [
          0.84375,
          1
         ],
         "linecolor": "black",
         "linewidth": 1,
         "matches": "y",
         "mirror": true,
         "showline": true,
         "showticklabels": false
        },
        "yaxis5": {
         "anchor": "x5",
         "autorange": "reversed",
         "constrain": "domain",
         "domain": [
          0.84375,
          1
         ],
         "linecolor": "black",
         "linewidth": 1,
         "matches": "y",
         "mirror": true,
         "showline": true,
         "showticklabels": false
        },
        "yaxis6": {
         "anchor": "x6",
         "autorange": "reversed",
         "constrain": "domain",
         "domain": [
          0.84375,
          1
         ],
         "linecolor": "black",
         "linewidth": 1,
         "matches": "y",
         "mirror": true,
         "showline": true,
         "showticklabels": false
        },
        "yaxis7": {
         "anchor": "x7",
         "autorange": "reversed",
         "constrain": "domain",
         "domain": [
          0.84375,
          1
         ],
         "linecolor": "black",
         "linewidth": 1,
         "matches": "y",
         "mirror": true,
         "showline": true,
         "showticklabels": false
        },
        "yaxis8": {
         "anchor": "x8",
         "autorange": "reversed",
         "constrain": "domain",
         "domain": [
          0.84375,
          1
         ],
         "linecolor": "black",
         "linewidth": 1,
         "matches": "y",
         "mirror": true,
         "showline": true,
         "showticklabels": false
        },
        "yaxis9": {
         "anchor": "x9",
         "autorange": "reversed",
         "constrain": "domain",
         "domain": [
          0.5625,
          0.71875
         ],
         "linecolor": "black",
         "linewidth": 1,
         "mirror": true,
         "showline": true
        }
       }
      }
     },
     "metadata": {},
     "output_type": "display_data"
    }
   ],
   "source": [
    "dataset_dict_path = data_dir / f\"othello_{n_games}_{size}\"\n",
    "\n",
    "if dataset_dict_path.exists():\n",
    "    dataset_dict = DatasetDict.load_from_disk(dataset_dict_path)\n",
    "else:\n",
    "    dataset = generate_dataset(n_games, size)\n",
    "    dataset_dict = dataset.train_test_split(test_size=0.1)\n",
    "    dataset_dict.save_to_disk(dataset_dict_path)\n",
    "\n",
    "dataset_dict[\"train\"] = dataset_dict[\"train\"].filter(lambda x: size*size not in x[\"histories\"])\n",
    "dataset_dict[\"test\"] = dataset_dict[\"test\"].filter(lambda x: size*size not in x[\"histories\"])\n",
    "dataset_dict[\"train\"] = dataset_dict[\"train\"].map(lambda x: tokenize(x[\"histories\"]))\n",
    "dataset_dict[\"test\"] = dataset_dict[\"test\"].map(lambda x: tokenize(x[\"histories\"]))\n",
    "\n",
    "plot_game(dataset_dict[\"test\"][0], subplot_size=180, n_cols=8)"
   ]
  },
  {
   "cell_type": "code",
   "execution_count": 5,
   "metadata": {},
   "outputs": [
    {
     "data": {
      "text/plain": [
       "GPTConfig(block_size=31, vocab_size=33, n_layer=8, n_head=8, n_embd=128, dropout=0.0, bias=False)"
      ]
     },
     "metadata": {},
     "output_type": "display_data"
    },
    {
     "name": "stdout",
     "output_type": "stream",
     "text": [
      "number of parameters: 1.58M\n"
     ]
    }
   ],
   "source": [
    "cfg = GPTConfig(\n",
    "    # block_size=(size * size - 4) * 2 - 1,\n",
    "    block_size=(size * size - 4) - 1,\n",
    "    # vocab_size=size * size - 4 + 2,  # pass and pad\n",
    "    vocab_size=size * size - 4 + 1,  # pad\n",
    "    n_layer=8,\n",
    "    n_head=8,\n",
    "    n_embd=128,\n",
    "    dropout= 0.0,\n",
    "    bias=False, # True: bias in Linears and LayerNorms, like GPT-2. False: a bit better and faster,\n",
    ")\n",
    "display(cfg)\n",
    "model = GPT(cfg).to(device)"
   ]
  },
  {
   "cell_type": "code",
   "execution_count": 6,
   "metadata": {},
   "outputs": [],
   "source": [
    "@dataclass\n",
    "class TransformerTrainingArgs:\n",
    "    batch_size = 32\n",
    "    epochs = 8\n",
    "    max_steps_per_epoch = 5120\n",
    "    lr = 5e-4\n",
    "    weight_decay = 1e-3\n",
    "    wandb_project: str | None = \"othello-gpt\"\n",
    "    wandb_name: str | None = None\n",
    "\n",
    "args = TransformerTrainingArgs()"
   ]
  },
  {
   "cell_type": "code",
   "execution_count": 7,
   "metadata": {},
   "outputs": [],
   "source": [
    "def pad_batch(batch: List[List[int]], max_len: int = cfg.block_size+1, pad_token_id: int = PAD_TOKEN_ID) -> Int[Tensor, \"batch max_len\"]:\n",
    "    padded_batch = t.full((len(batch), max_len), pad_token_id)\n",
    "    for i, seq in enumerate(batch):\n",
    "        padded_batch[i, -len(seq):] = t.tensor(seq)\n",
    "    return padded_batch"
   ]
  },
  {
   "cell_type": "code",
   "execution_count": 8,
   "metadata": {},
   "outputs": [
    {
     "name": "stderr",
     "output_type": "stream",
     "text": [
      "\u001b[34m\u001b[1mwandb\u001b[0m: Currently logged in as: \u001b[33malfredwong\u001b[0m (\u001b[33malfredwong-university-of-cambridge\u001b[0m). Use \u001b[1m`wandb login --relogin`\u001b[0m to force relogin\n",
      "\u001b[34m\u001b[1mwandb\u001b[0m: Using wandb-core as the SDK backend.  Please refer to https://wandb.me/wandb-core for more information.\n"
     ]
    },
    {
     "data": {
      "text/html": [
       "Tracking run with wandb version 0.19.4"
      ],
      "text/plain": [
       "<IPython.core.display.HTML object>"
      ]
     },
     "metadata": {},
     "output_type": "display_data"
    },
    {
     "data": {
      "text/html": [
       "Run data is saved locally in <code>/Users/alfredwong/Documents/code/othello-gpt/src/othello_gpt/model/wandb/run-20250128_181935-i5teoyyv</code>"
      ],
      "text/plain": [
       "<IPython.core.display.HTML object>"
      ]
     },
     "metadata": {},
     "output_type": "display_data"
    },
    {
     "data": {
      "text/html": [
       "Syncing run <strong><a href='https://wandb.ai/alfredwong-university-of-cambridge/othello-gpt/runs/i5teoyyv' target=\"_blank\">celestial-sponge-28</a></strong> to <a href='https://wandb.ai/alfredwong-university-of-cambridge/othello-gpt' target=\"_blank\">Weights & Biases</a> (<a href='https://wandb.me/developer-guide' target=\"_blank\">docs</a>)<br>"
      ],
      "text/plain": [
       "<IPython.core.display.HTML object>"
      ]
     },
     "metadata": {},
     "output_type": "display_data"
    },
    {
     "data": {
      "text/html": [
       " View project at <a href='https://wandb.ai/alfredwong-university-of-cambridge/othello-gpt' target=\"_blank\">https://wandb.ai/alfredwong-university-of-cambridge/othello-gpt</a>"
      ],
      "text/plain": [
       "<IPython.core.display.HTML object>"
      ]
     },
     "metadata": {},
     "output_type": "display_data"
    },
    {
     "data": {
      "text/html": [
       " View run at <a href='https://wandb.ai/alfredwong-university-of-cambridge/othello-gpt/runs/i5teoyyv' target=\"_blank\">https://wandb.ai/alfredwong-university-of-cambridge/othello-gpt/runs/i5teoyyv</a>"
      ],
      "text/plain": [
       "<IPython.core.display.HTML object>"
      ]
     },
     "metadata": {},
     "output_type": "display_data"
    },
    {
     "name": "stderr",
     "output_type": "stream",
     "text": [
      "  0%|          | 0/40960 [00:00<?, ?it/s]/Users/alfredwong/Documents/code/othello-gpt/.venv/lib/python3.12/site-packages/torch/utils/data/dataloader.py:682: UserWarning:\n",
      "\n",
      "'pin_memory' argument is set as true but not supported on MPS now, then device pinned memory won't be used.\n",
      "\n",
      "Evaluating: 100%|██████████| 1816/1816 [00:11<00:00, 158.20it/s] [01:50<12:20, 48.41it/s]\n",
      "Evaluating: 100%|██████████| 1816/1816 [00:11<00:00, 158.74it/s]960 [03:51<10:42, 47.84it/s] \n",
      "Evaluating: 100%|██████████| 1816/1816 [00:11<00:00, 162.78it/s]960 [05:51<09:02, 47.15it/s]  \n",
      "Evaluating: 100%|██████████| 1816/1816 [00:11<00:00, 162.72it/s]960 [08:03<07:08, 47.79it/s]  \n",
      "Evaluating: 100%|██████████| 1816/1816 [00:11<00:00, 158.94it/s]960 [10:03<05:17, 48.29it/s]  \n",
      "Evaluating: 100%|██████████| 1816/1816 [00:11<00:00, 163.08it/s]960 [11:53<03:33, 47.94it/s]  \n",
      "Evaluating: 100%|██████████| 1816/1816 [00:11<00:00, 162.07it/s]960 [13:53<01:47, 47.70it/s]  \n",
      "Evaluating: 100%|██████████| 1816/1816 [00:10<00:00, 170.13it/s]/s]                         \n"
     ]
    },
    {
     "data": {
      "text/html": [],
      "text/plain": [
       "<IPython.core.display.HTML object>"
      ]
     },
     "metadata": {},
     "output_type": "display_data"
    },
    {
     "name": "stderr",
     "output_type": "stream",
     "text": [
      "Epoch 8, loss: 1.712, accuracy: 0.256: : 40968it [16:13, 45.73it/s]/Users/alfredwong/Documents/code/othello-gpt/.venv/lib/python3.12/site-packages/wandb/sdk/wandb_run.py:2334: UserWarning:\n",
      "\n",
      "Run (i5teoyyv) is finished. The call to `_console_raw_callback` will be ignored. Please make sure that you are using an active run.\n",
      "\n"
     ]
    },
    {
     "data": {
      "text/html": [
       "<br>    <style><br>        .wandb-row {<br>            display: flex;<br>            flex-direction: row;<br>            flex-wrap: wrap;<br>            justify-content: flex-start;<br>            width: 100%;<br>        }<br>        .wandb-col {<br>            display: flex;<br>            flex-direction: column;<br>            flex-basis: 100%;<br>            flex: 1;<br>            padding: 10px;<br>        }<br>    </style><br><div class=\"wandb-row\"><div class=\"wandb-col\"><h3>Run history:</h3><br/><table class=\"wandb\"><tr><td>accuracy</td><td>▁▄▅▆▇▇██</td></tr><tr><td>train_loss</td><td>█▇▆▅▄▃▃▃▃▃▃▂▃▂▂▂▂▂▂▂▂▂▂▂▂▁▁▁▁▁▁▁▁▁▁▁▁▁▁▁</td></tr></table><br/></div><div class=\"wandb-col\"><h3>Run summary:</h3><br/><table class=\"wandb\"><tr><td>accuracy</td><td>0.25659</td></tr><tr><td>train_loss</td><td>1.71158</td></tr></table><br/></div></div>"
      ],
      "text/plain": [
       "<IPython.core.display.HTML object>"
      ]
     },
     "metadata": {},
     "output_type": "display_data"
    },
    {
     "data": {
      "text/html": [
       " View run <strong style=\"color:#cdcd00\">celestial-sponge-28</strong> at: <a href='https://wandb.ai/alfredwong-university-of-cambridge/othello-gpt/runs/i5teoyyv' target=\"_blank\">https://wandb.ai/alfredwong-university-of-cambridge/othello-gpt/runs/i5teoyyv</a><br> View project at: <a href='https://wandb.ai/alfredwong-university-of-cambridge/othello-gpt' target=\"_blank\">https://wandb.ai/alfredwong-university-of-cambridge/othello-gpt</a><br>Synced 5 W&B file(s), 0 media file(s), 0 artifact file(s) and 0 other file(s)"
      ],
      "text/plain": [
       "<IPython.core.display.HTML object>"
      ]
     },
     "metadata": {},
     "output_type": "display_data"
    },
    {
     "data": {
      "text/html": [
       "Find logs at: <code>./wandb/run-20250128_181935-i5teoyyv/logs</code>"
      ],
      "text/plain": [
       "<IPython.core.display.HTML object>"
      ]
     },
     "metadata": {},
     "output_type": "display_data"
    },
    {
     "name": "stderr",
     "output_type": "stream",
     "text": [
      "Epoch 8, loss: 1.712, accuracy: 0.256: : 40968it [16:15, 42.00it/s]\n"
     ]
    }
   ],
   "source": [
    "class TransformerTrainer:\n",
    "    def __init__(self, args: TransformerTrainingArgs, model: GPT):\n",
    "        super().__init__()\n",
    "        self.model = model\n",
    "        self.args = args\n",
    "\n",
    "        self.optimizer = t.optim.AdamW(self.model.parameters(), lr=args.lr, weight_decay=args.weight_decay)\n",
    "        self.step = 0\n",
    "\n",
    "        self.train_loader = DataLoader(dataset_dict[\"train\"][\"input_ids\"], batch_size=args.batch_size, shuffle=True, pin_memory=True, collate_fn=pad_batch)\n",
    "        self.test_loader = DataLoader(dataset_dict[\"test\"][\"input_ids\"], batch_size=args.batch_size, shuffle=False, pin_memory=True, collate_fn=pad_batch)\n",
    "\n",
    "    def training_step(self, batch: Int[Tensor, \"batch seq\"]) -> Float[Tensor, \"\"]:\n",
    "        \"\"\"\n",
    "        Calculates the loss on the tokens in the batch, performs a gradient update step, and logs the loss.\n",
    "\n",
    "        Remember that `batch` is a dictionary with the single key 'tokens'.\n",
    "        \"\"\"\n",
    "        _, loss = model(batch[:, :-1], batch[:, 1:])\n",
    "        loss.backward()\n",
    "        self.optimizer.step()\n",
    "        self.optimizer.zero_grad()\n",
    "        self.step += 1\n",
    "        wandb.log({\"train_loss\": loss}, step=self.step)\n",
    "        return loss\n",
    "\n",
    "    @t.inference_mode()\n",
    "    def evaluate(self) -> float:\n",
    "        \"\"\"\n",
    "        Evaluate the model on the test set and return the accuracy.\n",
    "        \"\"\"\n",
    "        self.model.eval()\n",
    "        total_correct, total_samples = 0, 0\n",
    "\n",
    "        for batch in tqdm(self.test_loader, desc=\"Evaluating\"):\n",
    "            batch = batch.to(device)\n",
    "            logits, _ = self.model(batch[:, :-1], batch[:, 1:])\n",
    "            predicted_tokens = logits.argmax(dim=-1)\n",
    "            total_correct += (predicted_tokens == batch[:, 1:]).sum().item()\n",
    "            total_samples += batch.size(0) * (batch.size(1) - 1)\n",
    "\n",
    "        accuracy = total_correct / total_samples\n",
    "        wandb.log({\"accuracy\": accuracy}, step=self.step)\n",
    "        return accuracy\n",
    "\n",
    "    def train(self):\n",
    "        \"\"\"\n",
    "        Trains the model, for `self.args.epochs` epochs. Also handles wandb initialisation, and early stopping\n",
    "        for each epoch at `self.args.max_steps_per_epoch` steps.\n",
    "        \"\"\"\n",
    "        wandb.init(project=self.args.wandb_project, name=self.args.wandb_name, config=self.args)\n",
    "        accuracy = np.nan\n",
    "\n",
    "        progress_bar = tqdm(total=self.args.max_steps_per_epoch * self.args.epochs)\n",
    "\n",
    "        for epoch in range(self.args.epochs):\n",
    "            for i, batch in enumerate(self.train_loader):\n",
    "                loss = self.training_step(batch.to(device))\n",
    "                progress_bar.update()\n",
    "                progress_bar.set_description(f\"Epoch {epoch+1}, loss: {loss:.3f}, accuracy: {accuracy:.3f}\")\n",
    "                if i >= self.args.max_steps_per_epoch:\n",
    "                    break\n",
    "\n",
    "            accuracy = self.evaluate()\n",
    "\n",
    "        wandb.finish()\n",
    "\n",
    "trainer = TransformerTrainer(args, model)\n",
    "trainer.train()"
   ]
  },
  {
   "cell_type": "code",
   "execution_count": 9,
   "metadata": {},
   "outputs": [],
   "source": [
    "weights_dir = data_dir / \"weights\"\n",
    "weights_dir.mkdir(exist_ok=True)\n",
    "t.save(model, weights_dir / f\"othello_{n_games}_{size}\")\n",
    "# model = t.load(weights_dir / f\"othello_{n_games}_{size}\", weights_only=False)"
   ]
  },
  {
   "cell_type": "code",
   "execution_count": 10,
   "metadata": {},
   "outputs": [
    {
     "data": {
      "application/vnd.plotly.v1+json": {
       "config": {
        "plotlyServerURL": "https://plot.ly"
       },
       "data": [
        {
         "colorscale": [
          [
           0,
           "rgb(254, 254, 253)"
          ],
          [
           0.09090909090909091,
           "rgb(224, 224, 223)"
          ],
          [
           0.18181818181818182,
           "rgb(197, 197, 195)"
          ],
          [
           0.2727272727272727,
           "rgb(171, 171, 170)"
          ],
          [
           0.36363636363636365,
           "rgb(146, 146, 145)"
          ],
          [
           0.45454545454545453,
           "rgb(124, 123, 122)"
          ],
          [
           0.5454545454545454,
           "rgb(102, 101, 101)"
          ],
          [
           0.6363636363636364,
           "rgb(81, 80, 80)"
          ],
          [
           0.7272727272727273,
           "rgb(59, 59, 59)"
          ],
          [
           0.8181818181818182,
           "rgb(38, 38, 38)"
          ],
          [
           0.9090909090909091,
           "rgb(16, 16, 16)"
          ],
          [
           1,
           "rgb(0, 0, 0)"
          ]
         ],
         "hovertemplate": "%{hovertext}<extra></extra>",
         "hovertext": [
          [
           "A1",
           "B1",
           "C1",
           "D1",
           "E1",
           "F1"
          ],
          [
           "A2",
           "B2",
           "C2",
           "D2",
           "E2",
           "F2"
          ],
          [
           "A3",
           "B3",
           "C3",
           "D3",
           "E3",
           "F3"
          ],
          [
           "A4",
           "B4",
           "C4",
           "D4",
           "E4",
           "F4"
          ],
          [
           "A5",
           "B5",
           "C5",
           "D5",
           "E5",
           "F5"
          ],
          [
           "A6",
           "B6",
           "C6",
           "D6",
           "E6",
           "F6"
          ]
         ],
         "showscale": false,
         "text": [
          [
           "",
           "",
           "",
           "",
           "",
           ""
          ],
          [
           "",
           "",
           "X",
           "o",
           "X",
           ""
          ],
          [
           "",
           "",
           "",
           "",
           "",
           ""
          ],
          [
           "",
           "",
           "",
           "",
           "X",
           ""
          ],
          [
           "",
           "",
           "",
           "",
           "",
           ""
          ],
          [
           "",
           "",
           "",
           "",
           "",
           ""
          ]
         ],
         "textfont": {
          "color": "white"
         },
         "texttemplate": "%{text}",
         "type": "heatmap",
         "x": [
          "A",
          "B",
          "C",
          "D",
          "E",
          "F"
         ],
         "xaxis": "x",
         "xgap": 0.2,
         "y": [
          "1",
          "2",
          "3",
          "4",
          "5",
          "6"
         ],
         "yaxis": "y",
         "ygap": 0.2,
         "z": [
          [
           0,
           0,
           0,
           0,
           0,
           0
          ],
          [
           0,
           0,
           0,
           1,
           0,
           0
          ],
          [
           0,
           0,
           1,
           1,
           0,
           0
          ],
          [
           0,
           0,
           -1,
           1,
           0,
           0
          ],
          [
           0,
           0,
           0,
           0,
           0,
           0
          ],
          [
           0,
           0,
           0,
           0,
           0,
           0
          ]
         ]
        },
        {
         "colorscale": [
          [
           0,
           "rgb(254, 254, 253)"
          ],
          [
           0.09090909090909091,
           "rgb(224, 224, 223)"
          ],
          [
           0.18181818181818182,
           "rgb(197, 197, 195)"
          ],
          [
           0.2727272727272727,
           "rgb(171, 171, 170)"
          ],
          [
           0.36363636363636365,
           "rgb(146, 146, 145)"
          ],
          [
           0.45454545454545453,
           "rgb(124, 123, 122)"
          ],
          [
           0.5454545454545454,
           "rgb(102, 101, 101)"
          ],
          [
           0.6363636363636364,
           "rgb(81, 80, 80)"
          ],
          [
           0.7272727272727273,
           "rgb(59, 59, 59)"
          ],
          [
           0.8181818181818182,
           "rgb(38, 38, 38)"
          ],
          [
           0.9090909090909091,
           "rgb(16, 16, 16)"
          ],
          [
           1,
           "rgb(0, 0, 0)"
          ]
         ],
         "hovertemplate": "%{hovertext}<extra></extra>",
         "hovertext": [
          [
           "A1",
           "B1",
           "C1",
           "D1",
           "E1",
           "F1"
          ],
          [
           "A2",
           "B2",
           "C2",
           "D2",
           "E2",
           "F2"
          ],
          [
           "A3",
           "B3",
           "C3",
           "D3",
           "E3",
           "F3"
          ],
          [
           "A4",
           "B4",
           "C4",
           "D4",
           "E4",
           "F4"
          ],
          [
           "A5",
           "B5",
           "C5",
           "D5",
           "E5",
           "F5"
          ],
          [
           "A6",
           "B6",
           "C6",
           "D6",
           "E6",
           "F6"
          ]
         ],
         "showscale": false,
         "text": [
          [
           "",
           "",
           "",
           "",
           "",
           ""
          ],
          [
           "",
           "",
           "",
           "",
           "o",
           "X"
          ],
          [
           "",
           "",
           "",
           "",
           "X",
           ""
          ],
          [
           "",
           "X",
           "",
           "",
           "",
           ""
          ],
          [
           "",
           "",
           "X",
           "",
           "",
           ""
          ],
          [
           "",
           "",
           "",
           "",
           "",
           ""
          ]
         ],
         "textfont": {
          "color": "black"
         },
         "texttemplate": "%{text}",
         "type": "heatmap",
         "x": [
          "A",
          "B",
          "C",
          "D",
          "E",
          "F"
         ],
         "xaxis": "x2",
         "xgap": 0.2,
         "y": [
          "1",
          "2",
          "3",
          "4",
          "5",
          "6"
         ],
         "yaxis": "y2",
         "ygap": 0.2,
         "z": [
          [
           0,
           0,
           0,
           0,
           0,
           0
          ],
          [
           0,
           0,
           0,
           1,
           -1,
           0
          ],
          [
           0,
           0,
           1,
           -1,
           0,
           0
          ],
          [
           0,
           0,
           -1,
           1,
           0,
           0
          ],
          [
           0,
           0,
           0,
           0,
           0,
           0
          ],
          [
           0,
           0,
           0,
           0,
           0,
           0
          ]
         ]
        },
        {
         "colorscale": [
          [
           0,
           "rgb(254, 254, 253)"
          ],
          [
           0.09090909090909091,
           "rgb(224, 224, 223)"
          ],
          [
           0.18181818181818182,
           "rgb(197, 197, 195)"
          ],
          [
           0.2727272727272727,
           "rgb(171, 171, 170)"
          ],
          [
           0.36363636363636365,
           "rgb(146, 146, 145)"
          ],
          [
           0.45454545454545453,
           "rgb(124, 123, 122)"
          ],
          [
           0.5454545454545454,
           "rgb(102, 101, 101)"
          ],
          [
           0.6363636363636364,
           "rgb(81, 80, 80)"
          ],
          [
           0.7272727272727273,
           "rgb(59, 59, 59)"
          ],
          [
           0.8181818181818182,
           "rgb(38, 38, 38)"
          ],
          [
           0.9090909090909091,
           "rgb(16, 16, 16)"
          ],
          [
           1,
           "rgb(0, 0, 0)"
          ]
         ],
         "hovertemplate": "%{hovertext}<extra></extra>",
         "hovertext": [
          [
           "A1",
           "B1",
           "C1",
           "D1",
           "E1",
           "F1"
          ],
          [
           "A2",
           "B2",
           "C2",
           "D2",
           "E2",
           "F2"
          ],
          [
           "A3",
           "B3",
           "C3",
           "D3",
           "E3",
           "F3"
          ],
          [
           "A4",
           "B4",
           "C4",
           "D4",
           "E4",
           "F4"
          ],
          [
           "A5",
           "B5",
           "C5",
           "D5",
           "E5",
           "F5"
          ],
          [
           "A6",
           "B6",
           "C6",
           "D6",
           "E6",
           "F6"
          ]
         ],
         "showscale": false,
         "text": [
          [
           "",
           "",
           "",
           "X",
           "",
           "X"
          ],
          [
           "",
           "",
           "X",
           "",
           "",
           "o"
          ],
          [
           "",
           "X",
           "",
           "",
           "",
           ""
          ],
          [
           "",
           "",
           "",
           "",
           "X",
           ""
          ],
          [
           "",
           "",
           "",
           "X",
           "",
           ""
          ],
          [
           "",
           "",
           "",
           "",
           "",
           ""
          ]
         ],
         "textfont": {
          "color": "white"
         },
         "texttemplate": "%{text}",
         "type": "heatmap",
         "x": [
          "A",
          "B",
          "C",
          "D",
          "E",
          "F"
         ],
         "xaxis": "x3",
         "xgap": 0.2,
         "y": [
          "1",
          "2",
          "3",
          "4",
          "5",
          "6"
         ],
         "yaxis": "y3",
         "ygap": 0.2,
         "z": [
          [
           0,
           0,
           0,
           0,
           0,
           0
          ],
          [
           0,
           0,
           0,
           1,
           1,
           1
          ],
          [
           0,
           0,
           1,
           -1,
           0,
           0
          ],
          [
           0,
           0,
           -1,
           1,
           0,
           0
          ],
          [
           0,
           0,
           0,
           0,
           0,
           0
          ],
          [
           0,
           0,
           0,
           0,
           0,
           0
          ]
         ]
        },
        {
         "colorscale": [
          [
           0,
           "rgb(254, 254, 253)"
          ],
          [
           0.09090909090909091,
           "rgb(224, 224, 223)"
          ],
          [
           0.18181818181818182,
           "rgb(197, 197, 195)"
          ],
          [
           0.2727272727272727,
           "rgb(171, 171, 170)"
          ],
          [
           0.36363636363636365,
           "rgb(146, 146, 145)"
          ],
          [
           0.45454545454545453,
           "rgb(124, 123, 122)"
          ],
          [
           0.5454545454545454,
           "rgb(102, 101, 101)"
          ],
          [
           0.6363636363636364,
           "rgb(81, 80, 80)"
          ],
          [
           0.7272727272727273,
           "rgb(59, 59, 59)"
          ],
          [
           0.8181818181818182,
           "rgb(38, 38, 38)"
          ],
          [
           0.9090909090909091,
           "rgb(16, 16, 16)"
          ],
          [
           1,
           "rgb(0, 0, 0)"
          ]
         ],
         "hovertemplate": "%{hovertext}<extra></extra>",
         "hovertext": [
          [
           "A1",
           "B1",
           "C1",
           "D1",
           "E1",
           "F1"
          ],
          [
           "A2",
           "B2",
           "C2",
           "D2",
           "E2",
           "F2"
          ],
          [
           "A3",
           "B3",
           "C3",
           "D3",
           "E3",
           "F3"
          ],
          [
           "A4",
           "B4",
           "C4",
           "D4",
           "E4",
           "F4"
          ],
          [
           "A5",
           "B5",
           "C5",
           "D5",
           "E5",
           "F5"
          ],
          [
           "A6",
           "B6",
           "C6",
           "D6",
           "E6",
           "F6"
          ]
         ],
         "showscale": false,
         "text": [
          [
           "",
           "",
           "",
           "",
           "",
           "o"
          ],
          [
           "",
           "",
           "",
           "",
           "",
           ""
          ],
          [
           "",
           "",
           "",
           "",
           "X",
           ""
          ],
          [
           "",
           "X",
           "",
           "",
           "",
           ""
          ],
          [
           "",
           "",
           "X",
           "",
           "",
           ""
          ],
          [
           "",
           "",
           "",
           "",
           "",
           ""
          ]
         ],
         "textfont": {
          "color": "black"
         },
         "texttemplate": "%{text}",
         "type": "heatmap",
         "x": [
          "A",
          "B",
          "C",
          "D",
          "E",
          "F"
         ],
         "xaxis": "x4",
         "xgap": 0.2,
         "y": [
          "1",
          "2",
          "3",
          "4",
          "5",
          "6"
         ],
         "yaxis": "y4",
         "ygap": 0.2,
         "z": [
          [
           0,
           0,
           0,
           0,
           0,
           -1
          ],
          [
           0,
           0,
           0,
           1,
           -1,
           1
          ],
          [
           0,
           0,
           1,
           -1,
           0,
           0
          ],
          [
           0,
           0,
           -1,
           1,
           0,
           0
          ],
          [
           0,
           0,
           0,
           0,
           0,
           0
          ],
          [
           0,
           0,
           0,
           0,
           0,
           0
          ]
         ]
        },
        {
         "colorscale": [
          [
           0,
           "rgb(254, 254, 253)"
          ],
          [
           0.09090909090909091,
           "rgb(224, 224, 223)"
          ],
          [
           0.18181818181818182,
           "rgb(197, 197, 195)"
          ],
          [
           0.2727272727272727,
           "rgb(171, 171, 170)"
          ],
          [
           0.36363636363636365,
           "rgb(146, 146, 145)"
          ],
          [
           0.45454545454545453,
           "rgb(124, 123, 122)"
          ],
          [
           0.5454545454545454,
           "rgb(102, 101, 101)"
          ],
          [
           0.6363636363636364,
           "rgb(81, 80, 80)"
          ],
          [
           0.7272727272727273,
           "rgb(59, 59, 59)"
          ],
          [
           0.8181818181818182,
           "rgb(38, 38, 38)"
          ],
          [
           0.9090909090909091,
           "rgb(16, 16, 16)"
          ],
          [
           1,
           "rgb(0, 0, 0)"
          ]
         ],
         "hovertemplate": "%{hovertext}<extra></extra>",
         "hovertext": [
          [
           "A1",
           "B1",
           "C1",
           "D1",
           "E1",
           "F1"
          ],
          [
           "A2",
           "B2",
           "C2",
           "D2",
           "E2",
           "F2"
          ],
          [
           "A3",
           "B3",
           "C3",
           "D3",
           "E3",
           "F3"
          ],
          [
           "A4",
           "B4",
           "C4",
           "D4",
           "E4",
           "F4"
          ],
          [
           "A5",
           "B5",
           "C5",
           "D5",
           "E5",
           "F5"
          ],
          [
           "A6",
           "B6",
           "C6",
           "D6",
           "E6",
           "F6"
          ]
         ],
         "showscale": false,
         "text": [
          [
           "",
           "",
           "",
           "",
           "",
           ""
          ],
          [
           "",
           "",
           "X",
           "",
           "",
           ""
          ],
          [
           "",
           "",
           "",
           "",
           "o",
           "X"
          ],
          [
           "",
           "",
           "",
           "",
           "X",
           ""
          ],
          [
           "",
           "",
           "",
           "",
           "",
           ""
          ],
          [
           "",
           "",
           "",
           "",
           "",
           ""
          ]
         ],
         "textfont": {
          "color": "white"
         },
         "texttemplate": "%{text}",
         "type": "heatmap",
         "x": [
          "A",
          "B",
          "C",
          "D",
          "E",
          "F"
         ],
         "xaxis": "x5",
         "xgap": 0.2,
         "y": [
          "1",
          "2",
          "3",
          "4",
          "5",
          "6"
         ],
         "yaxis": "y5",
         "ygap": 0.2,
         "z": [
          [
           0,
           0,
           0,
           0,
           0,
           -1
          ],
          [
           0,
           0,
           0,
           1,
           -1,
           1
          ],
          [
           0,
           0,
           1,
           1,
           1,
           0
          ],
          [
           0,
           0,
           -1,
           1,
           0,
           0
          ],
          [
           0,
           0,
           0,
           0,
           0,
           0
          ],
          [
           0,
           0,
           0,
           0,
           0,
           0
          ]
         ]
        },
        {
         "colorscale": [
          [
           0,
           "rgb(254, 254, 253)"
          ],
          [
           0.09090909090909091,
           "rgb(224, 224, 223)"
          ],
          [
           0.18181818181818182,
           "rgb(197, 197, 195)"
          ],
          [
           0.2727272727272727,
           "rgb(171, 171, 170)"
          ],
          [
           0.36363636363636365,
           "rgb(146, 146, 145)"
          ],
          [
           0.45454545454545453,
           "rgb(124, 123, 122)"
          ],
          [
           0.5454545454545454,
           "rgb(102, 101, 101)"
          ],
          [
           0.6363636363636364,
           "rgb(81, 80, 80)"
          ],
          [
           0.7272727272727273,
           "rgb(59, 59, 59)"
          ],
          [
           0.8181818181818182,
           "rgb(38, 38, 38)"
          ],
          [
           0.9090909090909091,
           "rgb(16, 16, 16)"
          ],
          [
           1,
           "rgb(0, 0, 0)"
          ]
         ],
         "hovertemplate": "%{hovertext}<extra></extra>",
         "hovertext": [
          [
           "A1",
           "B1",
           "C1",
           "D1",
           "E1",
           "F1"
          ],
          [
           "A2",
           "B2",
           "C2",
           "D2",
           "E2",
           "F2"
          ],
          [
           "A3",
           "B3",
           "C3",
           "D3",
           "E3",
           "F3"
          ],
          [
           "A4",
           "B4",
           "C4",
           "D4",
           "E4",
           "F4"
          ],
          [
           "A5",
           "B5",
           "C5",
           "D5",
           "E5",
           "F5"
          ],
          [
           "A6",
           "B6",
           "C6",
           "D6",
           "E6",
           "F6"
          ]
         ],
         "showscale": false,
         "text": [
          [
           "",
           "",
           "",
           "",
           "X",
           ""
          ],
          [
           "",
           "",
           "",
           "",
           "",
           ""
          ],
          [
           "",
           "",
           "",
           "",
           "",
           "o"
          ],
          [
           "",
           "X",
           "",
           "",
           "",
           ""
          ],
          [
           "",
           "X",
           "X",
           "",
           "",
           ""
          ],
          [
           "",
           "",
           "",
           "",
           "",
           ""
          ]
         ],
         "textfont": {
          "color": "black"
         },
         "texttemplate": "%{text}",
         "type": "heatmap",
         "x": [
          "A",
          "B",
          "C",
          "D",
          "E",
          "F"
         ],
         "xaxis": "x6",
         "xgap": 0.2,
         "y": [
          "1",
          "2",
          "3",
          "4",
          "5",
          "6"
         ],
         "yaxis": "y6",
         "ygap": 0.2,
         "z": [
          [
           0,
           0,
           0,
           0,
           0,
           -1
          ],
          [
           0,
           0,
           0,
           1,
           -1,
           -1
          ],
          [
           0,
           0,
           1,
           1,
           1,
           -1
          ],
          [
           0,
           0,
           -1,
           1,
           0,
           0
          ],
          [
           0,
           0,
           0,
           0,
           0,
           0
          ],
          [
           0,
           0,
           0,
           0,
           0,
           0
          ]
         ]
        },
        {
         "colorscale": [
          [
           0,
           "rgb(254, 254, 253)"
          ],
          [
           0.09090909090909091,
           "rgb(224, 224, 223)"
          ],
          [
           0.18181818181818182,
           "rgb(197, 197, 195)"
          ],
          [
           0.2727272727272727,
           "rgb(171, 171, 170)"
          ],
          [
           0.36363636363636365,
           "rgb(146, 146, 145)"
          ],
          [
           0.45454545454545453,
           "rgb(124, 123, 122)"
          ],
          [
           0.5454545454545454,
           "rgb(102, 101, 101)"
          ],
          [
           0.6363636363636364,
           "rgb(81, 80, 80)"
          ],
          [
           0.7272727272727273,
           "rgb(59, 59, 59)"
          ],
          [
           0.8181818181818182,
           "rgb(38, 38, 38)"
          ],
          [
           0.9090909090909091,
           "rgb(16, 16, 16)"
          ],
          [
           1,
           "rgb(0, 0, 0)"
          ]
         ],
         "hovertemplate": "%{hovertext}<extra></extra>",
         "hovertext": [
          [
           "A1",
           "B1",
           "C1",
           "D1",
           "E1",
           "F1"
          ],
          [
           "A2",
           "B2",
           "C2",
           "D2",
           "E2",
           "F2"
          ],
          [
           "A3",
           "B3",
           "C3",
           "D3",
           "E3",
           "F3"
          ],
          [
           "A4",
           "B4",
           "C4",
           "D4",
           "E4",
           "F4"
          ],
          [
           "A5",
           "B5",
           "C5",
           "D5",
           "E5",
           "F5"
          ],
          [
           "A6",
           "B6",
           "C6",
           "D6",
           "E6",
           "F6"
          ]
         ],
         "showscale": false,
         "text": [
          [
           "",
           "",
           "",
           "",
           "",
           ""
          ],
          [
           "",
           "",
           "X",
           "",
           "",
           ""
          ],
          [
           "",
           "X",
           "",
           "",
           "",
           ""
          ],
          [
           "",
           "",
           "",
           "",
           "X",
           ""
          ],
          [
           "",
           "o",
           "X",
           "",
           "",
           ""
          ],
          [
           "X",
           "",
           "",
           "",
           "",
           ""
          ]
         ],
         "textfont": {
          "color": "white"
         },
         "texttemplate": "%{text}",
         "type": "heatmap",
         "x": [
          "A",
          "B",
          "C",
          "D",
          "E",
          "F"
         ],
         "xaxis": "x7",
         "xgap": 0.2,
         "y": [
          "1",
          "2",
          "3",
          "4",
          "5",
          "6"
         ],
         "yaxis": "y7",
         "ygap": 0.2,
         "z": [
          [
           0,
           0,
           0,
           0,
           0,
           -1
          ],
          [
           0,
           0,
           0,
           1,
           -1,
           -1
          ],
          [
           0,
           0,
           1,
           1,
           1,
           -1
          ],
          [
           0,
           0,
           1,
           1,
           0,
           0
          ],
          [
           0,
           1,
           0,
           0,
           0,
           0
          ],
          [
           0,
           0,
           0,
           0,
           0,
           0
          ]
         ]
        },
        {
         "colorscale": [
          [
           0,
           "rgb(254, 254, 253)"
          ],
          [
           0.09090909090909091,
           "rgb(224, 224, 223)"
          ],
          [
           0.18181818181818182,
           "rgb(197, 197, 195)"
          ],
          [
           0.2727272727272727,
           "rgb(171, 171, 170)"
          ],
          [
           0.36363636363636365,
           "rgb(146, 146, 145)"
          ],
          [
           0.45454545454545453,
           "rgb(124, 123, 122)"
          ],
          [
           0.5454545454545454,
           "rgb(102, 101, 101)"
          ],
          [
           0.6363636363636364,
           "rgb(81, 80, 80)"
          ],
          [
           0.7272727272727273,
           "rgb(59, 59, 59)"
          ],
          [
           0.8181818181818182,
           "rgb(38, 38, 38)"
          ],
          [
           0.9090909090909091,
           "rgb(16, 16, 16)"
          ],
          [
           1,
           "rgb(0, 0, 0)"
          ]
         ],
         "hovertemplate": "%{hovertext}<extra></extra>",
         "hovertext": [
          [
           "A1",
           "B1",
           "C1",
           "D1",
           "E1",
           "F1"
          ],
          [
           "A2",
           "B2",
           "C2",
           "D2",
           "E2",
           "F2"
          ],
          [
           "A3",
           "B3",
           "C3",
           "D3",
           "E3",
           "F3"
          ],
          [
           "A4",
           "B4",
           "C4",
           "D4",
           "E4",
           "F4"
          ],
          [
           "A5",
           "B5",
           "C5",
           "D5",
           "E5",
           "F5"
          ],
          [
           "A6",
           "B6",
           "C6",
           "D6",
           "E6",
           "F6"
          ]
         ],
         "showscale": false,
         "text": [
          [
           "",
           "",
           "",
           "",
           "",
           ""
          ],
          [
           "X",
           "X",
           "X",
           "",
           "",
           ""
          ],
          [
           "",
           "o",
           "",
           "",
           "",
           ""
          ],
          [
           "",
           "X",
           "",
           "",
           "",
           "X"
          ],
          [
           "",
           "",
           "",
           "",
           "",
           ""
          ],
          [
           "",
           "",
           "",
           "",
           "",
           ""
          ]
         ],
         "textfont": {
          "color": "black"
         },
         "texttemplate": "%{text}",
         "type": "heatmap",
         "x": [
          "A",
          "B",
          "C",
          "D",
          "E",
          "F"
         ],
         "xaxis": "x8",
         "xgap": 0.2,
         "y": [
          "1",
          "2",
          "3",
          "4",
          "5",
          "6"
         ],
         "yaxis": "y8",
         "ygap": 0.2,
         "z": [
          [
           0,
           0,
           0,
           0,
           0,
           -1
          ],
          [
           0,
           0,
           0,
           1,
           -1,
           -1
          ],
          [
           0,
           -1,
           -1,
           -1,
           -1,
           -1
          ],
          [
           0,
           0,
           1,
           1,
           0,
           0
          ],
          [
           0,
           1,
           0,
           0,
           0,
           0
          ],
          [
           0,
           0,
           0,
           0,
           0,
           0
          ]
         ]
        },
        {
         "colorscale": [
          [
           0,
           "rgb(254, 254, 253)"
          ],
          [
           0.09090909090909091,
           "rgb(224, 224, 223)"
          ],
          [
           0.18181818181818182,
           "rgb(197, 197, 195)"
          ],
          [
           0.2727272727272727,
           "rgb(171, 171, 170)"
          ],
          [
           0.36363636363636365,
           "rgb(146, 146, 145)"
          ],
          [
           0.45454545454545453,
           "rgb(124, 123, 122)"
          ],
          [
           0.5454545454545454,
           "rgb(102, 101, 101)"
          ],
          [
           0.6363636363636364,
           "rgb(81, 80, 80)"
          ],
          [
           0.7272727272727273,
           "rgb(59, 59, 59)"
          ],
          [
           0.8181818181818182,
           "rgb(38, 38, 38)"
          ],
          [
           0.9090909090909091,
           "rgb(16, 16, 16)"
          ],
          [
           1,
           "rgb(0, 0, 0)"
          ]
         ],
         "hovertemplate": "%{hovertext}<extra></extra>",
         "hovertext": [
          [
           "A1",
           "B1",
           "C1",
           "D1",
           "E1",
           "F1"
          ],
          [
           "A2",
           "B2",
           "C2",
           "D2",
           "E2",
           "F2"
          ],
          [
           "A3",
           "B3",
           "C3",
           "D3",
           "E3",
           "F3"
          ],
          [
           "A4",
           "B4",
           "C4",
           "D4",
           "E4",
           "F4"
          ],
          [
           "A5",
           "B5",
           "C5",
           "D5",
           "E5",
           "F5"
          ],
          [
           "A6",
           "B6",
           "C6",
           "D6",
           "E6",
           "F6"
          ]
         ],
         "showscale": false,
         "text": [
          [
           "",
           "",
           "X",
           "X",
           "X",
           ""
          ],
          [
           "o",
           "",
           "X",
           "",
           "",
           ""
          ],
          [
           "X",
           "",
           "",
           "",
           "",
           ""
          ],
          [
           "",
           "",
           "",
           "",
           "",
           ""
          ],
          [
           "",
           "",
           "X",
           "X",
           "X",
           ""
          ],
          [
           "X",
           "",
           "",
           "",
           "",
           ""
          ]
         ],
         "textfont": {
          "color": "white"
         },
         "texttemplate": "%{text}",
         "type": "heatmap",
         "x": [
          "A",
          "B",
          "C",
          "D",
          "E",
          "F"
         ],
         "xaxis": "x9",
         "xgap": 0.2,
         "y": [
          "1",
          "2",
          "3",
          "4",
          "5",
          "6"
         ],
         "yaxis": "y9",
         "ygap": 0.2,
         "z": [
          [
           0,
           0,
           0,
           0,
           0,
           -1
          ],
          [
           1,
           0,
           0,
           1,
           -1,
           -1
          ],
          [
           0,
           1,
           -1,
           -1,
           -1,
           -1
          ],
          [
           0,
           0,
           1,
           1,
           0,
           0
          ],
          [
           0,
           1,
           0,
           0,
           0,
           0
          ],
          [
           0,
           0,
           0,
           0,
           0,
           0
          ]
         ]
        },
        {
         "colorscale": [
          [
           0,
           "rgb(254, 254, 253)"
          ],
          [
           0.09090909090909091,
           "rgb(224, 224, 223)"
          ],
          [
           0.18181818181818182,
           "rgb(197, 197, 195)"
          ],
          [
           0.2727272727272727,
           "rgb(171, 171, 170)"
          ],
          [
           0.36363636363636365,
           "rgb(146, 146, 145)"
          ],
          [
           0.45454545454545453,
           "rgb(124, 123, 122)"
          ],
          [
           0.5454545454545454,
           "rgb(102, 101, 101)"
          ],
          [
           0.6363636363636364,
           "rgb(81, 80, 80)"
          ],
          [
           0.7272727272727273,
           "rgb(59, 59, 59)"
          ],
          [
           0.8181818181818182,
           "rgb(38, 38, 38)"
          ],
          [
           0.9090909090909091,
           "rgb(16, 16, 16)"
          ],
          [
           1,
           "rgb(0, 0, 0)"
          ]
         ],
         "hovertemplate": "%{hovertext}<extra></extra>",
         "hovertext": [
          [
           "A1",
           "B1",
           "C1",
           "D1",
           "E1",
           "F1"
          ],
          [
           "A2",
           "B2",
           "C2",
           "D2",
           "E2",
           "F2"
          ],
          [
           "A3",
           "B3",
           "C3",
           "D3",
           "E3",
           "F3"
          ],
          [
           "A4",
           "B4",
           "C4",
           "D4",
           "E4",
           "F4"
          ],
          [
           "A5",
           "B5",
           "C5",
           "D5",
           "E5",
           "F5"
          ],
          [
           "A6",
           "B6",
           "C6",
           "D6",
           "E6",
           "F6"
          ]
         ],
         "showscale": false,
         "text": [
          [
           "",
           "",
           "o",
           "X",
           "",
           ""
          ],
          [
           "",
           "X",
           "X",
           "",
           "",
           ""
          ],
          [
           "",
           "",
           "",
           "",
           "",
           ""
          ],
          [
           "",
           "",
           "",
           "",
           "",
           ""
          ],
          [
           "",
           "",
           "",
           "",
           "",
           ""
          ],
          [
           "",
           "",
           "",
           "",
           "",
           ""
          ]
         ],
         "textfont": {
          "color": "black"
         },
         "texttemplate": "%{text}",
         "type": "heatmap",
         "x": [
          "A",
          "B",
          "C",
          "D",
          "E",
          "F"
         ],
         "xaxis": "x10",
         "xgap": 0.2,
         "y": [
          "1",
          "2",
          "3",
          "4",
          "5",
          "6"
         ],
         "yaxis": "y10",
         "ygap": 0.2,
         "z": [
          [
           0,
           0,
           -1,
           0,
           0,
           -1
          ],
          [
           1,
           0,
           0,
           -1,
           -1,
           -1
          ],
          [
           0,
           1,
           -1,
           -1,
           -1,
           -1
          ],
          [
           0,
           0,
           1,
           1,
           0,
           0
          ],
          [
           0,
           1,
           0,
           0,
           0,
           0
          ],
          [
           0,
           0,
           0,
           0,
           0,
           0
          ]
         ]
        },
        {
         "colorscale": [
          [
           0,
           "rgb(254, 254, 253)"
          ],
          [
           0.09090909090909091,
           "rgb(224, 224, 223)"
          ],
          [
           0.18181818181818182,
           "rgb(197, 197, 195)"
          ],
          [
           0.2727272727272727,
           "rgb(171, 171, 170)"
          ],
          [
           0.36363636363636365,
           "rgb(146, 146, 145)"
          ],
          [
           0.45454545454545453,
           "rgb(124, 123, 122)"
          ],
          [
           0.5454545454545454,
           "rgb(102, 101, 101)"
          ],
          [
           0.6363636363636364,
           "rgb(81, 80, 80)"
          ],
          [
           0.7272727272727273,
           "rgb(59, 59, 59)"
          ],
          [
           0.8181818181818182,
           "rgb(38, 38, 38)"
          ],
          [
           0.9090909090909091,
           "rgb(16, 16, 16)"
          ],
          [
           1,
           "rgb(0, 0, 0)"
          ]
         ],
         "hovertemplate": "%{hovertext}<extra></extra>",
         "hovertext": [
          [
           "A1",
           "B1",
           "C1",
           "D1",
           "E1",
           "F1"
          ],
          [
           "A2",
           "B2",
           "C2",
           "D2",
           "E2",
           "F2"
          ],
          [
           "A3",
           "B3",
           "C3",
           "D3",
           "E3",
           "F3"
          ],
          [
           "A4",
           "B4",
           "C4",
           "D4",
           "E4",
           "F4"
          ],
          [
           "A5",
           "B5",
           "C5",
           "D5",
           "E5",
           "F5"
          ],
          [
           "A6",
           "B6",
           "C6",
           "D6",
           "E6",
           "F6"
          ]
         ],
         "showscale": false,
         "text": [
          [
           "",
           "",
           "",
           "",
           "",
           ""
          ],
          [
           "",
           "o",
           "",
           "",
           "",
           ""
          ],
          [
           "X",
           "",
           "",
           "",
           "",
           ""
          ],
          [
           "",
           "X",
           "",
           "",
           "",
           ""
          ],
          [
           "",
           "",
           "X",
           "X",
           "",
           ""
          ],
          [
           "X",
           "",
           "",
           "",
           "",
           ""
          ]
         ],
         "textfont": {
          "color": "white"
         },
         "texttemplate": "%{text}",
         "type": "heatmap",
         "x": [
          "A",
          "B",
          "C",
          "D",
          "E",
          "F"
         ],
         "xaxis": "x11",
         "xgap": 0.2,
         "y": [
          "1",
          "2",
          "3",
          "4",
          "5",
          "6"
         ],
         "yaxis": "y11",
         "ygap": 0.2,
         "z": [
          [
           0,
           0,
           -1,
           0,
           0,
           -1
          ],
          [
           1,
           1,
           0,
           -1,
           -1,
           -1
          ],
          [
           0,
           1,
           1,
           -1,
           -1,
           -1
          ],
          [
           0,
           0,
           1,
           1,
           0,
           0
          ],
          [
           0,
           1,
           0,
           0,
           0,
           0
          ],
          [
           0,
           0,
           0,
           0,
           0,
           0
          ]
         ]
        },
        {
         "colorscale": [
          [
           0,
           "rgb(254, 254, 253)"
          ],
          [
           0.09090909090909091,
           "rgb(224, 224, 223)"
          ],
          [
           0.18181818181818182,
           "rgb(197, 197, 195)"
          ],
          [
           0.2727272727272727,
           "rgb(171, 171, 170)"
          ],
          [
           0.36363636363636365,
           "rgb(146, 146, 145)"
          ],
          [
           0.45454545454545453,
           "rgb(124, 123, 122)"
          ],
          [
           0.5454545454545454,
           "rgb(102, 101, 101)"
          ],
          [
           0.6363636363636364,
           "rgb(81, 80, 80)"
          ],
          [
           0.7272727272727273,
           "rgb(59, 59, 59)"
          ],
          [
           0.8181818181818182,
           "rgb(38, 38, 38)"
          ],
          [
           0.9090909090909091,
           "rgb(16, 16, 16)"
          ],
          [
           1,
           "rgb(0, 0, 0)"
          ]
         ],
         "hovertemplate": "%{hovertext}<extra></extra>",
         "hovertext": [
          [
           "A1",
           "B1",
           "C1",
           "D1",
           "E1",
           "F1"
          ],
          [
           "A2",
           "B2",
           "C2",
           "D2",
           "E2",
           "F2"
          ],
          [
           "A3",
           "B3",
           "C3",
           "D3",
           "E3",
           "F3"
          ],
          [
           "A4",
           "B4",
           "C4",
           "D4",
           "E4",
           "F4"
          ],
          [
           "A5",
           "B5",
           "C5",
           "D5",
           "E5",
           "F5"
          ],
          [
           "A6",
           "B6",
           "C6",
           "D6",
           "E6",
           "F6"
          ]
         ],
         "showscale": false,
         "text": [
          [
           "X",
           "",
           "",
           "X",
           "",
           ""
          ],
          [
           "",
           "",
           "X",
           "",
           "",
           ""
          ],
          [
           "o",
           "",
           "",
           "",
           "",
           ""
          ],
          [
           "X",
           "",
           "",
           "",
           "",
           ""
          ],
          [
           "",
           "",
           "",
           "",
           "",
           ""
          ],
          [
           "",
           "",
           "",
           "",
           "",
           ""
          ]
         ],
         "textfont": {
          "color": "black"
         },
         "texttemplate": "%{text}",
         "type": "heatmap",
         "x": [
          "A",
          "B",
          "C",
          "D",
          "E",
          "F"
         ],
         "xaxis": "x12",
         "xgap": 0.2,
         "y": [
          "1",
          "2",
          "3",
          "4",
          "5",
          "6"
         ],
         "yaxis": "y12",
         "ygap": 0.2,
         "z": [
          [
           0,
           0,
           -1,
           0,
           0,
           -1
          ],
          [
           1,
           -1,
           0,
           -1,
           -1,
           -1
          ],
          [
           -1,
           -1,
           -1,
           -1,
           -1,
           -1
          ],
          [
           0,
           0,
           1,
           1,
           0,
           0
          ],
          [
           0,
           1,
           0,
           0,
           0,
           0
          ],
          [
           0,
           0,
           0,
           0,
           0,
           0
          ]
         ]
        },
        {
         "colorscale": [
          [
           0,
           "rgb(254, 254, 253)"
          ],
          [
           0.09090909090909091,
           "rgb(224, 224, 223)"
          ],
          [
           0.18181818181818182,
           "rgb(197, 197, 195)"
          ],
          [
           0.2727272727272727,
           "rgb(171, 171, 170)"
          ],
          [
           0.36363636363636365,
           "rgb(146, 146, 145)"
          ],
          [
           0.45454545454545453,
           "rgb(124, 123, 122)"
          ],
          [
           0.5454545454545454,
           "rgb(102, 101, 101)"
          ],
          [
           0.6363636363636364,
           "rgb(81, 80, 80)"
          ],
          [
           0.7272727272727273,
           "rgb(59, 59, 59)"
          ],
          [
           0.8181818181818182,
           "rgb(38, 38, 38)"
          ],
          [
           0.9090909090909091,
           "rgb(16, 16, 16)"
          ],
          [
           1,
           "rgb(0, 0, 0)"
          ]
         ],
         "hovertemplate": "%{hovertext}<extra></extra>",
         "hovertext": [
          [
           "A1",
           "B1",
           "C1",
           "D1",
           "E1",
           "F1"
          ],
          [
           "A2",
           "B2",
           "C2",
           "D2",
           "E2",
           "F2"
          ],
          [
           "A3",
           "B3",
           "C3",
           "D3",
           "E3",
           "F3"
          ],
          [
           "A4",
           "B4",
           "C4",
           "D4",
           "E4",
           "F4"
          ],
          [
           "A5",
           "B5",
           "C5",
           "D5",
           "E5",
           "F5"
          ],
          [
           "A6",
           "B6",
           "C6",
           "D6",
           "E6",
           "F6"
          ]
         ],
         "showscale": false,
         "text": [
          [
           "",
           "",
           "",
           "",
           "",
           ""
          ],
          [
           "",
           "",
           "",
           "",
           "",
           ""
          ],
          [
           "",
           "",
           "",
           "",
           "",
           ""
          ],
          [
           "o",
           "",
           "",
           "",
           "",
           ""
          ],
          [
           "",
           "",
           "X",
           "X",
           "X",
           ""
          ],
          [
           "X",
           "",
           "",
           "",
           "",
           ""
          ]
         ],
         "textfont": {
          "color": "white"
         },
         "texttemplate": "%{text}",
         "type": "heatmap",
         "x": [
          "A",
          "B",
          "C",
          "D",
          "E",
          "F"
         ],
         "xaxis": "x13",
         "xgap": 0.2,
         "y": [
          "1",
          "2",
          "3",
          "4",
          "5",
          "6"
         ],
         "yaxis": "y13",
         "ygap": 0.2,
         "z": [
          [
           0,
           0,
           -1,
           0,
           0,
           -1
          ],
          [
           1,
           -1,
           0,
           -1,
           -1,
           -1
          ],
          [
           1,
           -1,
           -1,
           -1,
           -1,
           -1
          ],
          [
           1,
           0,
           1,
           1,
           0,
           0
          ],
          [
           0,
           1,
           0,
           0,
           0,
           0
          ],
          [
           0,
           0,
           0,
           0,
           0,
           0
          ]
         ]
        },
        {
         "colorscale": [
          [
           0,
           "rgb(254, 254, 253)"
          ],
          [
           0.09090909090909091,
           "rgb(224, 224, 223)"
          ],
          [
           0.18181818181818182,
           "rgb(197, 197, 195)"
          ],
          [
           0.2727272727272727,
           "rgb(171, 171, 170)"
          ],
          [
           0.36363636363636365,
           "rgb(146, 146, 145)"
          ],
          [
           0.45454545454545453,
           "rgb(124, 123, 122)"
          ],
          [
           0.5454545454545454,
           "rgb(102, 101, 101)"
          ],
          [
           0.6363636363636364,
           "rgb(81, 80, 80)"
          ],
          [
           0.7272727272727273,
           "rgb(59, 59, 59)"
          ],
          [
           0.8181818181818182,
           "rgb(38, 38, 38)"
          ],
          [
           0.9090909090909091,
           "rgb(16, 16, 16)"
          ],
          [
           1,
           "rgb(0, 0, 0)"
          ]
         ],
         "hovertemplate": "%{hovertext}<extra></extra>",
         "hovertext": [
          [
           "A1",
           "B1",
           "C1",
           "D1",
           "E1",
           "F1"
          ],
          [
           "A2",
           "B2",
           "C2",
           "D2",
           "E2",
           "F2"
          ],
          [
           "A3",
           "B3",
           "C3",
           "D3",
           "E3",
           "F3"
          ],
          [
           "A4",
           "B4",
           "C4",
           "D4",
           "E4",
           "F4"
          ],
          [
           "A5",
           "B5",
           "C5",
           "D5",
           "E5",
           "F5"
          ],
          [
           "A6",
           "B6",
           "C6",
           "D6",
           "E6",
           "F6"
          ]
         ],
         "showscale": false,
         "text": [
          [
           "",
           "",
           "",
           "",
           "",
           ""
          ],
          [
           "",
           "",
           "X",
           "",
           "",
           ""
          ],
          [
           "",
           "",
           "",
           "",
           "",
           ""
          ],
          [
           "",
           "",
           "",
           "",
           "",
           ""
          ],
          [
           "",
           "",
           "",
           "o",
           "",
           ""
          ],
          [
           "",
           "",
           "",
           "",
           "X",
           ""
          ]
         ],
         "textfont": {
          "color": "black"
         },
         "texttemplate": "%{text}",
         "type": "heatmap",
         "x": [
          "A",
          "B",
          "C",
          "D",
          "E",
          "F"
         ],
         "xaxis": "x14",
         "xgap": 0.2,
         "y": [
          "1",
          "2",
          "3",
          "4",
          "5",
          "6"
         ],
         "yaxis": "y14",
         "ygap": 0.2,
         "z": [
          [
           0,
           0,
           -1,
           0,
           0,
           -1
          ],
          [
           1,
           -1,
           0,
           -1,
           -1,
           -1
          ],
          [
           1,
           -1,
           -1,
           -1,
           -1,
           -1
          ],
          [
           1,
           0,
           -1,
           -1,
           0,
           0
          ],
          [
           0,
           1,
           0,
           -1,
           0,
           0
          ],
          [
           0,
           0,
           0,
           0,
           0,
           0
          ]
         ]
        },
        {
         "colorscale": [
          [
           0,
           "rgb(254, 254, 253)"
          ],
          [
           0.09090909090909091,
           "rgb(224, 224, 223)"
          ],
          [
           0.18181818181818182,
           "rgb(197, 197, 195)"
          ],
          [
           0.2727272727272727,
           "rgb(171, 171, 170)"
          ],
          [
           0.36363636363636365,
           "rgb(146, 146, 145)"
          ],
          [
           0.45454545454545453,
           "rgb(124, 123, 122)"
          ],
          [
           0.5454545454545454,
           "rgb(102, 101, 101)"
          ],
          [
           0.6363636363636364,
           "rgb(81, 80, 80)"
          ],
          [
           0.7272727272727273,
           "rgb(59, 59, 59)"
          ],
          [
           0.8181818181818182,
           "rgb(38, 38, 38)"
          ],
          [
           0.9090909090909091,
           "rgb(16, 16, 16)"
          ],
          [
           1,
           "rgb(0, 0, 0)"
          ]
         ],
         "hovertemplate": "%{hovertext}<extra></extra>",
         "hovertext": [
          [
           "A1",
           "B1",
           "C1",
           "D1",
           "E1",
           "F1"
          ],
          [
           "A2",
           "B2",
           "C2",
           "D2",
           "E2",
           "F2"
          ],
          [
           "A3",
           "B3",
           "C3",
           "D3",
           "E3",
           "F3"
          ],
          [
           "A4",
           "B4",
           "C4",
           "D4",
           "E4",
           "F4"
          ],
          [
           "A5",
           "B5",
           "C5",
           "D5",
           "E5",
           "F5"
          ],
          [
           "A6",
           "B6",
           "C6",
           "D6",
           "E6",
           "F6"
          ]
         ],
         "showscale": false,
         "text": [
          [
           "",
           "",
           "",
           "",
           "",
           ""
          ],
          [
           "",
           "",
           "",
           "",
           "",
           ""
          ],
          [
           "",
           "",
           "",
           "",
           "",
           ""
          ],
          [
           "",
           "X",
           "",
           "",
           "",
           ""
          ],
          [
           "",
           "",
           "X",
           "",
           "",
           ""
          ],
          [
           "X",
           "",
           "",
           "X",
           "o",
           ""
          ]
         ],
         "textfont": {
          "color": "white"
         },
         "texttemplate": "%{text}",
         "type": "heatmap",
         "x": [
          "A",
          "B",
          "C",
          "D",
          "E",
          "F"
         ],
         "xaxis": "x15",
         "xgap": 0.2,
         "y": [
          "1",
          "2",
          "3",
          "4",
          "5",
          "6"
         ],
         "yaxis": "y15",
         "ygap": 0.2,
         "z": [
          [
           0,
           0,
           -1,
           0,
           0,
           -1
          ],
          [
           1,
           -1,
           0,
           -1,
           -1,
           -1
          ],
          [
           1,
           1,
           -1,
           -1,
           -1,
           -1
          ],
          [
           1,
           0,
           1,
           -1,
           0,
           0
          ],
          [
           0,
           1,
           0,
           1,
           0,
           0
          ],
          [
           0,
           0,
           0,
           0,
           1,
           0
          ]
         ]
        },
        {
         "colorscale": [
          [
           0,
           "rgb(254, 254, 253)"
          ],
          [
           0.09090909090909091,
           "rgb(224, 224, 223)"
          ],
          [
           0.18181818181818182,
           "rgb(197, 197, 195)"
          ],
          [
           0.2727272727272727,
           "rgb(171, 171, 170)"
          ],
          [
           0.36363636363636365,
           "rgb(146, 146, 145)"
          ],
          [
           0.45454545454545453,
           "rgb(124, 123, 122)"
          ],
          [
           0.5454545454545454,
           "rgb(102, 101, 101)"
          ],
          [
           0.6363636363636364,
           "rgb(81, 80, 80)"
          ],
          [
           0.7272727272727273,
           "rgb(59, 59, 59)"
          ],
          [
           0.8181818181818182,
           "rgb(38, 38, 38)"
          ],
          [
           0.9090909090909091,
           "rgb(16, 16, 16)"
          ],
          [
           1,
           "rgb(0, 0, 0)"
          ]
         ],
         "hovertemplate": "%{hovertext}<extra></extra>",
         "hovertext": [
          [
           "A1",
           "B1",
           "C1",
           "D1",
           "E1",
           "F1"
          ],
          [
           "A2",
           "B2",
           "C2",
           "D2",
           "E2",
           "F2"
          ],
          [
           "A3",
           "B3",
           "C3",
           "D3",
           "E3",
           "F3"
          ],
          [
           "A4",
           "B4",
           "C4",
           "D4",
           "E4",
           "F4"
          ],
          [
           "A5",
           "B5",
           "C5",
           "D5",
           "E5",
           "F5"
          ],
          [
           "A6",
           "B6",
           "C6",
           "D6",
           "E6",
           "F6"
          ]
         ],
         "showscale": false,
         "text": [
          [
           "",
           "X",
           "",
           "X",
           "",
           ""
          ],
          [
           "",
           "",
           "X",
           "",
           "",
           ""
          ],
          [
           "",
           "",
           "",
           "",
           "",
           ""
          ],
          [
           "",
           "",
           "",
           "",
           "",
           ""
          ],
          [
           "",
           "",
           "o",
           "",
           "",
           ""
          ],
          [
           "",
           "",
           "",
           "",
           "",
           ""
          ]
         ],
         "textfont": {
          "color": "black"
         },
         "texttemplate": "%{text}",
         "type": "heatmap",
         "x": [
          "A",
          "B",
          "C",
          "D",
          "E",
          "F"
         ],
         "xaxis": "x16",
         "xgap": 0.2,
         "y": [
          "1",
          "2",
          "3",
          "4",
          "5",
          "6"
         ],
         "yaxis": "y16",
         "ygap": 0.2,
         "z": [
          [
           0,
           0,
           -1,
           0,
           0,
           -1
          ],
          [
           1,
           -1,
           0,
           -1,
           -1,
           -1
          ],
          [
           1,
           1,
           -1,
           -1,
           -1,
           -1
          ],
          [
           1,
           0,
           -1,
           -1,
           0,
           0
          ],
          [
           0,
           1,
           -1,
           1,
           0,
           0
          ],
          [
           0,
           0,
           0,
           0,
           1,
           0
          ]
         ]
        },
        {
         "colorscale": [
          [
           0,
           "rgb(254, 254, 253)"
          ],
          [
           0.09090909090909091,
           "rgb(224, 224, 223)"
          ],
          [
           0.18181818181818182,
           "rgb(197, 197, 195)"
          ],
          [
           0.2727272727272727,
           "rgb(171, 171, 170)"
          ],
          [
           0.36363636363636365,
           "rgb(146, 146, 145)"
          ],
          [
           0.45454545454545453,
           "rgb(124, 123, 122)"
          ],
          [
           0.5454545454545454,
           "rgb(102, 101, 101)"
          ],
          [
           0.6363636363636364,
           "rgb(81, 80, 80)"
          ],
          [
           0.7272727272727273,
           "rgb(59, 59, 59)"
          ],
          [
           0.8181818181818182,
           "rgb(38, 38, 38)"
          ],
          [
           0.9090909090909091,
           "rgb(16, 16, 16)"
          ],
          [
           1,
           "rgb(0, 0, 0)"
          ]
         ],
         "hovertemplate": "%{hovertext}<extra></extra>",
         "hovertext": [
          [
           "A1",
           "B1",
           "C1",
           "D1",
           "E1",
           "F1"
          ],
          [
           "A2",
           "B2",
           "C2",
           "D2",
           "E2",
           "F2"
          ],
          [
           "A3",
           "B3",
           "C3",
           "D3",
           "E3",
           "F3"
          ],
          [
           "A4",
           "B4",
           "C4",
           "D4",
           "E4",
           "F4"
          ],
          [
           "A5",
           "B5",
           "C5",
           "D5",
           "E5",
           "F5"
          ],
          [
           "A6",
           "B6",
           "C6",
           "D6",
           "E6",
           "F6"
          ]
         ],
         "showscale": false,
         "text": [
          [
           "X",
           "o",
           "",
           "",
           "",
           ""
          ],
          [
           "",
           "",
           "",
           "",
           "",
           ""
          ],
          [
           "",
           "",
           "",
           "",
           "",
           ""
          ],
          [
           "",
           "",
           "",
           "",
           "",
           ""
          ],
          [
           "X",
           "",
           "",
           "",
           "X",
           ""
          ],
          [
           "X",
           "",
           "",
           "X",
           "",
           ""
          ]
         ],
         "textfont": {
          "color": "white"
         },
         "texttemplate": "%{text}",
         "type": "heatmap",
         "x": [
          "A",
          "B",
          "C",
          "D",
          "E",
          "F"
         ],
         "xaxis": "x17",
         "xgap": 0.2,
         "y": [
          "1",
          "2",
          "3",
          "4",
          "5",
          "6"
         ],
         "yaxis": "y17",
         "ygap": 0.2,
         "z": [
          [
           0,
           1,
           -1,
           0,
           0,
           -1
          ],
          [
           1,
           1,
           0,
           -1,
           -1,
           -1
          ],
          [
           1,
           1,
           -1,
           -1,
           -1,
           -1
          ],
          [
           1,
           0,
           -1,
           -1,
           0,
           0
          ],
          [
           0,
           1,
           -1,
           1,
           0,
           0
          ],
          [
           0,
           0,
           0,
           0,
           1,
           0
          ]
         ]
        },
        {
         "colorscale": [
          [
           0,
           "rgb(254, 254, 253)"
          ],
          [
           0.09090909090909091,
           "rgb(224, 224, 223)"
          ],
          [
           0.18181818181818182,
           "rgb(197, 197, 195)"
          ],
          [
           0.2727272727272727,
           "rgb(171, 171, 170)"
          ],
          [
           0.36363636363636365,
           "rgb(146, 146, 145)"
          ],
          [
           0.45454545454545453,
           "rgb(124, 123, 122)"
          ],
          [
           0.5454545454545454,
           "rgb(102, 101, 101)"
          ],
          [
           0.6363636363636364,
           "rgb(81, 80, 80)"
          ],
          [
           0.7272727272727273,
           "rgb(59, 59, 59)"
          ],
          [
           0.8181818181818182,
           "rgb(38, 38, 38)"
          ],
          [
           0.9090909090909091,
           "rgb(16, 16, 16)"
          ],
          [
           1,
           "rgb(0, 0, 0)"
          ]
         ],
         "hovertemplate": "%{hovertext}<extra></extra>",
         "hovertext": [
          [
           "A1",
           "B1",
           "C1",
           "D1",
           "E1",
           "F1"
          ],
          [
           "A2",
           "B2",
           "C2",
           "D2",
           "E2",
           "F2"
          ],
          [
           "A3",
           "B3",
           "C3",
           "D3",
           "E3",
           "F3"
          ],
          [
           "A4",
           "B4",
           "C4",
           "D4",
           "E4",
           "F4"
          ],
          [
           "A5",
           "B5",
           "C5",
           "D5",
           "E5",
           "F5"
          ],
          [
           "A6",
           "B6",
           "C6",
           "D6",
           "E6",
           "F6"
          ]
         ],
         "showscale": false,
         "text": [
          [
           "",
           "",
           "",
           "X",
           "",
           ""
          ],
          [
           "",
           "",
           "",
           "",
           "",
           ""
          ],
          [
           "",
           "",
           "",
           "",
           "",
           ""
          ],
          [
           "",
           "",
           "",
           "",
           "",
           ""
          ],
          [
           "X",
           "",
           "",
           "",
           "X",
           ""
          ],
          [
           "o",
           "",
           "X",
           "",
           "",
           ""
          ]
         ],
         "textfont": {
          "color": "black"
         },
         "texttemplate": "%{text}",
         "type": "heatmap",
         "x": [
          "A",
          "B",
          "C",
          "D",
          "E",
          "F"
         ],
         "xaxis": "x18",
         "xgap": 0.2,
         "y": [
          "1",
          "2",
          "3",
          "4",
          "5",
          "6"
         ],
         "yaxis": "y18",
         "ygap": 0.2,
         "z": [
          [
           0,
           1,
           -1,
           0,
           0,
           -1
          ],
          [
           1,
           1,
           0,
           -1,
           -1,
           -1
          ],
          [
           1,
           1,
           -1,
           -1,
           -1,
           -1
          ],
          [
           1,
           0,
           -1,
           -1,
           0,
           0
          ],
          [
           0,
           -1,
           -1,
           1,
           0,
           0
          ],
          [
           -1,
           0,
           0,
           0,
           1,
           0
          ]
         ]
        },
        {
         "colorscale": [
          [
           0,
           "rgb(254, 254, 253)"
          ],
          [
           0.09090909090909091,
           "rgb(224, 224, 223)"
          ],
          [
           0.18181818181818182,
           "rgb(197, 197, 195)"
          ],
          [
           0.2727272727272727,
           "rgb(171, 171, 170)"
          ],
          [
           0.36363636363636365,
           "rgb(146, 146, 145)"
          ],
          [
           0.45454545454545453,
           "rgb(124, 123, 122)"
          ],
          [
           0.5454545454545454,
           "rgb(102, 101, 101)"
          ],
          [
           0.6363636363636364,
           "rgb(81, 80, 80)"
          ],
          [
           0.7272727272727273,
           "rgb(59, 59, 59)"
          ],
          [
           0.8181818181818182,
           "rgb(38, 38, 38)"
          ],
          [
           0.9090909090909091,
           "rgb(16, 16, 16)"
          ],
          [
           1,
           "rgb(0, 0, 0)"
          ]
         ],
         "hovertemplate": "%{hovertext}<extra></extra>",
         "hovertext": [
          [
           "A1",
           "B1",
           "C1",
           "D1",
           "E1",
           "F1"
          ],
          [
           "A2",
           "B2",
           "C2",
           "D2",
           "E2",
           "F2"
          ],
          [
           "A3",
           "B3",
           "C3",
           "D3",
           "E3",
           "F3"
          ],
          [
           "A4",
           "B4",
           "C4",
           "D4",
           "E4",
           "F4"
          ],
          [
           "A5",
           "B5",
           "C5",
           "D5",
           "E5",
           "F5"
          ],
          [
           "A6",
           "B6",
           "C6",
           "D6",
           "E6",
           "F6"
          ]
         ],
         "showscale": false,
         "text": [
          [
           "X",
           "",
           "",
           "",
           "",
           ""
          ],
          [
           "",
           "",
           "",
           "",
           "",
           ""
          ],
          [
           "",
           "",
           "",
           "",
           "",
           ""
          ],
          [
           "",
           "",
           "",
           "",
           "",
           ""
          ],
          [
           "o",
           "",
           "",
           "",
           "",
           ""
          ],
          [
           "",
           "X",
           "X",
           "X",
           "",
           ""
          ]
         ],
         "textfont": {
          "color": "white"
         },
         "texttemplate": "%{text}",
         "type": "heatmap",
         "x": [
          "A",
          "B",
          "C",
          "D",
          "E",
          "F"
         ],
         "xaxis": "x19",
         "xgap": 0.2,
         "y": [
          "1",
          "2",
          "3",
          "4",
          "5",
          "6"
         ],
         "yaxis": "y19",
         "ygap": 0.2,
         "z": [
          [
           0,
           1,
           -1,
           0,
           0,
           -1
          ],
          [
           1,
           1,
           0,
           -1,
           -1,
           -1
          ],
          [
           1,
           1,
           -1,
           -1,
           -1,
           -1
          ],
          [
           1,
           0,
           -1,
           -1,
           0,
           0
          ],
          [
           1,
           1,
           1,
           1,
           0,
           0
          ],
          [
           -1,
           0,
           0,
           0,
           1,
           0
          ]
         ]
        },
        {
         "colorscale": [
          [
           0,
           "rgb(254, 254, 253)"
          ],
          [
           0.09090909090909091,
           "rgb(224, 224, 223)"
          ],
          [
           0.18181818181818182,
           "rgb(197, 197, 195)"
          ],
          [
           0.2727272727272727,
           "rgb(171, 171, 170)"
          ],
          [
           0.36363636363636365,
           "rgb(146, 146, 145)"
          ],
          [
           0.45454545454545453,
           "rgb(124, 123, 122)"
          ],
          [
           0.5454545454545454,
           "rgb(102, 101, 101)"
          ],
          [
           0.6363636363636364,
           "rgb(81, 80, 80)"
          ],
          [
           0.7272727272727273,
           "rgb(59, 59, 59)"
          ],
          [
           0.8181818181818182,
           "rgb(38, 38, 38)"
          ],
          [
           0.9090909090909091,
           "rgb(16, 16, 16)"
          ],
          [
           1,
           "rgb(0, 0, 0)"
          ]
         ],
         "hovertemplate": "%{hovertext}<extra></extra>",
         "hovertext": [
          [
           "A1",
           "B1",
           "C1",
           "D1",
           "E1",
           "F1"
          ],
          [
           "A2",
           "B2",
           "C2",
           "D2",
           "E2",
           "F2"
          ],
          [
           "A3",
           "B3",
           "C3",
           "D3",
           "E3",
           "F3"
          ],
          [
           "A4",
           "B4",
           "C4",
           "D4",
           "E4",
           "F4"
          ],
          [
           "A5",
           "B5",
           "C5",
           "D5",
           "E5",
           "F5"
          ],
          [
           "A6",
           "B6",
           "C6",
           "D6",
           "E6",
           "F6"
          ]
         ],
         "showscale": false,
         "text": [
          [
           "",
           "",
           "",
           "X",
           "",
           ""
          ],
          [
           "",
           "",
           "X",
           "",
           "",
           ""
          ],
          [
           "",
           "",
           "",
           "",
           "",
           ""
          ],
          [
           "",
           "",
           "",
           "",
           "",
           ""
          ],
          [
           "",
           "",
           "",
           "",
           "X",
           ""
          ],
          [
           "",
           "",
           "X",
           "o",
           "",
           ""
          ]
         ],
         "textfont": {
          "color": "black"
         },
         "texttemplate": "%{text}",
         "type": "heatmap",
         "x": [
          "A",
          "B",
          "C",
          "D",
          "E",
          "F"
         ],
         "xaxis": "x20",
         "xgap": 0.2,
         "y": [
          "1",
          "2",
          "3",
          "4",
          "5",
          "6"
         ],
         "yaxis": "y20",
         "ygap": 0.2,
         "z": [
          [
           0,
           1,
           -1,
           0,
           0,
           -1
          ],
          [
           1,
           1,
           0,
           -1,
           -1,
           -1
          ],
          [
           1,
           1,
           -1,
           -1,
           -1,
           -1
          ],
          [
           1,
           0,
           -1,
           -1,
           0,
           0
          ],
          [
           1,
           1,
           1,
           -1,
           0,
           0
          ],
          [
           -1,
           0,
           0,
           -1,
           1,
           0
          ]
         ]
        },
        {
         "colorscale": [
          [
           0,
           "rgb(254, 254, 253)"
          ],
          [
           0.09090909090909091,
           "rgb(224, 224, 223)"
          ],
          [
           0.18181818181818182,
           "rgb(197, 197, 195)"
          ],
          [
           0.2727272727272727,
           "rgb(171, 171, 170)"
          ],
          [
           0.36363636363636365,
           "rgb(146, 146, 145)"
          ],
          [
           0.45454545454545453,
           "rgb(124, 123, 122)"
          ],
          [
           0.5454545454545454,
           "rgb(102, 101, 101)"
          ],
          [
           0.6363636363636364,
           "rgb(81, 80, 80)"
          ],
          [
           0.7272727272727273,
           "rgb(59, 59, 59)"
          ],
          [
           0.8181818181818182,
           "rgb(38, 38, 38)"
          ],
          [
           0.9090909090909091,
           "rgb(16, 16, 16)"
          ],
          [
           1,
           "rgb(0, 0, 0)"
          ]
         ],
         "hovertemplate": "%{hovertext}<extra></extra>",
         "hovertext": [
          [
           "A1",
           "B1",
           "C1",
           "D1",
           "E1",
           "F1"
          ],
          [
           "A2",
           "B2",
           "C2",
           "D2",
           "E2",
           "F2"
          ],
          [
           "A3",
           "B3",
           "C3",
           "D3",
           "E3",
           "F3"
          ],
          [
           "A4",
           "B4",
           "C4",
           "D4",
           "E4",
           "F4"
          ],
          [
           "A5",
           "B5",
           "C5",
           "D5",
           "E5",
           "F5"
          ],
          [
           "A6",
           "B6",
           "C6",
           "D6",
           "E6",
           "F6"
          ]
         ],
         "showscale": false,
         "text": [
          [
           "X",
           "",
           "",
           "",
           "",
           ""
          ],
          [
           "",
           "",
           "X",
           "",
           "",
           ""
          ],
          [
           "",
           "",
           "",
           "",
           "",
           ""
          ],
          [
           "",
           "X",
           "",
           "",
           "X",
           "X"
          ],
          [
           "",
           "",
           "",
           "",
           "o",
           ""
          ],
          [
           "",
           "X",
           "X",
           "",
           "",
           "X"
          ]
         ],
         "textfont": {
          "color": "white"
         },
         "texttemplate": "%{text}",
         "type": "heatmap",
         "x": [
          "A",
          "B",
          "C",
          "D",
          "E",
          "F"
         ],
         "xaxis": "x21",
         "xgap": 0.2,
         "y": [
          "1",
          "2",
          "3",
          "4",
          "5",
          "6"
         ],
         "yaxis": "y21",
         "ygap": 0.2,
         "z": [
          [
           0,
           1,
           -1,
           0,
           0,
           -1
          ],
          [
           1,
           1,
           0,
           -1,
           -1,
           -1
          ],
          [
           1,
           1,
           1,
           -1,
           -1,
           -1
          ],
          [
           1,
           0,
           -1,
           1,
           0,
           0
          ],
          [
           1,
           1,
           1,
           1,
           1,
           0
          ],
          [
           -1,
           0,
           0,
           -1,
           1,
           0
          ]
         ]
        },
        {
         "colorscale": [
          [
           0,
           "rgb(254, 254, 253)"
          ],
          [
           0.09090909090909091,
           "rgb(224, 224, 223)"
          ],
          [
           0.18181818181818182,
           "rgb(197, 197, 195)"
          ],
          [
           0.2727272727272727,
           "rgb(171, 171, 170)"
          ],
          [
           0.36363636363636365,
           "rgb(146, 146, 145)"
          ],
          [
           0.45454545454545453,
           "rgb(124, 123, 122)"
          ],
          [
           0.5454545454545454,
           "rgb(102, 101, 101)"
          ],
          [
           0.6363636363636364,
           "rgb(81, 80, 80)"
          ],
          [
           0.7272727272727273,
           "rgb(59, 59, 59)"
          ],
          [
           0.8181818181818182,
           "rgb(38, 38, 38)"
          ],
          [
           0.9090909090909091,
           "rgb(16, 16, 16)"
          ],
          [
           1,
           "rgb(0, 0, 0)"
          ]
         ],
         "hovertemplate": "%{hovertext}<extra></extra>",
         "hovertext": [
          [
           "A1",
           "B1",
           "C1",
           "D1",
           "E1",
           "F1"
          ],
          [
           "A2",
           "B2",
           "C2",
           "D2",
           "E2",
           "F2"
          ],
          [
           "A3",
           "B3",
           "C3",
           "D3",
           "E3",
           "F3"
          ],
          [
           "A4",
           "B4",
           "C4",
           "D4",
           "E4",
           "F4"
          ],
          [
           "A5",
           "B5",
           "C5",
           "D5",
           "E5",
           "F5"
          ],
          [
           "A6",
           "B6",
           "C6",
           "D6",
           "E6",
           "F6"
          ]
         ],
         "showscale": false,
         "text": [
          [
           "",
           "",
           "",
           "X",
           "X",
           ""
          ],
          [
           "",
           "",
           "",
           "",
           "",
           ""
          ],
          [
           "",
           "",
           "",
           "",
           "",
           ""
          ],
          [
           "",
           "",
           "",
           "",
           "o",
           ""
          ],
          [
           "",
           "",
           "",
           "",
           "",
           ""
          ],
          [
           "",
           "",
           "X",
           "",
           "",
           ""
          ]
         ],
         "textfont": {
          "color": "black"
         },
         "texttemplate": "%{text}",
         "type": "heatmap",
         "x": [
          "A",
          "B",
          "C",
          "D",
          "E",
          "F"
         ],
         "xaxis": "x22",
         "xgap": 0.2,
         "y": [
          "1",
          "2",
          "3",
          "4",
          "5",
          "6"
         ],
         "yaxis": "y22",
         "ygap": 0.2,
         "z": [
          [
           0,
           1,
           -1,
           0,
           0,
           -1
          ],
          [
           1,
           1,
           0,
           -1,
           -1,
           -1
          ],
          [
           1,
           1,
           1,
           -1,
           -1,
           -1
          ],
          [
           1,
           0,
           -1,
           -1,
           -1,
           0
          ],
          [
           1,
           1,
           1,
           1,
           1,
           0
          ],
          [
           -1,
           0,
           0,
           -1,
           1,
           0
          ]
         ]
        },
        {
         "colorscale": [
          [
           0,
           "rgb(254, 254, 253)"
          ],
          [
           0.09090909090909091,
           "rgb(224, 224, 223)"
          ],
          [
           0.18181818181818182,
           "rgb(197, 197, 195)"
          ],
          [
           0.2727272727272727,
           "rgb(171, 171, 170)"
          ],
          [
           0.36363636363636365,
           "rgb(146, 146, 145)"
          ],
          [
           0.45454545454545453,
           "rgb(124, 123, 122)"
          ],
          [
           0.5454545454545454,
           "rgb(102, 101, 101)"
          ],
          [
           0.6363636363636364,
           "rgb(81, 80, 80)"
          ],
          [
           0.7272727272727273,
           "rgb(59, 59, 59)"
          ],
          [
           0.8181818181818182,
           "rgb(38, 38, 38)"
          ],
          [
           0.9090909090909091,
           "rgb(16, 16, 16)"
          ],
          [
           1,
           "rgb(0, 0, 0)"
          ]
         ],
         "hovertemplate": "%{hovertext}<extra></extra>",
         "hovertext": [
          [
           "A1",
           "B1",
           "C1",
           "D1",
           "E1",
           "F1"
          ],
          [
           "A2",
           "B2",
           "C2",
           "D2",
           "E2",
           "F2"
          ],
          [
           "A3",
           "B3",
           "C3",
           "D3",
           "E3",
           "F3"
          ],
          [
           "A4",
           "B4",
           "C4",
           "D4",
           "E4",
           "F4"
          ],
          [
           "A5",
           "B5",
           "C5",
           "D5",
           "E5",
           "F5"
          ],
          [
           "A6",
           "B6",
           "C6",
           "D6",
           "E6",
           "F6"
          ]
         ],
         "showscale": false,
         "text": [
          [
           "X",
           "",
           "",
           "o",
           "",
           ""
          ],
          [
           "",
           "",
           "X",
           "",
           "",
           ""
          ],
          [
           "",
           "",
           "",
           "",
           "",
           ""
          ],
          [
           "",
           "X",
           "",
           "",
           "",
           "X"
          ],
          [
           "",
           "",
           "",
           "",
           "",
           ""
          ],
          [
           "",
           "X",
           "X",
           "",
           "",
           "X"
          ]
         ],
         "textfont": {
          "color": "white"
         },
         "texttemplate": "%{text}",
         "type": "heatmap",
         "x": [
          "A",
          "B",
          "C",
          "D",
          "E",
          "F"
         ],
         "xaxis": "x23",
         "xgap": 0.2,
         "y": [
          "1",
          "2",
          "3",
          "4",
          "5",
          "6"
         ],
         "yaxis": "y23",
         "ygap": 0.2,
         "z": [
          [
           0,
           1,
           1,
           1,
           0,
           -1
          ],
          [
           1,
           1,
           0,
           1,
           -1,
           -1
          ],
          [
           1,
           1,
           1,
           1,
           -1,
           -1
          ],
          [
           1,
           0,
           -1,
           1,
           -1,
           0
          ],
          [
           1,
           1,
           1,
           1,
           1,
           0
          ],
          [
           -1,
           0,
           0,
           -1,
           1,
           0
          ]
         ]
        },
        {
         "colorscale": [
          [
           0,
           "rgb(254, 254, 253)"
          ],
          [
           0.09090909090909091,
           "rgb(224, 224, 223)"
          ],
          [
           0.18181818181818182,
           "rgb(197, 197, 195)"
          ],
          [
           0.2727272727272727,
           "rgb(171, 171, 170)"
          ],
          [
           0.36363636363636365,
           "rgb(146, 146, 145)"
          ],
          [
           0.45454545454545453,
           "rgb(124, 123, 122)"
          ],
          [
           0.5454545454545454,
           "rgb(102, 101, 101)"
          ],
          [
           0.6363636363636364,
           "rgb(81, 80, 80)"
          ],
          [
           0.7272727272727273,
           "rgb(59, 59, 59)"
          ],
          [
           0.8181818181818182,
           "rgb(38, 38, 38)"
          ],
          [
           0.9090909090909091,
           "rgb(16, 16, 16)"
          ],
          [
           1,
           "rgb(0, 0, 0)"
          ]
         ],
         "hovertemplate": "%{hovertext}<extra></extra>",
         "hovertext": [
          [
           "A1",
           "B1",
           "C1",
           "D1",
           "E1",
           "F1"
          ],
          [
           "A2",
           "B2",
           "C2",
           "D2",
           "E2",
           "F2"
          ],
          [
           "A3",
           "B3",
           "C3",
           "D3",
           "E3",
           "F3"
          ],
          [
           "A4",
           "B4",
           "C4",
           "D4",
           "E4",
           "F4"
          ],
          [
           "A5",
           "B5",
           "C5",
           "D5",
           "E5",
           "F5"
          ],
          [
           "A6",
           "B6",
           "C6",
           "D6",
           "E6",
           "F6"
          ]
         ],
         "showscale": false,
         "text": [
          [
           "",
           "",
           "",
           "",
           "X",
           ""
          ],
          [
           "",
           "",
           "o",
           "",
           "",
           ""
          ],
          [
           "",
           "",
           "",
           "",
           "",
           ""
          ],
          [
           "",
           "X",
           "",
           "",
           "",
           "X"
          ],
          [
           "",
           "",
           "",
           "",
           "",
           "X"
          ],
          [
           "",
           "",
           "X",
           "",
           "",
           ""
          ]
         ],
         "textfont": {
          "color": "black"
         },
         "texttemplate": "%{text}",
         "type": "heatmap",
         "x": [
          "A",
          "B",
          "C",
          "D",
          "E",
          "F"
         ],
         "xaxis": "x24",
         "xgap": 0.2,
         "y": [
          "1",
          "2",
          "3",
          "4",
          "5",
          "6"
         ],
         "yaxis": "y24",
         "ygap": 0.2,
         "z": [
          [
           0,
           1,
           1,
           1,
           0,
           -1
          ],
          [
           1,
           1,
           -1,
           -1,
           -1,
           -1
          ],
          [
           1,
           1,
           -1,
           -1,
           -1,
           -1
          ],
          [
           1,
           0,
           -1,
           1,
           -1,
           0
          ],
          [
           1,
           1,
           1,
           1,
           1,
           0
          ],
          [
           -1,
           0,
           0,
           -1,
           1,
           0
          ]
         ]
        },
        {
         "colorscale": [
          [
           0,
           "rgb(254, 254, 253)"
          ],
          [
           0.09090909090909091,
           "rgb(224, 224, 223)"
          ],
          [
           0.18181818181818182,
           "rgb(197, 197, 195)"
          ],
          [
           0.2727272727272727,
           "rgb(171, 171, 170)"
          ],
          [
           0.36363636363636365,
           "rgb(146, 146, 145)"
          ],
          [
           0.45454545454545453,
           "rgb(124, 123, 122)"
          ],
          [
           0.5454545454545454,
           "rgb(102, 101, 101)"
          ],
          [
           0.6363636363636364,
           "rgb(81, 80, 80)"
          ],
          [
           0.7272727272727273,
           "rgb(59, 59, 59)"
          ],
          [
           0.8181818181818182,
           "rgb(38, 38, 38)"
          ],
          [
           0.9090909090909091,
           "rgb(16, 16, 16)"
          ],
          [
           1,
           "rgb(0, 0, 0)"
          ]
         ],
         "hovertemplate": "%{hovertext}<extra></extra>",
         "hovertext": [
          [
           "A1",
           "B1",
           "C1",
           "D1",
           "E1",
           "F1"
          ],
          [
           "A2",
           "B2",
           "C2",
           "D2",
           "E2",
           "F2"
          ],
          [
           "A3",
           "B3",
           "C3",
           "D3",
           "E3",
           "F3"
          ],
          [
           "A4",
           "B4",
           "C4",
           "D4",
           "E4",
           "F4"
          ],
          [
           "A5",
           "B5",
           "C5",
           "D5",
           "E5",
           "F5"
          ],
          [
           "A6",
           "B6",
           "C6",
           "D6",
           "E6",
           "F6"
          ]
         ],
         "showscale": false,
         "text": [
          [
           "X",
           "",
           "",
           "",
           "",
           ""
          ],
          [
           "",
           "",
           "",
           "",
           "",
           ""
          ],
          [
           "",
           "",
           "",
           "",
           "",
           ""
          ],
          [
           "",
           "X",
           "",
           "",
           "",
           "X"
          ],
          [
           "",
           "",
           "",
           "",
           "",
           "o"
          ],
          [
           "",
           "X",
           "X",
           "",
           "",
           "X"
          ]
         ],
         "textfont": {
          "color": "white"
         },
         "texttemplate": "%{text}",
         "type": "heatmap",
         "x": [
          "A",
          "B",
          "C",
          "D",
          "E",
          "F"
         ],
         "xaxis": "x25",
         "xgap": 0.2,
         "y": [
          "1",
          "2",
          "3",
          "4",
          "5",
          "6"
         ],
         "yaxis": "y25",
         "ygap": 0.2,
         "z": [
          [
           0,
           1,
           1,
           1,
           0,
           -1
          ],
          [
           1,
           1,
           1,
           -1,
           -1,
           -1
          ],
          [
           1,
           1,
           -1,
           1,
           -1,
           -1
          ],
          [
           1,
           0,
           -1,
           1,
           1,
           0
          ],
          [
           1,
           1,
           1,
           1,
           1,
           1
          ],
          [
           -1,
           0,
           0,
           -1,
           1,
           0
          ]
         ]
        },
        {
         "colorscale": [
          [
           0,
           "rgb(254, 254, 253)"
          ],
          [
           0.09090909090909091,
           "rgb(224, 224, 223)"
          ],
          [
           0.18181818181818182,
           "rgb(197, 197, 195)"
          ],
          [
           0.2727272727272727,
           "rgb(171, 171, 170)"
          ],
          [
           0.36363636363636365,
           "rgb(146, 146, 145)"
          ],
          [
           0.45454545454545453,
           "rgb(124, 123, 122)"
          ],
          [
           0.5454545454545454,
           "rgb(102, 101, 101)"
          ],
          [
           0.6363636363636364,
           "rgb(81, 80, 80)"
          ],
          [
           0.7272727272727273,
           "rgb(59, 59, 59)"
          ],
          [
           0.8181818181818182,
           "rgb(38, 38, 38)"
          ],
          [
           0.9090909090909091,
           "rgb(16, 16, 16)"
          ],
          [
           1,
           "rgb(0, 0, 0)"
          ]
         ],
         "hovertemplate": "%{hovertext}<extra></extra>",
         "hovertext": [
          [
           "A1",
           "B1",
           "C1",
           "D1",
           "E1",
           "F1"
          ],
          [
           "A2",
           "B2",
           "C2",
           "D2",
           "E2",
           "F2"
          ],
          [
           "A3",
           "B3",
           "C3",
           "D3",
           "E3",
           "F3"
          ],
          [
           "A4",
           "B4",
           "C4",
           "D4",
           "E4",
           "F4"
          ],
          [
           "A5",
           "B5",
           "C5",
           "D5",
           "E5",
           "F5"
          ],
          [
           "A6",
           "B6",
           "C6",
           "D6",
           "E6",
           "F6"
          ]
         ],
         "showscale": false,
         "text": [
          [
           "",
           "",
           "",
           "",
           "X",
           ""
          ],
          [
           "",
           "",
           "",
           "",
           "",
           ""
          ],
          [
           "",
           "",
           "",
           "",
           "",
           ""
          ],
          [
           "",
           "X",
           "",
           "",
           "",
           "X"
          ],
          [
           "",
           "",
           "",
           "",
           "",
           ""
          ],
          [
           "",
           "",
           "",
           "",
           "",
           "o"
          ]
         ],
         "textfont": {
          "color": "black"
         },
         "texttemplate": "%{text}",
         "type": "heatmap",
         "x": [
          "A",
          "B",
          "C",
          "D",
          "E",
          "F"
         ],
         "xaxis": "x26",
         "xgap": 0.2,
         "y": [
          "1",
          "2",
          "3",
          "4",
          "5",
          "6"
         ],
         "yaxis": "y26",
         "ygap": 0.2,
         "z": [
          [
           0,
           1,
           1,
           1,
           0,
           -1
          ],
          [
           1,
           1,
           1,
           -1,
           -1,
           -1
          ],
          [
           1,
           1,
           -1,
           1,
           -1,
           -1
          ],
          [
           1,
           0,
           -1,
           -1,
           1,
           0
          ],
          [
           1,
           1,
           1,
           1,
           -1,
           1
          ],
          [
           -1,
           0,
           0,
           -1,
           -1,
           -1
          ]
         ]
        },
        {
         "colorscale": [
          [
           0,
           "rgb(254, 254, 253)"
          ],
          [
           0.09090909090909091,
           "rgb(224, 224, 223)"
          ],
          [
           0.18181818181818182,
           "rgb(197, 197, 195)"
          ],
          [
           0.2727272727272727,
           "rgb(171, 171, 170)"
          ],
          [
           0.36363636363636365,
           "rgb(146, 146, 145)"
          ],
          [
           0.45454545454545453,
           "rgb(124, 123, 122)"
          ],
          [
           0.5454545454545454,
           "rgb(102, 101, 101)"
          ],
          [
           0.6363636363636364,
           "rgb(81, 80, 80)"
          ],
          [
           0.7272727272727273,
           "rgb(59, 59, 59)"
          ],
          [
           0.8181818181818182,
           "rgb(38, 38, 38)"
          ],
          [
           0.9090909090909091,
           "rgb(16, 16, 16)"
          ],
          [
           1,
           "rgb(0, 0, 0)"
          ]
         ],
         "hovertemplate": "%{hovertext}<extra></extra>",
         "hovertext": [
          [
           "A1",
           "B1",
           "C1",
           "D1",
           "E1",
           "F1"
          ],
          [
           "A2",
           "B2",
           "C2",
           "D2",
           "E2",
           "F2"
          ],
          [
           "A3",
           "B3",
           "C3",
           "D3",
           "E3",
           "F3"
          ],
          [
           "A4",
           "B4",
           "C4",
           "D4",
           "E4",
           "F4"
          ],
          [
           "A5",
           "B5",
           "C5",
           "D5",
           "E5",
           "F5"
          ],
          [
           "A6",
           "B6",
           "C6",
           "D6",
           "E6",
           "F6"
          ]
         ],
         "showscale": false,
         "text": [
          [
           "X",
           "",
           "",
           "",
           "X",
           ""
          ],
          [
           "",
           "",
           "",
           "",
           "",
           ""
          ],
          [
           "",
           "",
           "",
           "",
           "",
           ""
          ],
          [
           "",
           "X",
           "",
           "",
           "",
           "o"
          ],
          [
           "",
           "",
           "",
           "",
           "",
           ""
          ],
          [
           "",
           "X",
           "X",
           "",
           "",
           ""
          ]
         ],
         "textfont": {
          "color": "white"
         },
         "texttemplate": "%{text}",
         "type": "heatmap",
         "x": [
          "A",
          "B",
          "C",
          "D",
          "E",
          "F"
         ],
         "xaxis": "x27",
         "xgap": 0.2,
         "y": [
          "1",
          "2",
          "3",
          "4",
          "5",
          "6"
         ],
         "yaxis": "y27",
         "ygap": 0.2,
         "z": [
          [
           0,
           1,
           1,
           1,
           0,
           -1
          ],
          [
           1,
           1,
           1,
           1,
           -1,
           -1
          ],
          [
           1,
           1,
           -1,
           1,
           1,
           -1
          ],
          [
           1,
           0,
           -1,
           -1,
           1,
           1
          ],
          [
           1,
           1,
           1,
           1,
           -1,
           1
          ],
          [
           -1,
           0,
           0,
           -1,
           -1,
           -1
          ]
         ]
        },
        {
         "colorscale": [
          [
           0,
           "rgb(254, 254, 253)"
          ],
          [
           0.09090909090909091,
           "rgb(224, 224, 223)"
          ],
          [
           0.18181818181818182,
           "rgb(197, 197, 195)"
          ],
          [
           0.2727272727272727,
           "rgb(171, 171, 170)"
          ],
          [
           0.36363636363636365,
           "rgb(146, 146, 145)"
          ],
          [
           0.45454545454545453,
           "rgb(124, 123, 122)"
          ],
          [
           0.5454545454545454,
           "rgb(102, 101, 101)"
          ],
          [
           0.6363636363636364,
           "rgb(81, 80, 80)"
          ],
          [
           0.7272727272727273,
           "rgb(59, 59, 59)"
          ],
          [
           0.8181818181818182,
           "rgb(38, 38, 38)"
          ],
          [
           0.9090909090909091,
           "rgb(16, 16, 16)"
          ],
          [
           1,
           "rgb(0, 0, 0)"
          ]
         ],
         "hovertemplate": "%{hovertext}<extra></extra>",
         "hovertext": [
          [
           "A1",
           "B1",
           "C1",
           "D1",
           "E1",
           "F1"
          ],
          [
           "A2",
           "B2",
           "C2",
           "D2",
           "E2",
           "F2"
          ],
          [
           "A3",
           "B3",
           "C3",
           "D3",
           "E3",
           "F3"
          ],
          [
           "A4",
           "B4",
           "C4",
           "D4",
           "E4",
           "F4"
          ],
          [
           "A5",
           "B5",
           "C5",
           "D5",
           "E5",
           "F5"
          ],
          [
           "A6",
           "B6",
           "C6",
           "D6",
           "E6",
           "F6"
          ]
         ],
         "showscale": false,
         "text": [
          [
           "",
           "",
           "",
           "",
           "X",
           ""
          ],
          [
           "",
           "",
           "",
           "",
           "",
           ""
          ],
          [
           "",
           "",
           "",
           "",
           "",
           ""
          ],
          [
           "",
           "X",
           "",
           "",
           "",
           ""
          ],
          [
           "",
           "",
           "",
           "",
           "",
           ""
          ],
          [
           "",
           "o",
           "X",
           "",
           "",
           ""
          ]
         ],
         "textfont": {
          "color": "black"
         },
         "texttemplate": "%{text}",
         "type": "heatmap",
         "x": [
          "A",
          "B",
          "C",
          "D",
          "E",
          "F"
         ],
         "xaxis": "x28",
         "xgap": 0.2,
         "y": [
          "1",
          "2",
          "3",
          "4",
          "5",
          "6"
         ],
         "yaxis": "y28",
         "ygap": 0.2,
         "z": [
          [
           0,
           1,
           1,
           1,
           0,
           -1
          ],
          [
           1,
           1,
           1,
           1,
           -1,
           -1
          ],
          [
           1,
           1,
           -1,
           1,
           1,
           -1
          ],
          [
           1,
           0,
           -1,
           -1,
           1,
           1
          ],
          [
           1,
           1,
           -1,
           1,
           -1,
           1
          ],
          [
           -1,
           -1,
           0,
           -1,
           -1,
           -1
          ]
         ]
        },
        {
         "colorscale": [
          [
           0,
           "rgb(254, 254, 253)"
          ],
          [
           0.09090909090909091,
           "rgb(224, 224, 223)"
          ],
          [
           0.18181818181818182,
           "rgb(197, 197, 195)"
          ],
          [
           0.2727272727272727,
           "rgb(171, 171, 170)"
          ],
          [
           0.36363636363636365,
           "rgb(146, 146, 145)"
          ],
          [
           0.45454545454545453,
           "rgb(124, 123, 122)"
          ],
          [
           0.5454545454545454,
           "rgb(102, 101, 101)"
          ],
          [
           0.6363636363636364,
           "rgb(81, 80, 80)"
          ],
          [
           0.7272727272727273,
           "rgb(59, 59, 59)"
          ],
          [
           0.8181818181818182,
           "rgb(38, 38, 38)"
          ],
          [
           0.9090909090909091,
           "rgb(16, 16, 16)"
          ],
          [
           1,
           "rgb(0, 0, 0)"
          ]
         ],
         "hovertemplate": "%{hovertext}<extra></extra>",
         "hovertext": [
          [
           "A1",
           "B1",
           "C1",
           "D1",
           "E1",
           "F1"
          ],
          [
           "A2",
           "B2",
           "C2",
           "D2",
           "E2",
           "F2"
          ],
          [
           "A3",
           "B3",
           "C3",
           "D3",
           "E3",
           "F3"
          ],
          [
           "A4",
           "B4",
           "C4",
           "D4",
           "E4",
           "F4"
          ],
          [
           "A5",
           "B5",
           "C5",
           "D5",
           "E5",
           "F5"
          ],
          [
           "A6",
           "B6",
           "C6",
           "D6",
           "E6",
           "F6"
          ]
         ],
         "showscale": false,
         "text": [
          [
           "X",
           "",
           "",
           "",
           "",
           ""
          ],
          [
           "",
           "",
           "",
           "",
           "",
           ""
          ],
          [
           "",
           "",
           "",
           "",
           "",
           ""
          ],
          [
           "",
           "o",
           "",
           "",
           "",
           ""
          ],
          [
           "",
           "",
           "",
           "",
           "",
           ""
          ],
          [
           "",
           "",
           "X",
           "",
           "",
           ""
          ]
         ],
         "textfont": {
          "color": "white"
         },
         "texttemplate": "%{text}",
         "type": "heatmap",
         "x": [
          "A",
          "B",
          "C",
          "D",
          "E",
          "F"
         ],
         "xaxis": "x29",
         "xgap": 0.2,
         "y": [
          "1",
          "2",
          "3",
          "4",
          "5",
          "6"
         ],
         "yaxis": "y29",
         "ygap": 0.2,
         "z": [
          [
           0,
           1,
           1,
           1,
           0,
           -1
          ],
          [
           1,
           1,
           1,
           1,
           -1,
           -1
          ],
          [
           1,
           1,
           1,
           1,
           1,
           -1
          ],
          [
           1,
           1,
           1,
           1,
           1,
           1
          ],
          [
           1,
           1,
           -1,
           1,
           -1,
           1
          ],
          [
           -1,
           -1,
           0,
           -1,
           -1,
           -1
          ]
         ]
        },
        {
         "colorscale": [
          [
           0,
           "rgb(254, 254, 253)"
          ],
          [
           0.09090909090909091,
           "rgb(224, 224, 223)"
          ],
          [
           0.18181818181818182,
           "rgb(197, 197, 195)"
          ],
          [
           0.2727272727272727,
           "rgb(171, 171, 170)"
          ],
          [
           0.36363636363636365,
           "rgb(146, 146, 145)"
          ],
          [
           0.45454545454545453,
           "rgb(124, 123, 122)"
          ],
          [
           0.5454545454545454,
           "rgb(102, 101, 101)"
          ],
          [
           0.6363636363636364,
           "rgb(81, 80, 80)"
          ],
          [
           0.7272727272727273,
           "rgb(59, 59, 59)"
          ],
          [
           0.8181818181818182,
           "rgb(38, 38, 38)"
          ],
          [
           0.9090909090909091,
           "rgb(16, 16, 16)"
          ],
          [
           1,
           "rgb(0, 0, 0)"
          ]
         ],
         "hovertemplate": "%{hovertext}<extra></extra>",
         "hovertext": [
          [
           "A1",
           "B1",
           "C1",
           "D1",
           "E1",
           "F1"
          ],
          [
           "A2",
           "B2",
           "C2",
           "D2",
           "E2",
           "F2"
          ],
          [
           "A3",
           "B3",
           "C3",
           "D3",
           "E3",
           "F3"
          ],
          [
           "A4",
           "B4",
           "C4",
           "D4",
           "E4",
           "F4"
          ],
          [
           "A5",
           "B5",
           "C5",
           "D5",
           "E5",
           "F5"
          ],
          [
           "A6",
           "B6",
           "C6",
           "D6",
           "E6",
           "F6"
          ]
         ],
         "showscale": false,
         "text": [
          [
           "",
           "",
           "",
           "",
           "X",
           ""
          ],
          [
           "",
           "",
           "",
           "",
           "",
           ""
          ],
          [
           "",
           "",
           "",
           "",
           "",
           ""
          ],
          [
           "",
           "",
           "",
           "",
           "",
           ""
          ],
          [
           "",
           "",
           "",
           "",
           "",
           ""
          ],
          [
           "",
           "",
           "o",
           "",
           "",
           ""
          ]
         ],
         "textfont": {
          "color": "black"
         },
         "texttemplate": "%{text}",
         "type": "heatmap",
         "x": [
          "A",
          "B",
          "C",
          "D",
          "E",
          "F"
         ],
         "xaxis": "x30",
         "xgap": 0.2,
         "y": [
          "1",
          "2",
          "3",
          "4",
          "5",
          "6"
         ],
         "yaxis": "y30",
         "ygap": 0.2,
         "z": [
          [
           0,
           1,
           1,
           1,
           0,
           -1
          ],
          [
           1,
           1,
           1,
           1,
           -1,
           -1
          ],
          [
           1,
           1,
           1,
           1,
           1,
           -1
          ],
          [
           1,
           1,
           1,
           1,
           -1,
           1
          ],
          [
           1,
           1,
           -1,
           -1,
           -1,
           1
          ],
          [
           -1,
           -1,
           -1,
           -1,
           -1,
           -1
          ]
         ]
        },
        {
         "colorscale": [
          [
           0,
           "rgb(254, 254, 253)"
          ],
          [
           0.09090909090909091,
           "rgb(224, 224, 223)"
          ],
          [
           0.18181818181818182,
           "rgb(197, 197, 195)"
          ],
          [
           0.2727272727272727,
           "rgb(171, 171, 170)"
          ],
          [
           0.36363636363636365,
           "rgb(146, 146, 145)"
          ],
          [
           0.45454545454545453,
           "rgb(124, 123, 122)"
          ],
          [
           0.5454545454545454,
           "rgb(102, 101, 101)"
          ],
          [
           0.6363636363636364,
           "rgb(81, 80, 80)"
          ],
          [
           0.7272727272727273,
           "rgb(59, 59, 59)"
          ],
          [
           0.8181818181818182,
           "rgb(38, 38, 38)"
          ],
          [
           0.9090909090909091,
           "rgb(16, 16, 16)"
          ],
          [
           1,
           "rgb(0, 0, 0)"
          ]
         ],
         "hovertemplate": "%{hovertext}<extra></extra>",
         "hovertext": [
          [
           "A1",
           "B1",
           "C1",
           "D1",
           "E1",
           "F1"
          ],
          [
           "A2",
           "B2",
           "C2",
           "D2",
           "E2",
           "F2"
          ],
          [
           "A3",
           "B3",
           "C3",
           "D3",
           "E3",
           "F3"
          ],
          [
           "A4",
           "B4",
           "C4",
           "D4",
           "E4",
           "F4"
          ],
          [
           "A5",
           "B5",
           "C5",
           "D5",
           "E5",
           "F5"
          ],
          [
           "A6",
           "B6",
           "C6",
           "D6",
           "E6",
           "F6"
          ]
         ],
         "showscale": false,
         "text": [
          [
           "X",
           "",
           "",
           "",
           "o",
           ""
          ],
          [
           "",
           "",
           "",
           "",
           "",
           ""
          ],
          [
           "",
           "",
           "",
           "",
           "",
           ""
          ],
          [
           "",
           "",
           "",
           "",
           "",
           ""
          ],
          [
           "",
           "",
           "",
           "",
           "",
           ""
          ],
          [
           "",
           "",
           "",
           "",
           "",
           ""
          ]
         ],
         "textfont": {
          "color": "white"
         },
         "texttemplate": "%{text}",
         "type": "heatmap",
         "x": [
          "A",
          "B",
          "C",
          "D",
          "E",
          "F"
         ],
         "xaxis": "x31",
         "xgap": 0.2,
         "y": [
          "1",
          "2",
          "3",
          "4",
          "5",
          "6"
         ],
         "yaxis": "y31",
         "ygap": 0.2,
         "z": [
          [
           0,
           1,
           1,
           1,
           1,
           -1
          ],
          [
           1,
           1,
           1,
           1,
           1,
           -1
          ],
          [
           1,
           1,
           1,
           1,
           1,
           -1
          ],
          [
           1,
           1,
           1,
           1,
           -1,
           1
          ],
          [
           1,
           1,
           -1,
           -1,
           -1,
           1
          ],
          [
           -1,
           -1,
           -1,
           -1,
           -1,
           -1
          ]
         ]
        },
        {
         "colorscale": [
          [
           0,
           "rgb(254, 254, 253)"
          ],
          [
           0.09090909090909091,
           "rgb(224, 224, 223)"
          ],
          [
           0.18181818181818182,
           "rgb(197, 197, 195)"
          ],
          [
           0.2727272727272727,
           "rgb(171, 171, 170)"
          ],
          [
           0.36363636363636365,
           "rgb(146, 146, 145)"
          ],
          [
           0.45454545454545453,
           "rgb(124, 123, 122)"
          ],
          [
           0.5454545454545454,
           "rgb(102, 101, 101)"
          ],
          [
           0.6363636363636364,
           "rgb(81, 80, 80)"
          ],
          [
           0.7272727272727273,
           "rgb(59, 59, 59)"
          ],
          [
           0.8181818181818182,
           "rgb(38, 38, 38)"
          ],
          [
           0.9090909090909091,
           "rgb(16, 16, 16)"
          ],
          [
           1,
           "rgb(0, 0, 0)"
          ]
         ],
         "hovertemplate": "%{hovertext}<extra></extra>",
         "hovertext": [
          [
           "A1",
           "B1",
           "C1",
           "D1",
           "E1",
           "F1"
          ],
          [
           "A2",
           "B2",
           "C2",
           "D2",
           "E2",
           "F2"
          ],
          [
           "A3",
           "B3",
           "C3",
           "D3",
           "E3",
           "F3"
          ],
          [
           "A4",
           "B4",
           "C4",
           "D4",
           "E4",
           "F4"
          ],
          [
           "A5",
           "B5",
           "C5",
           "D5",
           "E5",
           "F5"
          ],
          [
           "A6",
           "B6",
           "C6",
           "D6",
           "E6",
           "F6"
          ]
         ],
         "showscale": false,
         "text": [
          [
           "o",
           "",
           "",
           "",
           "",
           ""
          ],
          [
           "",
           "",
           "",
           "",
           "",
           ""
          ],
          [
           "",
           "",
           "",
           "",
           "",
           ""
          ],
          [
           "",
           "",
           "",
           "",
           "",
           ""
          ],
          [
           "",
           "",
           "",
           "",
           "",
           ""
          ],
          [
           "",
           "",
           "",
           "",
           "",
           ""
          ]
         ],
         "textfont": {
          "color": "black"
         },
         "texttemplate": "%{text}",
         "type": "heatmap",
         "x": [
          "A",
          "B",
          "C",
          "D",
          "E",
          "F"
         ],
         "xaxis": "x32",
         "xgap": 0.2,
         "y": [
          "1",
          "2",
          "3",
          "4",
          "5",
          "6"
         ],
         "yaxis": "y32",
         "ygap": 0.2,
         "z": [
          [
           -1,
           -1,
           -1,
           -1,
           -1,
           -1
          ],
          [
           -1,
           -1,
           1,
           1,
           1,
           -1
          ],
          [
           -1,
           1,
           -1,
           1,
           1,
           -1
          ],
          [
           -1,
           1,
           1,
           -1,
           -1,
           1
          ],
          [
           -1,
           1,
           -1,
           -1,
           -1,
           1
          ],
          [
           -1,
           -1,
           -1,
           -1,
           -1,
           -1
          ]
         ]
        }
       ],
       "layout": {
        "annotations": [
         {
          "font": {
           "size": 18
          },
          "showarrow": false,
          "text": "1. D2",
          "x": 0.0515625,
          "xanchor": "center",
          "xref": "paper",
          "y": 1,
          "yanchor": "bottom",
          "yref": "paper"
         },
         {
          "font": {
           "size": 18
          },
          "showarrow": false,
          "text": "2. E2",
          "x": 0.1796875,
          "xanchor": "center",
          "xref": "paper",
          "y": 1,
          "yanchor": "bottom",
          "yref": "paper"
         },
         {
          "font": {
           "size": 18
          },
          "showarrow": false,
          "text": "3. F2",
          "x": 0.3078125,
          "xanchor": "center",
          "xref": "paper",
          "y": 1,
          "yanchor": "bottom",
          "yref": "paper"
         },
         {
          "font": {
           "size": 18
          },
          "showarrow": false,
          "text": "4. F1",
          "x": 0.4359375,
          "xanchor": "center",
          "xref": "paper",
          "y": 1,
          "yanchor": "bottom",
          "yref": "paper"
         },
         {
          "font": {
           "size": 18
          },
          "showarrow": false,
          "text": "5. E3",
          "x": 0.5640624999999999,
          "xanchor": "center",
          "xref": "paper",
          "y": 1,
          "yanchor": "bottom",
          "yref": "paper"
         },
         {
          "font": {
           "size": 18
          },
          "showarrow": false,
          "text": "6. F3",
          "x": 0.6921875,
          "xanchor": "center",
          "xref": "paper",
          "y": 1,
          "yanchor": "bottom",
          "yref": "paper"
         },
         {
          "font": {
           "size": 18
          },
          "showarrow": false,
          "text": "7. B5",
          "x": 0.8203125,
          "xanchor": "center",
          "xref": "paper",
          "y": 1,
          "yanchor": "bottom",
          "yref": "paper"
         },
         {
          "font": {
           "size": 18
          },
          "showarrow": false,
          "text": "8. B3",
          "x": 0.9484375,
          "xanchor": "center",
          "xref": "paper",
          "y": 1,
          "yanchor": "bottom",
          "yref": "paper"
         },
         {
          "font": {
           "size": 18
          },
          "showarrow": false,
          "text": "9. A2",
          "x": 0.0515625,
          "xanchor": "center",
          "xref": "paper",
          "y": 0.71875,
          "yanchor": "bottom",
          "yref": "paper"
         },
         {
          "font": {
           "size": 18
          },
          "showarrow": false,
          "text": "10. C1",
          "x": 0.1796875,
          "xanchor": "center",
          "xref": "paper",
          "y": 0.71875,
          "yanchor": "bottom",
          "yref": "paper"
         },
         {
          "font": {
           "size": 18
          },
          "showarrow": false,
          "text": "11. B2",
          "x": 0.3078125,
          "xanchor": "center",
          "xref": "paper",
          "y": 0.71875,
          "yanchor": "bottom",
          "yref": "paper"
         },
         {
          "font": {
           "size": 18
          },
          "showarrow": false,
          "text": "12. A3",
          "x": 0.4359375,
          "xanchor": "center",
          "xref": "paper",
          "y": 0.71875,
          "yanchor": "bottom",
          "yref": "paper"
         },
         {
          "font": {
           "size": 18
          },
          "showarrow": false,
          "text": "13. A4",
          "x": 0.5640624999999999,
          "xanchor": "center",
          "xref": "paper",
          "y": 0.71875,
          "yanchor": "bottom",
          "yref": "paper"
         },
         {
          "font": {
           "size": 18
          },
          "showarrow": false,
          "text": "14. D5",
          "x": 0.6921875,
          "xanchor": "center",
          "xref": "paper",
          "y": 0.71875,
          "yanchor": "bottom",
          "yref": "paper"
         },
         {
          "font": {
           "size": 18
          },
          "showarrow": false,
          "text": "15. E6",
          "x": 0.8203125,
          "xanchor": "center",
          "xref": "paper",
          "y": 0.71875,
          "yanchor": "bottom",
          "yref": "paper"
         },
         {
          "font": {
           "size": 18
          },
          "showarrow": false,
          "text": "16. C5",
          "x": 0.9484375,
          "xanchor": "center",
          "xref": "paper",
          "y": 0.71875,
          "yanchor": "bottom",
          "yref": "paper"
         },
         {
          "font": {
           "size": 18
          },
          "showarrow": false,
          "text": "17. B1",
          "x": 0.0515625,
          "xanchor": "center",
          "xref": "paper",
          "y": 0.4375,
          "yanchor": "bottom",
          "yref": "paper"
         },
         {
          "font": {
           "size": 18
          },
          "showarrow": false,
          "text": "18. A6",
          "x": 0.1796875,
          "xanchor": "center",
          "xref": "paper",
          "y": 0.4375,
          "yanchor": "bottom",
          "yref": "paper"
         },
         {
          "font": {
           "size": 18
          },
          "showarrow": false,
          "text": "19. A5",
          "x": 0.3078125,
          "xanchor": "center",
          "xref": "paper",
          "y": 0.4375,
          "yanchor": "bottom",
          "yref": "paper"
         },
         {
          "font": {
           "size": 18
          },
          "showarrow": false,
          "text": "20. D6",
          "x": 0.4359375,
          "xanchor": "center",
          "xref": "paper",
          "y": 0.4375,
          "yanchor": "bottom",
          "yref": "paper"
         },
         {
          "font": {
           "size": 18
          },
          "showarrow": false,
          "text": "21. E5",
          "x": 0.5640624999999999,
          "xanchor": "center",
          "xref": "paper",
          "y": 0.4375,
          "yanchor": "bottom",
          "yref": "paper"
         },
         {
          "font": {
           "size": 18
          },
          "showarrow": false,
          "text": "22. E4",
          "x": 0.6921875,
          "xanchor": "center",
          "xref": "paper",
          "y": 0.4375,
          "yanchor": "bottom",
          "yref": "paper"
         },
         {
          "font": {
           "size": 18
          },
          "showarrow": false,
          "text": "23. D1",
          "x": 0.8203125,
          "xanchor": "center",
          "xref": "paper",
          "y": 0.4375,
          "yanchor": "bottom",
          "yref": "paper"
         },
         {
          "font": {
           "size": 18
          },
          "showarrow": false,
          "text": "24. C2",
          "x": 0.9484375,
          "xanchor": "center",
          "xref": "paper",
          "y": 0.4375,
          "yanchor": "bottom",
          "yref": "paper"
         },
         {
          "font": {
           "size": 18
          },
          "showarrow": false,
          "text": "25. F5",
          "x": 0.0515625,
          "xanchor": "center",
          "xref": "paper",
          "y": 0.15625,
          "yanchor": "bottom",
          "yref": "paper"
         },
         {
          "font": {
           "size": 18
          },
          "showarrow": false,
          "text": "26. F6",
          "x": 0.1796875,
          "xanchor": "center",
          "xref": "paper",
          "y": 0.15625,
          "yanchor": "bottom",
          "yref": "paper"
         },
         {
          "font": {
           "size": 18
          },
          "showarrow": false,
          "text": "27. F4",
          "x": 0.3078125,
          "xanchor": "center",
          "xref": "paper",
          "y": 0.15625,
          "yanchor": "bottom",
          "yref": "paper"
         },
         {
          "font": {
           "size": 18
          },
          "showarrow": false,
          "text": "28. B6",
          "x": 0.4359375,
          "xanchor": "center",
          "xref": "paper",
          "y": 0.15625,
          "yanchor": "bottom",
          "yref": "paper"
         },
         {
          "font": {
           "size": 18
          },
          "showarrow": false,
          "text": "29. B4",
          "x": 0.5640624999999999,
          "xanchor": "center",
          "xref": "paper",
          "y": 0.15625,
          "yanchor": "bottom",
          "yref": "paper"
         },
         {
          "font": {
           "size": 18
          },
          "showarrow": false,
          "text": "30. C6",
          "x": 0.6921875,
          "xanchor": "center",
          "xref": "paper",
          "y": 0.15625,
          "yanchor": "bottom",
          "yref": "paper"
         },
         {
          "font": {
           "size": 18
          },
          "showarrow": false,
          "text": "31. E1",
          "x": 0.8203125,
          "xanchor": "center",
          "xref": "paper",
          "y": 0.15625,
          "yanchor": "bottom",
          "yref": "paper"
         },
         {
          "font": {
           "size": 18
          },
          "showarrow": false,
          "text": "32. A1",
          "x": 0.9484375,
          "xanchor": "center",
          "xref": "paper",
          "y": 0.15625,
          "yanchor": "bottom",
          "yref": "paper"
         }
        ],
        "font": {
         "size": 9
        },
        "height": 720,
        "margin": {
         "b": 22,
         "l": 22,
         "r": 22,
         "t": 22
        },
        "template": {
         "data": {
          "bar": [
           {
            "error_x": {
             "color": "#2a3f5f"
            },
            "error_y": {
             "color": "#2a3f5f"
            },
            "marker": {
             "line": {
              "color": "#E5ECF6",
              "width": 0.5
             },
             "pattern": {
              "fillmode": "overlay",
              "size": 10,
              "solidity": 0.2
             }
            },
            "type": "bar"
           }
          ],
          "barpolar": [
           {
            "marker": {
             "line": {
              "color": "#E5ECF6",
              "width": 0.5
             },
             "pattern": {
              "fillmode": "overlay",
              "size": 10,
              "solidity": 0.2
             }
            },
            "type": "barpolar"
           }
          ],
          "carpet": [
           {
            "aaxis": {
             "endlinecolor": "#2a3f5f",
             "gridcolor": "white",
             "linecolor": "white",
             "minorgridcolor": "white",
             "startlinecolor": "#2a3f5f"
            },
            "baxis": {
             "endlinecolor": "#2a3f5f",
             "gridcolor": "white",
             "linecolor": "white",
             "minorgridcolor": "white",
             "startlinecolor": "#2a3f5f"
            },
            "type": "carpet"
           }
          ],
          "choropleth": [
           {
            "colorbar": {
             "outlinewidth": 0,
             "ticks": ""
            },
            "type": "choropleth"
           }
          ],
          "contour": [
           {
            "colorbar": {
             "outlinewidth": 0,
             "ticks": ""
            },
            "colorscale": [
             [
              0,
              "#0d0887"
             ],
             [
              0.1111111111111111,
              "#46039f"
             ],
             [
              0.2222222222222222,
              "#7201a8"
             ],
             [
              0.3333333333333333,
              "#9c179e"
             ],
             [
              0.4444444444444444,
              "#bd3786"
             ],
             [
              0.5555555555555556,
              "#d8576b"
             ],
             [
              0.6666666666666666,
              "#ed7953"
             ],
             [
              0.7777777777777778,
              "#fb9f3a"
             ],
             [
              0.8888888888888888,
              "#fdca26"
             ],
             [
              1,
              "#f0f921"
             ]
            ],
            "type": "contour"
           }
          ],
          "contourcarpet": [
           {
            "colorbar": {
             "outlinewidth": 0,
             "ticks": ""
            },
            "type": "contourcarpet"
           }
          ],
          "heatmap": [
           {
            "colorbar": {
             "outlinewidth": 0,
             "ticks": ""
            },
            "colorscale": [
             [
              0,
              "#0d0887"
             ],
             [
              0.1111111111111111,
              "#46039f"
             ],
             [
              0.2222222222222222,
              "#7201a8"
             ],
             [
              0.3333333333333333,
              "#9c179e"
             ],
             [
              0.4444444444444444,
              "#bd3786"
             ],
             [
              0.5555555555555556,
              "#d8576b"
             ],
             [
              0.6666666666666666,
              "#ed7953"
             ],
             [
              0.7777777777777778,
              "#fb9f3a"
             ],
             [
              0.8888888888888888,
              "#fdca26"
             ],
             [
              1,
              "#f0f921"
             ]
            ],
            "type": "heatmap"
           }
          ],
          "heatmapgl": [
           {
            "colorbar": {
             "outlinewidth": 0,
             "ticks": ""
            },
            "colorscale": [
             [
              0,
              "#0d0887"
             ],
             [
              0.1111111111111111,
              "#46039f"
             ],
             [
              0.2222222222222222,
              "#7201a8"
             ],
             [
              0.3333333333333333,
              "#9c179e"
             ],
             [
              0.4444444444444444,
              "#bd3786"
             ],
             [
              0.5555555555555556,
              "#d8576b"
             ],
             [
              0.6666666666666666,
              "#ed7953"
             ],
             [
              0.7777777777777778,
              "#fb9f3a"
             ],
             [
              0.8888888888888888,
              "#fdca26"
             ],
             [
              1,
              "#f0f921"
             ]
            ],
            "type": "heatmapgl"
           }
          ],
          "histogram": [
           {
            "marker": {
             "pattern": {
              "fillmode": "overlay",
              "size": 10,
              "solidity": 0.2
             }
            },
            "type": "histogram"
           }
          ],
          "histogram2d": [
           {
            "colorbar": {
             "outlinewidth": 0,
             "ticks": ""
            },
            "colorscale": [
             [
              0,
              "#0d0887"
             ],
             [
              0.1111111111111111,
              "#46039f"
             ],
             [
              0.2222222222222222,
              "#7201a8"
             ],
             [
              0.3333333333333333,
              "#9c179e"
             ],
             [
              0.4444444444444444,
              "#bd3786"
             ],
             [
              0.5555555555555556,
              "#d8576b"
             ],
             [
              0.6666666666666666,
              "#ed7953"
             ],
             [
              0.7777777777777778,
              "#fb9f3a"
             ],
             [
              0.8888888888888888,
              "#fdca26"
             ],
             [
              1,
              "#f0f921"
             ]
            ],
            "type": "histogram2d"
           }
          ],
          "histogram2dcontour": [
           {
            "colorbar": {
             "outlinewidth": 0,
             "ticks": ""
            },
            "colorscale": [
             [
              0,
              "#0d0887"
             ],
             [
              0.1111111111111111,
              "#46039f"
             ],
             [
              0.2222222222222222,
              "#7201a8"
             ],
             [
              0.3333333333333333,
              "#9c179e"
             ],
             [
              0.4444444444444444,
              "#bd3786"
             ],
             [
              0.5555555555555556,
              "#d8576b"
             ],
             [
              0.6666666666666666,
              "#ed7953"
             ],
             [
              0.7777777777777778,
              "#fb9f3a"
             ],
             [
              0.8888888888888888,
              "#fdca26"
             ],
             [
              1,
              "#f0f921"
             ]
            ],
            "type": "histogram2dcontour"
           }
          ],
          "mesh3d": [
           {
            "colorbar": {
             "outlinewidth": 0,
             "ticks": ""
            },
            "type": "mesh3d"
           }
          ],
          "parcoords": [
           {
            "line": {
             "colorbar": {
              "outlinewidth": 0,
              "ticks": ""
             }
            },
            "type": "parcoords"
           }
          ],
          "pie": [
           {
            "automargin": true,
            "type": "pie"
           }
          ],
          "scatter": [
           {
            "fillpattern": {
             "fillmode": "overlay",
             "size": 10,
             "solidity": 0.2
            },
            "type": "scatter"
           }
          ],
          "scatter3d": [
           {
            "line": {
             "colorbar": {
              "outlinewidth": 0,
              "ticks": ""
             }
            },
            "marker": {
             "colorbar": {
              "outlinewidth": 0,
              "ticks": ""
             }
            },
            "type": "scatter3d"
           }
          ],
          "scattercarpet": [
           {
            "marker": {
             "colorbar": {
              "outlinewidth": 0,
              "ticks": ""
             }
            },
            "type": "scattercarpet"
           }
          ],
          "scattergeo": [
           {
            "marker": {
             "colorbar": {
              "outlinewidth": 0,
              "ticks": ""
             }
            },
            "type": "scattergeo"
           }
          ],
          "scattergl": [
           {
            "marker": {
             "colorbar": {
              "outlinewidth": 0,
              "ticks": ""
             }
            },
            "type": "scattergl"
           }
          ],
          "scattermapbox": [
           {
            "marker": {
             "colorbar": {
              "outlinewidth": 0,
              "ticks": ""
             }
            },
            "type": "scattermapbox"
           }
          ],
          "scatterpolar": [
           {
            "marker": {
             "colorbar": {
              "outlinewidth": 0,
              "ticks": ""
             }
            },
            "type": "scatterpolar"
           }
          ],
          "scatterpolargl": [
           {
            "marker": {
             "colorbar": {
              "outlinewidth": 0,
              "ticks": ""
             }
            },
            "type": "scatterpolargl"
           }
          ],
          "scatterternary": [
           {
            "marker": {
             "colorbar": {
              "outlinewidth": 0,
              "ticks": ""
             }
            },
            "type": "scatterternary"
           }
          ],
          "surface": [
           {
            "colorbar": {
             "outlinewidth": 0,
             "ticks": ""
            },
            "colorscale": [
             [
              0,
              "#0d0887"
             ],
             [
              0.1111111111111111,
              "#46039f"
             ],
             [
              0.2222222222222222,
              "#7201a8"
             ],
             [
              0.3333333333333333,
              "#9c179e"
             ],
             [
              0.4444444444444444,
              "#bd3786"
             ],
             [
              0.5555555555555556,
              "#d8576b"
             ],
             [
              0.6666666666666666,
              "#ed7953"
             ],
             [
              0.7777777777777778,
              "#fb9f3a"
             ],
             [
              0.8888888888888888,
              "#fdca26"
             ],
             [
              1,
              "#f0f921"
             ]
            ],
            "type": "surface"
           }
          ],
          "table": [
           {
            "cells": {
             "fill": {
              "color": "#EBF0F8"
             },
             "line": {
              "color": "white"
             }
            },
            "header": {
             "fill": {
              "color": "#C8D4E3"
             },
             "line": {
              "color": "white"
             }
            },
            "type": "table"
           }
          ]
         },
         "layout": {
          "annotationdefaults": {
           "arrowcolor": "#2a3f5f",
           "arrowhead": 0,
           "arrowwidth": 1
          },
          "autotypenumbers": "strict",
          "coloraxis": {
           "colorbar": {
            "outlinewidth": 0,
            "ticks": ""
           }
          },
          "colorscale": {
           "diverging": [
            [
             0,
             "#8e0152"
            ],
            [
             0.1,
             "#c51b7d"
            ],
            [
             0.2,
             "#de77ae"
            ],
            [
             0.3,
             "#f1b6da"
            ],
            [
             0.4,
             "#fde0ef"
            ],
            [
             0.5,
             "#f7f7f7"
            ],
            [
             0.6,
             "#e6f5d0"
            ],
            [
             0.7,
             "#b8e186"
            ],
            [
             0.8,
             "#7fbc41"
            ],
            [
             0.9,
             "#4d9221"
            ],
            [
             1,
             "#276419"
            ]
           ],
           "sequential": [
            [
             0,
             "#0d0887"
            ],
            [
             0.1111111111111111,
             "#46039f"
            ],
            [
             0.2222222222222222,
             "#7201a8"
            ],
            [
             0.3333333333333333,
             "#9c179e"
            ],
            [
             0.4444444444444444,
             "#bd3786"
            ],
            [
             0.5555555555555556,
             "#d8576b"
            ],
            [
             0.6666666666666666,
             "#ed7953"
            ],
            [
             0.7777777777777778,
             "#fb9f3a"
            ],
            [
             0.8888888888888888,
             "#fdca26"
            ],
            [
             1,
             "#f0f921"
            ]
           ],
           "sequentialminus": [
            [
             0,
             "#0d0887"
            ],
            [
             0.1111111111111111,
             "#46039f"
            ],
            [
             0.2222222222222222,
             "#7201a8"
            ],
            [
             0.3333333333333333,
             "#9c179e"
            ],
            [
             0.4444444444444444,
             "#bd3786"
            ],
            [
             0.5555555555555556,
             "#d8576b"
            ],
            [
             0.6666666666666666,
             "#ed7953"
            ],
            [
             0.7777777777777778,
             "#fb9f3a"
            ],
            [
             0.8888888888888888,
             "#fdca26"
            ],
            [
             1,
             "#f0f921"
            ]
           ]
          },
          "colorway": [
           "#636efa",
           "#EF553B",
           "#00cc96",
           "#ab63fa",
           "#FFA15A",
           "#19d3f3",
           "#FF6692",
           "#B6E880",
           "#FF97FF",
           "#FECB52"
          ],
          "font": {
           "color": "#2a3f5f"
          },
          "geo": {
           "bgcolor": "white",
           "lakecolor": "white",
           "landcolor": "#E5ECF6",
           "showlakes": true,
           "showland": true,
           "subunitcolor": "white"
          },
          "hoverlabel": {
           "align": "left"
          },
          "hovermode": "closest",
          "mapbox": {
           "style": "light"
          },
          "paper_bgcolor": "white",
          "plot_bgcolor": "#E5ECF6",
          "polar": {
           "angularaxis": {
            "gridcolor": "white",
            "linecolor": "white",
            "ticks": ""
           },
           "bgcolor": "#E5ECF6",
           "radialaxis": {
            "gridcolor": "white",
            "linecolor": "white",
            "ticks": ""
           }
          },
          "scene": {
           "xaxis": {
            "backgroundcolor": "#E5ECF6",
            "gridcolor": "white",
            "gridwidth": 2,
            "linecolor": "white",
            "showbackground": true,
            "ticks": "",
            "zerolinecolor": "white"
           },
           "yaxis": {
            "backgroundcolor": "#E5ECF6",
            "gridcolor": "white",
            "gridwidth": 2,
            "linecolor": "white",
            "showbackground": true,
            "ticks": "",
            "zerolinecolor": "white"
           },
           "zaxis": {
            "backgroundcolor": "#E5ECF6",
            "gridcolor": "white",
            "gridwidth": 2,
            "linecolor": "white",
            "showbackground": true,
            "ticks": "",
            "zerolinecolor": "white"
           }
          },
          "shapedefaults": {
           "line": {
            "color": "#2a3f5f"
           }
          },
          "ternary": {
           "aaxis": {
            "gridcolor": "white",
            "linecolor": "white",
            "ticks": ""
           },
           "baxis": {
            "gridcolor": "white",
            "linecolor": "white",
            "ticks": ""
           },
           "bgcolor": "#E5ECF6",
           "caxis": {
            "gridcolor": "white",
            "linecolor": "white",
            "ticks": ""
           }
          },
          "title": {
           "x": 0.05
          },
          "xaxis": {
           "automargin": true,
           "gridcolor": "white",
           "linecolor": "white",
           "ticks": "",
           "title": {
            "standoff": 15
           },
           "zerolinecolor": "white",
           "zerolinewidth": 2
          },
          "yaxis": {
           "automargin": true,
           "gridcolor": "white",
           "linecolor": "white",
           "ticks": "",
           "title": {
            "standoff": 15
           },
           "zerolinecolor": "white",
           "zerolinewidth": 2
          }
         }
        },
        "width": 1440,
        "xaxis": {
         "anchor": "y",
         "constrain": "domain",
         "domain": [
          0,
          0.103125
         ],
         "linecolor": "black",
         "linewidth": 1,
         "mirror": true,
         "scaleanchor": "y",
         "scaleratio": 1,
         "showline": true
        },
        "xaxis10": {
         "anchor": "y10",
         "constrain": "domain",
         "domain": [
          0.128125,
          0.23124999999999998
         ],
         "linecolor": "black",
         "linewidth": 1,
         "mirror": true,
         "scaleanchor": "y",
         "scaleratio": 1,
         "showline": true
        },
        "xaxis11": {
         "anchor": "y11",
         "constrain": "domain",
         "domain": [
          0.25625,
          0.359375
         ],
         "linecolor": "black",
         "linewidth": 1,
         "mirror": true,
         "scaleanchor": "y",
         "scaleratio": 1,
         "showline": true
        },
        "xaxis12": {
         "anchor": "y12",
         "constrain": "domain",
         "domain": [
          0.38437499999999997,
          0.48749999999999993
         ],
         "linecolor": "black",
         "linewidth": 1,
         "mirror": true,
         "scaleanchor": "y",
         "scaleratio": 1,
         "showline": true
        },
        "xaxis13": {
         "anchor": "y13",
         "constrain": "domain",
         "domain": [
          0.5125,
          0.615625
         ],
         "linecolor": "black",
         "linewidth": 1,
         "mirror": true,
         "scaleanchor": "y",
         "scaleratio": 1,
         "showline": true
        },
        "xaxis14": {
         "anchor": "y14",
         "constrain": "domain",
         "domain": [
          0.640625,
          0.74375
         ],
         "linecolor": "black",
         "linewidth": 1,
         "mirror": true,
         "scaleanchor": "y",
         "scaleratio": 1,
         "showline": true
        },
        "xaxis15": {
         "anchor": "y15",
         "constrain": "domain",
         "domain": [
          0.7687499999999999,
          0.871875
         ],
         "linecolor": "black",
         "linewidth": 1,
         "mirror": true,
         "scaleanchor": "y",
         "scaleratio": 1,
         "showline": true
        },
        "xaxis16": {
         "anchor": "y16",
         "constrain": "domain",
         "domain": [
          0.896875,
          1
         ],
         "linecolor": "black",
         "linewidth": 1,
         "mirror": true,
         "scaleanchor": "y",
         "scaleratio": 1,
         "showline": true
        },
        "xaxis17": {
         "anchor": "y17",
         "constrain": "domain",
         "domain": [
          0,
          0.103125
         ],
         "linecolor": "black",
         "linewidth": 1,
         "mirror": true,
         "scaleanchor": "y",
         "scaleratio": 1,
         "showline": true
        },
        "xaxis18": {
         "anchor": "y18",
         "constrain": "domain",
         "domain": [
          0.128125,
          0.23124999999999998
         ],
         "linecolor": "black",
         "linewidth": 1,
         "mirror": true,
         "scaleanchor": "y",
         "scaleratio": 1,
         "showline": true
        },
        "xaxis19": {
         "anchor": "y19",
         "constrain": "domain",
         "domain": [
          0.25625,
          0.359375
         ],
         "linecolor": "black",
         "linewidth": 1,
         "mirror": true,
         "scaleanchor": "y",
         "scaleratio": 1,
         "showline": true
        },
        "xaxis2": {
         "anchor": "y2",
         "constrain": "domain",
         "domain": [
          0.128125,
          0.23124999999999998
         ],
         "linecolor": "black",
         "linewidth": 1,
         "mirror": true,
         "scaleanchor": "y",
         "scaleratio": 1,
         "showline": true
        },
        "xaxis20": {
         "anchor": "y20",
         "constrain": "domain",
         "domain": [
          0.38437499999999997,
          0.48749999999999993
         ],
         "linecolor": "black",
         "linewidth": 1,
         "mirror": true,
         "scaleanchor": "y",
         "scaleratio": 1,
         "showline": true
        },
        "xaxis21": {
         "anchor": "y21",
         "constrain": "domain",
         "domain": [
          0.5125,
          0.615625
         ],
         "linecolor": "black",
         "linewidth": 1,
         "mirror": true,
         "scaleanchor": "y",
         "scaleratio": 1,
         "showline": true
        },
        "xaxis22": {
         "anchor": "y22",
         "constrain": "domain",
         "domain": [
          0.640625,
          0.74375
         ],
         "linecolor": "black",
         "linewidth": 1,
         "mirror": true,
         "scaleanchor": "y",
         "scaleratio": 1,
         "showline": true
        },
        "xaxis23": {
         "anchor": "y23",
         "constrain": "domain",
         "domain": [
          0.7687499999999999,
          0.871875
         ],
         "linecolor": "black",
         "linewidth": 1,
         "mirror": true,
         "scaleanchor": "y",
         "scaleratio": 1,
         "showline": true
        },
        "xaxis24": {
         "anchor": "y24",
         "constrain": "domain",
         "domain": [
          0.896875,
          1
         ],
         "linecolor": "black",
         "linewidth": 1,
         "mirror": true,
         "scaleanchor": "y",
         "scaleratio": 1,
         "showline": true
        },
        "xaxis25": {
         "anchor": "y25",
         "constrain": "domain",
         "domain": [
          0,
          0.103125
         ],
         "linecolor": "black",
         "linewidth": 1,
         "mirror": true,
         "scaleanchor": "y",
         "scaleratio": 1,
         "showline": true
        },
        "xaxis26": {
         "anchor": "y26",
         "constrain": "domain",
         "domain": [
          0.128125,
          0.23124999999999998
         ],
         "linecolor": "black",
         "linewidth": 1,
         "mirror": true,
         "scaleanchor": "y",
         "scaleratio": 1,
         "showline": true
        },
        "xaxis27": {
         "anchor": "y27",
         "constrain": "domain",
         "domain": [
          0.25625,
          0.359375
         ],
         "linecolor": "black",
         "linewidth": 1,
         "mirror": true,
         "scaleanchor": "y",
         "scaleratio": 1,
         "showline": true
        },
        "xaxis28": {
         "anchor": "y28",
         "constrain": "domain",
         "domain": [
          0.38437499999999997,
          0.48749999999999993
         ],
         "linecolor": "black",
         "linewidth": 1,
         "mirror": true,
         "scaleanchor": "y",
         "scaleratio": 1,
         "showline": true
        },
        "xaxis29": {
         "anchor": "y29",
         "constrain": "domain",
         "domain": [
          0.5125,
          0.615625
         ],
         "linecolor": "black",
         "linewidth": 1,
         "mirror": true,
         "scaleanchor": "y",
         "scaleratio": 1,
         "showline": true
        },
        "xaxis3": {
         "anchor": "y3",
         "constrain": "domain",
         "domain": [
          0.25625,
          0.359375
         ],
         "linecolor": "black",
         "linewidth": 1,
         "mirror": true,
         "scaleanchor": "y",
         "scaleratio": 1,
         "showline": true
        },
        "xaxis30": {
         "anchor": "y30",
         "constrain": "domain",
         "domain": [
          0.640625,
          0.74375
         ],
         "linecolor": "black",
         "linewidth": 1,
         "mirror": true,
         "scaleanchor": "y",
         "scaleratio": 1,
         "showline": true
        },
        "xaxis31": {
         "anchor": "y31",
         "constrain": "domain",
         "domain": [
          0.7687499999999999,
          0.871875
         ],
         "linecolor": "black",
         "linewidth": 1,
         "mirror": true,
         "scaleanchor": "y",
         "scaleratio": 1,
         "showline": true
        },
        "xaxis32": {
         "anchor": "y32",
         "constrain": "domain",
         "domain": [
          0.896875,
          1
         ],
         "linecolor": "black",
         "linewidth": 1,
         "mirror": true,
         "scaleanchor": "y",
         "scaleratio": 1,
         "showline": true
        },
        "xaxis4": {
         "anchor": "y4",
         "constrain": "domain",
         "domain": [
          0.38437499999999997,
          0.48749999999999993
         ],
         "linecolor": "black",
         "linewidth": 1,
         "mirror": true,
         "scaleanchor": "y",
         "scaleratio": 1,
         "showline": true
        },
        "xaxis5": {
         "anchor": "y5",
         "constrain": "domain",
         "domain": [
          0.5125,
          0.615625
         ],
         "linecolor": "black",
         "linewidth": 1,
         "mirror": true,
         "scaleanchor": "y",
         "scaleratio": 1,
         "showline": true
        },
        "xaxis6": {
         "anchor": "y6",
         "constrain": "domain",
         "domain": [
          0.640625,
          0.74375
         ],
         "linecolor": "black",
         "linewidth": 1,
         "mirror": true,
         "scaleanchor": "y",
         "scaleratio": 1,
         "showline": true
        },
        "xaxis7": {
         "anchor": "y7",
         "constrain": "domain",
         "domain": [
          0.7687499999999999,
          0.871875
         ],
         "linecolor": "black",
         "linewidth": 1,
         "mirror": true,
         "scaleanchor": "y",
         "scaleratio": 1,
         "showline": true
        },
        "xaxis8": {
         "anchor": "y8",
         "constrain": "domain",
         "domain": [
          0.896875,
          1
         ],
         "linecolor": "black",
         "linewidth": 1,
         "mirror": true,
         "scaleanchor": "y",
         "scaleratio": 1,
         "showline": true
        },
        "xaxis9": {
         "anchor": "y9",
         "constrain": "domain",
         "domain": [
          0,
          0.103125
         ],
         "linecolor": "black",
         "linewidth": 1,
         "mirror": true,
         "scaleanchor": "y",
         "scaleratio": 1,
         "showline": true
        },
        "yaxis": {
         "anchor": "x",
         "autorange": "reversed",
         "constrain": "domain",
         "domain": [
          0.84375,
          1
         ],
         "linecolor": "black",
         "linewidth": 1,
         "mirror": true,
         "showline": true
        },
        "yaxis10": {
         "anchor": "x10",
         "autorange": "reversed",
         "constrain": "domain",
         "domain": [
          0.5625,
          0.71875
         ],
         "linecolor": "black",
         "linewidth": 1,
         "matches": "y9",
         "mirror": true,
         "showline": true,
         "showticklabels": false
        },
        "yaxis11": {
         "anchor": "x11",
         "autorange": "reversed",
         "constrain": "domain",
         "domain": [
          0.5625,
          0.71875
         ],
         "linecolor": "black",
         "linewidth": 1,
         "matches": "y9",
         "mirror": true,
         "showline": true,
         "showticklabels": false
        },
        "yaxis12": {
         "anchor": "x12",
         "autorange": "reversed",
         "constrain": "domain",
         "domain": [
          0.5625,
          0.71875
         ],
         "linecolor": "black",
         "linewidth": 1,
         "matches": "y9",
         "mirror": true,
         "showline": true,
         "showticklabels": false
        },
        "yaxis13": {
         "anchor": "x13",
         "autorange": "reversed",
         "constrain": "domain",
         "domain": [
          0.5625,
          0.71875
         ],
         "linecolor": "black",
         "linewidth": 1,
         "matches": "y9",
         "mirror": true,
         "showline": true,
         "showticklabels": false
        },
        "yaxis14": {
         "anchor": "x14",
         "autorange": "reversed",
         "constrain": "domain",
         "domain": [
          0.5625,
          0.71875
         ],
         "linecolor": "black",
         "linewidth": 1,
         "matches": "y9",
         "mirror": true,
         "showline": true,
         "showticklabels": false
        },
        "yaxis15": {
         "anchor": "x15",
         "autorange": "reversed",
         "constrain": "domain",
         "domain": [
          0.5625,
          0.71875
         ],
         "linecolor": "black",
         "linewidth": 1,
         "matches": "y9",
         "mirror": true,
         "showline": true,
         "showticklabels": false
        },
        "yaxis16": {
         "anchor": "x16",
         "autorange": "reversed",
         "constrain": "domain",
         "domain": [
          0.5625,
          0.71875
         ],
         "linecolor": "black",
         "linewidth": 1,
         "matches": "y9",
         "mirror": true,
         "showline": true,
         "showticklabels": false
        },
        "yaxis17": {
         "anchor": "x17",
         "autorange": "reversed",
         "constrain": "domain",
         "domain": [
          0.28125,
          0.4375
         ],
         "linecolor": "black",
         "linewidth": 1,
         "mirror": true,
         "showline": true
        },
        "yaxis18": {
         "anchor": "x18",
         "autorange": "reversed",
         "constrain": "domain",
         "domain": [
          0.28125,
          0.4375
         ],
         "linecolor": "black",
         "linewidth": 1,
         "matches": "y17",
         "mirror": true,
         "showline": true,
         "showticklabels": false
        },
        "yaxis19": {
         "anchor": "x19",
         "autorange": "reversed",
         "constrain": "domain",
         "domain": [
          0.28125,
          0.4375
         ],
         "linecolor": "black",
         "linewidth": 1,
         "matches": "y17",
         "mirror": true,
         "showline": true,
         "showticklabels": false
        },
        "yaxis2": {
         "anchor": "x2",
         "autorange": "reversed",
         "constrain": "domain",
         "domain": [
          0.84375,
          1
         ],
         "linecolor": "black",
         "linewidth": 1,
         "matches": "y",
         "mirror": true,
         "showline": true,
         "showticklabels": false
        },
        "yaxis20": {
         "anchor": "x20",
         "autorange": "reversed",
         "constrain": "domain",
         "domain": [
          0.28125,
          0.4375
         ],
         "linecolor": "black",
         "linewidth": 1,
         "matches": "y17",
         "mirror": true,
         "showline": true,
         "showticklabels": false
        },
        "yaxis21": {
         "anchor": "x21",
         "autorange": "reversed",
         "constrain": "domain",
         "domain": [
          0.28125,
          0.4375
         ],
         "linecolor": "black",
         "linewidth": 1,
         "matches": "y17",
         "mirror": true,
         "showline": true,
         "showticklabels": false
        },
        "yaxis22": {
         "anchor": "x22",
         "autorange": "reversed",
         "constrain": "domain",
         "domain": [
          0.28125,
          0.4375
         ],
         "linecolor": "black",
         "linewidth": 1,
         "matches": "y17",
         "mirror": true,
         "showline": true,
         "showticklabels": false
        },
        "yaxis23": {
         "anchor": "x23",
         "autorange": "reversed",
         "constrain": "domain",
         "domain": [
          0.28125,
          0.4375
         ],
         "linecolor": "black",
         "linewidth": 1,
         "matches": "y17",
         "mirror": true,
         "showline": true,
         "showticklabels": false
        },
        "yaxis24": {
         "anchor": "x24",
         "autorange": "reversed",
         "constrain": "domain",
         "domain": [
          0.28125,
          0.4375
         ],
         "linecolor": "black",
         "linewidth": 1,
         "matches": "y17",
         "mirror": true,
         "showline": true,
         "showticklabels": false
        },
        "yaxis25": {
         "anchor": "x25",
         "autorange": "reversed",
         "constrain": "domain",
         "domain": [
          0,
          0.15625
         ],
         "linecolor": "black",
         "linewidth": 1,
         "mirror": true,
         "showline": true
        },
        "yaxis26": {
         "anchor": "x26",
         "autorange": "reversed",
         "constrain": "domain",
         "domain": [
          0,
          0.15625
         ],
         "linecolor": "black",
         "linewidth": 1,
         "matches": "y25",
         "mirror": true,
         "showline": true,
         "showticklabels": false
        },
        "yaxis27": {
         "anchor": "x27",
         "autorange": "reversed",
         "constrain": "domain",
         "domain": [
          0,
          0.15625
         ],
         "linecolor": "black",
         "linewidth": 1,
         "matches": "y25",
         "mirror": true,
         "showline": true,
         "showticklabels": false
        },
        "yaxis28": {
         "anchor": "x28",
         "autorange": "reversed",
         "constrain": "domain",
         "domain": [
          0,
          0.15625
         ],
         "linecolor": "black",
         "linewidth": 1,
         "matches": "y25",
         "mirror": true,
         "showline": true,
         "showticklabels": false
        },
        "yaxis29": {
         "anchor": "x29",
         "autorange": "reversed",
         "constrain": "domain",
         "domain": [
          0,
          0.15625
         ],
         "linecolor": "black",
         "linewidth": 1,
         "matches": "y25",
         "mirror": true,
         "showline": true,
         "showticklabels": false
        },
        "yaxis3": {
         "anchor": "x3",
         "autorange": "reversed",
         "constrain": "domain",
         "domain": [
          0.84375,
          1
         ],
         "linecolor": "black",
         "linewidth": 1,
         "matches": "y",
         "mirror": true,
         "showline": true,
         "showticklabels": false
        },
        "yaxis30": {
         "anchor": "x30",
         "autorange": "reversed",
         "constrain": "domain",
         "domain": [
          0,
          0.15625
         ],
         "linecolor": "black",
         "linewidth": 1,
         "matches": "y25",
         "mirror": true,
         "showline": true,
         "showticklabels": false
        },
        "yaxis31": {
         "anchor": "x31",
         "autorange": "reversed",
         "constrain": "domain",
         "domain": [
          0,
          0.15625
         ],
         "linecolor": "black",
         "linewidth": 1,
         "matches": "y25",
         "mirror": true,
         "showline": true,
         "showticklabels": false
        },
        "yaxis32": {
         "anchor": "x32",
         "autorange": "reversed",
         "constrain": "domain",
         "domain": [
          0,
          0.15625
         ],
         "linecolor": "black",
         "linewidth": 1,
         "matches": "y25",
         "mirror": true,
         "showline": true,
         "showticklabels": false
        },
        "yaxis4": {
         "anchor": "x4",
         "autorange": "reversed",
         "constrain": "domain",
         "domain": [
          0.84375,
          1
         ],
         "linecolor": "black",
         "linewidth": 1,
         "matches": "y",
         "mirror": true,
         "showline": true,
         "showticklabels": false
        },
        "yaxis5": {
         "anchor": "x5",
         "autorange": "reversed",
         "constrain": "domain",
         "domain": [
          0.84375,
          1
         ],
         "linecolor": "black",
         "linewidth": 1,
         "matches": "y",
         "mirror": true,
         "showline": true,
         "showticklabels": false
        },
        "yaxis6": {
         "anchor": "x6",
         "autorange": "reversed",
         "constrain": "domain",
         "domain": [
          0.84375,
          1
         ],
         "linecolor": "black",
         "linewidth": 1,
         "matches": "y",
         "mirror": true,
         "showline": true,
         "showticklabels": false
        },
        "yaxis7": {
         "anchor": "x7",
         "autorange": "reversed",
         "constrain": "domain",
         "domain": [
          0.84375,
          1
         ],
         "linecolor": "black",
         "linewidth": 1,
         "matches": "y",
         "mirror": true,
         "showline": true,
         "showticklabels": false
        },
        "yaxis8": {
         "anchor": "x8",
         "autorange": "reversed",
         "constrain": "domain",
         "domain": [
          0.84375,
          1
         ],
         "linecolor": "black",
         "linewidth": 1,
         "matches": "y",
         "mirror": true,
         "showline": true,
         "showticklabels": false
        },
        "yaxis9": {
         "anchor": "x9",
         "autorange": "reversed",
         "constrain": "domain",
         "domain": [
          0.5625,
          0.71875
         ],
         "linecolor": "black",
         "linewidth": 1,
         "mirror": true,
         "showline": true
        }
       }
      }
     },
     "metadata": {},
     "output_type": "display_data"
    },
    {
     "data": {
      "application/vnd.plotly.v1+json": {
       "config": {
        "plotlyServerURL": "https://plot.ly"
       },
       "data": [
        {
         "colorscale": [
          [
           0,
           "rgb(0, 0, 0)"
          ],
          [
           0.09090909090909091,
           "rgb(16, 16, 16)"
          ],
          [
           0.18181818181818182,
           "rgb(38, 38, 38)"
          ],
          [
           0.2727272727272727,
           "rgb(59, 59, 59)"
          ],
          [
           0.36363636363636365,
           "rgb(81, 80, 80)"
          ],
          [
           0.45454545454545453,
           "rgb(102, 101, 101)"
          ],
          [
           0.5454545454545454,
           "rgb(124, 123, 122)"
          ],
          [
           0.6363636363636364,
           "rgb(146, 146, 145)"
          ],
          [
           0.7272727272727273,
           "rgb(171, 171, 170)"
          ],
          [
           0.8181818181818182,
           "rgb(197, 197, 195)"
          ],
          [
           0.9090909090909091,
           "rgb(224, 224, 223)"
          ],
          [
           1,
           "rgb(254, 254, 253)"
          ]
         ],
         "hovertemplate": "%{hovertext}<extra></extra>",
         "hovertext": [
          [
           0.000017318805475952104,
           0.000012497451280069072,
           0.00001570792301208712,
           0.00004125120904063806,
           0.00009763793786987662,
           0.000023113454517442733
          ],
          [
           0.00003586312595871277,
           0.00010276422835886478,
           0.2891293466091156,
           0.00004509579230216332,
           0.3492857813835144,
           0.000013773022146779113
          ],
          [
           0.0000027953908556810347,
           0.00009363708522869274,
           0,
           0,
           0.0000619109341641888,
           0.000005337750735634472
          ],
          [
           0.00006756889342796057,
           0.00000717800412530778,
           0,
           0,
           0.3598746359348297,
           0.000034280772524653
          ],
          [
           0.00009979913738789037,
           0.00012608643737621605,
           0.00009103226329898462,
           0.00031764048617333174,
           0.00008864399569574744,
           0.000005809272352053085
          ],
          [
           0.00005454868733067997,
           0.0000742745614843443,
           0.0001332030224148184,
           0.000017027894500643015,
           0.00001925039578054566,
           0.000005195626727072522
          ]
         ],
         "showscale": false,
         "text": [
          [
           "",
           "",
           "",
           "",
           "",
           ""
          ],
          [
           "",
           "",
           "X",
           "o",
           "X",
           ""
          ],
          [
           "",
           "",
           "",
           "",
           "",
           ""
          ],
          [
           "",
           "",
           "",
           "",
           "X",
           ""
          ],
          [
           "",
           "",
           "",
           "",
           "",
           ""
          ],
          [
           "",
           "",
           "",
           "",
           "",
           ""
          ]
         ],
         "textfont": {
          "color": "pink"
         },
         "texttemplate": "%{text}",
         "type": "heatmap",
         "x": [
          "A",
          "B",
          "C",
          "D",
          "E",
          "F"
         ],
         "xaxis": "x",
         "xgap": 0.2,
         "y": [
          "1",
          "2",
          "3",
          "4",
          "5",
          "6"
         ],
         "yaxis": "y",
         "ygap": 0.2,
         "z": [
          [
           0.000017318805475952104,
           0.000012497451280069072,
           0.00001570792301208712,
           0.00004125120904063806,
           0.00009763793786987662,
           0.000023113454517442733
          ],
          [
           0.00003586312595871277,
           0.00010276422835886478,
           0.2891293466091156,
           0.00004509579230216332,
           0.3492857813835144,
           0.000013773022146779113
          ],
          [
           0.0000027953908556810347,
           0.00009363708522869274,
           0,
           0,
           0.0000619109341641888,
           0.000005337750735634472
          ],
          [
           0.00006756889342796057,
           0.00000717800412530778,
           0,
           0,
           0.3598746359348297,
           0.000034280772524653
          ],
          [
           0.00009979913738789037,
           0.00012608643737621605,
           0.00009103226329898462,
           0.00031764048617333174,
           0.00008864399569574744,
           0.000005809272352053085
          ],
          [
           0.00005454868733067997,
           0.0000742745614843443,
           0.0001332030224148184,
           0.000017027894500643015,
           0.00001925039578054566,
           0.000005195626727072522
          ]
         ]
        },
        {
         "colorscale": [
          [
           0,
           "rgb(0, 0, 0)"
          ],
          [
           0.09090909090909091,
           "rgb(16, 16, 16)"
          ],
          [
           0.18181818181818182,
           "rgb(38, 38, 38)"
          ],
          [
           0.2727272727272727,
           "rgb(59, 59, 59)"
          ],
          [
           0.36363636363636365,
           "rgb(81, 80, 80)"
          ],
          [
           0.45454545454545453,
           "rgb(102, 101, 101)"
          ],
          [
           0.5454545454545454,
           "rgb(124, 123, 122)"
          ],
          [
           0.6363636363636364,
           "rgb(146, 146, 145)"
          ],
          [
           0.7272727272727273,
           "rgb(171, 171, 170)"
          ],
          [
           0.8181818181818182,
           "rgb(197, 197, 195)"
          ],
          [
           0.9090909090909091,
           "rgb(224, 224, 223)"
          ],
          [
           1,
           "rgb(254, 254, 253)"
          ]
         ],
         "hovertemplate": "%{hovertext}<extra></extra>",
         "hovertext": [
          [
           0.000009009158929984551,
           0.000033600055758142844,
           0.00001092753154807724,
           0.00013090079301036894,
           0.0002930463233496994,
           0.000077132172009442
          ],
          [
           0.000013510684766515624,
           0.0005127309705130756,
           0.00006603941437788308,
           0.0001231784262927249,
           0.000011900303434231319,
           0.31529855728149414
          ],
          [
           0.00000981751327344682,
           0.000017944637875189073,
           0,
           0,
           0.25577977299690247,
           0.00003363811629242264
          ],
          [
           0.00001091189005819615,
           0.23333819210529327,
           0,
           0,
           0.0000532444246346131,
           0.00007686157914577052
          ],
          [
           0.00002426680293865502,
           0.000060491871408885345,
           0.19356754422187805,
           0.00031796988332644105,
           0.000019921297280234285,
           0.000006570241566805635
          ],
          [
           8.648515290587966e-7,
           0.000015349301975220442,
           0.00000934584932110738,
           0.000039149712392827496,
           0.000016204148778342642,
           0.000021391701011452824
          ]
         ],
         "showscale": false,
         "text": [
          [
           "",
           "",
           "",
           "",
           "",
           ""
          ],
          [
           "",
           "",
           "",
           "",
           "o",
           "X"
          ],
          [
           "",
           "",
           "",
           "",
           "X",
           ""
          ],
          [
           "",
           "X",
           "",
           "",
           "",
           ""
          ],
          [
           "",
           "",
           "X",
           "",
           "",
           ""
          ],
          [
           "",
           "",
           "",
           "",
           "",
           ""
          ]
         ],
         "textfont": {
          "color": "pink"
         },
         "texttemplate": "%{text}",
         "type": "heatmap",
         "x": [
          "A",
          "B",
          "C",
          "D",
          "E",
          "F"
         ],
         "xaxis": "x2",
         "xgap": 0.2,
         "y": [
          "1",
          "2",
          "3",
          "4",
          "5",
          "6"
         ],
         "yaxis": "y2",
         "ygap": 0.2,
         "z": [
          [
           0.000009009158929984551,
           0.000033600055758142844,
           0.00001092753154807724,
           0.00013090079301036894,
           0.0002930463233496994,
           0.000077132172009442
          ],
          [
           0.000013510684766515624,
           0.0005127309705130756,
           0.00006603941437788308,
           0.0001231784262927249,
           0.000011900303434231319,
           0.31529855728149414
          ],
          [
           0.00000981751327344682,
           0.000017944637875189073,
           0,
           0,
           0.25577977299690247,
           0.00003363811629242264
          ],
          [
           0.00001091189005819615,
           0.23333819210529327,
           0,
           0,
           0.0000532444246346131,
           0.00007686157914577052
          ],
          [
           0.00002426680293865502,
           0.000060491871408885345,
           0.19356754422187805,
           0.00031796988332644105,
           0.000019921297280234285,
           0.000006570241566805635
          ],
          [
           8.648515290587966e-7,
           0.000015349301975220442,
           0.00000934584932110738,
           0.000039149712392827496,
           0.000016204148778342642,
           0.000021391701011452824
          ]
         ]
        },
        {
         "colorscale": [
          [
           0,
           "rgb(0, 0, 0)"
          ],
          [
           0.09090909090909091,
           "rgb(16, 16, 16)"
          ],
          [
           0.18181818181818182,
           "rgb(38, 38, 38)"
          ],
          [
           0.2727272727272727,
           "rgb(59, 59, 59)"
          ],
          [
           0.36363636363636365,
           "rgb(81, 80, 80)"
          ],
          [
           0.45454545454545453,
           "rgb(102, 101, 101)"
          ],
          [
           0.5454545454545454,
           "rgb(124, 123, 122)"
          ],
          [
           0.6363636363636364,
           "rgb(146, 146, 145)"
          ],
          [
           0.7272727272727273,
           "rgb(171, 171, 170)"
          ],
          [
           0.8181818181818182,
           "rgb(197, 197, 195)"
          ],
          [
           0.9090909090909091,
           "rgb(224, 224, 223)"
          ],
          [
           1,
           "rgb(254, 254, 253)"
          ]
         ],
         "hovertemplate": "%{hovertext}<extra></extra>",
         "hovertext": [
          [
           0.000014431362615141552,
           0.000043895070120925084,
           0.000017902289982885122,
           0.16099588572978973,
           0.00015175669977907091,
           0.14924851059913635
          ],
          [
           0.0000651758600724861,
           0.0000729938765289262,
           0.17669381201267242,
           0.000024200830011977814,
           0.0000025487011043878738,
           1.2994334497307136e-8
          ],
          [
           0.00002896905061788857,
           0.1787925660610199,
           0,
           0,
           0.00004829871977563016,
           0.00018330036255065352
          ],
          [
           0.00004510668077273294,
           0.000010149733498110436,
           0,
           0,
           0.14476992189884186,
           0.0001238634140463546
          ],
          [
           0.000002442447112116497,
           0.00006491092790383846,
           0.000027246987883700058,
           0.18838103115558624,
           0.00005383262760005891,
           0.000024451168428640813
          ],
          [
           0.00004141674071433954,
           0.000015487155906157568,
           0.00001845414226409048,
           0.000011856999662995804,
           0.000017015869161696173,
           0.000008632232493255287
          ]
         ],
         "showscale": false,
         "text": [
          [
           "",
           "",
           "",
           "X",
           "",
           "X"
          ],
          [
           "",
           "",
           "X",
           "",
           "",
           "o"
          ],
          [
           "",
           "X",
           "",
           "",
           "",
           ""
          ],
          [
           "",
           "",
           "",
           "",
           "X",
           ""
          ],
          [
           "",
           "",
           "",
           "X",
           "",
           ""
          ],
          [
           "",
           "",
           "",
           "",
           "",
           ""
          ]
         ],
         "textfont": {
          "color": "pink"
         },
         "texttemplate": "%{text}",
         "type": "heatmap",
         "x": [
          "A",
          "B",
          "C",
          "D",
          "E",
          "F"
         ],
         "xaxis": "x3",
         "xgap": 0.2,
         "y": [
          "1",
          "2",
          "3",
          "4",
          "5",
          "6"
         ],
         "yaxis": "y3",
         "ygap": 0.2,
         "z": [
          [
           0.000014431362615141552,
           0.000043895070120925084,
           0.000017902289982885122,
           0.16099588572978973,
           0.00015175669977907091,
           0.14924851059913635
          ],
          [
           0.0000651758600724861,
           0.0000729938765289262,
           0.17669381201267242,
           0.000024200830011977814,
           0.0000025487011043878738,
           1.2994334497307136e-8
          ],
          [
           0.00002896905061788857,
           0.1787925660610199,
           0,
           0,
           0.00004829871977563016,
           0.00018330036255065352
          ],
          [
           0.00004510668077273294,
           0.000010149733498110436,
           0,
           0,
           0.14476992189884186,
           0.0001238634140463546
          ],
          [
           0.000002442447112116497,
           0.00006491092790383846,
           0.000027246987883700058,
           0.18838103115558624,
           0.00005383262760005891,
           0.000024451168428640813
          ],
          [
           0.00004141674071433954,
           0.000015487155906157568,
           0.00001845414226409048,
           0.000011856999662995804,
           0.000017015869161696173,
           0.000008632232493255287
          ]
         ]
        },
        {
         "colorscale": [
          [
           0,
           "rgb(0, 0, 0)"
          ],
          [
           0.09090909090909091,
           "rgb(16, 16, 16)"
          ],
          [
           0.18181818181818182,
           "rgb(38, 38, 38)"
          ],
          [
           0.2727272727272727,
           "rgb(59, 59, 59)"
          ],
          [
           0.36363636363636365,
           "rgb(81, 80, 80)"
          ],
          [
           0.45454545454545453,
           "rgb(102, 101, 101)"
          ],
          [
           0.5454545454545454,
           "rgb(124, 123, 122)"
          ],
          [
           0.6363636363636364,
           "rgb(146, 146, 145)"
          ],
          [
           0.7272727272727273,
           "rgb(171, 171, 170)"
          ],
          [
           0.8181818181818182,
           "rgb(197, 197, 195)"
          ],
          [
           0.9090909090909091,
           "rgb(224, 224, 223)"
          ],
          [
           1,
           "rgb(254, 254, 253)"
          ]
         ],
         "hovertemplate": "%{hovertext}<extra></extra>",
         "hovertext": [
          [
           0.00005412949394667521,
           0.000008047588380577508,
           0.000004560480192594696,
           0.00013038498582318425,
           0.00003386280877748504,
           3.300915807358251e-8
          ],
          [
           0.000026813451768248342,
           0.0001699302956694737,
           0.00047389257815666497,
           0.00024412365746684372,
           8.631664627500868e-7,
           0.0000016371698166040005
          ],
          [
           0.00015540924505330622,
           0.000011684107448672876,
           0,
           0,
           0.3639680743217468,
           0.00008966793393483385
          ],
          [
           0.000020389379642438143,
           0.303999125957489,
           0,
           0,
           0.0003233650350011885,
           0.00006964604108361527
          ],
          [
           0.000018505243133404292,
           0.0003046929487027228,
           0.32936856150627136,
           0.000415216461988166,
           0.00003518419180181809,
           0.000006929566097824136
          ],
          [
           0.000005416184194473317,
           0.000015136385627556592,
           0.000011314336916257162,
           0.00002427013714623172,
           0.000003387044671399053,
           0.0000057494926295476034
          ]
         ],
         "showscale": false,
         "text": [
          [
           "",
           "",
           "",
           "",
           "",
           "o"
          ],
          [
           "",
           "",
           "",
           "",
           "",
           ""
          ],
          [
           "",
           "",
           "",
           "",
           "X",
           ""
          ],
          [
           "",
           "X",
           "",
           "",
           "",
           ""
          ],
          [
           "",
           "",
           "X",
           "",
           "",
           ""
          ],
          [
           "",
           "",
           "",
           "",
           "",
           ""
          ]
         ],
         "textfont": {
          "color": "pink"
         },
         "texttemplate": "%{text}",
         "type": "heatmap",
         "x": [
          "A",
          "B",
          "C",
          "D",
          "E",
          "F"
         ],
         "xaxis": "x4",
         "xgap": 0.2,
         "y": [
          "1",
          "2",
          "3",
          "4",
          "5",
          "6"
         ],
         "yaxis": "y4",
         "ygap": 0.2,
         "z": [
          [
           0.00005412949394667521,
           0.000008047588380577508,
           0.000004560480192594696,
           0.00013038498582318425,
           0.00003386280877748504,
           3.300915807358251e-8
          ],
          [
           0.000026813451768248342,
           0.0001699302956694737,
           0.00047389257815666497,
           0.00024412365746684372,
           8.631664627500868e-7,
           0.0000016371698166040005
          ],
          [
           0.00015540924505330622,
           0.000011684107448672876,
           0,
           0,
           0.3639680743217468,
           0.00008966793393483385
          ],
          [
           0.000020389379642438143,
           0.303999125957489,
           0,
           0,
           0.0003233650350011885,
           0.00006964604108361527
          ],
          [
           0.000018505243133404292,
           0.0003046929487027228,
           0.32936856150627136,
           0.000415216461988166,
           0.00003518419180181809,
           0.000006929566097824136
          ],
          [
           0.000005416184194473317,
           0.000015136385627556592,
           0.000011314336916257162,
           0.00002427013714623172,
           0.000003387044671399053,
           0.0000057494926295476034
          ]
         ]
        },
        {
         "colorscale": [
          [
           0,
           "rgb(0, 0, 0)"
          ],
          [
           0.09090909090909091,
           "rgb(16, 16, 16)"
          ],
          [
           0.18181818181818182,
           "rgb(38, 38, 38)"
          ],
          [
           0.2727272727272727,
           "rgb(59, 59, 59)"
          ],
          [
           0.36363636363636365,
           "rgb(81, 80, 80)"
          ],
          [
           0.45454545454545453,
           "rgb(102, 101, 101)"
          ],
          [
           0.5454545454545454,
           "rgb(124, 123, 122)"
          ],
          [
           0.6363636363636364,
           "rgb(146, 146, 145)"
          ],
          [
           0.7272727272727273,
           "rgb(171, 171, 170)"
          ],
          [
           0.8181818181818182,
           "rgb(197, 197, 195)"
          ],
          [
           0.9090909090909091,
           "rgb(224, 224, 223)"
          ],
          [
           1,
           "rgb(254, 254, 253)"
          ]
         ],
         "hovertemplate": "%{hovertext}<extra></extra>",
         "hovertext": [
          [
           0.0000016894214240892325,
           0.000012067092029610649,
           0.00004330368756200187,
           0.001185312052257359,
           0.0002556334948167205,
           6.977961675147526e-7
          ],
          [
           0.000017983240468311124,
           0.00012051055091433227,
           0.36243996024131775,
           0.0000020626273453672184,
           0.000015199299923551735,
           3.577536711318885e-9
          ],
          [
           6.708835371682653e-7,
           0.00012723541294690222,
           0,
           0,
           0.00015063301543705165,
           0.30908846855163574
          ],
          [
           0.00007672845822526142,
           0.000022959142370382324,
           0,
           0,
           0.32196104526519775,
           0.00040360685670748353
          ],
          [
           0.000011984128832409624,
           0.00004169987005298026,
           0.00047475440078414977,
           0.002047857968136668,
           0.0013836005236953497,
           0.0000030214112030080287
          ],
          [
           0.00006253102037589997,
           0.00001444671579520218,
           0.00001668267577770166,
           8.467888505947485e-7,
           0.000014871156054141466,
           0.0000020057018446095753
          ]
         ],
         "showscale": false,
         "text": [
          [
           "",
           "",
           "",
           "",
           "",
           ""
          ],
          [
           "",
           "",
           "X",
           "",
           "",
           ""
          ],
          [
           "",
           "",
           "",
           "",
           "o",
           "X"
          ],
          [
           "",
           "",
           "",
           "",
           "X",
           ""
          ],
          [
           "",
           "",
           "",
           "",
           "",
           ""
          ],
          [
           "",
           "",
           "",
           "",
           "",
           ""
          ]
         ],
         "textfont": {
          "color": "pink"
         },
         "texttemplate": "%{text}",
         "type": "heatmap",
         "x": [
          "A",
          "B",
          "C",
          "D",
          "E",
          "F"
         ],
         "xaxis": "x5",
         "xgap": 0.2,
         "y": [
          "1",
          "2",
          "3",
          "4",
          "5",
          "6"
         ],
         "yaxis": "y5",
         "ygap": 0.2,
         "z": [
          [
           0.0000016894214240892325,
           0.000012067092029610649,
           0.00004330368756200187,
           0.001185312052257359,
           0.0002556334948167205,
           6.977961675147526e-7
          ],
          [
           0.000017983240468311124,
           0.00012051055091433227,
           0.36243996024131775,
           0.0000020626273453672184,
           0.000015199299923551735,
           3.577536711318885e-9
          ],
          [
           6.708835371682653e-7,
           0.00012723541294690222,
           0,
           0,
           0.00015063301543705165,
           0.30908846855163574
          ],
          [
           0.00007672845822526142,
           0.000022959142370382324,
           0,
           0,
           0.32196104526519775,
           0.00040360685670748353
          ],
          [
           0.000011984128832409624,
           0.00004169987005298026,
           0.00047475440078414977,
           0.002047857968136668,
           0.0013836005236953497,
           0.0000030214112030080287
          ],
          [
           0.00006253102037589997,
           0.00001444671579520218,
           0.00001668267577770166,
           8.467888505947485e-7,
           0.000014871156054141466,
           0.0000020057018446095753
          ]
         ]
        },
        {
         "colorscale": [
          [
           0,
           "rgb(0, 0, 0)"
          ],
          [
           0.09090909090909091,
           "rgb(16, 16, 16)"
          ],
          [
           0.18181818181818182,
           "rgb(38, 38, 38)"
          ],
          [
           0.2727272727272727,
           "rgb(59, 59, 59)"
          ],
          [
           0.36363636363636365,
           "rgb(81, 80, 80)"
          ],
          [
           0.45454545454545453,
           "rgb(102, 101, 101)"
          ],
          [
           0.5454545454545454,
           "rgb(124, 123, 122)"
          ],
          [
           0.6363636363636364,
           "rgb(146, 146, 145)"
          ],
          [
           0.7272727272727273,
           "rgb(171, 171, 170)"
          ],
          [
           0.8181818181818182,
           "rgb(197, 197, 195)"
          ],
          [
           0.9090909090909091,
           "rgb(224, 224, 223)"
          ],
          [
           1,
           "rgb(254, 254, 253)"
          ]
         ],
         "hovertemplate": "%{hovertext}<extra></extra>",
         "hovertext": [
          [
           0.00002044536086032167,
           0.00025046346127055585,
           0.00004010209522675723,
           0.00012936834536958486,
           0.2192336916923523,
           0.00002437781949993223
          ],
          [
           0.000017184142052428797,
           0.00019487437384668738,
           0.0000926128268474713,
           0.0000015002239024397568,
           4.6218193006097863e-7,
           8.041991463869635e-7
          ],
          [
           0.000020104826035094447,
           0.000043741270928876474,
           0,
           0,
           0.000001513405550213065,
           0.000009646436410548631
          ],
          [
           0.000014473328519670758,
           0.24845287203788757,
           0,
           0,
           0.00004525579424807802,
           0.010956442914903164
          ],
          [
           0.00002001552093133796,
           0.2905528247356415,
           0.22892022132873535,
           0.000429256702773273,
           0.00022003611957188696,
           0.000025619294319767505
          ],
          [
           0.00022319925483316183,
           0.000015377052477560937,
           0.000020461979147512466,
           0.00001887038888526149,
           7.4114569770245e-7,
           0.0000034938082080770982
          ]
         ],
         "showscale": false,
         "text": [
          [
           "",
           "",
           "",
           "",
           "X",
           ""
          ],
          [
           "",
           "",
           "",
           "",
           "",
           ""
          ],
          [
           "",
           "",
           "",
           "",
           "",
           "o"
          ],
          [
           "",
           "X",
           "",
           "",
           "",
           ""
          ],
          [
           "",
           "X",
           "X",
           "",
           "",
           ""
          ],
          [
           "",
           "",
           "",
           "",
           "",
           ""
          ]
         ],
         "textfont": {
          "color": "pink"
         },
         "texttemplate": "%{text}",
         "type": "heatmap",
         "x": [
          "A",
          "B",
          "C",
          "D",
          "E",
          "F"
         ],
         "xaxis": "x6",
         "xgap": 0.2,
         "y": [
          "1",
          "2",
          "3",
          "4",
          "5",
          "6"
         ],
         "yaxis": "y6",
         "ygap": 0.2,
         "z": [
          [
           0.00002044536086032167,
           0.00025046346127055585,
           0.00004010209522675723,
           0.00012936834536958486,
           0.2192336916923523,
           0.00002437781949993223
          ],
          [
           0.000017184142052428797,
           0.00019487437384668738,
           0.0000926128268474713,
           0.0000015002239024397568,
           4.6218193006097863e-7,
           8.041991463869635e-7
          ],
          [
           0.000020104826035094447,
           0.000043741270928876474,
           0,
           0,
           0.000001513405550213065,
           0.000009646436410548631
          ],
          [
           0.000014473328519670758,
           0.24845287203788757,
           0,
           0,
           0.00004525579424807802,
           0.010956442914903164
          ],
          [
           0.00002001552093133796,
           0.2905528247356415,
           0.22892022132873535,
           0.000429256702773273,
           0.00022003611957188696,
           0.000025619294319767505
          ],
          [
           0.00022319925483316183,
           0.000015377052477560937,
           0.000020461979147512466,
           0.00001887038888526149,
           7.4114569770245e-7,
           0.0000034938082080770982
          ]
         ]
        },
        {
         "colorscale": [
          [
           0,
           "rgb(0, 0, 0)"
          ],
          [
           0.09090909090909091,
           "rgb(16, 16, 16)"
          ],
          [
           0.18181818181818182,
           "rgb(38, 38, 38)"
          ],
          [
           0.2727272727272727,
           "rgb(59, 59, 59)"
          ],
          [
           0.36363636363636365,
           "rgb(81, 80, 80)"
          ],
          [
           0.45454545454545453,
           "rgb(102, 101, 101)"
          ],
          [
           0.5454545454545454,
           "rgb(124, 123, 122)"
          ],
          [
           0.6363636363636364,
           "rgb(146, 146, 145)"
          ],
          [
           0.7272727272727273,
           "rgb(171, 171, 170)"
          ],
          [
           0.8181818181818182,
           "rgb(197, 197, 195)"
          ],
          [
           0.9090909090909091,
           "rgb(224, 224, 223)"
          ],
          [
           1,
           "rgb(254, 254, 253)"
          ]
         ],
         "hovertemplate": "%{hovertext}<extra></extra>",
         "hovertext": [
          [
           0.000003276544930486125,
           0.000008616671948402654,
           0.008851250633597374,
           0.010775499977171421,
           0.0002322835789527744,
           0.000023308853997150436
          ],
          [
           0.000011568854461074807,
           0.0006016433471813798,
           0.215417742729187,
           0.000024250086426036432,
           0.000010834548447746783,
           1.980486246111468e-7
          ],
          [
           0.00022927785175852478,
           0.22762002050876617,
           0,
           0,
           0.00000859805368236266,
           0.00006418293924070895
          ],
          [
           0.00007965456461533904,
           0.00048289215192198753,
           0,
           0,
           0.11723960936069489,
           0.000058817189710680395
          ],
          [
           0.000005290372882882366,
           0.000165907375048846,
           0.1810130774974823,
           0.023067275062203407,
           0.00019220820104237646,
           0.00003848804408335127
          ],
          [
           0.2135845422744751,
           0.00017585823661647737,
           0.0000021469179500854807,
           4.181652002444025e-7,
           6.904373321958701e-7,
           0.000010656152880983427
          ]
         ],
         "showscale": false,
         "text": [
          [
           "",
           "",
           "",
           "",
           "",
           ""
          ],
          [
           "",
           "",
           "X",
           "",
           "",
           ""
          ],
          [
           "",
           "X",
           "",
           "",
           "",
           ""
          ],
          [
           "",
           "",
           "",
           "",
           "X",
           ""
          ],
          [
           "",
           "o",
           "X",
           "",
           "",
           ""
          ],
          [
           "X",
           "",
           "",
           "",
           "",
           ""
          ]
         ],
         "textfont": {
          "color": "pink"
         },
         "texttemplate": "%{text}",
         "type": "heatmap",
         "x": [
          "A",
          "B",
          "C",
          "D",
          "E",
          "F"
         ],
         "xaxis": "x7",
         "xgap": 0.2,
         "y": [
          "1",
          "2",
          "3",
          "4",
          "5",
          "6"
         ],
         "yaxis": "y7",
         "ygap": 0.2,
         "z": [
          [
           0.000003276544930486125,
           0.000008616671948402654,
           0.008851250633597374,
           0.010775499977171421,
           0.0002322835789527744,
           0.000023308853997150436
          ],
          [
           0.000011568854461074807,
           0.0006016433471813798,
           0.215417742729187,
           0.000024250086426036432,
           0.000010834548447746783,
           1.980486246111468e-7
          ],
          [
           0.00022927785175852478,
           0.22762002050876617,
           0,
           0,
           0.00000859805368236266,
           0.00006418293924070895
          ],
          [
           0.00007965456461533904,
           0.00048289215192198753,
           0,
           0,
           0.11723960936069489,
           0.000058817189710680395
          ],
          [
           0.000005290372882882366,
           0.000165907375048846,
           0.1810130774974823,
           0.023067275062203407,
           0.00019220820104237646,
           0.00003848804408335127
          ],
          [
           0.2135845422744751,
           0.00017585823661647737,
           0.0000021469179500854807,
           4.181652002444025e-7,
           6.904373321958701e-7,
           0.000010656152880983427
          ]
         ]
        },
        {
         "colorscale": [
          [
           0,
           "rgb(0, 0, 0)"
          ],
          [
           0.09090909090909091,
           "rgb(16, 16, 16)"
          ],
          [
           0.18181818181818182,
           "rgb(38, 38, 38)"
          ],
          [
           0.2727272727272727,
           "rgb(59, 59, 59)"
          ],
          [
           0.36363636363636365,
           "rgb(81, 80, 80)"
          ],
          [
           0.45454545454545453,
           "rgb(102, 101, 101)"
          ],
          [
           0.5454545454545454,
           "rgb(124, 123, 122)"
          ],
          [
           0.6363636363636364,
           "rgb(146, 146, 145)"
          ],
          [
           0.7272727272727273,
           "rgb(171, 171, 170)"
          ],
          [
           0.8181818181818182,
           "rgb(197, 197, 195)"
          ],
          [
           0.9090909090909091,
           "rgb(224, 224, 223)"
          ],
          [
           1,
           "rgb(254, 254, 253)"
          ]
         ],
         "hovertemplate": "%{hovertext}<extra></extra>",
         "hovertext": [
          [
           0.000016875957953743637,
           0.0000026745758532342734,
           0.000019403023543418385,
           0.00009642923396313563,
           0.004482660908252001,
           0.000024646997189847752
          ],
          [
           0.1785822957754135,
           0.23995046317577362,
           0.22884292900562286,
           0.000032145195291377604,
           0.000016566506019444205,
           0.00000899734459380852
          ],
          [
           0.0062928637489676476,
           0.000006583645699720364,
           0,
           0,
           0.0000018182494159191265,
           0.000002135813474524184
          ],
          [
           0.00006263103568926454,
           0.16422201693058014,
           0,
           0,
           0.0005038526142016053,
           0.17540191113948822
          ],
          [
           0.000036541834560921416,
           0.000004395116320665693,
           0.000047246769099729136,
           0.0009666324476711452,
           0.000020718405721709132,
           4.3500818946995423e-7
          ],
          [
           0.000006124909759819275,
           0.000012989046808797866,
           0.00011292480485280976,
           0.00002231770849903114,
           0.000027561607566894963,
           0.0001721797598293051
          ]
         ],
         "showscale": false,
         "text": [
          [
           "",
           "",
           "",
           "",
           "",
           ""
          ],
          [
           "X",
           "X",
           "X",
           "",
           "",
           ""
          ],
          [
           "",
           "o",
           "",
           "",
           "",
           ""
          ],
          [
           "",
           "X",
           "",
           "",
           "",
           "X"
          ],
          [
           "",
           "",
           "",
           "",
           "",
           ""
          ],
          [
           "",
           "",
           "",
           "",
           "",
           ""
          ]
         ],
         "textfont": {
          "color": "pink"
         },
         "texttemplate": "%{text}",
         "type": "heatmap",
         "x": [
          "A",
          "B",
          "C",
          "D",
          "E",
          "F"
         ],
         "xaxis": "x8",
         "xgap": 0.2,
         "y": [
          "1",
          "2",
          "3",
          "4",
          "5",
          "6"
         ],
         "yaxis": "y8",
         "ygap": 0.2,
         "z": [
          [
           0.000016875957953743637,
           0.0000026745758532342734,
           0.000019403023543418385,
           0.00009642923396313563,
           0.004482660908252001,
           0.000024646997189847752
          ],
          [
           0.1785822957754135,
           0.23995046317577362,
           0.22884292900562286,
           0.000032145195291377604,
           0.000016566506019444205,
           0.00000899734459380852
          ],
          [
           0.0062928637489676476,
           0.000006583645699720364,
           0,
           0,
           0.0000018182494159191265,
           0.000002135813474524184
          ],
          [
           0.00006263103568926454,
           0.16422201693058014,
           0,
           0,
           0.0005038526142016053,
           0.17540191113948822
          ],
          [
           0.000036541834560921416,
           0.000004395116320665693,
           0.000047246769099729136,
           0.0009666324476711452,
           0.000020718405721709132,
           4.3500818946995423e-7
          ],
          [
           0.000006124909759819275,
           0.000012989046808797866,
           0.00011292480485280976,
           0.00002231770849903114,
           0.000027561607566894963,
           0.0001721797598293051
          ]
         ]
        },
        {
         "colorscale": [
          [
           0,
           "rgb(0, 0, 0)"
          ],
          [
           0.09090909090909091,
           "rgb(16, 16, 16)"
          ],
          [
           0.18181818181818182,
           "rgb(38, 38, 38)"
          ],
          [
           0.2727272727272727,
           "rgb(59, 59, 59)"
          ],
          [
           0.36363636363636365,
           "rgb(81, 80, 80)"
          ],
          [
           0.45454545454545453,
           "rgb(102, 101, 101)"
          ],
          [
           0.5454545454545454,
           "rgb(124, 123, 122)"
          ],
          [
           0.6363636363636364,
           "rgb(146, 146, 145)"
          ],
          [
           0.7272727272727273,
           "rgb(171, 171, 170)"
          ],
          [
           0.8181818181818182,
           "rgb(197, 197, 195)"
          ],
          [
           0.9090909090909091,
           "rgb(224, 224, 223)"
          ],
          [
           1,
           "rgb(254, 254, 253)"
          ]
         ],
         "hovertemplate": "%{hovertext}<extra></extra>",
         "hovertext": [
          [
           0.0008560711867175996,
           0.00009209950803779066,
           0.043412137776613235,
           0.09554127603769302,
           0.09804856777191162,
           0.000018743678083410487
          ],
          [
           0.00015599541075062007,
           0.00024796187062747777,
           0.13556703925132751,
           0.0000014973957149777561,
           0.000011131400242447853,
           7.635443921572005e-7
          ],
          [
           0.12539838254451752,
           0.000007356234164035413,
           0,
           0,
           0.000005588535714196041,
           0.00009560611943015829
          ],
          [
           0.00016946597315836698,
           0.0014441553503274918,
           0,
           0,
           0.0050684139132499695,
           0.00013187146396376193
          ],
          [
           0.0013379825977608562,
           0.00037021658499725163,
           0.08219882845878601,
           0.15377147495746613,
           0.1021224856376648,
           0.0001810175454011187
          ],
          [
           0.1533832848072052,
           0.0000384590239264071,
           0.00012586137745529413,
           0.0000017097958107115119,
           9.484057272857171e-7,
           0.00019367976346984506
          ]
         ],
         "showscale": false,
         "text": [
          [
           "",
           "",
           "X",
           "X",
           "X",
           ""
          ],
          [
           "o",
           "",
           "X",
           "",
           "",
           ""
          ],
          [
           "X",
           "",
           "",
           "",
           "",
           ""
          ],
          [
           "",
           "",
           "",
           "",
           "",
           ""
          ],
          [
           "",
           "",
           "X",
           "X",
           "X",
           ""
          ],
          [
           "X",
           "",
           "",
           "",
           "",
           ""
          ]
         ],
         "textfont": {
          "color": "pink"
         },
         "texttemplate": "%{text}",
         "type": "heatmap",
         "x": [
          "A",
          "B",
          "C",
          "D",
          "E",
          "F"
         ],
         "xaxis": "x9",
         "xgap": 0.2,
         "y": [
          "1",
          "2",
          "3",
          "4",
          "5",
          "6"
         ],
         "yaxis": "y9",
         "ygap": 0.2,
         "z": [
          [
           0.0008560711867175996,
           0.00009209950803779066,
           0.043412137776613235,
           0.09554127603769302,
           0.09804856777191162,
           0.000018743678083410487
          ],
          [
           0.00015599541075062007,
           0.00024796187062747777,
           0.13556703925132751,
           0.0000014973957149777561,
           0.000011131400242447853,
           7.635443921572005e-7
          ],
          [
           0.12539838254451752,
           0.000007356234164035413,
           0,
           0,
           0.000005588535714196041,
           0.00009560611943015829
          ],
          [
           0.00016946597315836698,
           0.0014441553503274918,
           0,
           0,
           0.0050684139132499695,
           0.00013187146396376193
          ],
          [
           0.0013379825977608562,
           0.00037021658499725163,
           0.08219882845878601,
           0.15377147495746613,
           0.1021224856376648,
           0.0001810175454011187
          ],
          [
           0.1533832848072052,
           0.0000384590239264071,
           0.00012586137745529413,
           0.0000017097958107115119,
           9.484057272857171e-7,
           0.00019367976346984506
          ]
         ]
        },
        {
         "colorscale": [
          [
           0,
           "rgb(0, 0, 0)"
          ],
          [
           0.09090909090909091,
           "rgb(16, 16, 16)"
          ],
          [
           0.18181818181818182,
           "rgb(38, 38, 38)"
          ],
          [
           0.2727272727272727,
           "rgb(59, 59, 59)"
          ],
          [
           0.36363636363636365,
           "rgb(81, 80, 80)"
          ],
          [
           0.45454545454545453,
           "rgb(102, 101, 101)"
          ],
          [
           0.5454545454545454,
           "rgb(124, 123, 122)"
          ],
          [
           0.6363636363636364,
           "rgb(146, 146, 145)"
          ],
          [
           0.7272727272727273,
           "rgb(171, 171, 170)"
          ],
          [
           0.8181818181818182,
           "rgb(197, 197, 195)"
          ],
          [
           0.9090909090909091,
           "rgb(224, 224, 223)"
          ],
          [
           1,
           "rgb(254, 254, 253)"
          ]
         ],
         "hovertemplate": "%{hovertext}<extra></extra>",
         "hovertext": [
          [
           0.0000045791180127707776,
           0.00008382993837585673,
           1.978376218403355e-7,
           0.3234935700893402,
           0.0034155058674514294,
           0.00023686490021646023
          ],
          [
           6.430339567486953e-7,
           0.3607063293457031,
           0.29103055596351624,
           0.0003232369781471789,
           0.000029953293051221408,
           0.000006223658601811621
          ],
          [
           0.000004095342319487827,
           0.00001295483707508538,
           0,
           0,
           0.00005389362195273861,
           0.0005274736904539168
          ],
          [
           0.00034139573108404875,
           0.0028922848869115114,
           0,
           0,
           0.0040814075618982315,
           0.009213578887283802
          ],
          [
           0.000005863253136340063,
           0.000015163082025537733,
           0.00024299135839100927,
           0.0025546313263475895,
           0.00003396108513697982,
           0.000011123655895062257
          ],
          [
           0.000008068056558840908,
           0.000016107971532619558,
           0.00040249351877719164,
           0.00002844862683559768,
           0.0000988802348729223,
           0.0001236785319633782
          ]
         ],
         "showscale": false,
         "text": [
          [
           "",
           "",
           "o",
           "X",
           "",
           ""
          ],
          [
           "",
           "X",
           "X",
           "",
           "",
           ""
          ],
          [
           "",
           "",
           "",
           "",
           "",
           ""
          ],
          [
           "",
           "",
           "",
           "",
           "",
           ""
          ],
          [
           "",
           "",
           "",
           "",
           "",
           ""
          ],
          [
           "",
           "",
           "",
           "",
           "",
           ""
          ]
         ],
         "textfont": {
          "color": "pink"
         },
         "texttemplate": "%{text}",
         "type": "heatmap",
         "x": [
          "A",
          "B",
          "C",
          "D",
          "E",
          "F"
         ],
         "xaxis": "x10",
         "xgap": 0.2,
         "y": [
          "1",
          "2",
          "3",
          "4",
          "5",
          "6"
         ],
         "yaxis": "y10",
         "ygap": 0.2,
         "z": [
          [
           0.0000045791180127707776,
           0.00008382993837585673,
           1.978376218403355e-7,
           0.3234935700893402,
           0.0034155058674514294,
           0.00023686490021646023
          ],
          [
           6.430339567486953e-7,
           0.3607063293457031,
           0.29103055596351624,
           0.0003232369781471789,
           0.000029953293051221408,
           0.000006223658601811621
          ],
          [
           0.000004095342319487827,
           0.00001295483707508538,
           0,
           0,
           0.00005389362195273861,
           0.0005274736904539168
          ],
          [
           0.00034139573108404875,
           0.0028922848869115114,
           0,
           0,
           0.0040814075618982315,
           0.009213578887283802
          ],
          [
           0.000005863253136340063,
           0.000015163082025537733,
           0.00024299135839100927,
           0.0025546313263475895,
           0.00003396108513697982,
           0.000011123655895062257
          ],
          [
           0.000008068056558840908,
           0.000016107971532619558,
           0.00040249351877719164,
           0.00002844862683559768,
           0.0000988802348729223,
           0.0001236785319633782
          ]
         ]
        },
        {
         "colorscale": [
          [
           0,
           "rgb(0, 0, 0)"
          ],
          [
           0.09090909090909091,
           "rgb(16, 16, 16)"
          ],
          [
           0.18181818181818182,
           "rgb(38, 38, 38)"
          ],
          [
           0.2727272727272727,
           "rgb(59, 59, 59)"
          ],
          [
           0.36363636363636365,
           "rgb(81, 80, 80)"
          ],
          [
           0.45454545454545453,
           "rgb(102, 101, 101)"
          ],
          [
           0.5454545454545454,
           "rgb(124, 123, 122)"
          ],
          [
           0.6363636363636364,
           "rgb(146, 146, 145)"
          ],
          [
           0.7272727272727273,
           "rgb(171, 171, 170)"
          ],
          [
           0.8181818181818182,
           "rgb(197, 197, 195)"
          ],
          [
           0.9090909090909091,
           "rgb(224, 224, 223)"
          ],
          [
           1,
           "rgb(254, 254, 253)"
          ]
         ],
         "hovertemplate": "%{hovertext}<extra></extra>",
         "hovertext": [
          [
           0.0009376396192237735,
           0.0028234354685992002,
           7.37747640755515e-8,
           0.0005121279391460121,
           0.00001726171831251122,
           0.000003331247171445284
          ],
          [
           0.00025405053747817874,
           8.994071549750515e-7,
           0.0009075213456526399,
           3.6605490549845854e-7,
           0.000004473944954952458,
           0.000003276687039033277
          ],
          [
           0.1722634732723236,
           0.0008609514334239066,
           0,
           0,
           0.00003110046964138746,
           0.000026461997549631633
          ],
          [
           0.0013129450380802155,
           0.16232572495937347,
           0,
           0,
           0.0020211790688335896,
           0.014251954853534698
          ],
          [
           0.000553227961063385,
           0.000501868431456387,
           0.1915690153837204,
           0.20051108300685883,
           0.0018925467738881707,
           0.00018834744696505368
          ],
          [
           0.24594031274318695,
           0.00007274187373695895,
           0.00005155795588507317,
           0.0001332827378064394,
           0.0000014187062333803624,
           0.000026353176508564502
          ]
         ],
         "showscale": false,
         "text": [
          [
           "",
           "",
           "",
           "",
           "",
           ""
          ],
          [
           "",
           "o",
           "",
           "",
           "",
           ""
          ],
          [
           "X",
           "",
           "",
           "",
           "",
           ""
          ],
          [
           "",
           "X",
           "",
           "",
           "",
           ""
          ],
          [
           "",
           "",
           "X",
           "X",
           "",
           ""
          ],
          [
           "X",
           "",
           "",
           "",
           "",
           ""
          ]
         ],
         "textfont": {
          "color": "pink"
         },
         "texttemplate": "%{text}",
         "type": "heatmap",
         "x": [
          "A",
          "B",
          "C",
          "D",
          "E",
          "F"
         ],
         "xaxis": "x11",
         "xgap": 0.2,
         "y": [
          "1",
          "2",
          "3",
          "4",
          "5",
          "6"
         ],
         "yaxis": "y11",
         "ygap": 0.2,
         "z": [
          [
           0.0009376396192237735,
           0.0028234354685992002,
           7.37747640755515e-8,
           0.0005121279391460121,
           0.00001726171831251122,
           0.000003331247171445284
          ],
          [
           0.00025405053747817874,
           8.994071549750515e-7,
           0.0009075213456526399,
           3.6605490549845854e-7,
           0.000004473944954952458,
           0.000003276687039033277
          ],
          [
           0.1722634732723236,
           0.0008609514334239066,
           0,
           0,
           0.00003110046964138746,
           0.000026461997549631633
          ],
          [
           0.0013129450380802155,
           0.16232572495937347,
           0,
           0,
           0.0020211790688335896,
           0.014251954853534698
          ],
          [
           0.000553227961063385,
           0.000501868431456387,
           0.1915690153837204,
           0.20051108300685883,
           0.0018925467738881707,
           0.00018834744696505368
          ],
          [
           0.24594031274318695,
           0.00007274187373695895,
           0.00005155795588507317,
           0.0001332827378064394,
           0.0000014187062333803624,
           0.000026353176508564502
          ]
         ]
        },
        {
         "colorscale": [
          [
           0,
           "rgb(0, 0, 0)"
          ],
          [
           0.09090909090909091,
           "rgb(16, 16, 16)"
          ],
          [
           0.18181818181818182,
           "rgb(38, 38, 38)"
          ],
          [
           0.2727272727272727,
           "rgb(59, 59, 59)"
          ],
          [
           0.36363636363636365,
           "rgb(81, 80, 80)"
          ],
          [
           0.45454545454545453,
           "rgb(102, 101, 101)"
          ],
          [
           0.5454545454545454,
           "rgb(124, 123, 122)"
          ],
          [
           0.6363636363636364,
           "rgb(146, 146, 145)"
          ],
          [
           0.7272727272727273,
           "rgb(171, 171, 170)"
          ],
          [
           0.8181818181818182,
           "rgb(197, 197, 195)"
          ],
          [
           0.9090909090909091,
           "rgb(224, 224, 223)"
          ],
          [
           1,
           "rgb(254, 254, 253)"
          ]
         ],
         "hovertemplate": "%{hovertext}<extra></extra>",
         "hovertext": [
          [
           0.23909461498260498,
           0.0028214198537170887,
           6.625874249266417e-8,
           0.18472248315811157,
           0.026240743696689606,
           0.0002757827169261873
          ],
          [
           0.000259790918789804,
           0.000023561886337120086,
           0.22419683635234833,
           0.0003727731527760625,
           0.00008292850543512031,
           0.00006224263779586181
          ],
          [
           0.000029245575206005014,
           0.000007804053893778473,
           0,
           0,
           0.00002429686537652742,
           0.000007167230251070578
          ],
          [
           0.2509947121143341,
           0.01945680007338524,
           0,
           0,
           0.008952643722295761,
           0.036379776895046234
          ],
          [
           0.000035326185752637684,
           0.000024852301066857763,
           0.0003355555236339569,
           0.004811009392142296,
           0.00025654162163846195,
           0.00007654383807675913
          ],
          [
           0.000007462163921445608,
           0.000022199772502062842,
           0.00009254988981410861,
           0.00000439190353063168,
           0.0000925467029446736,
           0.00023529316240455955
          ]
         ],
         "showscale": false,
         "text": [
          [
           "X",
           "",
           "",
           "X",
           "",
           ""
          ],
          [
           "",
           "",
           "X",
           "",
           "",
           ""
          ],
          [
           "o",
           "",
           "",
           "",
           "",
           ""
          ],
          [
           "X",
           "",
           "",
           "",
           "",
           ""
          ],
          [
           "",
           "",
           "",
           "",
           "",
           ""
          ],
          [
           "",
           "",
           "",
           "",
           "",
           ""
          ]
         ],
         "textfont": {
          "color": "pink"
         },
         "texttemplate": "%{text}",
         "type": "heatmap",
         "x": [
          "A",
          "B",
          "C",
          "D",
          "E",
          "F"
         ],
         "xaxis": "x12",
         "xgap": 0.2,
         "y": [
          "1",
          "2",
          "3",
          "4",
          "5",
          "6"
         ],
         "yaxis": "y12",
         "ygap": 0.2,
         "z": [
          [
           0.23909461498260498,
           0.0028214198537170887,
           6.625874249266417e-8,
           0.18472248315811157,
           0.026240743696689606,
           0.0002757827169261873
          ],
          [
           0.000259790918789804,
           0.000023561886337120086,
           0.22419683635234833,
           0.0003727731527760625,
           0.00008292850543512031,
           0.00006224263779586181
          ],
          [
           0.000029245575206005014,
           0.000007804053893778473,
           0,
           0,
           0.00002429686537652742,
           0.000007167230251070578
          ],
          [
           0.2509947121143341,
           0.01945680007338524,
           0,
           0,
           0.008952643722295761,
           0.036379776895046234
          ],
          [
           0.000035326185752637684,
           0.000024852301066857763,
           0.0003355555236339569,
           0.004811009392142296,
           0.00025654162163846195,
           0.00007654383807675913
          ],
          [
           0.000007462163921445608,
           0.000022199772502062842,
           0.00009254988981410861,
           0.00000439190353063168,
           0.0000925467029446736,
           0.00023529316240455955
          ]
         ]
        },
        {
         "colorscale": [
          [
           0,
           "rgb(0, 0, 0)"
          ],
          [
           0.09090909090909091,
           "rgb(16, 16, 16)"
          ],
          [
           0.18181818181818182,
           "rgb(38, 38, 38)"
          ],
          [
           0.2727272727272727,
           "rgb(59, 59, 59)"
          ],
          [
           0.36363636363636365,
           "rgb(81, 80, 80)"
          ],
          [
           0.45454545454545453,
           "rgb(102, 101, 101)"
          ],
          [
           0.5454545454545454,
           "rgb(124, 123, 122)"
          ],
          [
           0.6363636363636364,
           "rgb(146, 146, 145)"
          ],
          [
           0.7272727272727273,
           "rgb(171, 171, 170)"
          ],
          [
           0.8181818181818182,
           "rgb(197, 197, 195)"
          ],
          [
           0.9090909090909091,
           "rgb(224, 224, 223)"
          ],
          [
           1,
           "rgb(254, 254, 253)"
          ]
         ],
         "hovertemplate": "%{hovertext}<extra></extra>",
         "hovertext": [
          [
           0.003286021761596203,
           0.002540683140978217,
           8.406014018191854e-8,
           0.0034897217992693186,
           0.0008078560349531472,
           0.000037934201827738434
          ],
          [
           0.000021881387510802597,
           7.561179131698736e-7,
           0.0004924467648379505,
           0.0000016315005950673367,
           0.000006983520506764762,
           0.000004760167485073907
          ],
          [
           0.000007887190804467537,
           0.000003954285602958407,
           0,
           0,
           0.000006415991265384946,
           0.00007509661372750998
          ],
          [
           6.801975587222842e-7,
           0.05084340274333954,
           0,
           0,
           0.0025851086247712374,
           0.023190869018435478
          ],
          [
           0.0023506644647568464,
           0.000633099174592644,
           0.1851184219121933,
           0.27070409059524536,
           0.16846224665641785,
           0.00023171160137280822
          ],
          [
           0.2835786044597626,
           0.0003807651228271425,
           0.0006898709107190371,
           0.00010280741844326258,
           0.00003214273601770401,
           0.00031142935040406883
          ]
         ],
         "showscale": false,
         "text": [
          [
           "",
           "",
           "",
           "",
           "",
           ""
          ],
          [
           "",
           "",
           "",
           "",
           "",
           ""
          ],
          [
           "",
           "",
           "",
           "",
           "",
           ""
          ],
          [
           "o",
           "",
           "",
           "",
           "",
           ""
          ],
          [
           "",
           "",
           "X",
           "X",
           "X",
           ""
          ],
          [
           "X",
           "",
           "",
           "",
           "",
           ""
          ]
         ],
         "textfont": {
          "color": "pink"
         },
         "texttemplate": "%{text}",
         "type": "heatmap",
         "x": [
          "A",
          "B",
          "C",
          "D",
          "E",
          "F"
         ],
         "xaxis": "x13",
         "xgap": 0.2,
         "y": [
          "1",
          "2",
          "3",
          "4",
          "5",
          "6"
         ],
         "yaxis": "y13",
         "ygap": 0.2,
         "z": [
          [
           0.003286021761596203,
           0.002540683140978217,
           8.406014018191854e-8,
           0.0034897217992693186,
           0.0008078560349531472,
           0.000037934201827738434
          ],
          [
           0.000021881387510802597,
           7.561179131698736e-7,
           0.0004924467648379505,
           0.0000016315005950673367,
           0.000006983520506764762,
           0.000004760167485073907
          ],
          [
           0.000007887190804467537,
           0.000003954285602958407,
           0,
           0,
           0.000006415991265384946,
           0.00007509661372750998
          ],
          [
           6.801975587222842e-7,
           0.05084340274333954,
           0,
           0,
           0.0025851086247712374,
           0.023190869018435478
          ],
          [
           0.0023506644647568464,
           0.000633099174592644,
           0.1851184219121933,
           0.27070409059524536,
           0.16846224665641785,
           0.00023171160137280822
          ],
          [
           0.2835786044597626,
           0.0003807651228271425,
           0.0006898709107190371,
           0.00010280741844326258,
           0.00003214273601770401,
           0.00031142935040406883
          ]
         ]
        },
        {
         "colorscale": [
          [
           0,
           "rgb(0, 0, 0)"
          ],
          [
           0.09090909090909091,
           "rgb(16, 16, 16)"
          ],
          [
           0.18181818181818182,
           "rgb(38, 38, 38)"
          ],
          [
           0.2727272727272727,
           "rgb(59, 59, 59)"
          ],
          [
           0.36363636363636365,
           "rgb(81, 80, 80)"
          ],
          [
           0.45454545454545453,
           "rgb(102, 101, 101)"
          ],
          [
           0.5454545454545454,
           "rgb(124, 123, 122)"
          ],
          [
           0.6363636363636364,
           "rgb(146, 146, 145)"
          ],
          [
           0.7272727272727273,
           "rgb(171, 171, 170)"
          ],
          [
           0.8181818181818182,
           "rgb(197, 197, 195)"
          ],
          [
           0.9090909090909091,
           "rgb(224, 224, 223)"
          ],
          [
           1,
           "rgb(254, 254, 253)"
          ]
         ],
         "hovertemplate": "%{hovertext}<extra></extra>",
         "hovertext": [
          [
           0.011998841539025307,
           0.04226171597838402,
           0.000042997773562092334,
           0.02070879563689232,
           0.0267815962433815,
           0.00025427158107049763
          ],
          [
           0.000015107953004189767,
           0.0000013062733614788158,
           0.2311936914920807,
           0.000008113378498819657,
           0.00010560457303654402,
           0.000003875154106935952
          ],
          [
           0.00004435907248989679,
           0.0000010491909279153333,
           0,
           0,
           0.0002529537887312472,
           0.00006165963714011014
          ],
          [
           0.00004317581988289021,
           0.0051607489585876465,
           0,
           0,
           0.19184240698814392,
           0.0034783289302140474
          ],
          [
           0.00013309207861311734,
           0.0000898902871995233,
           0.10020124167203903,
           0.00002040621438936796,
           0.19822636246681213,
           0.000033706783142406493
          ],
          [
           0.00007509436545660719,
           0.000006834827672719257,
           0.00044236917165108025,
           0.000930685200728476,
           0.16557464003562927,
           0.000004968987013853621
          ]
         ],
         "showscale": false,
         "text": [
          [
           "",
           "",
           "",
           "",
           "",
           ""
          ],
          [
           "",
           "",
           "X",
           "",
           "",
           ""
          ],
          [
           "",
           "",
           "",
           "",
           "",
           ""
          ],
          [
           "",
           "",
           "",
           "",
           "",
           ""
          ],
          [
           "",
           "",
           "",
           "o",
           "",
           ""
          ],
          [
           "",
           "",
           "",
           "",
           "X",
           ""
          ]
         ],
         "textfont": {
          "color": "pink"
         },
         "texttemplate": "%{text}",
         "type": "heatmap",
         "x": [
          "A",
          "B",
          "C",
          "D",
          "E",
          "F"
         ],
         "xaxis": "x14",
         "xgap": 0.2,
         "y": [
          "1",
          "2",
          "3",
          "4",
          "5",
          "6"
         ],
         "yaxis": "y14",
         "ygap": 0.2,
         "z": [
          [
           0.011998841539025307,
           0.04226171597838402,
           0.000042997773562092334,
           0.02070879563689232,
           0.0267815962433815,
           0.00025427158107049763
          ],
          [
           0.000015107953004189767,
           0.0000013062733614788158,
           0.2311936914920807,
           0.000008113378498819657,
           0.00010560457303654402,
           0.000003875154106935952
          ],
          [
           0.00004435907248989679,
           0.0000010491909279153333,
           0,
           0,
           0.0002529537887312472,
           0.00006165963714011014
          ],
          [
           0.00004317581988289021,
           0.0051607489585876465,
           0,
           0,
           0.19184240698814392,
           0.0034783289302140474
          ],
          [
           0.00013309207861311734,
           0.0000898902871995233,
           0.10020124167203903,
           0.00002040621438936796,
           0.19822636246681213,
           0.000033706783142406493
          ],
          [
           0.00007509436545660719,
           0.000006834827672719257,
           0.00044236917165108025,
           0.000930685200728476,
           0.16557464003562927,
           0.000004968987013853621
          ]
         ]
        },
        {
         "colorscale": [
          [
           0,
           "rgb(0, 0, 0)"
          ],
          [
           0.09090909090909091,
           "rgb(16, 16, 16)"
          ],
          [
           0.18181818181818182,
           "rgb(38, 38, 38)"
          ],
          [
           0.2727272727272727,
           "rgb(59, 59, 59)"
          ],
          [
           0.36363636363636365,
           "rgb(81, 80, 80)"
          ],
          [
           0.45454545454545453,
           "rgb(102, 101, 101)"
          ],
          [
           0.5454545454545454,
           "rgb(124, 123, 122)"
          ],
          [
           0.6363636363636364,
           "rgb(146, 146, 145)"
          ],
          [
           0.7272727272727273,
           "rgb(171, 171, 170)"
          ],
          [
           0.8181818181818182,
           "rgb(197, 197, 195)"
          ],
          [
           0.9090909090909091,
           "rgb(224, 224, 223)"
          ],
          [
           1,
           "rgb(254, 254, 253)"
          ]
         ],
         "hovertemplate": "%{hovertext}<extra></extra>",
         "hovertext": [
          [
           0.007649150677025318,
           0.000747256854083389,
           9.889682672792333e-8,
           0.003930186852812767,
           0.00013644926366396248,
           0.000012167964086984284
          ],
          [
           0.00003128339085378684,
           0.000007846703738323413,
           0.0019074168521910906,
           0.000005174882517167134,
           0.0000025499869025225053,
           0.00000941559574130224
          ],
          [
           0.0006074451375752687,
           0.000014849896615487523,
           0,
           0,
           0.000006591336841665907,
           0.000006196737558639143
          ],
          [
           0.0000051137199079676066,
           0.20726189017295837,
           0,
           0,
           0.0008659102022647858,
           0.015416841022670269
          ],
          [
           0.0035120307002216578,
           0.000743669515941292,
           0.15110033750534058,
           0.000008208866347558796,
           0.0005482439883053303,
           0.00007380957686109468
          ],
          [
           0.36558157205581665,
           0.0011691158870235085,
           0.010184433311223984,
           0.22815655171871185,
           0.000002797620481942431,
           0.00029539308161474764
          ]
         ],
         "showscale": false,
         "text": [
          [
           "",
           "",
           "",
           "",
           "",
           ""
          ],
          [
           "",
           "",
           "",
           "",
           "",
           ""
          ],
          [
           "",
           "",
           "",
           "",
           "",
           ""
          ],
          [
           "",
           "X",
           "",
           "",
           "",
           ""
          ],
          [
           "",
           "",
           "X",
           "",
           "",
           ""
          ],
          [
           "X",
           "",
           "",
           "X",
           "o",
           ""
          ]
         ],
         "textfont": {
          "color": "pink"
         },
         "texttemplate": "%{text}",
         "type": "heatmap",
         "x": [
          "A",
          "B",
          "C",
          "D",
          "E",
          "F"
         ],
         "xaxis": "x15",
         "xgap": 0.2,
         "y": [
          "1",
          "2",
          "3",
          "4",
          "5",
          "6"
         ],
         "yaxis": "y15",
         "ygap": 0.2,
         "z": [
          [
           0.007649150677025318,
           0.000747256854083389,
           9.889682672792333e-8,
           0.003930186852812767,
           0.00013644926366396248,
           0.000012167964086984284
          ],
          [
           0.00003128339085378684,
           0.000007846703738323413,
           0.0019074168521910906,
           0.000005174882517167134,
           0.0000025499869025225053,
           0.00000941559574130224
          ],
          [
           0.0006074451375752687,
           0.000014849896615487523,
           0,
           0,
           0.000006591336841665907,
           0.000006196737558639143
          ],
          [
           0.0000051137199079676066,
           0.20726189017295837,
           0,
           0,
           0.0008659102022647858,
           0.015416841022670269
          ],
          [
           0.0035120307002216578,
           0.000743669515941292,
           0.15110033750534058,
           0.000008208866347558796,
           0.0005482439883053303,
           0.00007380957686109468
          ],
          [
           0.36558157205581665,
           0.0011691158870235085,
           0.010184433311223984,
           0.22815655171871185,
           0.000002797620481942431,
           0.00029539308161474764
          ]
         ]
        },
        {
         "colorscale": [
          [
           0,
           "rgb(0, 0, 0)"
          ],
          [
           0.09090909090909091,
           "rgb(16, 16, 16)"
          ],
          [
           0.18181818181818182,
           "rgb(38, 38, 38)"
          ],
          [
           0.2727272727272727,
           "rgb(59, 59, 59)"
          ],
          [
           0.36363636363636365,
           "rgb(81, 80, 80)"
          ],
          [
           0.45454545454545453,
           "rgb(102, 101, 101)"
          ],
          [
           0.5454545454545454,
           "rgb(124, 123, 122)"
          ],
          [
           0.6363636363636364,
           "rgb(146, 146, 145)"
          ],
          [
           0.7272727272727273,
           "rgb(171, 171, 170)"
          ],
          [
           0.8181818181818182,
           "rgb(197, 197, 195)"
          ],
          [
           0.9090909090909091,
           "rgb(224, 224, 223)"
          ],
          [
           1,
           "rgb(254, 254, 253)"
          ]
         ],
         "hovertemplate": "%{hovertext}<extra></extra>",
         "hovertext": [
          [
           0.009904292412102222,
           0.15609586238861084,
           0.000011160949725308456,
           0.2671731114387512,
           0.010896301828324795,
           0.000470800994662568
          ],
          [
           0.00007457295578205958,
           0.0000015241678283928195,
           0.26490792632102966,
           0.00021971431851852685,
           0.00019545393297448754,
           0.0000013489452612702735
          ],
          [
           0.0000019417402654653415,
           0.00007553234900115058,
           0,
           0,
           0.00014924486458767205,
           0.00003290822860435583
          ],
          [
           0.000008548849109502044,
           0.003621595911681652,
           0,
           0,
           0.1642698496580124,
           0.008633612655103207
          ],
          [
           0.0032525400165468454,
           0.0003506858483888209,
           0.00005074252840131521,
           0.00016743781452532858,
           0.04283984750509262,
           0.00010692937212297693
          ],
          [
           0.0001254403468919918,
           0.006713189650326967,
           0.05944383889436722,
           0.00015213541337288916,
           0.0000019248993794462876,
           0.00005000559758627787
          ]
         ],
         "showscale": false,
         "text": [
          [
           "",
           "X",
           "",
           "X",
           "",
           ""
          ],
          [
           "",
           "",
           "X",
           "",
           "",
           ""
          ],
          [
           "",
           "",
           "",
           "",
           "",
           ""
          ],
          [
           "",
           "",
           "",
           "",
           "",
           ""
          ],
          [
           "",
           "",
           "o",
           "",
           "",
           ""
          ],
          [
           "",
           "",
           "",
           "",
           "",
           ""
          ]
         ],
         "textfont": {
          "color": "pink"
         },
         "texttemplate": "%{text}",
         "type": "heatmap",
         "x": [
          "A",
          "B",
          "C",
          "D",
          "E",
          "F"
         ],
         "xaxis": "x16",
         "xgap": 0.2,
         "y": [
          "1",
          "2",
          "3",
          "4",
          "5",
          "6"
         ],
         "yaxis": "y16",
         "ygap": 0.2,
         "z": [
          [
           0.009904292412102222,
           0.15609586238861084,
           0.000011160949725308456,
           0.2671731114387512,
           0.010896301828324795,
           0.000470800994662568
          ],
          [
           0.00007457295578205958,
           0.0000015241678283928195,
           0.26490792632102966,
           0.00021971431851852685,
           0.00019545393297448754,
           0.0000013489452612702735
          ],
          [
           0.0000019417402654653415,
           0.00007553234900115058,
           0,
           0,
           0.00014924486458767205,
           0.00003290822860435583
          ],
          [
           0.000008548849109502044,
           0.003621595911681652,
           0,
           0,
           0.1642698496580124,
           0.008633612655103207
          ],
          [
           0.0032525400165468454,
           0.0003506858483888209,
           0.00005074252840131521,
           0.00016743781452532858,
           0.04283984750509262,
           0.00010692937212297693
          ],
          [
           0.0001254403468919918,
           0.006713189650326967,
           0.05944383889436722,
           0.00015213541337288916,
           0.0000019248993794462876,
           0.00005000559758627787
          ]
         ]
        },
        {
         "colorscale": [
          [
           0,
           "rgb(0, 0, 0)"
          ],
          [
           0.09090909090909091,
           "rgb(16, 16, 16)"
          ],
          [
           0.18181818181818182,
           "rgb(38, 38, 38)"
          ],
          [
           0.2727272727272727,
           "rgb(59, 59, 59)"
          ],
          [
           0.36363636363636365,
           "rgb(81, 80, 80)"
          ],
          [
           0.45454545454545453,
           "rgb(102, 101, 101)"
          ],
          [
           0.5454545454545454,
           "rgb(124, 123, 122)"
          ],
          [
           0.6363636363636364,
           "rgb(146, 146, 145)"
          ],
          [
           0.7272727272727273,
           "rgb(171, 171, 170)"
          ],
          [
           0.8181818181818182,
           "rgb(197, 197, 195)"
          ],
          [
           0.9090909090909091,
           "rgb(224, 224, 223)"
          ],
          [
           1,
           "rgb(254, 254, 253)"
          ]
         ],
         "hovertemplate": "%{hovertext}<extra></extra>",
         "hovertext": [
          [
           0.18942543864250183,
           0.000010927986295428127,
           1.6203634345401952e-7,
           0.00028116305475123227,
           0.00019603793043643236,
           0.000025910971089615487
          ],
          [
           0.0015671930741518736,
           0.000009997585038945545,
           0.03286754712462425,
           0.000009520294952380937,
           0.00009720020898384973,
           0.000005996197160129668
          ],
          [
           0.0006615491583943367,
           0.000013277251127874479,
           0,
           0,
           0.000014974410987633746,
           0.000034023683838313445
          ],
          [
           0.000010945760550384875,
           0.05105668678879738,
           0,
           0,
           0.00354318437166512,
           0.006006019655615091
          ],
          [
           0.15724816918373108,
           0.00004132565300096758,
           0.000008575944775657263,
           0.0000040918712329585105,
           0.14457722008228302,
           0.00014366532559506595
          ],
          [
           0.2816402316093445,
           0.00022511939459946007,
           0.004248207900673151,
           0.1238824799656868,
           0.0005823081592097878,
           0.0015608257381245494
          ]
         ],
         "showscale": false,
         "text": [
          [
           "X",
           "o",
           "",
           "",
           "",
           ""
          ],
          [
           "",
           "",
           "",
           "",
           "",
           ""
          ],
          [
           "",
           "",
           "",
           "",
           "",
           ""
          ],
          [
           "",
           "",
           "",
           "",
           "",
           ""
          ],
          [
           "X",
           "",
           "",
           "",
           "X",
           ""
          ],
          [
           "X",
           "",
           "",
           "X",
           "",
           ""
          ]
         ],
         "textfont": {
          "color": "pink"
         },
         "texttemplate": "%{text}",
         "type": "heatmap",
         "x": [
          "A",
          "B",
          "C",
          "D",
          "E",
          "F"
         ],
         "xaxis": "x17",
         "xgap": 0.2,
         "y": [
          "1",
          "2",
          "3",
          "4",
          "5",
          "6"
         ],
         "yaxis": "y17",
         "ygap": 0.2,
         "z": [
          [
           0.18942543864250183,
           0.000010927986295428127,
           1.6203634345401952e-7,
           0.00028116305475123227,
           0.00019603793043643236,
           0.000025910971089615487
          ],
          [
           0.0015671930741518736,
           0.000009997585038945545,
           0.03286754712462425,
           0.000009520294952380937,
           0.00009720020898384973,
           0.000005996197160129668
          ],
          [
           0.0006615491583943367,
           0.000013277251127874479,
           0,
           0,
           0.000014974410987633746,
           0.000034023683838313445
          ],
          [
           0.000010945760550384875,
           0.05105668678879738,
           0,
           0,
           0.00354318437166512,
           0.006006019655615091
          ],
          [
           0.15724816918373108,
           0.00004132565300096758,
           0.000008575944775657263,
           0.0000040918712329585105,
           0.14457722008228302,
           0.00014366532559506595
          ],
          [
           0.2816402316093445,
           0.00022511939459946007,
           0.004248207900673151,
           0.1238824799656868,
           0.0005823081592097878,
           0.0015608257381245494
          ]
         ]
        },
        {
         "colorscale": [
          [
           0,
           "rgb(0, 0, 0)"
          ],
          [
           0.09090909090909091,
           "rgb(16, 16, 16)"
          ],
          [
           0.18181818181818182,
           "rgb(38, 38, 38)"
          ],
          [
           0.2727272727272727,
           "rgb(59, 59, 59)"
          ],
          [
           0.36363636363636365,
           "rgb(81, 80, 80)"
          ],
          [
           0.45454545454545453,
           "rgb(102, 101, 101)"
          ],
          [
           0.5454545454545454,
           "rgb(124, 123, 122)"
          ],
          [
           0.6363636363636364,
           "rgb(146, 146, 145)"
          ],
          [
           0.7272727272727273,
           "rgb(171, 171, 170)"
          ],
          [
           0.8181818181818182,
           "rgb(197, 197, 195)"
          ],
          [
           0.9090909090909091,
           "rgb(224, 224, 223)"
          ],
          [
           1,
           "rgb(254, 254, 253)"
          ]
         ],
         "hovertemplate": "%{hovertext}<extra></extra>",
         "hovertext": [
          [
           0.00016252552450168878,
           0.000005172601959202439,
           0.000004833401362702716,
           0.21678604185581207,
           0.011980906128883362,
           0.00001541540041216649
          ],
          [
           0.0000482646246382501,
           0.00000481039069200051,
           0.01824062503874302,
           0.0002454206987749785,
           0.000018164615539717488,
           0.000010200703400187194
          ],
          [
           4.763749075209489e-7,
           0.0008939585532061756,
           0,
           0,
           0.00010326298070140183,
           0.000050947808631462976
          ],
          [
           0.000011191940757271368,
           0.007971452549099922,
           0,
           0,
           0.09771821647882462,
           0.008130592294037342
          ],
          [
           0.24160949885845184,
           0.00008746310049900785,
           0.00005422925823950209,
           0.00033671475830487907,
           0.24427036941051483,
           0.000123441539471969
          ],
          [
           0.00000844112946651876,
           0.012960377149283886,
           0.13706424832344055,
           0.0008305346127599478,
           5.522605874830333e-7,
           0.00025164391263388097
          ]
         ],
         "showscale": false,
         "text": [
          [
           "",
           "",
           "",
           "X",
           "",
           ""
          ],
          [
           "",
           "",
           "",
           "",
           "",
           ""
          ],
          [
           "",
           "",
           "",
           "",
           "",
           ""
          ],
          [
           "",
           "",
           "",
           "",
           "",
           ""
          ],
          [
           "X",
           "",
           "",
           "",
           "X",
           ""
          ],
          [
           "o",
           "",
           "X",
           "",
           "",
           ""
          ]
         ],
         "textfont": {
          "color": "pink"
         },
         "texttemplate": "%{text}",
         "type": "heatmap",
         "x": [
          "A",
          "B",
          "C",
          "D",
          "E",
          "F"
         ],
         "xaxis": "x18",
         "xgap": 0.2,
         "y": [
          "1",
          "2",
          "3",
          "4",
          "5",
          "6"
         ],
         "yaxis": "y18",
         "ygap": 0.2,
         "z": [
          [
           0.00016252552450168878,
           0.000005172601959202439,
           0.000004833401362702716,
           0.21678604185581207,
           0.011980906128883362,
           0.00001541540041216649
          ],
          [
           0.0000482646246382501,
           0.00000481039069200051,
           0.01824062503874302,
           0.0002454206987749785,
           0.000018164615539717488,
           0.000010200703400187194
          ],
          [
           4.763749075209489e-7,
           0.0008939585532061756,
           0,
           0,
           0.00010326298070140183,
           0.000050947808631462976
          ],
          [
           0.000011191940757271368,
           0.007971452549099922,
           0,
           0,
           0.09771821647882462,
           0.008130592294037342
          ],
          [
           0.24160949885845184,
           0.00008746310049900785,
           0.00005422925823950209,
           0.00033671475830487907,
           0.24427036941051483,
           0.000123441539471969
          ],
          [
           0.00000844112946651876,
           0.012960377149283886,
           0.13706424832344055,
           0.0008305346127599478,
           5.522605874830333e-7,
           0.00025164391263388097
          ]
         ]
        },
        {
         "colorscale": [
          [
           0,
           "rgb(0, 0, 0)"
          ],
          [
           0.09090909090909091,
           "rgb(16, 16, 16)"
          ],
          [
           0.18181818181818182,
           "rgb(38, 38, 38)"
          ],
          [
           0.2727272727272727,
           "rgb(59, 59, 59)"
          ],
          [
           0.36363636363636365,
           "rgb(81, 80, 80)"
          ],
          [
           0.45454545454545453,
           "rgb(102, 101, 101)"
          ],
          [
           0.5454545454545454,
           "rgb(124, 123, 122)"
          ],
          [
           0.6363636363636364,
           "rgb(146, 146, 145)"
          ],
          [
           0.7272727272727273,
           "rgb(171, 171, 170)"
          ],
          [
           0.8181818181818182,
           "rgb(197, 197, 195)"
          ],
          [
           0.9090909090909091,
           "rgb(224, 224, 223)"
          ],
          [
           1,
           "rgb(254, 254, 253)"
          ]
         ],
         "hovertemplate": "%{hovertext}<extra></extra>",
         "hovertext": [
          [
           0.2904307544231415,
           0.000010880210538743995,
           0.000004422612164489692,
           0.00032519956585019827,
           0.0005532263312488794,
           0.000027048152333009057
          ],
          [
           0.0002766692196018994,
           0.000006077514171920484,
           0.04859144985675812,
           0.000004212004114378942,
           0.00006700211088173091,
           0.00000612588200965547
          ],
          [
           0.00014710062532685697,
           0.0000026910870474239346,
           0,
           0,
           0.000003009242163898307,
           0.000017425021724193357
          ],
          [
           0.000014486340660369024,
           0.037757083773612976,
           0,
           0,
           0.00674348883330822,
           0.002144352998584509
          ],
          [
           0.000005991336365696043,
           0.00007994363841135055,
           0.0000052726272770087235,
           0.0000020078591660421807,
           0.00530315050855279,
           0.000051138311391696334
          ],
          [
           0.000749887665733695,
           0.2182832658290863,
           0.24124571681022644,
           0.1456470638513565,
           0.0003363476134836674,
           0.0011575155658647418
          ]
         ],
         "showscale": false,
         "text": [
          [
           "X",
           "",
           "",
           "",
           "",
           ""
          ],
          [
           "",
           "",
           "",
           "",
           "",
           ""
          ],
          [
           "",
           "",
           "",
           "",
           "",
           ""
          ],
          [
           "",
           "",
           "",
           "",
           "",
           ""
          ],
          [
           "o",
           "",
           "",
           "",
           "",
           ""
          ],
          [
           "",
           "X",
           "X",
           "X",
           "",
           ""
          ]
         ],
         "textfont": {
          "color": "pink"
         },
         "texttemplate": "%{text}",
         "type": "heatmap",
         "x": [
          "A",
          "B",
          "C",
          "D",
          "E",
          "F"
         ],
         "xaxis": "x19",
         "xgap": 0.2,
         "y": [
          "1",
          "2",
          "3",
          "4",
          "5",
          "6"
         ],
         "yaxis": "y19",
         "ygap": 0.2,
         "z": [
          [
           0.2904307544231415,
           0.000010880210538743995,
           0.000004422612164489692,
           0.00032519956585019827,
           0.0005532263312488794,
           0.000027048152333009057
          ],
          [
           0.0002766692196018994,
           0.000006077514171920484,
           0.04859144985675812,
           0.000004212004114378942,
           0.00006700211088173091,
           0.00000612588200965547
          ],
          [
           0.00014710062532685697,
           0.0000026910870474239346,
           0,
           0,
           0.000003009242163898307,
           0.000017425021724193357
          ],
          [
           0.000014486340660369024,
           0.037757083773612976,
           0,
           0,
           0.00674348883330822,
           0.002144352998584509
          ],
          [
           0.000005991336365696043,
           0.00007994363841135055,
           0.0000052726272770087235,
           0.0000020078591660421807,
           0.00530315050855279,
           0.000051138311391696334
          ],
          [
           0.000749887665733695,
           0.2182832658290863,
           0.24124571681022644,
           0.1456470638513565,
           0.0003363476134836674,
           0.0011575155658647418
          ]
         ]
        },
        {
         "colorscale": [
          [
           0,
           "rgb(0, 0, 0)"
          ],
          [
           0.09090909090909091,
           "rgb(16, 16, 16)"
          ],
          [
           0.18181818181818182,
           "rgb(38, 38, 38)"
          ],
          [
           0.2727272727272727,
           "rgb(59, 59, 59)"
          ],
          [
           0.36363636363636365,
           "rgb(81, 80, 80)"
          ],
          [
           0.45454545454545453,
           "rgb(102, 101, 101)"
          ],
          [
           0.5454545454545454,
           "rgb(124, 123, 122)"
          ],
          [
           0.6363636363636364,
           "rgb(146, 146, 145)"
          ],
          [
           0.7272727272727273,
           "rgb(171, 171, 170)"
          ],
          [
           0.8181818181818182,
           "rgb(197, 197, 195)"
          ],
          [
           0.9090909090909091,
           "rgb(224, 224, 223)"
          ],
          [
           1,
           "rgb(254, 254, 253)"
          ]
         ],
         "hovertemplate": "%{hovertext}<extra></extra>",
         "hovertext": [
          [
           0.0014804874081164598,
           0.000004842122962145368,
           0.0000046836894398438744,
           0.04241160675883293,
           0.03525727614760399,
           0.0012745608109980822
          ],
          [
           0.000053244690207066014,
           0.000002540260993555421,
           0.23427754640579224,
           0.000021458314222400077,
           0.00019944977248087525,
           0.0010379983577877283
          ],
          [
           0.000009723664334160276,
           0.00018642906798049808,
           0,
           0,
           0.0001897035544971004,
           0.00009997699817176908
          ],
          [
           0.000058377161622047424,
           0.008197298273444176,
           0,
           0,
           0.1212872564792633,
           0.0017413158202543855
          ],
          [
           0.000004455410817172378,
           0.00018400291446596384,
           0.00003607828330132179,
           0.00020609225612133741,
           0.33391791582107544,
           0.000029405126042547636
          ],
          [
           0.00000298921395369689,
           0.00010333216050639749,
           0.2175450474023819,
           9.406741696693643e-7,
           0.00016757645062170923,
           0.000006344215307763079
          ]
         ],
         "showscale": false,
         "text": [
          [
           "",
           "",
           "",
           "X",
           "",
           ""
          ],
          [
           "",
           "",
           "X",
           "",
           "",
           ""
          ],
          [
           "",
           "",
           "",
           "",
           "",
           ""
          ],
          [
           "",
           "",
           "",
           "",
           "",
           ""
          ],
          [
           "",
           "",
           "",
           "",
           "X",
           ""
          ],
          [
           "",
           "",
           "X",
           "o",
           "",
           ""
          ]
         ],
         "textfont": {
          "color": "pink"
         },
         "texttemplate": "%{text}",
         "type": "heatmap",
         "x": [
          "A",
          "B",
          "C",
          "D",
          "E",
          "F"
         ],
         "xaxis": "x20",
         "xgap": 0.2,
         "y": [
          "1",
          "2",
          "3",
          "4",
          "5",
          "6"
         ],
         "yaxis": "y20",
         "ygap": 0.2,
         "z": [
          [
           0.0014804874081164598,
           0.000004842122962145368,
           0.0000046836894398438744,
           0.04241160675883293,
           0.03525727614760399,
           0.0012745608109980822
          ],
          [
           0.000053244690207066014,
           0.000002540260993555421,
           0.23427754640579224,
           0.000021458314222400077,
           0.00019944977248087525,
           0.0010379983577877283
          ],
          [
           0.000009723664334160276,
           0.00018642906798049808,
           0,
           0,
           0.0001897035544971004,
           0.00009997699817176908
          ],
          [
           0.000058377161622047424,
           0.008197298273444176,
           0,
           0,
           0.1212872564792633,
           0.0017413158202543855
          ],
          [
           0.000004455410817172378,
           0.00018400291446596384,
           0.00003607828330132179,
           0.00020609225612133741,
           0.33391791582107544,
           0.000029405126042547636
          ],
          [
           0.00000298921395369689,
           0.00010333216050639749,
           0.2175450474023819,
           9.406741696693643e-7,
           0.00016757645062170923,
           0.000006344215307763079
          ]
         ]
        },
        {
         "colorscale": [
          [
           0,
           "rgb(0, 0, 0)"
          ],
          [
           0.09090909090909091,
           "rgb(16, 16, 16)"
          ],
          [
           0.18181818181818182,
           "rgb(38, 38, 38)"
          ],
          [
           0.2727272727272727,
           "rgb(59, 59, 59)"
          ],
          [
           0.36363636363636365,
           "rgb(81, 80, 80)"
          ],
          [
           0.45454545454545453,
           "rgb(102, 101, 101)"
          ],
          [
           0.5454545454545454,
           "rgb(124, 123, 122)"
          ],
          [
           0.6363636363636364,
           "rgb(146, 146, 145)"
          ],
          [
           0.7272727272727273,
           "rgb(171, 171, 170)"
          ],
          [
           0.8181818181818182,
           "rgb(197, 197, 195)"
          ],
          [
           0.9090909090909091,
           "rgb(224, 224, 223)"
          ],
          [
           1,
           "rgb(254, 254, 253)"
          ]
         ],
         "hovertemplate": "%{hovertext}<extra></extra>",
         "hovertext": [
          [
           0.15502166748046875,
           0.000010186134204559494,
           0.00002930845039372798,
           0.0007962631643749774,
           0.00034069010871462524,
           0.000048118708946276456
          ],
          [
           0.00010923368972726166,
           0.000005690384568879381,
           0.0985913947224617,
           0.000011744579751393758,
           0.0000573294710193295,
           0.00000858006296766689
          ],
          [
           0.00016887254605535418,
           0.00004001599154435098,
           0,
           0,
           0.00002013157427427359,
           0.000013591170500149019
          ],
          [
           0.0002756781759671867,
           0.1064869835972786,
           0,
           0,
           0.09985987842082977,
           0.12498917430639267
          ],
          [
           0.00004028909097542055,
           0.00023034815967548639,
           0.000039826962165534496,
           0.00012473588867578655,
           0.00009798796236282215,
           0.008234483189880848
          ],
          [
           0.002143643796443939,
           0.12393853068351746,
           0.13322556018829346,
           4.090859988536977e-7,
           0.00006895563274156302,
           0.1449706256389618
          ]
         ],
         "showscale": false,
         "text": [
          [
           "X",
           "",
           "",
           "",
           "",
           ""
          ],
          [
           "",
           "",
           "X",
           "",
           "",
           ""
          ],
          [
           "",
           "",
           "",
           "",
           "",
           ""
          ],
          [
           "",
           "X",
           "",
           "",
           "X",
           "X"
          ],
          [
           "",
           "",
           "",
           "",
           "o",
           ""
          ],
          [
           "",
           "X",
           "X",
           "",
           "",
           "X"
          ]
         ],
         "textfont": {
          "color": "pink"
         },
         "texttemplate": "%{text}",
         "type": "heatmap",
         "x": [
          "A",
          "B",
          "C",
          "D",
          "E",
          "F"
         ],
         "xaxis": "x21",
         "xgap": 0.2,
         "y": [
          "1",
          "2",
          "3",
          "4",
          "5",
          "6"
         ],
         "yaxis": "y21",
         "ygap": 0.2,
         "z": [
          [
           0.15502166748046875,
           0.000010186134204559494,
           0.00002930845039372798,
           0.0007962631643749774,
           0.00034069010871462524,
           0.000048118708946276456
          ],
          [
           0.00010923368972726166,
           0.000005690384568879381,
           0.0985913947224617,
           0.000011744579751393758,
           0.0000573294710193295,
           0.00000858006296766689
          ],
          [
           0.00016887254605535418,
           0.00004001599154435098,
           0,
           0,
           0.00002013157427427359,
           0.000013591170500149019
          ],
          [
           0.0002756781759671867,
           0.1064869835972786,
           0,
           0,
           0.09985987842082977,
           0.12498917430639267
          ],
          [
           0.00004028909097542055,
           0.00023034815967548639,
           0.000039826962165534496,
           0.00012473588867578655,
           0.00009798796236282215,
           0.008234483189880848
          ],
          [
           0.002143643796443939,
           0.12393853068351746,
           0.13322556018829346,
           4.090859988536977e-7,
           0.00006895563274156302,
           0.1449706256389618
          ]
         ]
        },
        {
         "colorscale": [
          [
           0,
           "rgb(0, 0, 0)"
          ],
          [
           0.09090909090909091,
           "rgb(16, 16, 16)"
          ],
          [
           0.18181818181818182,
           "rgb(38, 38, 38)"
          ],
          [
           0.2727272727272727,
           "rgb(59, 59, 59)"
          ],
          [
           0.36363636363636365,
           "rgb(81, 80, 80)"
          ],
          [
           0.45454545454545453,
           "rgb(102, 101, 101)"
          ],
          [
           0.5454545454545454,
           "rgb(124, 123, 122)"
          ],
          [
           0.6363636363636364,
           "rgb(146, 146, 145)"
          ],
          [
           0.7272727272727273,
           "rgb(171, 171, 170)"
          ],
          [
           0.8181818181818182,
           "rgb(197, 197, 195)"
          ],
          [
           0.9090909090909091,
           "rgb(224, 224, 223)"
          ],
          [
           1,
           "rgb(254, 254, 253)"
          ]
         ],
         "hovertemplate": "%{hovertext}<extra></extra>",
         "hovertext": [
          [
           0.015105094760656357,
           0.00000757506904847105,
           0.0000018072297507387702,
           0.25052061676979065,
           0.24023272097110748,
           0.000977691845037043
          ],
          [
           0.00021240420755930245,
           0.0000369014851457905,
           0.19292446970939636,
           0.00045489464537240565,
           0.0009091041283681989,
           0.00007369778904831037
          ],
          [
           0.000012007803888991475,
           0.0004143196274526417,
           0,
           0,
           0.00014028462464921176,
           0.00012666294060181826
          ],
          [
           0.00026784834335558116,
           0.008803090080618858,
           0,
           0,
           0.000034998687624465674,
           0.07220879197120667
          ],
          [
           0.00001683379196038004,
           0.00023783107462804765,
           0.00002118734482792206,
           0.00019032774434890598,
           0.0001960411755135283,
           0.030397700145840645
          ],
          [
           0.0000018075417074214783,
           0.00032111164182424545,
           0.18202441930770874,
           0.0000016291885458485922,
           0.000012240712749189697,
           0.003113901475444436
          ]
         ],
         "showscale": false,
         "text": [
          [
           "",
           "",
           "",
           "X",
           "X",
           ""
          ],
          [
           "",
           "",
           "",
           "",
           "",
           ""
          ],
          [
           "",
           "",
           "",
           "",
           "",
           ""
          ],
          [
           "",
           "",
           "",
           "",
           "o",
           ""
          ],
          [
           "",
           "",
           "",
           "",
           "",
           ""
          ],
          [
           "",
           "",
           "X",
           "",
           "",
           ""
          ]
         ],
         "textfont": {
          "color": "pink"
         },
         "texttemplate": "%{text}",
         "type": "heatmap",
         "x": [
          "A",
          "B",
          "C",
          "D",
          "E",
          "F"
         ],
         "xaxis": "x22",
         "xgap": 0.2,
         "y": [
          "1",
          "2",
          "3",
          "4",
          "5",
          "6"
         ],
         "yaxis": "y22",
         "ygap": 0.2,
         "z": [
          [
           0.015105094760656357,
           0.00000757506904847105,
           0.0000018072297507387702,
           0.25052061676979065,
           0.24023272097110748,
           0.000977691845037043
          ],
          [
           0.00021240420755930245,
           0.0000369014851457905,
           0.19292446970939636,
           0.00045489464537240565,
           0.0009091041283681989,
           0.00007369778904831037
          ],
          [
           0.000012007803888991475,
           0.0004143196274526417,
           0,
           0,
           0.00014028462464921176,
           0.00012666294060181826
          ],
          [
           0.00026784834335558116,
           0.008803090080618858,
           0,
           0,
           0.000034998687624465674,
           0.07220879197120667
          ],
          [
           0.00001683379196038004,
           0.00023783107462804765,
           0.00002118734482792206,
           0.00019032774434890598,
           0.0001960411755135283,
           0.030397700145840645
          ],
          [
           0.0000018075417074214783,
           0.00032111164182424545,
           0.18202441930770874,
           0.0000016291885458485922,
           0.000012240712749189697,
           0.003113901475444436
          ]
         ]
        },
        {
         "colorscale": [
          [
           0,
           "rgb(0, 0, 0)"
          ],
          [
           0.09090909090909091,
           "rgb(16, 16, 16)"
          ],
          [
           0.18181818181818182,
           "rgb(38, 38, 38)"
          ],
          [
           0.2727272727272727,
           "rgb(59, 59, 59)"
          ],
          [
           0.36363636363636365,
           "rgb(81, 80, 80)"
          ],
          [
           0.45454545454545453,
           "rgb(102, 101, 101)"
          ],
          [
           0.5454545454545454,
           "rgb(124, 123, 122)"
          ],
          [
           0.6363636363636364,
           "rgb(146, 146, 145)"
          ],
          [
           0.7272727272727273,
           "rgb(171, 171, 170)"
          ],
          [
           0.8181818181818182,
           "rgb(197, 197, 195)"
          ],
          [
           0.9090909090909091,
           "rgb(224, 224, 223)"
          ],
          [
           1,
           "rgb(254, 254, 253)"
          ]
         ],
         "hovertemplate": "%{hovertext}<extra></extra>",
         "hovertext": [
          [
           0.15575414896011353,
           0.000006463683348556515,
           0.000013990746083436534,
           0.00002595001205918379,
           0.01797318086028099,
           0.000029627819458255544
          ],
          [
           0.00013284574379213154,
           0.00008090415212791413,
           0.13145729899406433,
           0.00005441895336844027,
           0.00009888946078717709,
           0.000030037499527679756
          ],
          [
           0.0002100565325235948,
           0.000039706450479570776,
           0,
           0,
           0.000006814703283453127,
           0.000004051772975799395
          ],
          [
           0.00004649695256375708,
           0.12237302958965302,
           0,
           0,
           0.00001798644916561898,
           0.1031113788485527
          ],
          [
           0.0002046870213234797,
           0.000048014622734626755,
           0.000014371729776030406,
           0.000009972232874133624,
           0.00001671652171353344,
           0.01520236860960722
          ],
          [
           0.0005888383602723479,
           0.1616034358739853,
           0.13891564309597015,
           0.0000017887516605696874,
           0.00013651937479153275,
           0.15179038047790527
          ]
         ],
         "showscale": false,
         "text": [
          [
           "X",
           "",
           "",
           "o",
           "",
           ""
          ],
          [
           "",
           "",
           "X",
           "",
           "",
           ""
          ],
          [
           "",
           "",
           "",
           "",
           "",
           ""
          ],
          [
           "",
           "X",
           "",
           "",
           "",
           "X"
          ],
          [
           "",
           "",
           "",
           "",
           "",
           ""
          ],
          [
           "",
           "X",
           "X",
           "",
           "",
           "X"
          ]
         ],
         "textfont": {
          "color": "pink"
         },
         "texttemplate": "%{text}",
         "type": "heatmap",
         "x": [
          "A",
          "B",
          "C",
          "D",
          "E",
          "F"
         ],
         "xaxis": "x23",
         "xgap": 0.2,
         "y": [
          "1",
          "2",
          "3",
          "4",
          "5",
          "6"
         ],
         "yaxis": "y23",
         "ygap": 0.2,
         "z": [
          [
           0.15575414896011353,
           0.000006463683348556515,
           0.000013990746083436534,
           0.00002595001205918379,
           0.01797318086028099,
           0.000029627819458255544
          ],
          [
           0.00013284574379213154,
           0.00008090415212791413,
           0.13145729899406433,
           0.00005441895336844027,
           0.00009888946078717709,
           0.000030037499527679756
          ],
          [
           0.0002100565325235948,
           0.000039706450479570776,
           0,
           0,
           0.000006814703283453127,
           0.000004051772975799395
          ],
          [
           0.00004649695256375708,
           0.12237302958965302,
           0,
           0,
           0.00001798644916561898,
           0.1031113788485527
          ],
          [
           0.0002046870213234797,
           0.000048014622734626755,
           0.000014371729776030406,
           0.000009972232874133624,
           0.00001671652171353344,
           0.01520236860960722
          ],
          [
           0.0005888383602723479,
           0.1616034358739853,
           0.13891564309597015,
           0.0000017887516605696874,
           0.00013651937479153275,
           0.15179038047790527
          ]
         ]
        },
        {
         "colorscale": [
          [
           0,
           "rgb(0, 0, 0)"
          ],
          [
           0.09090909090909091,
           "rgb(16, 16, 16)"
          ],
          [
           0.18181818181818182,
           "rgb(38, 38, 38)"
          ],
          [
           0.2727272727272727,
           "rgb(59, 59, 59)"
          ],
          [
           0.36363636363636365,
           "rgb(81, 80, 80)"
          ],
          [
           0.45454545454545453,
           "rgb(102, 101, 101)"
          ],
          [
           0.5454545454545454,
           "rgb(124, 123, 122)"
          ],
          [
           0.6363636363636364,
           "rgb(146, 146, 145)"
          ],
          [
           0.7272727272727273,
           "rgb(171, 171, 170)"
          ],
          [
           0.8181818181818182,
           "rgb(197, 197, 195)"
          ],
          [
           0.9090909090909091,
           "rgb(224, 224, 223)"
          ],
          [
           1,
           "rgb(254, 254, 253)"
          ]
         ],
         "hovertemplate": "%{hovertext}<extra></extra>",
         "hovertext": [
          [
           0.010058125481009483,
           0.0001534210896352306,
           0.0004578805237542838,
           0.00002719342228374444,
           0.25839343667030334,
           0.00010280616697855294
          ],
          [
           0.00023721804609522223,
           0.0000912135947146453,
           0.000023129567125579342,
           0.0002611698000691831,
           0.000561458698939532,
           0.0001831645204219967
          ],
          [
           0.000017735626897774637,
           0.0005877807852812111,
           0,
           0,
           0.00024323997786268592,
           0.00001690593853709288
          ],
          [
           0.000310652976622805,
           0.16304311156272888,
           0,
           0,
           0.00006727766594849527,
           0.17335817217826843
          ],
          [
           0.000002808563976941514,
           0.00010351934906793758,
           0.00007161110261222348,
           0.00019404786871746182,
           0.0003414104867260903,
           0.128890722990036
          ],
          [
           5.81076506023237e-7,
           0.002724152058362961,
           0.2541486918926239,
           0.000029648723284481093,
           0.000031902582122711465,
           0.005265786778181791
          ]
         ],
         "showscale": false,
         "text": [
          [
           "",
           "",
           "",
           "",
           "X",
           ""
          ],
          [
           "",
           "",
           "o",
           "",
           "",
           ""
          ],
          [
           "",
           "",
           "",
           "",
           "",
           ""
          ],
          [
           "",
           "X",
           "",
           "",
           "",
           "X"
          ],
          [
           "",
           "",
           "",
           "",
           "",
           "X"
          ],
          [
           "",
           "",
           "X",
           "",
           "",
           ""
          ]
         ],
         "textfont": {
          "color": "pink"
         },
         "texttemplate": "%{text}",
         "type": "heatmap",
         "x": [
          "A",
          "B",
          "C",
          "D",
          "E",
          "F"
         ],
         "xaxis": "x24",
         "xgap": 0.2,
         "y": [
          "1",
          "2",
          "3",
          "4",
          "5",
          "6"
         ],
         "yaxis": "y24",
         "ygap": 0.2,
         "z": [
          [
           0.010058125481009483,
           0.0001534210896352306,
           0.0004578805237542838,
           0.00002719342228374444,
           0.25839343667030334,
           0.00010280616697855294
          ],
          [
           0.00023721804609522223,
           0.0000912135947146453,
           0.000023129567125579342,
           0.0002611698000691831,
           0.000561458698939532,
           0.0001831645204219967
          ],
          [
           0.000017735626897774637,
           0.0005877807852812111,
           0,
           0,
           0.00024323997786268592,
           0.00001690593853709288
          ],
          [
           0.000310652976622805,
           0.16304311156272888,
           0,
           0,
           0.00006727766594849527,
           0.17335817217826843
          ],
          [
           0.000002808563976941514,
           0.00010351934906793758,
           0.00007161110261222348,
           0.00019404786871746182,
           0.0003414104867260903,
           0.128890722990036
          ],
          [
           5.81076506023237e-7,
           0.002724152058362961,
           0.2541486918926239,
           0.000029648723284481093,
           0.000031902582122711465,
           0.005265786778181791
          ]
         ]
        },
        {
         "colorscale": [
          [
           0,
           "rgb(0, 0, 0)"
          ],
          [
           0.09090909090909091,
           "rgb(16, 16, 16)"
          ],
          [
           0.18181818181818182,
           "rgb(38, 38, 38)"
          ],
          [
           0.2727272727272727,
           "rgb(59, 59, 59)"
          ],
          [
           0.36363636363636365,
           "rgb(81, 80, 80)"
          ],
          [
           0.45454545454545453,
           "rgb(102, 101, 101)"
          ],
          [
           0.5454545454545454,
           "rgb(124, 123, 122)"
          ],
          [
           0.6363636363636364,
           "rgb(146, 146, 145)"
          ],
          [
           0.7272727272727273,
           "rgb(171, 171, 170)"
          ],
          [
           0.8181818181818182,
           "rgb(197, 197, 195)"
          ],
          [
           0.9090909090909091,
           "rgb(224, 224, 223)"
          ],
          [
           1,
           "rgb(254, 254, 253)"
          ]
         ],
         "hovertemplate": "%{hovertext}<extra></extra>",
         "hovertext": [
          [
           0.17658933997154236,
           0.000001784628011591849,
           0.000039857059164205566,
           0.000011986483514192514,
           0.028509534895420074,
           0.000011007630746462382
          ],
          [
           0.0005255841533653438,
           0.000029797405659337528,
           0.000018972923498949967,
           0.00005137881453265436,
           0.00006502128235297278,
           0.00003664412724901922
          ],
          [
           0.00005544079976971261,
           0.0000030183962280716514,
           0,
           0,
           0.000010253921573166735,
           0.000012148415407864377
          ],
          [
           0.00021174487483222038,
           0.1208164170384407,
           0,
           0,
           0.000008807239282759838,
           0.14816677570343018
          ],
          [
           0.00004026612441521138,
           0.000026313178750569932,
           0.00002342483821848873,
           0.000024851213311194442,
           0.00011963676661252975,
           0.000002817696895363042
          ],
          [
           0.00038578067324124277,
           0.1837853044271469,
           0.1702195405960083,
           0.0000024511014089512173,
           0.00016075866005849093,
           0.17003336548805237
          ]
         ],
         "showscale": false,
         "text": [
          [
           "X",
           "",
           "",
           "",
           "",
           ""
          ],
          [
           "",
           "",
           "",
           "",
           "",
           ""
          ],
          [
           "",
           "",
           "",
           "",
           "",
           ""
          ],
          [
           "",
           "X",
           "",
           "",
           "",
           "X"
          ],
          [
           "",
           "",
           "",
           "",
           "",
           "o"
          ],
          [
           "",
           "X",
           "X",
           "",
           "",
           "X"
          ]
         ],
         "textfont": {
          "color": "pink"
         },
         "texttemplate": "%{text}",
         "type": "heatmap",
         "x": [
          "A",
          "B",
          "C",
          "D",
          "E",
          "F"
         ],
         "xaxis": "x25",
         "xgap": 0.2,
         "y": [
          "1",
          "2",
          "3",
          "4",
          "5",
          "6"
         ],
         "yaxis": "y25",
         "ygap": 0.2,
         "z": [
          [
           0.17658933997154236,
           0.000001784628011591849,
           0.000039857059164205566,
           0.000011986483514192514,
           0.028509534895420074,
           0.000011007630746462382
          ],
          [
           0.0005255841533653438,
           0.000029797405659337528,
           0.000018972923498949967,
           0.00005137881453265436,
           0.00006502128235297278,
           0.00003664412724901922
          ],
          [
           0.00005544079976971261,
           0.0000030183962280716514,
           0,
           0,
           0.000010253921573166735,
           0.000012148415407864377
          ],
          [
           0.00021174487483222038,
           0.1208164170384407,
           0,
           0,
           0.000008807239282759838,
           0.14816677570343018
          ],
          [
           0.00004026612441521138,
           0.000026313178750569932,
           0.00002342483821848873,
           0.000024851213311194442,
           0.00011963676661252975,
           0.000002817696895363042
          ],
          [
           0.00038578067324124277,
           0.1837853044271469,
           0.1702195405960083,
           0.0000024511014089512173,
           0.00016075866005849093,
           0.17003336548805237
          ]
         ]
        },
        {
         "colorscale": [
          [
           0,
           "rgb(0, 0, 0)"
          ],
          [
           0.09090909090909091,
           "rgb(16, 16, 16)"
          ],
          [
           0.18181818181818182,
           "rgb(38, 38, 38)"
          ],
          [
           0.2727272727272727,
           "rgb(59, 59, 59)"
          ],
          [
           0.36363636363636365,
           "rgb(81, 80, 80)"
          ],
          [
           0.45454545454545453,
           "rgb(102, 101, 101)"
          ],
          [
           0.5454545454545454,
           "rgb(124, 123, 122)"
          ],
          [
           0.6363636363636364,
           "rgb(146, 146, 145)"
          ],
          [
           0.7272727272727273,
           "rgb(171, 171, 170)"
          ],
          [
           0.8181818181818182,
           "rgb(197, 197, 195)"
          ],
          [
           0.9090909090909091,
           "rgb(224, 224, 223)"
          ],
          [
           1,
           "rgb(254, 254, 253)"
          ]
         ],
         "hovertemplate": "%{hovertext}<extra></extra>",
         "hovertext": [
          [
           0.0039558191783726215,
           0.0009354230132885277,
           0.00007993289909791201,
           0.00006714714254485443,
           0.38348209857940674,
           0.00008833078754832968
          ],
          [
           0.0000634644748060964,
           0.0000217529868677957,
           0.00003881389420712367,
           0.000047600111429346725,
           0.00024761221720837057,
           0.00014352146536111832
          ],
          [
           0.000005226824214332737,
           0.00036300148349255323,
           0,
           0,
           0.000011259748134762049,
           0.000021259966160869226
          ],
          [
           0.000039934617234393954,
           0.2782396972179413,
           0,
           0,
           0.00006965690408833325,
           0.24887917935848236
          ],
          [
           0.000004433956746652257,
           0.00010284184099873528,
           0.0000216124790313188,
           0.0001415902515873313,
           0.0000321461666317191,
           0.00001657979555602651
          ],
          [
           6.431854444599594e-7,
           0.0010295792017132044,
           0.08181406557559967,
           0.0000021174546418478712,
           0.0000046621044020866975,
           0.000029062919566058554
          ]
         ],
         "showscale": false,
         "text": [
          [
           "",
           "",
           "",
           "",
           "X",
           ""
          ],
          [
           "",
           "",
           "",
           "",
           "",
           ""
          ],
          [
           "",
           "",
           "",
           "",
           "",
           ""
          ],
          [
           "",
           "X",
           "",
           "",
           "",
           "X"
          ],
          [
           "",
           "",
           "",
           "",
           "",
           ""
          ],
          [
           "",
           "",
           "",
           "",
           "",
           "o"
          ]
         ],
         "textfont": {
          "color": "pink"
         },
         "texttemplate": "%{text}",
         "type": "heatmap",
         "x": [
          "A",
          "B",
          "C",
          "D",
          "E",
          "F"
         ],
         "xaxis": "x26",
         "xgap": 0.2,
         "y": [
          "1",
          "2",
          "3",
          "4",
          "5",
          "6"
         ],
         "yaxis": "y26",
         "ygap": 0.2,
         "z": [
          [
           0.0039558191783726215,
           0.0009354230132885277,
           0.00007993289909791201,
           0.00006714714254485443,
           0.38348209857940674,
           0.00008833078754832968
          ],
          [
           0.0000634644748060964,
           0.0000217529868677957,
           0.00003881389420712367,
           0.000047600111429346725,
           0.00024761221720837057,
           0.00014352146536111832
          ],
          [
           0.000005226824214332737,
           0.00036300148349255323,
           0,
           0,
           0.000011259748134762049,
           0.000021259966160869226
          ],
          [
           0.000039934617234393954,
           0.2782396972179413,
           0,
           0,
           0.00006965690408833325,
           0.24887917935848236
          ],
          [
           0.000004433956746652257,
           0.00010284184099873528,
           0.0000216124790313188,
           0.0001415902515873313,
           0.0000321461666317191,
           0.00001657979555602651
          ],
          [
           6.431854444599594e-7,
           0.0010295792017132044,
           0.08181406557559967,
           0.0000021174546418478712,
           0.0000046621044020866975,
           0.000029062919566058554
          ]
         ]
        },
        {
         "colorscale": [
          [
           0,
           "rgb(0, 0, 0)"
          ],
          [
           0.09090909090909091,
           "rgb(16, 16, 16)"
          ],
          [
           0.18181818181818182,
           "rgb(38, 38, 38)"
          ],
          [
           0.2727272727272727,
           "rgb(59, 59, 59)"
          ],
          [
           0.36363636363636365,
           "rgb(81, 80, 80)"
          ],
          [
           0.45454545454545453,
           "rgb(102, 101, 101)"
          ],
          [
           0.5454545454545454,
           "rgb(124, 123, 122)"
          ],
          [
           0.6363636363636364,
           "rgb(146, 146, 145)"
          ],
          [
           0.7272727272727273,
           "rgb(171, 171, 170)"
          ],
          [
           0.8181818181818182,
           "rgb(197, 197, 195)"
          ],
          [
           0.9090909090909091,
           "rgb(224, 224, 223)"
          ],
          [
           1,
           "rgb(254, 254, 253)"
          ]
         ],
         "hovertemplate": "%{hovertext}<extra></extra>",
         "hovertext": [
          [
           0.2543973922729492,
           0.000005228437203186331,
           0.000007117838322301395,
           0.00004202391573926434,
           0.18228931725025177,
           0.000009625679012970068
          ],
          [
           0.00003677288259495981,
           0.000014813105735811405,
           0.000010053078767668922,
           0.00003434241807553917,
           0.000042739909986266866,
           0.000013736933397012763
          ],
          [
           0.000009605952982383315,
           0.0000032870343602553476,
           0,
           0,
           0.000008338262887264136,
           0.000013015024705964606
          ],
          [
           0.00014130208001006395,
           0.15833336114883423,
           0,
           0,
           0.000010160384590562899,
           0.0000028653159915847937
          ],
          [
           0.00029252239619381726,
           0.00010396823199698702,
           0.000015222912224999163,
           0.00002375791700615082,
           0.000022620764866587706,
           0.000006059485258447239
          ],
          [
           0.000214013532968238,
           0.19564783573150635,
           0.20813508331775665,
           0.000001959080691449344,
           0.00010637521336320788,
           0.0000055431983128073625
          ]
         ],
         "showscale": false,
         "text": [
          [
           "X",
           "",
           "",
           "",
           "X",
           ""
          ],
          [
           "",
           "",
           "",
           "",
           "",
           ""
          ],
          [
           "",
           "",
           "",
           "",
           "",
           ""
          ],
          [
           "",
           "X",
           "",
           "",
           "",
           "o"
          ],
          [
           "",
           "",
           "",
           "",
           "",
           ""
          ],
          [
           "",
           "X",
           "X",
           "",
           "",
           ""
          ]
         ],
         "textfont": {
          "color": "pink"
         },
         "texttemplate": "%{text}",
         "type": "heatmap",
         "x": [
          "A",
          "B",
          "C",
          "D",
          "E",
          "F"
         ],
         "xaxis": "x27",
         "xgap": 0.2,
         "y": [
          "1",
          "2",
          "3",
          "4",
          "5",
          "6"
         ],
         "yaxis": "y27",
         "ygap": 0.2,
         "z": [
          [
           0.2543973922729492,
           0.000005228437203186331,
           0.000007117838322301395,
           0.00004202391573926434,
           0.18228931725025177,
           0.000009625679012970068
          ],
          [
           0.00003677288259495981,
           0.000014813105735811405,
           0.000010053078767668922,
           0.00003434241807553917,
           0.000042739909986266866,
           0.000013736933397012763
          ],
          [
           0.000009605952982383315,
           0.0000032870343602553476,
           0,
           0,
           0.000008338262887264136,
           0.000013015024705964606
          ],
          [
           0.00014130208001006395,
           0.15833336114883423,
           0,
           0,
           0.000010160384590562899,
           0.0000028653159915847937
          ],
          [
           0.00029252239619381726,
           0.00010396823199698702,
           0.000015222912224999163,
           0.00002375791700615082,
           0.000022620764866587706,
           0.000006059485258447239
          ],
          [
           0.000214013532968238,
           0.19564783573150635,
           0.20813508331775665,
           0.000001959080691449344,
           0.00010637521336320788,
           0.0000055431983128073625
          ]
         ]
        },
        {
         "colorscale": [
          [
           0,
           "rgb(0, 0, 0)"
          ],
          [
           0.09090909090909091,
           "rgb(16, 16, 16)"
          ],
          [
           0.18181818181818182,
           "rgb(38, 38, 38)"
          ],
          [
           0.2727272727272727,
           "rgb(59, 59, 59)"
          ],
          [
           0.36363636363636365,
           "rgb(81, 80, 80)"
          ],
          [
           0.45454545454545453,
           "rgb(102, 101, 101)"
          ],
          [
           0.5454545454545454,
           "rgb(124, 123, 122)"
          ],
          [
           0.6363636363636364,
           "rgb(146, 146, 145)"
          ],
          [
           0.7272727272727273,
           "rgb(171, 171, 170)"
          ],
          [
           0.8181818181818182,
           "rgb(197, 197, 195)"
          ],
          [
           0.9090909090909091,
           "rgb(224, 224, 223)"
          ],
          [
           1,
           "rgb(254, 254, 253)"
          ]
         ],
         "hovertemplate": "%{hovertext}<extra></extra>",
         "hovertext": [
          [
           0.00919640064239502,
           0.0008868818404152989,
           0.0001329437509411946,
           0.00003610123894759454,
           0.3896404802799225,
           0.00036045972956344485
          ],
          [
           0.00001748009344737511,
           0.00010564237163634971,
           0.00003697075226227753,
           0.00009249896538676694,
           0.00003130899494863115,
           0.00009529432281851768
          ],
          [
           0.000004441241799213458,
           0.00014110509073361754,
           0,
           0,
           0.000003207376948921592,
           0.000005002006219001487
          ],
          [
           0.000006173137535370188,
           0.21772955358028412,
           0,
           0,
           0.000029993554562679492,
           0.000003653781504908693
          ],
          [
           0.000004918867034575669,
           0.000044232372601982206,
           0.00005712440542993136,
           0.00007738652493571863,
           0.00011285055370535702,
           0.000023628266717423685
          ],
          [
           7.556741365988273e-7,
           0.000006090760052757105,
           0.3808682858943939,
           4.343997090927587e-7,
           0.00014373187150340527,
           0.00010502179065952078
          ]
         ],
         "showscale": false,
         "text": [
          [
           "",
           "",
           "",
           "",
           "X",
           ""
          ],
          [
           "",
           "",
           "",
           "",
           "",
           ""
          ],
          [
           "",
           "",
           "",
           "",
           "",
           ""
          ],
          [
           "",
           "X",
           "",
           "",
           "",
           ""
          ],
          [
           "",
           "",
           "",
           "",
           "",
           ""
          ],
          [
           "",
           "o",
           "X",
           "",
           "",
           ""
          ]
         ],
         "textfont": {
          "color": "pink"
         },
         "texttemplate": "%{text}",
         "type": "heatmap",
         "x": [
          "A",
          "B",
          "C",
          "D",
          "E",
          "F"
         ],
         "xaxis": "x28",
         "xgap": 0.2,
         "y": [
          "1",
          "2",
          "3",
          "4",
          "5",
          "6"
         ],
         "yaxis": "y28",
         "ygap": 0.2,
         "z": [
          [
           0.00919640064239502,
           0.0008868818404152989,
           0.0001329437509411946,
           0.00003610123894759454,
           0.3896404802799225,
           0.00036045972956344485
          ],
          [
           0.00001748009344737511,
           0.00010564237163634971,
           0.00003697075226227753,
           0.00009249896538676694,
           0.00003130899494863115,
           0.00009529432281851768
          ],
          [
           0.000004441241799213458,
           0.00014110509073361754,
           0,
           0,
           0.000003207376948921592,
           0.000005002006219001487
          ],
          [
           0.000006173137535370188,
           0.21772955358028412,
           0,
           0,
           0.000029993554562679492,
           0.000003653781504908693
          ],
          [
           0.000004918867034575669,
           0.000044232372601982206,
           0.00005712440542993136,
           0.00007738652493571863,
           0.00011285055370535702,
           0.000023628266717423685
          ],
          [
           7.556741365988273e-7,
           0.000006090760052757105,
           0.3808682858943939,
           4.343997090927587e-7,
           0.00014373187150340527,
           0.00010502179065952078
          ]
         ]
        },
        {
         "colorscale": [
          [
           0,
           "rgb(0, 0, 0)"
          ],
          [
           0.09090909090909091,
           "rgb(16, 16, 16)"
          ],
          [
           0.18181818181818182,
           "rgb(38, 38, 38)"
          ],
          [
           0.2727272727272727,
           "rgb(59, 59, 59)"
          ],
          [
           0.36363636363636365,
           "rgb(81, 80, 80)"
          ],
          [
           0.45454545454545453,
           "rgb(102, 101, 101)"
          ],
          [
           0.5454545454545454,
           "rgb(124, 123, 122)"
          ],
          [
           0.6363636363636364,
           "rgb(146, 146, 145)"
          ],
          [
           0.7272727272727273,
           "rgb(171, 171, 170)"
          ],
          [
           0.8181818181818182,
           "rgb(197, 197, 195)"
          ],
          [
           0.9090909090909091,
           "rgb(224, 224, 223)"
          ],
          [
           1,
           "rgb(254, 254, 253)"
          ]
         ],
         "hovertemplate": "%{hovertext}<extra></extra>",
         "hovertext": [
          [
           0.7771804928779602,
           0.00003442155139055103,
           0.00008073848584899679,
           0.000013214063073974103,
           0.06733686476945877,
           0.000004959751095157117
          ],
          [
           0.00017847749404609203,
           0.00007528869900852442,
           0.000006484935966000194,
           0.000007631204425706528,
           0.00004190043546259403,
           0.000008924036592361517
          ],
          [
           0.00002641672472236678,
           0.000013887167369830422,
           0,
           0,
           0.000004549926416075323,
           0.000005181254437047755
          ],
          [
           0.0007590275490656495,
           0.000008141166290442925,
           0,
           0,
           0.0000017978537698581931,
           0.0000064594387367833406
          ],
          [
           0.00028281178674660623,
           0.000053668296459363773,
           0.000011326726053084712,
           0.000047259818529710174,
           0.00008895830251276493,
           0.000023905840862425976
          ],
          [
           0.00014479375386144966,
           0.00011085080041084439,
           0.15340794622898102,
           4.882220991930808e-7,
           0.00001602600605110638,
           0.00001705578870314639
          ]
         ],
         "showscale": false,
         "text": [
          [
           "X",
           "",
           "",
           "",
           "",
           ""
          ],
          [
           "",
           "",
           "",
           "",
           "",
           ""
          ],
          [
           "",
           "",
           "",
           "",
           "",
           ""
          ],
          [
           "",
           "o",
           "",
           "",
           "",
           ""
          ],
          [
           "",
           "",
           "",
           "",
           "",
           ""
          ],
          [
           "",
           "",
           "X",
           "",
           "",
           ""
          ]
         ],
         "textfont": {
          "color": "pink"
         },
         "texttemplate": "%{text}",
         "type": "heatmap",
         "x": [
          "A",
          "B",
          "C",
          "D",
          "E",
          "F"
         ],
         "xaxis": "x29",
         "xgap": 0.2,
         "y": [
          "1",
          "2",
          "3",
          "4",
          "5",
          "6"
         ],
         "yaxis": "y29",
         "ygap": 0.2,
         "z": [
          [
           0.7771804928779602,
           0.00003442155139055103,
           0.00008073848584899679,
           0.000013214063073974103,
           0.06733686476945877,
           0.000004959751095157117
          ],
          [
           0.00017847749404609203,
           0.00007528869900852442,
           0.000006484935966000194,
           0.000007631204425706528,
           0.00004190043546259403,
           0.000008924036592361517
          ],
          [
           0.00002641672472236678,
           0.000013887167369830422,
           0,
           0,
           0.000004549926416075323,
           0.000005181254437047755
          ],
          [
           0.0007590275490656495,
           0.000008141166290442925,
           0,
           0,
           0.0000017978537698581931,
           0.0000064594387367833406
          ],
          [
           0.00028281178674660623,
           0.000053668296459363773,
           0.000011326726053084712,
           0.000047259818529710174,
           0.00008895830251276493,
           0.000023905840862425976
          ],
          [
           0.00014479375386144966,
           0.00011085080041084439,
           0.15340794622898102,
           4.882220991930808e-7,
           0.00001602600605110638,
           0.00001705578870314639
          ]
         ]
        },
        {
         "colorscale": [
          [
           0,
           "rgb(0, 0, 0)"
          ],
          [
           0.09090909090909091,
           "rgb(16, 16, 16)"
          ],
          [
           0.18181818181818182,
           "rgb(38, 38, 38)"
          ],
          [
           0.2727272727272727,
           "rgb(59, 59, 59)"
          ],
          [
           0.36363636363636365,
           "rgb(81, 80, 80)"
          ],
          [
           0.45454545454545453,
           "rgb(102, 101, 101)"
          ],
          [
           0.5454545454545454,
           "rgb(124, 123, 122)"
          ],
          [
           0.6363636363636364,
           "rgb(146, 146, 145)"
          ],
          [
           0.7272727272727273,
           "rgb(171, 171, 170)"
          ],
          [
           0.8181818181818182,
           "rgb(197, 197, 195)"
          ],
          [
           0.9090909090909091,
           "rgb(224, 224, 223)"
          ],
          [
           1,
           "rgb(254, 254, 253)"
          ]
         ],
         "hovertemplate": "%{hovertext}<extra></extra>",
         "hovertext": [
          [
           0.009895572438836098,
           0.0002880716638173908,
           0.00015820967382751405,
           0.000030480085115414113,
           0.9846555590629578,
           0.000890775176230818
          ],
          [
           0.000009108063750318252,
           0.00007553511386504397,
           0.000029508748411899433,
           0.0001644351868890226,
           0.00005167283597984351,
           0.00008863289258442819
          ],
          [
           0.000005454599431686802,
           0.00003656783883343451,
           0,
           0,
           0.000012802567653125152,
           9.97404981717409e-7
          ],
          [
           0.000014311432096292265,
           0.000002183418473578058,
           0,
           0,
           0.0000041190914998878725,
           0.000013371066415857058
          ],
          [
           0.00011347926192684099,
           0.00006300990207819268,
           0.00003636980181909166,
           0.00006185461097629741,
           0.000021916788682574406,
           0.000024188564566429704
          ],
          [
           0.000002992741428897716,
           0.0000018921426772067207,
           0.000007124641797418008,
           0.000012923876965942327,
           0.0030526602640748024,
           0.00017427396960556507
          ]
         ],
         "showscale": false,
         "text": [
          [
           "",
           "",
           "",
           "",
           "X",
           ""
          ],
          [
           "",
           "",
           "",
           "",
           "",
           ""
          ],
          [
           "",
           "",
           "",
           "",
           "",
           ""
          ],
          [
           "",
           "",
           "",
           "",
           "",
           ""
          ],
          [
           "",
           "",
           "",
           "",
           "",
           ""
          ],
          [
           "",
           "",
           "o",
           "",
           "",
           ""
          ]
         ],
         "textfont": {
          "color": "pink"
         },
         "texttemplate": "%{text}",
         "type": "heatmap",
         "x": [
          "A",
          "B",
          "C",
          "D",
          "E",
          "F"
         ],
         "xaxis": "x30",
         "xgap": 0.2,
         "y": [
          "1",
          "2",
          "3",
          "4",
          "5",
          "6"
         ],
         "yaxis": "y30",
         "ygap": 0.2,
         "z": [
          [
           0.009895572438836098,
           0.0002880716638173908,
           0.00015820967382751405,
           0.000030480085115414113,
           0.9846555590629578,
           0.000890775176230818
          ],
          [
           0.000009108063750318252,
           0.00007553511386504397,
           0.000029508748411899433,
           0.0001644351868890226,
           0.00005167283597984351,
           0.00008863289258442819
          ],
          [
           0.000005454599431686802,
           0.00003656783883343451,
           0,
           0,
           0.000012802567653125152,
           9.97404981717409e-7
          ],
          [
           0.000014311432096292265,
           0.000002183418473578058,
           0,
           0,
           0.0000041190914998878725,
           0.000013371066415857058
          ],
          [
           0.00011347926192684099,
           0.00006300990207819268,
           0.00003636980181909166,
           0.00006185461097629741,
           0.000021916788682574406,
           0.000024188564566429704
          ],
          [
           0.000002992741428897716,
           0.0000018921426772067207,
           0.000007124641797418008,
           0.000012923876965942327,
           0.0030526602640748024,
           0.00017427396960556507
          ]
         ]
        },
        {
         "colorscale": [
          [
           0,
           "rgb(0, 0, 0)"
          ],
          [
           0.09090909090909091,
           "rgb(16, 16, 16)"
          ],
          [
           0.18181818181818182,
           "rgb(38, 38, 38)"
          ],
          [
           0.2727272727272727,
           "rgb(59, 59, 59)"
          ],
          [
           0.36363636363636365,
           "rgb(81, 80, 80)"
          ],
          [
           0.45454545454545453,
           "rgb(102, 101, 101)"
          ],
          [
           0.5454545454545454,
           "rgb(124, 123, 122)"
          ],
          [
           0.6363636363636364,
           "rgb(146, 146, 145)"
          ],
          [
           0.7272727272727273,
           "rgb(171, 171, 170)"
          ],
          [
           0.8181818181818182,
           "rgb(197, 197, 195)"
          ],
          [
           0.9090909090909091,
           "rgb(224, 224, 223)"
          ],
          [
           1,
           "rgb(254, 254, 253)"
          ]
         ],
         "hovertemplate": "%{hovertext}<extra></extra>",
         "hovertext": [
          [
           0.9999516010284424,
           3.4661928793866537e-7,
           1.3619657579511113e-7,
           7.630745813003159e-8,
           0.0000015382377114292467,
           1.0630250102394712e-7
          ],
          [
           0.0000013061154504612205,
           0.000005172348664927995,
           7.0398664320237e-7,
           0.000004006784820376197,
           0.0000017561798131282558,
           0.000003871383796649752
          ],
          [
           0.0000010997725894412724,
           0.0000015441079312950023,
           0,
           0,
           3.123966223483876e-7,
           5.142375059108417e-8
          ],
          [
           0.0000051653046284627635,
           1.5760133464937098e-7,
           0,
           0,
           5.040088808527798e-7,
           5.577826414082665e-7
          ],
          [
           0.000006053578999853926,
           0.000003698485443237587,
           0.0000011469803666841472,
           0.000004154747330176178,
           0.0000013667130360772717,
           2.3254079906109837e-7
          ],
          [
           7.104854660155979e-8,
           0.0000014597948165828711,
           7.148187819439045e-8,
           9.210090468059207e-8,
           3.5123997577102273e-7,
           0.00000122931294299633
          ]
         ],
         "showscale": false,
         "text": [
          [
           "",
           "",
           "",
           "",
           "o",
           ""
          ],
          [
           "",
           "",
           "",
           "",
           "",
           ""
          ],
          [
           "",
           "",
           "",
           "",
           "",
           ""
          ],
          [
           "",
           "",
           "",
           "",
           "",
           ""
          ],
          [
           "",
           "",
           "",
           "",
           "",
           ""
          ],
          [
           "",
           "",
           "",
           "",
           "",
           ""
          ]
         ],
         "textfont": {
          "color": "pink"
         },
         "texttemplate": "%{text}",
         "type": "heatmap",
         "x": [
          "A",
          "B",
          "C",
          "D",
          "E",
          "F"
         ],
         "xaxis": "x31",
         "xgap": 0.2,
         "y": [
          "1",
          "2",
          "3",
          "4",
          "5",
          "6"
         ],
         "yaxis": "y31",
         "ygap": 0.2,
         "z": [
          [
           0.9999516010284424,
           3.4661928793866537e-7,
           1.3619657579511113e-7,
           7.630745813003159e-8,
           0.0000015382377114292467,
           1.0630250102394712e-7
          ],
          [
           0.0000013061154504612205,
           0.000005172348664927995,
           7.0398664320237e-7,
           0.000004006784820376197,
           0.0000017561798131282558,
           0.000003871383796649752
          ],
          [
           0.0000010997725894412724,
           0.0000015441079312950023,
           0,
           0,
           3.123966223483876e-7,
           5.142375059108417e-8
          ],
          [
           0.0000051653046284627635,
           1.5760133464937098e-7,
           0,
           0,
           5.040088808527798e-7,
           5.577826414082665e-7
          ],
          [
           0.000006053578999853926,
           0.000003698485443237587,
           0.0000011469803666841472,
           0.000004154747330176178,
           0.0000013667130360772717,
           2.3254079906109837e-7
          ],
          [
           7.104854660155979e-8,
           0.0000014597948165828711,
           7.148187819439045e-8,
           9.210090468059207e-8,
           3.5123997577102273e-7,
           0.00000122931294299633
          ]
         ]
        }
       ],
       "layout": {
        "annotations": [
         {
          "font": {
           "size": 18
          },
          "showarrow": false,
          "text": "1. D2",
          "x": 0.0515625,
          "xanchor": "center",
          "xref": "paper",
          "y": 1,
          "yanchor": "bottom",
          "yref": "paper"
         },
         {
          "font": {
           "size": 18
          },
          "showarrow": false,
          "text": "2. E2",
          "x": 0.1796875,
          "xanchor": "center",
          "xref": "paper",
          "y": 1,
          "yanchor": "bottom",
          "yref": "paper"
         },
         {
          "font": {
           "size": 18
          },
          "showarrow": false,
          "text": "3. F2",
          "x": 0.3078125,
          "xanchor": "center",
          "xref": "paper",
          "y": 1,
          "yanchor": "bottom",
          "yref": "paper"
         },
         {
          "font": {
           "size": 18
          },
          "showarrow": false,
          "text": "4. F1",
          "x": 0.4359375,
          "xanchor": "center",
          "xref": "paper",
          "y": 1,
          "yanchor": "bottom",
          "yref": "paper"
         },
         {
          "font": {
           "size": 18
          },
          "showarrow": false,
          "text": "5. E3",
          "x": 0.5640624999999999,
          "xanchor": "center",
          "xref": "paper",
          "y": 1,
          "yanchor": "bottom",
          "yref": "paper"
         },
         {
          "font": {
           "size": 18
          },
          "showarrow": false,
          "text": "6. F3",
          "x": 0.6921875,
          "xanchor": "center",
          "xref": "paper",
          "y": 1,
          "yanchor": "bottom",
          "yref": "paper"
         },
         {
          "font": {
           "size": 18
          },
          "showarrow": false,
          "text": "7. B5",
          "x": 0.8203125,
          "xanchor": "center",
          "xref": "paper",
          "y": 1,
          "yanchor": "bottom",
          "yref": "paper"
         },
         {
          "font": {
           "size": 18
          },
          "showarrow": false,
          "text": "8. B3",
          "x": 0.9484375,
          "xanchor": "center",
          "xref": "paper",
          "y": 1,
          "yanchor": "bottom",
          "yref": "paper"
         },
         {
          "font": {
           "size": 18
          },
          "showarrow": false,
          "text": "9. A2",
          "x": 0.0515625,
          "xanchor": "center",
          "xref": "paper",
          "y": 0.71875,
          "yanchor": "bottom",
          "yref": "paper"
         },
         {
          "font": {
           "size": 18
          },
          "showarrow": false,
          "text": "10. C1",
          "x": 0.1796875,
          "xanchor": "center",
          "xref": "paper",
          "y": 0.71875,
          "yanchor": "bottom",
          "yref": "paper"
         },
         {
          "font": {
           "size": 18
          },
          "showarrow": false,
          "text": "11. B2",
          "x": 0.3078125,
          "xanchor": "center",
          "xref": "paper",
          "y": 0.71875,
          "yanchor": "bottom",
          "yref": "paper"
         },
         {
          "font": {
           "size": 18
          },
          "showarrow": false,
          "text": "12. A3",
          "x": 0.4359375,
          "xanchor": "center",
          "xref": "paper",
          "y": 0.71875,
          "yanchor": "bottom",
          "yref": "paper"
         },
         {
          "font": {
           "size": 18
          },
          "showarrow": false,
          "text": "13. A4",
          "x": 0.5640624999999999,
          "xanchor": "center",
          "xref": "paper",
          "y": 0.71875,
          "yanchor": "bottom",
          "yref": "paper"
         },
         {
          "font": {
           "size": 18
          },
          "showarrow": false,
          "text": "14. D5",
          "x": 0.6921875,
          "xanchor": "center",
          "xref": "paper",
          "y": 0.71875,
          "yanchor": "bottom",
          "yref": "paper"
         },
         {
          "font": {
           "size": 18
          },
          "showarrow": false,
          "text": "15. E6",
          "x": 0.8203125,
          "xanchor": "center",
          "xref": "paper",
          "y": 0.71875,
          "yanchor": "bottom",
          "yref": "paper"
         },
         {
          "font": {
           "size": 18
          },
          "showarrow": false,
          "text": "16. C5",
          "x": 0.9484375,
          "xanchor": "center",
          "xref": "paper",
          "y": 0.71875,
          "yanchor": "bottom",
          "yref": "paper"
         },
         {
          "font": {
           "size": 18
          },
          "showarrow": false,
          "text": "17. B1",
          "x": 0.0515625,
          "xanchor": "center",
          "xref": "paper",
          "y": 0.4375,
          "yanchor": "bottom",
          "yref": "paper"
         },
         {
          "font": {
           "size": 18
          },
          "showarrow": false,
          "text": "18. A6",
          "x": 0.1796875,
          "xanchor": "center",
          "xref": "paper",
          "y": 0.4375,
          "yanchor": "bottom",
          "yref": "paper"
         },
         {
          "font": {
           "size": 18
          },
          "showarrow": false,
          "text": "19. A5",
          "x": 0.3078125,
          "xanchor": "center",
          "xref": "paper",
          "y": 0.4375,
          "yanchor": "bottom",
          "yref": "paper"
         },
         {
          "font": {
           "size": 18
          },
          "showarrow": false,
          "text": "20. D6",
          "x": 0.4359375,
          "xanchor": "center",
          "xref": "paper",
          "y": 0.4375,
          "yanchor": "bottom",
          "yref": "paper"
         },
         {
          "font": {
           "size": 18
          },
          "showarrow": false,
          "text": "21. E5",
          "x": 0.5640624999999999,
          "xanchor": "center",
          "xref": "paper",
          "y": 0.4375,
          "yanchor": "bottom",
          "yref": "paper"
         },
         {
          "font": {
           "size": 18
          },
          "showarrow": false,
          "text": "22. E4",
          "x": 0.6921875,
          "xanchor": "center",
          "xref": "paper",
          "y": 0.4375,
          "yanchor": "bottom",
          "yref": "paper"
         },
         {
          "font": {
           "size": 18
          },
          "showarrow": false,
          "text": "23. D1",
          "x": 0.8203125,
          "xanchor": "center",
          "xref": "paper",
          "y": 0.4375,
          "yanchor": "bottom",
          "yref": "paper"
         },
         {
          "font": {
           "size": 18
          },
          "showarrow": false,
          "text": "24. C2",
          "x": 0.9484375,
          "xanchor": "center",
          "xref": "paper",
          "y": 0.4375,
          "yanchor": "bottom",
          "yref": "paper"
         },
         {
          "font": {
           "size": 18
          },
          "showarrow": false,
          "text": "25. F5",
          "x": 0.0515625,
          "xanchor": "center",
          "xref": "paper",
          "y": 0.15625,
          "yanchor": "bottom",
          "yref": "paper"
         },
         {
          "font": {
           "size": 18
          },
          "showarrow": false,
          "text": "26. F6",
          "x": 0.1796875,
          "xanchor": "center",
          "xref": "paper",
          "y": 0.15625,
          "yanchor": "bottom",
          "yref": "paper"
         },
         {
          "font": {
           "size": 18
          },
          "showarrow": false,
          "text": "27. F4",
          "x": 0.3078125,
          "xanchor": "center",
          "xref": "paper",
          "y": 0.15625,
          "yanchor": "bottom",
          "yref": "paper"
         },
         {
          "font": {
           "size": 18
          },
          "showarrow": false,
          "text": "28. B6",
          "x": 0.4359375,
          "xanchor": "center",
          "xref": "paper",
          "y": 0.15625,
          "yanchor": "bottom",
          "yref": "paper"
         },
         {
          "font": {
           "size": 18
          },
          "showarrow": false,
          "text": "29. B4",
          "x": 0.5640624999999999,
          "xanchor": "center",
          "xref": "paper",
          "y": 0.15625,
          "yanchor": "bottom",
          "yref": "paper"
         },
         {
          "font": {
           "size": 18
          },
          "showarrow": false,
          "text": "30. C6",
          "x": 0.6921875,
          "xanchor": "center",
          "xref": "paper",
          "y": 0.15625,
          "yanchor": "bottom",
          "yref": "paper"
         },
         {
          "font": {
           "size": 18
          },
          "showarrow": false,
          "text": "31. E1",
          "x": 0.8203125,
          "xanchor": "center",
          "xref": "paper",
          "y": 0.15625,
          "yanchor": "bottom",
          "yref": "paper"
         },
         {
          "font": {
           "size": 18
          },
          "showarrow": false,
          "text": "32. A1",
          "x": 0.9484375,
          "xanchor": "center",
          "xref": "paper",
          "y": 0.15625,
          "yanchor": "bottom",
          "yref": "paper"
         }
        ],
        "font": {
         "size": 9
        },
        "height": 720,
        "margin": {
         "b": 22,
         "l": 22,
         "r": 22,
         "t": 22
        },
        "template": {
         "data": {
          "bar": [
           {
            "error_x": {
             "color": "#2a3f5f"
            },
            "error_y": {
             "color": "#2a3f5f"
            },
            "marker": {
             "line": {
              "color": "#E5ECF6",
              "width": 0.5
             },
             "pattern": {
              "fillmode": "overlay",
              "size": 10,
              "solidity": 0.2
             }
            },
            "type": "bar"
           }
          ],
          "barpolar": [
           {
            "marker": {
             "line": {
              "color": "#E5ECF6",
              "width": 0.5
             },
             "pattern": {
              "fillmode": "overlay",
              "size": 10,
              "solidity": 0.2
             }
            },
            "type": "barpolar"
           }
          ],
          "carpet": [
           {
            "aaxis": {
             "endlinecolor": "#2a3f5f",
             "gridcolor": "white",
             "linecolor": "white",
             "minorgridcolor": "white",
             "startlinecolor": "#2a3f5f"
            },
            "baxis": {
             "endlinecolor": "#2a3f5f",
             "gridcolor": "white",
             "linecolor": "white",
             "minorgridcolor": "white",
             "startlinecolor": "#2a3f5f"
            },
            "type": "carpet"
           }
          ],
          "choropleth": [
           {
            "colorbar": {
             "outlinewidth": 0,
             "ticks": ""
            },
            "type": "choropleth"
           }
          ],
          "contour": [
           {
            "colorbar": {
             "outlinewidth": 0,
             "ticks": ""
            },
            "colorscale": [
             [
              0,
              "#0d0887"
             ],
             [
              0.1111111111111111,
              "#46039f"
             ],
             [
              0.2222222222222222,
              "#7201a8"
             ],
             [
              0.3333333333333333,
              "#9c179e"
             ],
             [
              0.4444444444444444,
              "#bd3786"
             ],
             [
              0.5555555555555556,
              "#d8576b"
             ],
             [
              0.6666666666666666,
              "#ed7953"
             ],
             [
              0.7777777777777778,
              "#fb9f3a"
             ],
             [
              0.8888888888888888,
              "#fdca26"
             ],
             [
              1,
              "#f0f921"
             ]
            ],
            "type": "contour"
           }
          ],
          "contourcarpet": [
           {
            "colorbar": {
             "outlinewidth": 0,
             "ticks": ""
            },
            "type": "contourcarpet"
           }
          ],
          "heatmap": [
           {
            "colorbar": {
             "outlinewidth": 0,
             "ticks": ""
            },
            "colorscale": [
             [
              0,
              "#0d0887"
             ],
             [
              0.1111111111111111,
              "#46039f"
             ],
             [
              0.2222222222222222,
              "#7201a8"
             ],
             [
              0.3333333333333333,
              "#9c179e"
             ],
             [
              0.4444444444444444,
              "#bd3786"
             ],
             [
              0.5555555555555556,
              "#d8576b"
             ],
             [
              0.6666666666666666,
              "#ed7953"
             ],
             [
              0.7777777777777778,
              "#fb9f3a"
             ],
             [
              0.8888888888888888,
              "#fdca26"
             ],
             [
              1,
              "#f0f921"
             ]
            ],
            "type": "heatmap"
           }
          ],
          "heatmapgl": [
           {
            "colorbar": {
             "outlinewidth": 0,
             "ticks": ""
            },
            "colorscale": [
             [
              0,
              "#0d0887"
             ],
             [
              0.1111111111111111,
              "#46039f"
             ],
             [
              0.2222222222222222,
              "#7201a8"
             ],
             [
              0.3333333333333333,
              "#9c179e"
             ],
             [
              0.4444444444444444,
              "#bd3786"
             ],
             [
              0.5555555555555556,
              "#d8576b"
             ],
             [
              0.6666666666666666,
              "#ed7953"
             ],
             [
              0.7777777777777778,
              "#fb9f3a"
             ],
             [
              0.8888888888888888,
              "#fdca26"
             ],
             [
              1,
              "#f0f921"
             ]
            ],
            "type": "heatmapgl"
           }
          ],
          "histogram": [
           {
            "marker": {
             "pattern": {
              "fillmode": "overlay",
              "size": 10,
              "solidity": 0.2
             }
            },
            "type": "histogram"
           }
          ],
          "histogram2d": [
           {
            "colorbar": {
             "outlinewidth": 0,
             "ticks": ""
            },
            "colorscale": [
             [
              0,
              "#0d0887"
             ],
             [
              0.1111111111111111,
              "#46039f"
             ],
             [
              0.2222222222222222,
              "#7201a8"
             ],
             [
              0.3333333333333333,
              "#9c179e"
             ],
             [
              0.4444444444444444,
              "#bd3786"
             ],
             [
              0.5555555555555556,
              "#d8576b"
             ],
             [
              0.6666666666666666,
              "#ed7953"
             ],
             [
              0.7777777777777778,
              "#fb9f3a"
             ],
             [
              0.8888888888888888,
              "#fdca26"
             ],
             [
              1,
              "#f0f921"
             ]
            ],
            "type": "histogram2d"
           }
          ],
          "histogram2dcontour": [
           {
            "colorbar": {
             "outlinewidth": 0,
             "ticks": ""
            },
            "colorscale": [
             [
              0,
              "#0d0887"
             ],
             [
              0.1111111111111111,
              "#46039f"
             ],
             [
              0.2222222222222222,
              "#7201a8"
             ],
             [
              0.3333333333333333,
              "#9c179e"
             ],
             [
              0.4444444444444444,
              "#bd3786"
             ],
             [
              0.5555555555555556,
              "#d8576b"
             ],
             [
              0.6666666666666666,
              "#ed7953"
             ],
             [
              0.7777777777777778,
              "#fb9f3a"
             ],
             [
              0.8888888888888888,
              "#fdca26"
             ],
             [
              1,
              "#f0f921"
             ]
            ],
            "type": "histogram2dcontour"
           }
          ],
          "mesh3d": [
           {
            "colorbar": {
             "outlinewidth": 0,
             "ticks": ""
            },
            "type": "mesh3d"
           }
          ],
          "parcoords": [
           {
            "line": {
             "colorbar": {
              "outlinewidth": 0,
              "ticks": ""
             }
            },
            "type": "parcoords"
           }
          ],
          "pie": [
           {
            "automargin": true,
            "type": "pie"
           }
          ],
          "scatter": [
           {
            "fillpattern": {
             "fillmode": "overlay",
             "size": 10,
             "solidity": 0.2
            },
            "type": "scatter"
           }
          ],
          "scatter3d": [
           {
            "line": {
             "colorbar": {
              "outlinewidth": 0,
              "ticks": ""
             }
            },
            "marker": {
             "colorbar": {
              "outlinewidth": 0,
              "ticks": ""
             }
            },
            "type": "scatter3d"
           }
          ],
          "scattercarpet": [
           {
            "marker": {
             "colorbar": {
              "outlinewidth": 0,
              "ticks": ""
             }
            },
            "type": "scattercarpet"
           }
          ],
          "scattergeo": [
           {
            "marker": {
             "colorbar": {
              "outlinewidth": 0,
              "ticks": ""
             }
            },
            "type": "scattergeo"
           }
          ],
          "scattergl": [
           {
            "marker": {
             "colorbar": {
              "outlinewidth": 0,
              "ticks": ""
             }
            },
            "type": "scattergl"
           }
          ],
          "scattermapbox": [
           {
            "marker": {
             "colorbar": {
              "outlinewidth": 0,
              "ticks": ""
             }
            },
            "type": "scattermapbox"
           }
          ],
          "scatterpolar": [
           {
            "marker": {
             "colorbar": {
              "outlinewidth": 0,
              "ticks": ""
             }
            },
            "type": "scatterpolar"
           }
          ],
          "scatterpolargl": [
           {
            "marker": {
             "colorbar": {
              "outlinewidth": 0,
              "ticks": ""
             }
            },
            "type": "scatterpolargl"
           }
          ],
          "scatterternary": [
           {
            "marker": {
             "colorbar": {
              "outlinewidth": 0,
              "ticks": ""
             }
            },
            "type": "scatterternary"
           }
          ],
          "surface": [
           {
            "colorbar": {
             "outlinewidth": 0,
             "ticks": ""
            },
            "colorscale": [
             [
              0,
              "#0d0887"
             ],
             [
              0.1111111111111111,
              "#46039f"
             ],
             [
              0.2222222222222222,
              "#7201a8"
             ],
             [
              0.3333333333333333,
              "#9c179e"
             ],
             [
              0.4444444444444444,
              "#bd3786"
             ],
             [
              0.5555555555555556,
              "#d8576b"
             ],
             [
              0.6666666666666666,
              "#ed7953"
             ],
             [
              0.7777777777777778,
              "#fb9f3a"
             ],
             [
              0.8888888888888888,
              "#fdca26"
             ],
             [
              1,
              "#f0f921"
             ]
            ],
            "type": "surface"
           }
          ],
          "table": [
           {
            "cells": {
             "fill": {
              "color": "#EBF0F8"
             },
             "line": {
              "color": "white"
             }
            },
            "header": {
             "fill": {
              "color": "#C8D4E3"
             },
             "line": {
              "color": "white"
             }
            },
            "type": "table"
           }
          ]
         },
         "layout": {
          "annotationdefaults": {
           "arrowcolor": "#2a3f5f",
           "arrowhead": 0,
           "arrowwidth": 1
          },
          "autotypenumbers": "strict",
          "coloraxis": {
           "colorbar": {
            "outlinewidth": 0,
            "ticks": ""
           }
          },
          "colorscale": {
           "diverging": [
            [
             0,
             "#8e0152"
            ],
            [
             0.1,
             "#c51b7d"
            ],
            [
             0.2,
             "#de77ae"
            ],
            [
             0.3,
             "#f1b6da"
            ],
            [
             0.4,
             "#fde0ef"
            ],
            [
             0.5,
             "#f7f7f7"
            ],
            [
             0.6,
             "#e6f5d0"
            ],
            [
             0.7,
             "#b8e186"
            ],
            [
             0.8,
             "#7fbc41"
            ],
            [
             0.9,
             "#4d9221"
            ],
            [
             1,
             "#276419"
            ]
           ],
           "sequential": [
            [
             0,
             "#0d0887"
            ],
            [
             0.1111111111111111,
             "#46039f"
            ],
            [
             0.2222222222222222,
             "#7201a8"
            ],
            [
             0.3333333333333333,
             "#9c179e"
            ],
            [
             0.4444444444444444,
             "#bd3786"
            ],
            [
             0.5555555555555556,
             "#d8576b"
            ],
            [
             0.6666666666666666,
             "#ed7953"
            ],
            [
             0.7777777777777778,
             "#fb9f3a"
            ],
            [
             0.8888888888888888,
             "#fdca26"
            ],
            [
             1,
             "#f0f921"
            ]
           ],
           "sequentialminus": [
            [
             0,
             "#0d0887"
            ],
            [
             0.1111111111111111,
             "#46039f"
            ],
            [
             0.2222222222222222,
             "#7201a8"
            ],
            [
             0.3333333333333333,
             "#9c179e"
            ],
            [
             0.4444444444444444,
             "#bd3786"
            ],
            [
             0.5555555555555556,
             "#d8576b"
            ],
            [
             0.6666666666666666,
             "#ed7953"
            ],
            [
             0.7777777777777778,
             "#fb9f3a"
            ],
            [
             0.8888888888888888,
             "#fdca26"
            ],
            [
             1,
             "#f0f921"
            ]
           ]
          },
          "colorway": [
           "#636efa",
           "#EF553B",
           "#00cc96",
           "#ab63fa",
           "#FFA15A",
           "#19d3f3",
           "#FF6692",
           "#B6E880",
           "#FF97FF",
           "#FECB52"
          ],
          "font": {
           "color": "#2a3f5f"
          },
          "geo": {
           "bgcolor": "white",
           "lakecolor": "white",
           "landcolor": "#E5ECF6",
           "showlakes": true,
           "showland": true,
           "subunitcolor": "white"
          },
          "hoverlabel": {
           "align": "left"
          },
          "hovermode": "closest",
          "mapbox": {
           "style": "light"
          },
          "paper_bgcolor": "white",
          "plot_bgcolor": "#E5ECF6",
          "polar": {
           "angularaxis": {
            "gridcolor": "white",
            "linecolor": "white",
            "ticks": ""
           },
           "bgcolor": "#E5ECF6",
           "radialaxis": {
            "gridcolor": "white",
            "linecolor": "white",
            "ticks": ""
           }
          },
          "scene": {
           "xaxis": {
            "backgroundcolor": "#E5ECF6",
            "gridcolor": "white",
            "gridwidth": 2,
            "linecolor": "white",
            "showbackground": true,
            "ticks": "",
            "zerolinecolor": "white"
           },
           "yaxis": {
            "backgroundcolor": "#E5ECF6",
            "gridcolor": "white",
            "gridwidth": 2,
            "linecolor": "white",
            "showbackground": true,
            "ticks": "",
            "zerolinecolor": "white"
           },
           "zaxis": {
            "backgroundcolor": "#E5ECF6",
            "gridcolor": "white",
            "gridwidth": 2,
            "linecolor": "white",
            "showbackground": true,
            "ticks": "",
            "zerolinecolor": "white"
           }
          },
          "shapedefaults": {
           "line": {
            "color": "#2a3f5f"
           }
          },
          "ternary": {
           "aaxis": {
            "gridcolor": "white",
            "linecolor": "white",
            "ticks": ""
           },
           "baxis": {
            "gridcolor": "white",
            "linecolor": "white",
            "ticks": ""
           },
           "bgcolor": "#E5ECF6",
           "caxis": {
            "gridcolor": "white",
            "linecolor": "white",
            "ticks": ""
           }
          },
          "title": {
           "x": 0.05
          },
          "xaxis": {
           "automargin": true,
           "gridcolor": "white",
           "linecolor": "white",
           "ticks": "",
           "title": {
            "standoff": 15
           },
           "zerolinecolor": "white",
           "zerolinewidth": 2
          },
          "yaxis": {
           "automargin": true,
           "gridcolor": "white",
           "linecolor": "white",
           "ticks": "",
           "title": {
            "standoff": 15
           },
           "zerolinecolor": "white",
           "zerolinewidth": 2
          }
         }
        },
        "width": 1440,
        "xaxis": {
         "anchor": "y",
         "constrain": "domain",
         "domain": [
          0,
          0.103125
         ],
         "linecolor": "black",
         "linewidth": 1,
         "mirror": true,
         "scaleanchor": "y",
         "scaleratio": 1,
         "showline": true
        },
        "xaxis10": {
         "anchor": "y10",
         "constrain": "domain",
         "domain": [
          0.128125,
          0.23124999999999998
         ],
         "linecolor": "black",
         "linewidth": 1,
         "mirror": true,
         "scaleanchor": "y",
         "scaleratio": 1,
         "showline": true
        },
        "xaxis11": {
         "anchor": "y11",
         "constrain": "domain",
         "domain": [
          0.25625,
          0.359375
         ],
         "linecolor": "black",
         "linewidth": 1,
         "mirror": true,
         "scaleanchor": "y",
         "scaleratio": 1,
         "showline": true
        },
        "xaxis12": {
         "anchor": "y12",
         "constrain": "domain",
         "domain": [
          0.38437499999999997,
          0.48749999999999993
         ],
         "linecolor": "black",
         "linewidth": 1,
         "mirror": true,
         "scaleanchor": "y",
         "scaleratio": 1,
         "showline": true
        },
        "xaxis13": {
         "anchor": "y13",
         "constrain": "domain",
         "domain": [
          0.5125,
          0.615625
         ],
         "linecolor": "black",
         "linewidth": 1,
         "mirror": true,
         "scaleanchor": "y",
         "scaleratio": 1,
         "showline": true
        },
        "xaxis14": {
         "anchor": "y14",
         "constrain": "domain",
         "domain": [
          0.640625,
          0.74375
         ],
         "linecolor": "black",
         "linewidth": 1,
         "mirror": true,
         "scaleanchor": "y",
         "scaleratio": 1,
         "showline": true
        },
        "xaxis15": {
         "anchor": "y15",
         "constrain": "domain",
         "domain": [
          0.7687499999999999,
          0.871875
         ],
         "linecolor": "black",
         "linewidth": 1,
         "mirror": true,
         "scaleanchor": "y",
         "scaleratio": 1,
         "showline": true
        },
        "xaxis16": {
         "anchor": "y16",
         "constrain": "domain",
         "domain": [
          0.896875,
          1
         ],
         "linecolor": "black",
         "linewidth": 1,
         "mirror": true,
         "scaleanchor": "y",
         "scaleratio": 1,
         "showline": true
        },
        "xaxis17": {
         "anchor": "y17",
         "constrain": "domain",
         "domain": [
          0,
          0.103125
         ],
         "linecolor": "black",
         "linewidth": 1,
         "mirror": true,
         "scaleanchor": "y",
         "scaleratio": 1,
         "showline": true
        },
        "xaxis18": {
         "anchor": "y18",
         "constrain": "domain",
         "domain": [
          0.128125,
          0.23124999999999998
         ],
         "linecolor": "black",
         "linewidth": 1,
         "mirror": true,
         "scaleanchor": "y",
         "scaleratio": 1,
         "showline": true
        },
        "xaxis19": {
         "anchor": "y19",
         "constrain": "domain",
         "domain": [
          0.25625,
          0.359375
         ],
         "linecolor": "black",
         "linewidth": 1,
         "mirror": true,
         "scaleanchor": "y",
         "scaleratio": 1,
         "showline": true
        },
        "xaxis2": {
         "anchor": "y2",
         "constrain": "domain",
         "domain": [
          0.128125,
          0.23124999999999998
         ],
         "linecolor": "black",
         "linewidth": 1,
         "mirror": true,
         "scaleanchor": "y",
         "scaleratio": 1,
         "showline": true
        },
        "xaxis20": {
         "anchor": "y20",
         "constrain": "domain",
         "domain": [
          0.38437499999999997,
          0.48749999999999993
         ],
         "linecolor": "black",
         "linewidth": 1,
         "mirror": true,
         "scaleanchor": "y",
         "scaleratio": 1,
         "showline": true
        },
        "xaxis21": {
         "anchor": "y21",
         "constrain": "domain",
         "domain": [
          0.5125,
          0.615625
         ],
         "linecolor": "black",
         "linewidth": 1,
         "mirror": true,
         "scaleanchor": "y",
         "scaleratio": 1,
         "showline": true
        },
        "xaxis22": {
         "anchor": "y22",
         "constrain": "domain",
         "domain": [
          0.640625,
          0.74375
         ],
         "linecolor": "black",
         "linewidth": 1,
         "mirror": true,
         "scaleanchor": "y",
         "scaleratio": 1,
         "showline": true
        },
        "xaxis23": {
         "anchor": "y23",
         "constrain": "domain",
         "domain": [
          0.7687499999999999,
          0.871875
         ],
         "linecolor": "black",
         "linewidth": 1,
         "mirror": true,
         "scaleanchor": "y",
         "scaleratio": 1,
         "showline": true
        },
        "xaxis24": {
         "anchor": "y24",
         "constrain": "domain",
         "domain": [
          0.896875,
          1
         ],
         "linecolor": "black",
         "linewidth": 1,
         "mirror": true,
         "scaleanchor": "y",
         "scaleratio": 1,
         "showline": true
        },
        "xaxis25": {
         "anchor": "y25",
         "constrain": "domain",
         "domain": [
          0,
          0.103125
         ],
         "linecolor": "black",
         "linewidth": 1,
         "mirror": true,
         "scaleanchor": "y",
         "scaleratio": 1,
         "showline": true
        },
        "xaxis26": {
         "anchor": "y26",
         "constrain": "domain",
         "domain": [
          0.128125,
          0.23124999999999998
         ],
         "linecolor": "black",
         "linewidth": 1,
         "mirror": true,
         "scaleanchor": "y",
         "scaleratio": 1,
         "showline": true
        },
        "xaxis27": {
         "anchor": "y27",
         "constrain": "domain",
         "domain": [
          0.25625,
          0.359375
         ],
         "linecolor": "black",
         "linewidth": 1,
         "mirror": true,
         "scaleanchor": "y",
         "scaleratio": 1,
         "showline": true
        },
        "xaxis28": {
         "anchor": "y28",
         "constrain": "domain",
         "domain": [
          0.38437499999999997,
          0.48749999999999993
         ],
         "linecolor": "black",
         "linewidth": 1,
         "mirror": true,
         "scaleanchor": "y",
         "scaleratio": 1,
         "showline": true
        },
        "xaxis29": {
         "anchor": "y29",
         "constrain": "domain",
         "domain": [
          0.5125,
          0.615625
         ],
         "linecolor": "black",
         "linewidth": 1,
         "mirror": true,
         "scaleanchor": "y",
         "scaleratio": 1,
         "showline": true
        },
        "xaxis3": {
         "anchor": "y3",
         "constrain": "domain",
         "domain": [
          0.25625,
          0.359375
         ],
         "linecolor": "black",
         "linewidth": 1,
         "mirror": true,
         "scaleanchor": "y",
         "scaleratio": 1,
         "showline": true
        },
        "xaxis30": {
         "anchor": "y30",
         "constrain": "domain",
         "domain": [
          0.640625,
          0.74375
         ],
         "linecolor": "black",
         "linewidth": 1,
         "mirror": true,
         "scaleanchor": "y",
         "scaleratio": 1,
         "showline": true
        },
        "xaxis31": {
         "anchor": "y31",
         "constrain": "domain",
         "domain": [
          0.7687499999999999,
          0.871875
         ],
         "linecolor": "black",
         "linewidth": 1,
         "mirror": true,
         "scaleanchor": "y",
         "scaleratio": 1,
         "showline": true
        },
        "xaxis32": {
         "anchor": "y32",
         "constrain": "domain",
         "domain": [
          0.896875,
          1
         ],
         "linecolor": "black",
         "linewidth": 1,
         "mirror": true,
         "scaleanchor": "y",
         "scaleratio": 1,
         "showline": true
        },
        "xaxis4": {
         "anchor": "y4",
         "constrain": "domain",
         "domain": [
          0.38437499999999997,
          0.48749999999999993
         ],
         "linecolor": "black",
         "linewidth": 1,
         "mirror": true,
         "scaleanchor": "y",
         "scaleratio": 1,
         "showline": true
        },
        "xaxis5": {
         "anchor": "y5",
         "constrain": "domain",
         "domain": [
          0.5125,
          0.615625
         ],
         "linecolor": "black",
         "linewidth": 1,
         "mirror": true,
         "scaleanchor": "y",
         "scaleratio": 1,
         "showline": true
        },
        "xaxis6": {
         "anchor": "y6",
         "constrain": "domain",
         "domain": [
          0.640625,
          0.74375
         ],
         "linecolor": "black",
         "linewidth": 1,
         "mirror": true,
         "scaleanchor": "y",
         "scaleratio": 1,
         "showline": true
        },
        "xaxis7": {
         "anchor": "y7",
         "constrain": "domain",
         "domain": [
          0.7687499999999999,
          0.871875
         ],
         "linecolor": "black",
         "linewidth": 1,
         "mirror": true,
         "scaleanchor": "y",
         "scaleratio": 1,
         "showline": true
        },
        "xaxis8": {
         "anchor": "y8",
         "constrain": "domain",
         "domain": [
          0.896875,
          1
         ],
         "linecolor": "black",
         "linewidth": 1,
         "mirror": true,
         "scaleanchor": "y",
         "scaleratio": 1,
         "showline": true
        },
        "xaxis9": {
         "anchor": "y9",
         "constrain": "domain",
         "domain": [
          0,
          0.103125
         ],
         "linecolor": "black",
         "linewidth": 1,
         "mirror": true,
         "scaleanchor": "y",
         "scaleratio": 1,
         "showline": true
        },
        "yaxis": {
         "anchor": "x",
         "autorange": "reversed",
         "constrain": "domain",
         "domain": [
          0.84375,
          1
         ],
         "linecolor": "black",
         "linewidth": 1,
         "mirror": true,
         "showline": true
        },
        "yaxis10": {
         "anchor": "x10",
         "autorange": "reversed",
         "constrain": "domain",
         "domain": [
          0.5625,
          0.71875
         ],
         "linecolor": "black",
         "linewidth": 1,
         "matches": "y9",
         "mirror": true,
         "showline": true,
         "showticklabels": false
        },
        "yaxis11": {
         "anchor": "x11",
         "autorange": "reversed",
         "constrain": "domain",
         "domain": [
          0.5625,
          0.71875
         ],
         "linecolor": "black",
         "linewidth": 1,
         "matches": "y9",
         "mirror": true,
         "showline": true,
         "showticklabels": false
        },
        "yaxis12": {
         "anchor": "x12",
         "autorange": "reversed",
         "constrain": "domain",
         "domain": [
          0.5625,
          0.71875
         ],
         "linecolor": "black",
         "linewidth": 1,
         "matches": "y9",
         "mirror": true,
         "showline": true,
         "showticklabels": false
        },
        "yaxis13": {
         "anchor": "x13",
         "autorange": "reversed",
         "constrain": "domain",
         "domain": [
          0.5625,
          0.71875
         ],
         "linecolor": "black",
         "linewidth": 1,
         "matches": "y9",
         "mirror": true,
         "showline": true,
         "showticklabels": false
        },
        "yaxis14": {
         "anchor": "x14",
         "autorange": "reversed",
         "constrain": "domain",
         "domain": [
          0.5625,
          0.71875
         ],
         "linecolor": "black",
         "linewidth": 1,
         "matches": "y9",
         "mirror": true,
         "showline": true,
         "showticklabels": false
        },
        "yaxis15": {
         "anchor": "x15",
         "autorange": "reversed",
         "constrain": "domain",
         "domain": [
          0.5625,
          0.71875
         ],
         "linecolor": "black",
         "linewidth": 1,
         "matches": "y9",
         "mirror": true,
         "showline": true,
         "showticklabels": false
        },
        "yaxis16": {
         "anchor": "x16",
         "autorange": "reversed",
         "constrain": "domain",
         "domain": [
          0.5625,
          0.71875
         ],
         "linecolor": "black",
         "linewidth": 1,
         "matches": "y9",
         "mirror": true,
         "showline": true,
         "showticklabels": false
        },
        "yaxis17": {
         "anchor": "x17",
         "autorange": "reversed",
         "constrain": "domain",
         "domain": [
          0.28125,
          0.4375
         ],
         "linecolor": "black",
         "linewidth": 1,
         "mirror": true,
         "showline": true
        },
        "yaxis18": {
         "anchor": "x18",
         "autorange": "reversed",
         "constrain": "domain",
         "domain": [
          0.28125,
          0.4375
         ],
         "linecolor": "black",
         "linewidth": 1,
         "matches": "y17",
         "mirror": true,
         "showline": true,
         "showticklabels": false
        },
        "yaxis19": {
         "anchor": "x19",
         "autorange": "reversed",
         "constrain": "domain",
         "domain": [
          0.28125,
          0.4375
         ],
         "linecolor": "black",
         "linewidth": 1,
         "matches": "y17",
         "mirror": true,
         "showline": true,
         "showticklabels": false
        },
        "yaxis2": {
         "anchor": "x2",
         "autorange": "reversed",
         "constrain": "domain",
         "domain": [
          0.84375,
          1
         ],
         "linecolor": "black",
         "linewidth": 1,
         "matches": "y",
         "mirror": true,
         "showline": true,
         "showticklabels": false
        },
        "yaxis20": {
         "anchor": "x20",
         "autorange": "reversed",
         "constrain": "domain",
         "domain": [
          0.28125,
          0.4375
         ],
         "linecolor": "black",
         "linewidth": 1,
         "matches": "y17",
         "mirror": true,
         "showline": true,
         "showticklabels": false
        },
        "yaxis21": {
         "anchor": "x21",
         "autorange": "reversed",
         "constrain": "domain",
         "domain": [
          0.28125,
          0.4375
         ],
         "linecolor": "black",
         "linewidth": 1,
         "matches": "y17",
         "mirror": true,
         "showline": true,
         "showticklabels": false
        },
        "yaxis22": {
         "anchor": "x22",
         "autorange": "reversed",
         "constrain": "domain",
         "domain": [
          0.28125,
          0.4375
         ],
         "linecolor": "black",
         "linewidth": 1,
         "matches": "y17",
         "mirror": true,
         "showline": true,
         "showticklabels": false
        },
        "yaxis23": {
         "anchor": "x23",
         "autorange": "reversed",
         "constrain": "domain",
         "domain": [
          0.28125,
          0.4375
         ],
         "linecolor": "black",
         "linewidth": 1,
         "matches": "y17",
         "mirror": true,
         "showline": true,
         "showticklabels": false
        },
        "yaxis24": {
         "anchor": "x24",
         "autorange": "reversed",
         "constrain": "domain",
         "domain": [
          0.28125,
          0.4375
         ],
         "linecolor": "black",
         "linewidth": 1,
         "matches": "y17",
         "mirror": true,
         "showline": true,
         "showticklabels": false
        },
        "yaxis25": {
         "anchor": "x25",
         "autorange": "reversed",
         "constrain": "domain",
         "domain": [
          0,
          0.15625
         ],
         "linecolor": "black",
         "linewidth": 1,
         "mirror": true,
         "showline": true
        },
        "yaxis26": {
         "anchor": "x26",
         "autorange": "reversed",
         "constrain": "domain",
         "domain": [
          0,
          0.15625
         ],
         "linecolor": "black",
         "linewidth": 1,
         "matches": "y25",
         "mirror": true,
         "showline": true,
         "showticklabels": false
        },
        "yaxis27": {
         "anchor": "x27",
         "autorange": "reversed",
         "constrain": "domain",
         "domain": [
          0,
          0.15625
         ],
         "linecolor": "black",
         "linewidth": 1,
         "matches": "y25",
         "mirror": true,
         "showline": true,
         "showticklabels": false
        },
        "yaxis28": {
         "anchor": "x28",
         "autorange": "reversed",
         "constrain": "domain",
         "domain": [
          0,
          0.15625
         ],
         "linecolor": "black",
         "linewidth": 1,
         "matches": "y25",
         "mirror": true,
         "showline": true,
         "showticklabels": false
        },
        "yaxis29": {
         "anchor": "x29",
         "autorange": "reversed",
         "constrain": "domain",
         "domain": [
          0,
          0.15625
         ],
         "linecolor": "black",
         "linewidth": 1,
         "matches": "y25",
         "mirror": true,
         "showline": true,
         "showticklabels": false
        },
        "yaxis3": {
         "anchor": "x3",
         "autorange": "reversed",
         "constrain": "domain",
         "domain": [
          0.84375,
          1
         ],
         "linecolor": "black",
         "linewidth": 1,
         "matches": "y",
         "mirror": true,
         "showline": true,
         "showticklabels": false
        },
        "yaxis30": {
         "anchor": "x30",
         "autorange": "reversed",
         "constrain": "domain",
         "domain": [
          0,
          0.15625
         ],
         "linecolor": "black",
         "linewidth": 1,
         "matches": "y25",
         "mirror": true,
         "showline": true,
         "showticklabels": false
        },
        "yaxis31": {
         "anchor": "x31",
         "autorange": "reversed",
         "constrain": "domain",
         "domain": [
          0,
          0.15625
         ],
         "linecolor": "black",
         "linewidth": 1,
         "matches": "y25",
         "mirror": true,
         "showline": true,
         "showticklabels": false
        },
        "yaxis32": {
         "anchor": "x32",
         "autorange": "reversed",
         "constrain": "domain",
         "domain": [
          0,
          0.15625
         ],
         "linecolor": "black",
         "linewidth": 1,
         "matches": "y25",
         "mirror": true,
         "showline": true,
         "showticklabels": false
        },
        "yaxis4": {
         "anchor": "x4",
         "autorange": "reversed",
         "constrain": "domain",
         "domain": [
          0.84375,
          1
         ],
         "linecolor": "black",
         "linewidth": 1,
         "matches": "y",
         "mirror": true,
         "showline": true,
         "showticklabels": false
        },
        "yaxis5": {
         "anchor": "x5",
         "autorange": "reversed",
         "constrain": "domain",
         "domain": [
          0.84375,
          1
         ],
         "linecolor": "black",
         "linewidth": 1,
         "matches": "y",
         "mirror": true,
         "showline": true,
         "showticklabels": false
        },
        "yaxis6": {
         "anchor": "x6",
         "autorange": "reversed",
         "constrain": "domain",
         "domain": [
          0.84375,
          1
         ],
         "linecolor": "black",
         "linewidth": 1,
         "matches": "y",
         "mirror": true,
         "showline": true,
         "showticklabels": false
        },
        "yaxis7": {
         "anchor": "x7",
         "autorange": "reversed",
         "constrain": "domain",
         "domain": [
          0.84375,
          1
         ],
         "linecolor": "black",
         "linewidth": 1,
         "matches": "y",
         "mirror": true,
         "showline": true,
         "showticklabels": false
        },
        "yaxis8": {
         "anchor": "x8",
         "autorange": "reversed",
         "constrain": "domain",
         "domain": [
          0.84375,
          1
         ],
         "linecolor": "black",
         "linewidth": 1,
         "matches": "y",
         "mirror": true,
         "showline": true,
         "showticklabels": false
        },
        "yaxis9": {
         "anchor": "x9",
         "autorange": "reversed",
         "constrain": "domain",
         "domain": [
          0.5625,
          0.71875
         ],
         "linecolor": "black",
         "linewidth": 1,
         "mirror": true,
         "showline": true
        }
       }
      }
     },
     "metadata": {},
     "output_type": "display_data"
    }
   ],
   "source": [
    "test_game = dataset_dict[\"test\"][0]\n",
    "tokens = t.tensor(tokenize(test_game[\"histories\"])[\"input_ids\"]).unsqueeze(0).to(device)\n",
    "logits, loss = model(tokens[:, :-1], tokens[:, 1:])\n",
    "probs = logits.softmax(-1)\n",
    "\n",
    "n_moves = probs.shape[1]\n",
    "test_probs = test_game.copy()\n",
    "prob_boards = t.full((n_moves, size, size), fill_value=0.0, device=device)\n",
    "for i in range(n_moves):\n",
    "    prob_boards[i].flatten()[all_squares] = probs[0, i, 1:] / probs[0, i, 1:].sum()\n",
    "\n",
    "test_pred = test_game.copy()\n",
    "test_pred[\"boards\"] = prob_boards.detach().cpu().numpy()\n",
    "plot_game(test_game)\n",
    "plot_game(test_pred, reversed=False, textcolor=\"pink\", hovertext=test_pred[\"boards\"])"
   ]
  },
  {
   "cell_type": "code",
   "execution_count": 53,
   "metadata": {},
   "outputs": [
    {
     "data": {
      "application/vnd.plotly.v1+json": {
       "config": {
        "plotlyServerURL": "https://plot.ly"
       },
       "data": [
        {
         "colorscale": [
          [
           0,
           "rgb(0, 0, 0)"
          ],
          [
           0.09090909090909091,
           "rgb(16, 16, 16)"
          ],
          [
           0.18181818181818182,
           "rgb(38, 38, 38)"
          ],
          [
           0.2727272727272727,
           "rgb(59, 59, 59)"
          ],
          [
           0.36363636363636365,
           "rgb(81, 80, 80)"
          ],
          [
           0.45454545454545453,
           "rgb(102, 101, 101)"
          ],
          [
           0.5454545454545454,
           "rgb(124, 123, 122)"
          ],
          [
           0.6363636363636364,
           "rgb(146, 146, 145)"
          ],
          [
           0.7272727272727273,
           "rgb(171, 171, 170)"
          ],
          [
           0.8181818181818182,
           "rgb(197, 197, 195)"
          ],
          [
           0.9090909090909091,
           "rgb(224, 224, 223)"
          ],
          [
           1,
           "rgb(254, 254, 253)"
          ]
         ],
         "type": "heatmap",
         "x": [
          "A",
          "B",
          "C",
          "D",
          "E",
          "F"
         ],
         "xgap": 0.2,
         "y": [
          1,
          2,
          3,
          4,
          5,
          6
         ],
         "ygap": 0.2,
         "z": [
          [
           0.00004088053174200468,
           0.4596896469593048,
           0.003662473987787962,
           0.0005579646676778793,
           0.000053878946346230805,
           0.00004206794619676657
          ],
          [
           0.001470813062041998,
           0.010757477022707462,
           0.00001380545199936023,
           0.000831801095046103,
           0.08801446110010147,
           0.000028514046789496206
          ],
          [
           0.000010948197086690925,
           0.18217934668064117,
           0,
           0,
           0.0016795179108157754,
           0.0002849687880370766
          ],
          [
           0.00008821171650197357,
           0.002398403361439705,
           0,
           0,
           0.0018577338196337223,
           0.0005841681268066168
          ],
          [
           0.00003419062704779208,
           0.15967856347560883,
           0.001528281718492508,
           0.08240295946598053,
           0.0013653881615027785,
           0.00010934199235634878
          ],
          [
           0.0000365401319868397,
           0.000006712902631988982,
           0.000040381801227340475,
           0.0000041218709156964906,
           0.0004838704480789602,
           0.0000624667081865482
          ]
         ]
        }
       ],
       "layout": {
        "height": 300,
        "margin": {
         "b": 20,
         "l": 20,
         "r": 20,
         "t": 20
        },
        "template": {
         "data": {
          "bar": [
           {
            "error_x": {
             "color": "#2a3f5f"
            },
            "error_y": {
             "color": "#2a3f5f"
            },
            "marker": {
             "line": {
              "color": "#E5ECF6",
              "width": 0.5
             },
             "pattern": {
              "fillmode": "overlay",
              "size": 10,
              "solidity": 0.2
             }
            },
            "type": "bar"
           }
          ],
          "barpolar": [
           {
            "marker": {
             "line": {
              "color": "#E5ECF6",
              "width": 0.5
             },
             "pattern": {
              "fillmode": "overlay",
              "size": 10,
              "solidity": 0.2
             }
            },
            "type": "barpolar"
           }
          ],
          "carpet": [
           {
            "aaxis": {
             "endlinecolor": "#2a3f5f",
             "gridcolor": "white",
             "linecolor": "white",
             "minorgridcolor": "white",
             "startlinecolor": "#2a3f5f"
            },
            "baxis": {
             "endlinecolor": "#2a3f5f",
             "gridcolor": "white",
             "linecolor": "white",
             "minorgridcolor": "white",
             "startlinecolor": "#2a3f5f"
            },
            "type": "carpet"
           }
          ],
          "choropleth": [
           {
            "colorbar": {
             "outlinewidth": 0,
             "ticks": ""
            },
            "type": "choropleth"
           }
          ],
          "contour": [
           {
            "colorbar": {
             "outlinewidth": 0,
             "ticks": ""
            },
            "colorscale": [
             [
              0,
              "#0d0887"
             ],
             [
              0.1111111111111111,
              "#46039f"
             ],
             [
              0.2222222222222222,
              "#7201a8"
             ],
             [
              0.3333333333333333,
              "#9c179e"
             ],
             [
              0.4444444444444444,
              "#bd3786"
             ],
             [
              0.5555555555555556,
              "#d8576b"
             ],
             [
              0.6666666666666666,
              "#ed7953"
             ],
             [
              0.7777777777777778,
              "#fb9f3a"
             ],
             [
              0.8888888888888888,
              "#fdca26"
             ],
             [
              1,
              "#f0f921"
             ]
            ],
            "type": "contour"
           }
          ],
          "contourcarpet": [
           {
            "colorbar": {
             "outlinewidth": 0,
             "ticks": ""
            },
            "type": "contourcarpet"
           }
          ],
          "heatmap": [
           {
            "colorbar": {
             "outlinewidth": 0,
             "ticks": ""
            },
            "colorscale": [
             [
              0,
              "#0d0887"
             ],
             [
              0.1111111111111111,
              "#46039f"
             ],
             [
              0.2222222222222222,
              "#7201a8"
             ],
             [
              0.3333333333333333,
              "#9c179e"
             ],
             [
              0.4444444444444444,
              "#bd3786"
             ],
             [
              0.5555555555555556,
              "#d8576b"
             ],
             [
              0.6666666666666666,
              "#ed7953"
             ],
             [
              0.7777777777777778,
              "#fb9f3a"
             ],
             [
              0.8888888888888888,
              "#fdca26"
             ],
             [
              1,
              "#f0f921"
             ]
            ],
            "type": "heatmap"
           }
          ],
          "heatmapgl": [
           {
            "colorbar": {
             "outlinewidth": 0,
             "ticks": ""
            },
            "colorscale": [
             [
              0,
              "#0d0887"
             ],
             [
              0.1111111111111111,
              "#46039f"
             ],
             [
              0.2222222222222222,
              "#7201a8"
             ],
             [
              0.3333333333333333,
              "#9c179e"
             ],
             [
              0.4444444444444444,
              "#bd3786"
             ],
             [
              0.5555555555555556,
              "#d8576b"
             ],
             [
              0.6666666666666666,
              "#ed7953"
             ],
             [
              0.7777777777777778,
              "#fb9f3a"
             ],
             [
              0.8888888888888888,
              "#fdca26"
             ],
             [
              1,
              "#f0f921"
             ]
            ],
            "type": "heatmapgl"
           }
          ],
          "histogram": [
           {
            "marker": {
             "pattern": {
              "fillmode": "overlay",
              "size": 10,
              "solidity": 0.2
             }
            },
            "type": "histogram"
           }
          ],
          "histogram2d": [
           {
            "colorbar": {
             "outlinewidth": 0,
             "ticks": ""
            },
            "colorscale": [
             [
              0,
              "#0d0887"
             ],
             [
              0.1111111111111111,
              "#46039f"
             ],
             [
              0.2222222222222222,
              "#7201a8"
             ],
             [
              0.3333333333333333,
              "#9c179e"
             ],
             [
              0.4444444444444444,
              "#bd3786"
             ],
             [
              0.5555555555555556,
              "#d8576b"
             ],
             [
              0.6666666666666666,
              "#ed7953"
             ],
             [
              0.7777777777777778,
              "#fb9f3a"
             ],
             [
              0.8888888888888888,
              "#fdca26"
             ],
             [
              1,
              "#f0f921"
             ]
            ],
            "type": "histogram2d"
           }
          ],
          "histogram2dcontour": [
           {
            "colorbar": {
             "outlinewidth": 0,
             "ticks": ""
            },
            "colorscale": [
             [
              0,
              "#0d0887"
             ],
             [
              0.1111111111111111,
              "#46039f"
             ],
             [
              0.2222222222222222,
              "#7201a8"
             ],
             [
              0.3333333333333333,
              "#9c179e"
             ],
             [
              0.4444444444444444,
              "#bd3786"
             ],
             [
              0.5555555555555556,
              "#d8576b"
             ],
             [
              0.6666666666666666,
              "#ed7953"
             ],
             [
              0.7777777777777778,
              "#fb9f3a"
             ],
             [
              0.8888888888888888,
              "#fdca26"
             ],
             [
              1,
              "#f0f921"
             ]
            ],
            "type": "histogram2dcontour"
           }
          ],
          "mesh3d": [
           {
            "colorbar": {
             "outlinewidth": 0,
             "ticks": ""
            },
            "type": "mesh3d"
           }
          ],
          "parcoords": [
           {
            "line": {
             "colorbar": {
              "outlinewidth": 0,
              "ticks": ""
             }
            },
            "type": "parcoords"
           }
          ],
          "pie": [
           {
            "automargin": true,
            "type": "pie"
           }
          ],
          "scatter": [
           {
            "fillpattern": {
             "fillmode": "overlay",
             "size": 10,
             "solidity": 0.2
            },
            "type": "scatter"
           }
          ],
          "scatter3d": [
           {
            "line": {
             "colorbar": {
              "outlinewidth": 0,
              "ticks": ""
             }
            },
            "marker": {
             "colorbar": {
              "outlinewidth": 0,
              "ticks": ""
             }
            },
            "type": "scatter3d"
           }
          ],
          "scattercarpet": [
           {
            "marker": {
             "colorbar": {
              "outlinewidth": 0,
              "ticks": ""
             }
            },
            "type": "scattercarpet"
           }
          ],
          "scattergeo": [
           {
            "marker": {
             "colorbar": {
              "outlinewidth": 0,
              "ticks": ""
             }
            },
            "type": "scattergeo"
           }
          ],
          "scattergl": [
           {
            "marker": {
             "colorbar": {
              "outlinewidth": 0,
              "ticks": ""
             }
            },
            "type": "scattergl"
           }
          ],
          "scattermapbox": [
           {
            "marker": {
             "colorbar": {
              "outlinewidth": 0,
              "ticks": ""
             }
            },
            "type": "scattermapbox"
           }
          ],
          "scatterpolar": [
           {
            "marker": {
             "colorbar": {
              "outlinewidth": 0,
              "ticks": ""
             }
            },
            "type": "scatterpolar"
           }
          ],
          "scatterpolargl": [
           {
            "marker": {
             "colorbar": {
              "outlinewidth": 0,
              "ticks": ""
             }
            },
            "type": "scatterpolargl"
           }
          ],
          "scatterternary": [
           {
            "marker": {
             "colorbar": {
              "outlinewidth": 0,
              "ticks": ""
             }
            },
            "type": "scatterternary"
           }
          ],
          "surface": [
           {
            "colorbar": {
             "outlinewidth": 0,
             "ticks": ""
            },
            "colorscale": [
             [
              0,
              "#0d0887"
             ],
             [
              0.1111111111111111,
              "#46039f"
             ],
             [
              0.2222222222222222,
              "#7201a8"
             ],
             [
              0.3333333333333333,
              "#9c179e"
             ],
             [
              0.4444444444444444,
              "#bd3786"
             ],
             [
              0.5555555555555556,
              "#d8576b"
             ],
             [
              0.6666666666666666,
              "#ed7953"
             ],
             [
              0.7777777777777778,
              "#fb9f3a"
             ],
             [
              0.8888888888888888,
              "#fdca26"
             ],
             [
              1,
              "#f0f921"
             ]
            ],
            "type": "surface"
           }
          ],
          "table": [
           {
            "cells": {
             "fill": {
              "color": "#EBF0F8"
             },
             "line": {
              "color": "white"
             }
            },
            "header": {
             "fill": {
              "color": "#C8D4E3"
             },
             "line": {
              "color": "white"
             }
            },
            "type": "table"
           }
          ]
         },
         "layout": {
          "annotationdefaults": {
           "arrowcolor": "#2a3f5f",
           "arrowhead": 0,
           "arrowwidth": 1
          },
          "autotypenumbers": "strict",
          "coloraxis": {
           "colorbar": {
            "outlinewidth": 0,
            "ticks": ""
           }
          },
          "colorscale": {
           "diverging": [
            [
             0,
             "#8e0152"
            ],
            [
             0.1,
             "#c51b7d"
            ],
            [
             0.2,
             "#de77ae"
            ],
            [
             0.3,
             "#f1b6da"
            ],
            [
             0.4,
             "#fde0ef"
            ],
            [
             0.5,
             "#f7f7f7"
            ],
            [
             0.6,
             "#e6f5d0"
            ],
            [
             0.7,
             "#b8e186"
            ],
            [
             0.8,
             "#7fbc41"
            ],
            [
             0.9,
             "#4d9221"
            ],
            [
             1,
             "#276419"
            ]
           ],
           "sequential": [
            [
             0,
             "#0d0887"
            ],
            [
             0.1111111111111111,
             "#46039f"
            ],
            [
             0.2222222222222222,
             "#7201a8"
            ],
            [
             0.3333333333333333,
             "#9c179e"
            ],
            [
             0.4444444444444444,
             "#bd3786"
            ],
            [
             0.5555555555555556,
             "#d8576b"
            ],
            [
             0.6666666666666666,
             "#ed7953"
            ],
            [
             0.7777777777777778,
             "#fb9f3a"
            ],
            [
             0.8888888888888888,
             "#fdca26"
            ],
            [
             1,
             "#f0f921"
            ]
           ],
           "sequentialminus": [
            [
             0,
             "#0d0887"
            ],
            [
             0.1111111111111111,
             "#46039f"
            ],
            [
             0.2222222222222222,
             "#7201a8"
            ],
            [
             0.3333333333333333,
             "#9c179e"
            ],
            [
             0.4444444444444444,
             "#bd3786"
            ],
            [
             0.5555555555555556,
             "#d8576b"
            ],
            [
             0.6666666666666666,
             "#ed7953"
            ],
            [
             0.7777777777777778,
             "#fb9f3a"
            ],
            [
             0.8888888888888888,
             "#fdca26"
            ],
            [
             1,
             "#f0f921"
            ]
           ]
          },
          "colorway": [
           "#636efa",
           "#EF553B",
           "#00cc96",
           "#ab63fa",
           "#FFA15A",
           "#19d3f3",
           "#FF6692",
           "#B6E880",
           "#FF97FF",
           "#FECB52"
          ],
          "font": {
           "color": "#2a3f5f"
          },
          "geo": {
           "bgcolor": "white",
           "lakecolor": "white",
           "landcolor": "#E5ECF6",
           "showlakes": true,
           "showland": true,
           "subunitcolor": "white"
          },
          "hoverlabel": {
           "align": "left"
          },
          "hovermode": "closest",
          "mapbox": {
           "style": "light"
          },
          "paper_bgcolor": "white",
          "plot_bgcolor": "#E5ECF6",
          "polar": {
           "angularaxis": {
            "gridcolor": "white",
            "linecolor": "white",
            "ticks": ""
           },
           "bgcolor": "#E5ECF6",
           "radialaxis": {
            "gridcolor": "white",
            "linecolor": "white",
            "ticks": ""
           }
          },
          "scene": {
           "xaxis": {
            "backgroundcolor": "#E5ECF6",
            "gridcolor": "white",
            "gridwidth": 2,
            "linecolor": "white",
            "showbackground": true,
            "ticks": "",
            "zerolinecolor": "white"
           },
           "yaxis": {
            "backgroundcolor": "#E5ECF6",
            "gridcolor": "white",
            "gridwidth": 2,
            "linecolor": "white",
            "showbackground": true,
            "ticks": "",
            "zerolinecolor": "white"
           },
           "zaxis": {
            "backgroundcolor": "#E5ECF6",
            "gridcolor": "white",
            "gridwidth": 2,
            "linecolor": "white",
            "showbackground": true,
            "ticks": "",
            "zerolinecolor": "white"
           }
          },
          "shapedefaults": {
           "line": {
            "color": "#2a3f5f"
           }
          },
          "ternary": {
           "aaxis": {
            "gridcolor": "white",
            "linecolor": "white",
            "ticks": ""
           },
           "baxis": {
            "gridcolor": "white",
            "linecolor": "white",
            "ticks": ""
           },
           "bgcolor": "#E5ECF6",
           "caxis": {
            "gridcolor": "white",
            "linecolor": "white",
            "ticks": ""
           }
          },
          "title": {
           "x": 0.05
          },
          "xaxis": {
           "automargin": true,
           "gridcolor": "white",
           "linecolor": "white",
           "ticks": "",
           "title": {
            "standoff": 15
           },
           "zerolinecolor": "white",
           "zerolinewidth": 2
          },
          "yaxis": {
           "automargin": true,
           "gridcolor": "white",
           "linecolor": "white",
           "ticks": "",
           "title": {
            "standoff": 15
           },
           "zerolinecolor": "white",
           "zerolinewidth": 2
          }
         }
        },
        "width": 400,
        "xaxis": {
         "constrain": "domain",
         "linecolor": "black",
         "linewidth": 1,
         "mirror": true,
         "scaleanchor": "y",
         "scaleratio": 1,
         "showline": true
        },
        "yaxis": {
         "autorange": "reversed",
         "constrain": "domain",
         "linecolor": "black",
         "linewidth": 1,
         "mirror": true,
         "showline": true
        }
       }
      }
     },
     "metadata": {},
     "output_type": "display_data"
    }
   ],
   "source": [
    "import plotly.graph_objects as go\n",
    "\n",
    "logits = model(t.tensor([[9]], device=device))[0].detach().cpu()\n",
    "board = t.zeros((size, size))\n",
    "board.flatten()[all_squares] = logits[0, 0, 1:].softmax(-1)\n",
    "\n",
    "fig = go.Figure()\n",
    "fig.add_trace(\n",
    "    go.Heatmap(\n",
    "        z=board,\n",
    "        colorscale=\"gray\",\n",
    "        x=list(\"ABCDEF\"),\n",
    "        y=list(range(1, 7)),\n",
    "        xgap=0.2,\n",
    "        ygap=0.2,\n",
    "    )\n",
    ")\n",
    "fig.update_yaxes(\n",
    "    showline=True,\n",
    "    linecolor=\"black\",\n",
    "    linewidth=1,\n",
    "    mirror=True,\n",
    "    constrain=\"domain\",\n",
    "    autorange=\"reversed\",\n",
    ")\n",
    "\n",
    "fig.update_xaxes(\n",
    "    showline=True,\n",
    "    linecolor=\"black\",\n",
    "    linewidth=1,\n",
    "    mirror=True,\n",
    "    scaleanchor=\"y\",\n",
    "    scaleratio=1,\n",
    "    constrain=\"domain\",\n",
    ")\n",
    "\n",
    "fig.update_layout(\n",
    "    width=400,\n",
    "    height=300,\n",
    "    margin=dict(l=20, r=20, t=20, b=20),\n",
    ")\n",
    "fig.show()"
   ]
  },
  {
   "cell_type": "code",
   "execution_count": 41,
   "metadata": {},
   "outputs": [
    {
     "data": {
      "text/plain": [
       "tensor([[[4.0881e-05, 4.5969e-01, 3.6625e-03, 5.5796e-04, 5.3879e-05,\n",
       "          4.2068e-05, 1.4708e-03, 1.0757e-02, 1.3805e-05, 8.3180e-04,\n",
       "          8.8014e-02, 2.8514e-05, 1.0948e-05, 1.8218e-01, 1.6795e-03,\n",
       "          2.8497e-04, 8.8212e-05, 2.3984e-03, 1.8577e-03, 5.8417e-04,\n",
       "          3.4191e-05, 1.5968e-01, 1.5283e-03, 8.2403e-02, 1.3654e-03,\n",
       "          1.0934e-04, 3.6540e-05, 6.7129e-06, 4.0382e-05, 4.1219e-06,\n",
       "          4.8387e-04, 6.2467e-05]]])"
      ]
     },
     "execution_count": 41,
     "metadata": {},
     "output_type": "execute_result"
    }
   ],
   "source": [
    "logits[:, :, 1:].softmax(-1)"
   ]
  },
  {
   "cell_type": "code",
   "execution_count": 39,
   "metadata": {},
   "outputs": [
    {
     "data": {
      "text/plain": [
       "[9,\n",
       " 10,\n",
       " 11,\n",
       " 5,\n",
       " 16,\n",
       " 17,\n",
       " 25,\n",
       " 13,\n",
       " 6,\n",
       " 2,\n",
       " 7,\n",
       " 12,\n",
       " 18,\n",
       " 27,\n",
       " 34,\n",
       " 26,\n",
       " 1,\n",
       " 30,\n",
       " 24,\n",
       " 33,\n",
       " 28,\n",
       " 22,\n",
       " 3,\n",
       " 8,\n",
       " 29,\n",
       " 35,\n",
       " 23,\n",
       " 31,\n",
       " 19,\n",
       " 32,\n",
       " 4,\n",
       " 0]"
      ]
     },
     "execution_count": 39,
     "metadata": {},
     "output_type": "execute_result"
    }
   ],
   "source": [
    "test_game[\"histories\"]"
   ]
  },
  {
   "cell_type": "code",
   "execution_count": null,
   "metadata": {},
   "outputs": [],
   "source": []
  }
 ],
 "metadata": {
  "kernelspec": {
   "display_name": ".venv",
   "language": "python",
   "name": "python3"
  },
  "language_info": {
   "codemirror_mode": {
    "name": "ipython",
    "version": 3
   },
   "file_extension": ".py",
   "mimetype": "text/x-python",
   "name": "python",
   "nbconvert_exporter": "python",
   "pygments_lexer": "ipython3",
   "version": "3.12.7"
  }
 },
 "nbformat": 4,
 "nbformat_minor": 2
}
